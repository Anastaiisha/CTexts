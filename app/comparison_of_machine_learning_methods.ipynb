{
  "nbformat": 4,
  "nbformat_minor": 0,
  "metadata": {
    "colab": {
      "provenance": []
    },
    "kernelspec": {
      "name": "python3",
      "display_name": "Python 3"
    },
    "language_info": {
      "name": "python"
    },
    "widgets": {
      "application/vnd.jupyter.widget-state+json": {
        "e2a0d35d1bdd43edbd457bd0690d4d55": {
          "model_module": "catboost-widget",
          "model_name": "CatboostWidgetModel",
          "model_module_version": "^1.0.0",
          "state": {
            "_dom_classes": [],
            "_model_module": "catboost-widget",
            "_model_module_version": "^1.0.0",
            "_model_name": "CatboostWidgetModel",
            "_view_count": null,
            "_view_module": "catboost-widget",
            "_view_module_version": "^1.0.0",
            "_view_name": "CatboostWidgetView",
            "data": {
              "catboost_info": {
                "path": "catboost_info",
                "name": "catboost_info",
                "content": {
                  "passed_iterations": 1128,
                  "total_iterations": 5000,
                  "data": {
                    "iterations": [
                      {
                        "learn": [
                          0.2078664627,
                          1.495583875
                        ],
                        "iteration": 0,
                        "passed_time": 2.885255244,
                        "remaining_time": 14423.39096,
                        "test": [
                          0.164844171,
                          1.502143709
                        ]
                      },
                      {
                        "learn": [
                          0.2653256087,
                          1.416662845
                        ],
                        "iteration": 1,
                        "passed_time": 4.894371592,
                        "remaining_time": 12231.03461,
                        "test": [
                          0.2339637697,
                          1.419895124
                        ]
                      },
                      {
                        "learn": [
                          0.3664078684,
                          1.361106235
                        ],
                        "iteration": 2,
                        "passed_time": 7.444934575,
                        "remaining_time": 12400.77936,
                        "test": [
                          0.3318207949,
                          1.368724784
                        ]
                      },
                      {
                        "learn": [
                          0.4119281867,
                          1.333467015
                        ],
                        "iteration": 3,
                        "passed_time": 9.238560094,
                        "remaining_time": 11538.96156,
                        "test": [
                          0.3925990977,
                          1.340871135
                        ]
                      },
                      {
                        "learn": [
                          0.4345938152,
                          1.315269501
                        ],
                        "iteration": 4,
                        "passed_time": 10.92953351,
                        "remaining_time": 10918.60397,
                        "test": [
                          0.4224293312,
                          1.32188946
                        ]
                      },
                      {
                        "learn": [
                          0.4473190697,
                          1.280775723
                        ],
                        "iteration": 5,
                        "passed_time": 12.80079272,
                        "remaining_time": 10654.52647,
                        "test": [
                          0.4355595183,
                          1.288747223
                        ]
                      },
                      {
                        "learn": [
                          0.4697030774,
                          1.263343878
                        ],
                        "iteration": 6,
                        "passed_time": 14.71366306,
                        "remaining_time": 10495.04566,
                        "test": [
                          0.4608354036,
                          1.271498016
                        ]
                      },
                      {
                        "learn": [
                          0.4752978246,
                          1.255544761
                        ],
                        "iteration": 7,
                        "passed_time": 16.6860427,
                        "remaining_time": 10412.09064,
                        "test": [
                          0.4637766275,
                          1.268679836
                        ]
                      },
                      {
                        "learn": [
                          0.4807536132,
                          1.242719496
                        ],
                        "iteration": 8,
                        "passed_time": 18.80308263,
                        "remaining_time": 10427.35394,
                        "test": [
                          0.4695468542,
                          1.257701059
                        ]
                      },
                      {
                        "learn": [
                          0.4841215016,
                          1.225585326
                        ],
                        "iteration": 9,
                        "passed_time": 21.01027239,
                        "remaining_time": 10484.12592,
                        "test": [
                          0.4715726642,
                          1.23798793
                        ]
                      },
                      {
                        "learn": [
                          0.483854128,
                          1.217973144
                        ],
                        "iteration": 10,
                        "passed_time": 22.6418542,
                        "remaining_time": 10269.11006,
                        "test": [
                          0.4722288081,
                          1.23089344
                        ]
                      },
                      {
                        "learn": [
                          0.4891190478,
                          1.210409995
                        ],
                        "iteration": 11,
                        "passed_time": 24.03534764,
                        "remaining_time": 9990.692835,
                        "test": [
                          0.4784385425,
                          1.219965098
                        ]
                      },
                      {
                        "learn": [
                          0.4975835384,
                          1.196589618
                        ],
                        "iteration": 12,
                        "passed_time": 25.72696773,
                        "remaining_time": 9869.260619,
                        "test": [
                          0.4858679412,
                          1.207960657
                        ]
                      },
                      {
                        "learn": [
                          0.5046618172,
                          1.18934324
                        ],
                        "iteration": 13,
                        "passed_time": 27.61163279,
                        "remaining_time": 9833.685794,
                        "test": [
                          0.489999732,
                          1.201166752
                        ]
                      },
                      {
                        "learn": [
                          0.5079800081,
                          1.185546039
                        ],
                        "iteration": 14,
                        "passed_time": 28.97009689,
                        "remaining_time": 9627.728867,
                        "test": [
                          0.4887380635,
                          1.199248006
                        ]
                      },
                      {
                        "learn": [
                          0.5114317442,
                          1.179391695
                        ],
                        "iteration": 15,
                        "passed_time": 30.42332199,
                        "remaining_time": 9476.864801,
                        "test": [
                          0.4897717287,
                          1.19502258
                        ]
                      },
                      {
                        "learn": [
                          0.5151646394,
                          1.17535
                        ],
                        "iteration": 16,
                        "passed_time": 32.59977271,
                        "remaining_time": 9555.568672,
                        "test": [
                          0.4923530237,
                          1.192735899
                        ]
                      },
                      {
                        "learn": [
                          0.5206382841,
                          1.165418697
                        ],
                        "iteration": 17,
                        "passed_time": 34.83697126,
                        "remaining_time": 9642.09949,
                        "test": [
                          0.4942198843,
                          1.186775008
                        ]
                      },
                      {
                        "learn": [
                          0.5309916982,
                          1.155684029
                        ],
                        "iteration": 18,
                        "passed_time": 36.44564542,
                        "remaining_time": 9554.513674,
                        "test": [
                          0.5010588583,
                          1.180552547
                        ]
                      },
                      {
                        "learn": [
                          0.5395468396,
                          1.149903682
                        ],
                        "iteration": 19,
                        "passed_time": 38.03654227,
                        "remaining_time": 9471.099026,
                        "test": [
                          0.5043842236,
                          1.175639122
                        ]
                      },
                      {
                        "learn": [
                          0.54267765,
                          1.142718165
                        ],
                        "iteration": 20,
                        "passed_time": 39.46148262,
                        "remaining_time": 9356.129618,
                        "test": [
                          0.5142993853,
                          1.166749349
                        ]
                      },
                      {
                        "learn": [
                          0.5453363895,
                          1.131744333
                        ],
                        "iteration": 21,
                        "passed_time": 41.05520946,
                        "remaining_time": 9289.674213,
                        "test": [
                          0.5217339695,
                          1.156002465
                        ]
                      },
                      {
                        "learn": [
                          0.5465727256,
                          1.128873445
                        ],
                        "iteration": 22,
                        "passed_time": 42.82961701,
                        "remaining_time": 9267.95669,
                        "test": [
                          0.5239040915,
                          1.154758384
                        ]
                      },
                      {
                        "learn": [
                          0.5484162741,
                          1.11616555
                        ],
                        "iteration": 23,
                        "passed_time": 44.32312863,
                        "remaining_time": 9189.662003,
                        "test": [
                          0.5265570295,
                          1.144441373
                        ]
                      },
                      {
                        "learn": [
                          0.5566824134,
                          1.106897814
                        ],
                        "iteration": 24,
                        "passed_time": 46.77071299,
                        "remaining_time": 9307.371886,
                        "test": [
                          0.5285934357,
                          1.136755292
                        ]
                      },
                      {
                        "learn": [
                          0.5655547669,
                          1.098417928
                        ],
                        "iteration": 25,
                        "passed_time": 47.93345933,
                        "remaining_time": 9170.039488,
                        "test": [
                          0.5363970844,
                          1.131378623
                        ]
                      },
                      {
                        "learn": [
                          0.5684360134,
                          1.090100894
                        ],
                        "iteration": 26,
                        "passed_time": 48.85644913,
                        "remaining_time": 8998.634131,
                        "test": [
                          0.5419548102,
                          1.124799088
                        ]
                      },
                      {
                        "learn": [
                          0.5726506249,
                          1.08104203
                        ],
                        "iteration": 27,
                        "passed_time": 49.7242321,
                        "remaining_time": 8829.602928,
                        "test": [
                          0.5420240597,
                          1.115378653
                        ]
                      },
                      {
                        "learn": [
                          0.5777575248,
                          1.074368307
                        ],
                        "iteration": 28,
                        "passed_time": 50.67717507,
                        "remaining_time": 8686.766802,
                        "test": [
                          0.5472632566,
                          1.109315441
                        ]
                      },
                      {
                        "learn": [
                          0.5789592812,
                          1.068258395
                        ],
                        "iteration": 29,
                        "passed_time": 51.60561621,
                        "remaining_time": 8549.33042,
                        "test": [
                          0.5486595511,
                          1.107040638
                        ]
                      },
                      {
                        "learn": [
                          0.5817346432,
                          1.059544839
                        ],
                        "iteration": 30,
                        "passed_time": 52.47109082,
                        "remaining_time": 8410.608074,
                        "test": [
                          0.5495201353,
                          1.099315952
                        ]
                      },
                      {
                        "learn": [
                          0.5810824299,
                          1.05298447
                        ],
                        "iteration": 31,
                        "passed_time": 53.32354156,
                        "remaining_time": 8278.479827,
                        "test": [
                          0.5491595112,
                          1.094841282
                        ]
                      },
                      {
                        "learn": [
                          0.5879485506,
                          1.043956632
                        ],
                        "iteration": 32,
                        "passed_time": 54.23081275,
                        "remaining_time": 8162.558998,
                        "test": [
                          0.5515310257,
                          1.086698401
                        ]
                      },
                      {
                        "learn": [
                          0.5873558231,
                          1.039594629
                        ],
                        "iteration": 33,
                        "passed_time": 55.19243042,
                        "remaining_time": 8061.341455,
                        "test": [
                          0.5519875722,
                          1.085220407
                        ]
                      },
                      {
                        "learn": [
                          0.5920991979,
                          1.032161186
                        ],
                        "iteration": 34,
                        "passed_time": 56.14987975,
                        "remaining_time": 7965.261513,
                        "test": [
                          0.552279581,
                          1.080562184
                        ]
                      },
                      {
                        "learn": [
                          0.5967629175,
                          1.026674945
                        ],
                        "iteration": 35,
                        "passed_time": 57.11304158,
                        "remaining_time": 7875.253845,
                        "test": [
                          0.5574058622,
                          1.077845675
                        ]
                      },
                      {
                        "learn": [
                          0.6043230801,
                          1.018536677
                        ],
                        "iteration": 36,
                        "passed_time": 58.29313573,
                        "remaining_time": 7819.157639,
                        "test": [
                          0.5673358941,
                          1.069649712
                        ]
                      },
                      {
                        "learn": [
                          0.605636037,
                          1.016362545
                        ],
                        "iteration": 37,
                        "passed_time": 59.60967716,
                        "remaining_time": 7783.768897,
                        "test": [
                          0.5679398375,
                          1.068951417
                        ]
                      },
                      {
                        "learn": [
                          0.6089591562,
                          1.011333524
                        ],
                        "iteration": 38,
                        "passed_time": 60.93785814,
                        "remaining_time": 7751.608057,
                        "test": [
                          0.5651667716,
                          1.065606845
                        ]
                      },
                      {
                        "learn": [
                          0.6082282333,
                          1.007603907
                        ],
                        "iteration": 39,
                        "passed_time": 61.80937644,
                        "remaining_time": 7664.362679,
                        "test": [
                          0.566899283,
                          1.062438077
                        ]
                      },
                      {
                        "learn": [
                          0.6135747455,
                          1.002379552
                        ],
                        "iteration": 40,
                        "passed_time": 62.66789115,
                        "remaining_time": 7579.757859,
                        "test": [
                          0.5691360615,
                          1.058526584
                        ]
                      },
                      {
                        "learn": [
                          0.6169964654,
                          0.9996025937
                        ],
                        "iteration": 41,
                        "passed_time": 63.51942737,
                        "remaining_time": 7498.317164,
                        "test": [
                          0.5726419334,
                          1.055622648
                        ]
                      },
                      {
                        "learn": [
                          0.6146414747,
                          0.9962955097
                        ],
                        "iteration": 42,
                        "passed_time": 64.44626089,
                        "remaining_time": 7429.305006,
                        "test": [
                          0.5751607215,
                          1.054409539
                        ]
                      },
                      {
                        "learn": [
                          0.6157586915,
                          0.9935041093
                        ],
                        "iteration": 43,
                        "passed_time": 65.35053377,
                        "remaining_time": 7360.846485,
                        "test": [
                          0.5749276202,
                          1.053586924
                        ]
                      },
                      {
                        "learn": [
                          0.6185583746,
                          0.9906790936
                        ],
                        "iteration": 44,
                        "passed_time": 66.20603307,
                        "remaining_time": 7290.019864,
                        "test": [
                          0.5775481913,
                          1.051447894
                        ]
                      },
                      {
                        "learn": [
                          0.6208175481,
                          0.9863403149
                        ],
                        "iteration": 45,
                        "passed_time": 67.06584482,
                        "remaining_time": 7222.699896,
                        "test": [
                          0.580889908,
                          1.049110272
                        ]
                      },
                      {
                        "learn": [
                          0.6298623493,
                          0.9815836693
                        ],
                        "iteration": 46,
                        "passed_time": 67.91776579,
                        "remaining_time": 7157.376467,
                        "test": [
                          0.5876407014,
                          1.045809588
                        ]
                      },
                      {
                        "learn": [
                          0.6309241242,
                          0.9776958515
                        ],
                        "iteration": 47,
                        "passed_time": 68.77610952,
                        "remaining_time": 7095.401966,
                        "test": [
                          0.5884844006,
                          1.044346743
                        ]
                      },
                      {
                        "learn": [
                          0.6319727128,
                          0.9745817136
                        ],
                        "iteration": 48,
                        "passed_time": 69.7263864,
                        "remaining_time": 7045.211001,
                        "test": [
                          0.5876831822,
                          1.042523234
                        ]
                      },
                      {
                        "learn": [
                          0.6332724703,
                          0.9690147993
                        ],
                        "iteration": 49,
                        "passed_time": 70.63258479,
                        "remaining_time": 6992.625894,
                        "test": [
                          0.58759174,
                          1.03916297
                        ]
                      },
                      {
                        "learn": [
                          0.6357959954,
                          0.9670332601
                        ],
                        "iteration": 50,
                        "passed_time": 73.17599619,
                        "remaining_time": 7100.941278,
                        "test": [
                          0.5875870008,
                          1.038510902
                        ]
                      },
                      {
                        "learn": [
                          0.6433940112,
                          0.962127286
                        ],
                        "iteration": 51,
                        "passed_time": 74.42450587,
                        "remaining_time": 7081.777981,
                        "test": [
                          0.5874508431,
                          1.034651158
                        ]
                      },
                      {
                        "learn": [
                          0.6443323768,
                          0.9565720187
                        ],
                        "iteration": 52,
                        "passed_time": 75.3755345,
                        "remaining_time": 7035.523947,
                        "test": [
                          0.5907920291,
                          1.029566058
                        ]
                      },
                      {
                        "learn": [
                          0.6443695715,
                          0.9526053859
                        ],
                        "iteration": 53,
                        "passed_time": 76.31933933,
                        "remaining_time": 6990.286155,
                        "test": [
                          0.5897603783,
                          1.026011213
                        ]
                      },
                      {
                        "learn": [
                          0.6485619328,
                          0.9484311577
                        ],
                        "iteration": 54,
                        "passed_time": 77.18119152,
                        "remaining_time": 6939.290765,
                        "test": [
                          0.5910397613,
                          1.022676901
                        ]
                      },
                      {
                        "learn": [
                          0.6507005404,
                          0.9433019414
                        ],
                        "iteration": 55,
                        "passed_time": 78.13525641,
                        "remaining_time": 6898.226923,
                        "test": [
                          0.5918553468,
                          1.019174491
                        ]
                      },
                      {
                        "learn": [
                          0.6512281103,
                          0.9405425036
                        ],
                        "iteration": 56,
                        "passed_time": 79.08149174,
                        "remaining_time": 6857.891468,
                        "test": [
                          0.5940763553,
                          1.016620663
                        ]
                      },
                      {
                        "learn": [
                          0.6518122789,
                          0.9391889934
                        ],
                        "iteration": 57,
                        "passed_time": 80.03348637,
                        "remaining_time": 6819.404994,
                        "test": [
                          0.5915971379,
                          1.016541778
                        ]
                      },
                      {
                        "learn": [
                          0.6538127559,
                          0.9353823211
                        ],
                        "iteration": 58,
                        "passed_time": 80.9782835,
                        "remaining_time": 6781.588115,
                        "test": [
                          0.5907502403,
                          1.016144623
                        ]
                      },
                      {
                        "learn": [
                          0.6543331756,
                          0.9321675339
                        ],
                        "iteration": 59,
                        "passed_time": 81.87380228,
                        "remaining_time": 6740.943055,
                        "test": [
                          0.5919461151,
                          1.013516718
                        ]
                      },
                      {
                        "learn": [
                          0.6581277632,
                          0.9283305876
                        ],
                        "iteration": 60,
                        "passed_time": 82.7929462,
                        "remaining_time": 6703.514119,
                        "test": [
                          0.5962657031,
                          1.011058825
                        ]
                      },
                      {
                        "learn": [
                          0.662120578,
                          0.924264178
                        ],
                        "iteration": 61,
                        "passed_time": 83.76526869,
                        "remaining_time": 6671.498335,
                        "test": [
                          0.5975121152,
                          1.009506059
                        ]
                      },
                      {
                        "learn": [
                          0.6639197769,
                          0.9219715437
                        ],
                        "iteration": 62,
                        "passed_time": 85.10690005,
                        "remaining_time": 6669.408977,
                        "test": [
                          0.5987790709,
                          1.008799883
                        ]
                      },
                      {
                        "learn": [
                          0.6641650305,
                          0.9192771947
                        ],
                        "iteration": 63,
                        "passed_time": 86.4443294,
                        "remaining_time": 6667.018905,
                        "test": [
                          0.6016289635,
                          1.007698127
                        ]
                      },
                      {
                        "learn": [
                          0.6648120641,
                          0.9174026924
                        ],
                        "iteration": 64,
                        "passed_time": 87.6806696,
                        "remaining_time": 6656.986223,
                        "test": [
                          0.6016735686,
                          1.007450527
                        ]
                      },
                      {
                        "learn": [
                          0.66577168,
                          0.9155308353
                        ],
                        "iteration": 65,
                        "passed_time": 88.54140927,
                        "remaining_time": 6619.141111,
                        "test": [
                          0.6039610016,
                          1.007153242
                        ]
                      },
                      {
                        "learn": [
                          0.665845169,
                          0.9139081455
                        ],
                        "iteration": 66,
                        "passed_time": 89.40898878,
                        "remaining_time": 6582.903607,
                        "test": [
                          0.6006991165,
                          1.006687768
                        ]
                      },
                      {
                        "learn": [
                          0.668472969,
                          0.9103580728
                        ],
                        "iteration": 67,
                        "passed_time": 90.36569673,
                        "remaining_time": 6554.170828,
                        "test": [
                          0.6033186447,
                          1.00514837
                        ]
                      },
                      {
                        "learn": [
                          0.6680354744,
                          0.9089750266
                        ],
                        "iteration": 68,
                        "passed_time": 91.25243368,
                        "remaining_time": 6521.242761,
                        "test": [
                          0.6026439927,
                          1.004775386
                        ]
                      },
                      {
                        "learn": [
                          0.6683039556,
                          0.9065730677
                        ],
                        "iteration": 69,
                        "passed_time": 92.11144499,
                        "remaining_time": 6487.277483,
                        "test": [
                          0.6020232198,
                          1.004169105
                        ]
                      },
                      {
                        "learn": [
                          0.66879504,
                          0.9056324121
                        ],
                        "iteration": 70,
                        "passed_time": 92.973128,
                        "remaining_time": 6454.430252,
                        "test": [
                          0.6008605273,
                          1.003924924
                        ]
                      },
                      {
                        "learn": [
                          0.6710795883,
                          0.9023612525
                        ],
                        "iteration": 71,
                        "passed_time": 93.83487316,
                        "remaining_time": 6422.475763,
                        "test": [
                          0.6013061561,
                          1.002856349
                        ]
                      },
                      {
                        "learn": [
                          0.6726784013,
                          0.9007506643
                        ],
                        "iteration": 72,
                        "passed_time": 94.69171593,
                        "remaining_time": 6391.042252,
                        "test": [
                          0.601476616,
                          1.002485843
                        ]
                      },
                      {
                        "learn": [
                          0.6737445575,
                          0.8993406128
                        ],
                        "iteration": 73,
                        "passed_time": 95.55074002,
                        "remaining_time": 6360.580343,
                        "test": [
                          0.6020668093,
                          1.001433538
                        ]
                      },
                      {
                        "learn": [
                          0.6747933774,
                          0.8967099699
                        ],
                        "iteration": 74,
                        "passed_time": 96.42699974,
                        "remaining_time": 6332.03965,
                        "test": [
                          0.6050516432,
                          1.000005337
                        ]
                      },
                      {
                        "learn": [
                          0.6762471073,
                          0.8946918431
                        ],
                        "iteration": 75,
                        "passed_time": 97.41290952,
                        "remaining_time": 6311.331138,
                        "test": [
                          0.6036278916,
                          0.9990986957
                        ]
                      },
                      {
                        "learn": [
                          0.6763873322,
                          0.8933634502
                        ],
                        "iteration": 76,
                        "passed_time": 98.91926442,
                        "remaining_time": 6324.409594,
                        "test": [
                          0.6050143049,
                          0.9981606627
                        ]
                      },
                      {
                        "learn": [
                          0.6790730543,
                          0.8905516087
                        ],
                        "iteration": 77,
                        "passed_time": 100.437736,
                        "remaining_time": 6337.878676,
                        "test": [
                          0.6069099544,
                          0.9961039362
                        ]
                      },
                      {
                        "learn": [
                          0.6805290285,
                          0.8883403257
                        ],
                        "iteration": 78,
                        "passed_time": 101.4070858,
                        "remaining_time": 6316.762903,
                        "test": [
                          0.6061582707,
                          0.9952177764
                        ]
                      },
                      {
                        "learn": [
                          0.6797657024,
                          0.8861059571
                        ],
                        "iteration": 79,
                        "passed_time": 102.3089031,
                        "remaining_time": 6291.997542,
                        "test": [
                          0.6065926182,
                          0.9947605825
                        ]
                      },
                      {
                        "learn": [
                          0.6822530186,
                          0.8838662885
                        ],
                        "iteration": 80,
                        "passed_time": 103.1714259,
                        "remaining_time": 6265.435109,
                        "test": [
                          0.6106197358,
                          0.9938045289
                        ]
                      },
                      {
                        "learn": [
                          0.6822466965,
                          0.8827571779
                        ],
                        "iteration": 81,
                        "passed_time": 104.0382863,
                        "remaining_time": 6239.759657,
                        "test": [
                          0.6117566377,
                          0.9934728591
                        ]
                      },
                      {
                        "learn": [
                          0.6826931496,
                          0.8818050557
                        ],
                        "iteration": 82,
                        "passed_time": 104.9139594,
                        "remaining_time": 6215.204078,
                        "test": [
                          0.6099649236,
                          0.9931631446
                        ]
                      },
                      {
                        "learn": [
                          0.6850554926,
                          0.880145347
                        ],
                        "iteration": 83,
                        "passed_time": 105.8742968,
                        "remaining_time": 6196.167177,
                        "test": [
                          0.6112408553,
                          0.99175115
                        ]
                      },
                      {
                        "learn": [
                          0.6836675198,
                          0.8778373285
                        ],
                        "iteration": 84,
                        "passed_time": 106.739114,
                        "remaining_time": 6172.032295,
                        "test": [
                          0.6105853839,
                          0.9900080545
                        ]
                      },
                      {
                        "learn": [
                          0.6848111456,
                          0.8756932693
                        ],
                        "iteration": 85,
                        "passed_time": 107.6071246,
                        "remaining_time": 6148.621051,
                        "test": [
                          0.6112408553,
                          0.9888279094
                        ]
                      },
                      {
                        "learn": [
                          0.6847855256,
                          0.8745006088
                        ],
                        "iteration": 86,
                        "passed_time": 108.4548432,
                        "remaining_time": 6124.582124,
                        "test": [
                          0.6113511081,
                          0.9883776574
                        ]
                      },
                      {
                        "learn": [
                          0.6856486677,
                          0.8734328028
                        ],
                        "iteration": 87,
                        "passed_time": 109.3586583,
                        "remaining_time": 6104.201473,
                        "test": [
                          0.6119323266,
                          0.9878262244
                        ]
                      },
                      {
                        "learn": [
                          0.6863513022,
                          0.8710710316
                        ],
                        "iteration": 88,
                        "passed_time": 110.2771287,
                        "remaining_time": 6085.067178,
                        "test": [
                          0.6128225732,
                          0.98589485
                        ]
                      },
                      {
                        "learn": [
                          0.6885293381,
                          0.8692541844
                        ],
                        "iteration": 89,
                        "passed_time": 111.4399707,
                        "remaining_time": 6079.669511,
                        "test": [
                          0.6117029032,
                          0.9852886418
                        ]
                      },
                      {
                        "learn": [
                          0.6899788343,
                          0.8678756424
                        ],
                        "iteration": 90,
                        "passed_time": 112.8556486,
                        "remaining_time": 6088.004165,
                        "test": [
                          0.6133747234,
                          0.9842866226
                        ]
                      },
                      {
                        "learn": [
                          0.6902202817,
                          0.8668301312
                        ],
                        "iteration": 91,
                        "passed_time": 114.0214341,
                        "remaining_time": 6082.795639,
                        "test": [
                          0.615140637,
                          0.9842055385
                        ]
                      },
                      {
                        "learn": [
                          0.6927377886,
                          0.8651808448
                        ],
                        "iteration": 92,
                        "passed_time": 114.8955078,
                        "remaining_time": 6062.282333,
                        "test": [
                          0.6134529572,
                          0.9831831629
                        ]
                      },
                      {
                        "learn": [
                          0.6944537151,
                          0.8605440325
                        ],
                        "iteration": 93,
                        "passed_time": 115.7629676,
                        "remaining_time": 6041.841692,
                        "test": [
                          0.6164784633,
                          0.9805790568
                        ]
                      },
                      {
                        "learn": [
                          0.6933275653,
                          0.8587709796
                        ],
                        "iteration": 94,
                        "passed_time": 116.6422001,
                        "remaining_time": 6022.420964,
                        "test": [
                          0.6147578039,
                          0.9797049061
                        ]
                      },
                      {
                        "learn": [
                          0.6944332862,
                          0.857224285
                        ],
                        "iteration": 95,
                        "passed_time": 117.604945,
                        "remaining_time": 6007.652608,
                        "test": [
                          0.6146538439,
                          0.9792692659
                        ]
                      },
                      {
                        "learn": [
                          0.6944555976,
                          0.8556176254
                        ],
                        "iteration": 96,
                        "passed_time": 118.5212766,
                        "remaining_time": 5990.822878,
                        "test": [
                          0.6139735947,
                          0.9778667871
                        ]
                      },
                      {
                        "learn": [
                          0.6963507922,
                          0.8528753975
                        ],
                        "iteration": 97,
                        "passed_time": 119.4287938,
                        "remaining_time": 5973.877014,
                        "test": [
                          0.6146538079,
                          0.9755996996
                        ]
                      },
                      {
                        "learn": [
                          0.6972808448,
                          0.8519251345
                        ],
                        "iteration": 98,
                        "passed_time": 120.378202,
                        "remaining_time": 5959.328972,
                        "test": [
                          0.6140777766,
                          0.9755326261
                        ]
                      },
                      {
                        "learn": [
                          0.6989292739,
                          0.8502188794
                        ],
                        "iteration": 99,
                        "passed_time": 121.2508361,
                        "remaining_time": 5941.290967,
                        "test": [
                          0.6167644082,
                          0.9745455556
                        ]
                      },
                      {
                        "learn": [
                          0.7012902393,
                          0.8490182386
                        ],
                        "iteration": 100,
                        "passed_time": 122.2176462,
                        "remaining_time": 5928.160877,
                        "test": [
                          0.6173385481,
                          0.9742232439
                        ]
                      },
                      {
                        "learn": [
                          0.7006390892,
                          0.8476642183
                        ],
                        "iteration": 101,
                        "passed_time": 123.1045695,
                        "remaining_time": 5911.433151,
                        "test": [
                          0.617164155,
                          0.973461175
                        ]
                      },
                      {
                        "learn": [
                          0.701409856,
                          0.8465752572
                        ],
                        "iteration": 102,
                        "passed_time": 124.1769918,
                        "remaining_time": 5903.83232,
                        "test": [
                          0.6165902617,
                          0.9732012444
                        ]
                      },
                      {
                        "learn": [
                          0.7041405826,
                          0.8445979744
                        ],
                        "iteration": 103,
                        "passed_time": 125.610413,
                        "remaining_time": 5913.351749,
                        "test": [
                          0.6155238997,
                          0.9728576719
                        ]
                      },
                      {
                        "learn": [
                          0.7079308524,
                          0.8423429306
                        ],
                        "iteration": 104,
                        "passed_time": 127.0179492,
                        "remaining_time": 5921.455824,
                        "test": [
                          0.6154275633,
                          0.971135639
                        ]
                      },
                      {
                        "learn": [
                          0.7084305463,
                          0.8400585595
                        ],
                        "iteration": 105,
                        "passed_time": 127.919919,
                        "remaining_time": 5906.038523,
                        "test": [
                          0.6189162334,
                          0.9693512853
                        ]
                      },
                      {
                        "learn": [
                          0.7090998249,
                          0.8381931754
                        ],
                        "iteration": 106,
                        "passed_time": 129.0368085,
                        "remaining_time": 5900.7206,
                        "test": [
                          0.6188459744,
                          0.9682422107
                        ]
                      },
                      {
                        "learn": [
                          0.7086927293,
                          0.8369958288
                        ],
                        "iteration": 107,
                        "passed_time": 130.0941775,
                        "remaining_time": 5892.78441,
                        "test": [
                          0.6188730795,
                          0.9673871263
                        ]
                      },
                      {
                        "learn": [
                          0.7091928041,
                          0.8359818888
                        ],
                        "iteration": 108,
                        "passed_time": 131.057449,
                        "remaining_time": 5880.752138,
                        "test": [
                          0.6164933033,
                          0.9671240849
                        ]
                      },
                      {
                        "learn": [
                          0.7102535643,
                          0.8343335481
                        ],
                        "iteration": 109,
                        "passed_time": 132.0063802,
                        "remaining_time": 5868.28363,
                        "test": [
                          0.6176457865,
                          0.9657688632
                        ]
                      },
                      {
                        "learn": [
                          0.709354159,
                          0.8324460124
                        ],
                        "iteration": 110,
                        "passed_time": 132.9385446,
                        "remaining_time": 5855.284187,
                        "test": [
                          0.6186045294,
                          0.9635385939
                        ]
                      },
                      {
                        "learn": [
                          0.7105401088,
                          0.8311013134
                        ],
                        "iteration": 111,
                        "passed_time": 133.8237013,
                        "remaining_time": 5840.448677,
                        "test": [
                          0.6175685565,
                          0.962998901
                        ]
                      },
                      {
                        "learn": [
                          0.7101703527,
                          0.8297706998
                        ],
                        "iteration": 112,
                        "passed_time": 134.7149941,
                        "remaining_time": 5826.125451,
                        "test": [
                          0.6218614367,
                          0.9615680224
                        ]
                      },
                      {
                        "learn": [
                          0.7116882121,
                          0.8281343787
                        ],
                        "iteration": 113,
                        "passed_time": 135.6161372,
                        "remaining_time": 5812.460055,
                        "test": [
                          0.6226861281,
                          0.9614371066
                        ]
                      },
                      {
                        "learn": [
                          0.7116882121,
                          0.8269011468
                        ],
                        "iteration": 114,
                        "passed_time": 136.6064913,
                        "remaining_time": 5802.806174,
                        "test": [
                          0.6220569364,
                          0.9611208769
                        ]
                      },
                      {
                        "learn": [
                          0.7122166684,
                          0.8253822769
                        ],
                        "iteration": 115,
                        "passed_time": 138.1299698,
                        "remaining_time": 5815.748037,
                        "test": [
                          0.621237153,
                          0.9605418584
                        ]
                      },
                      {
                        "learn": [
                          0.7128073828,
                          0.8242577449
                        ],
                        "iteration": 116,
                        "passed_time": 139.4185595,
                        "remaining_time": 5818.63954,
                        "test": [
                          0.6229000076,
                          0.9599197339
                        ]
                      },
                      {
                        "learn": [
                          0.7134148758,
                          0.8231342876
                        ],
                        "iteration": 117,
                        "passed_time": 140.3175992,
                        "remaining_time": 5805.343384,
                        "test": [
                          0.6217669655,
                          0.9594742912
                        ]
                      },
                      {
                        "learn": [
                          0.7138722247,
                          0.8214694358
                        ],
                        "iteration": 118,
                        "passed_time": 141.2020019,
                        "remaining_time": 5791.655222,
                        "test": [
                          0.6239877548,
                          0.9578753093
                        ]
                      },
                      {
                        "learn": [
                          0.7130340351,
                          0.8199836612
                        ],
                        "iteration": 119,
                        "passed_time": 142.092545,
                        "remaining_time": 5778.430163,
                        "test": [
                          0.6215831721,
                          0.9571491059
                        ]
                      },
                      {
                        "learn": [
                          0.7140955279,
                          0.8181491712
                        ],
                        "iteration": 120,
                        "passed_time": 142.9838204,
                        "remaining_time": 5765.438509,
                        "test": [
                          0.6206304165,
                          0.9553140763
                        ]
                      },
                      {
                        "learn": [
                          0.7149587378,
                          0.8166404363
                        ],
                        "iteration": 121,
                        "passed_time": 143.8555961,
                        "remaining_time": 5751.865556,
                        "test": [
                          0.6200761513,
                          0.9556623771
                        ]
                      },
                      {
                        "learn": [
                          0.7160790562,
                          0.8146423779
                        ],
                        "iteration": 122,
                        "passed_time": 144.7548666,
                        "remaining_time": 5739.589305,
                        "test": [
                          0.6187156528,
                          0.9548586247
                        ]
                      },
                      {
                        "learn": [
                          0.7165393687,
                          0.8139400379
                        ],
                        "iteration": 123,
                        "passed_time": 145.7419956,
                        "remaining_time": 5730.951376,
                        "test": [
                          0.6187156528,
                          0.9545130924
                        ]
                      },
                      {
                        "learn": [
                          0.7174889577,
                          0.8129932897
                        ],
                        "iteration": 124,
                        "passed_time": 146.6245974,
                        "remaining_time": 5718.359299,
                        "test": [
                          0.6182221634,
                          0.9545246037
                        ]
                      },
                      {
                        "learn": [
                          0.7186458841,
                          0.8121731373
                        ],
                        "iteration": 125,
                        "passed_time": 147.6102932,
                        "remaining_time": 5709.941025,
                        "test": [
                          0.6187156528,
                          0.9540577489
                        ]
                      },
                      {
                        "learn": [
                          0.7180227303,
                          0.8107741143
                        ],
                        "iteration": 126,
                        "passed_time": 148.6142172,
                        "remaining_time": 5702.339216,
                        "test": [
                          0.6192511783,
                          0.9529681051
                        ]
                      },
                      {
                        "learn": [
                          0.7185459821,
                          0.8082637298
                        ],
                        "iteration": 127,
                        "passed_time": 149.6680646,
                        "remaining_time": 5696.740708,
                        "test": [
                          0.6223156692,
                          0.950749698
                        ]
                      },
                      {
                        "learn": [
                          0.721070483,
                          0.806532527
                        ],
                        "iteration": 128,
                        "passed_time": 151.0773131,
                        "remaining_time": 5704.632499,
                        "test": [
                          0.6218259359,
                          0.9503233762
                        ]
                      },
                      {
                        "learn": [
                          0.7206683736,
                          0.8057698388
                        ],
                        "iteration": 129,
                        "passed_time": 152.2086447,
                        "remaining_time": 5701.969998,
                        "test": [
                          0.6201743956,
                          0.9498730338
                        ]
                      },
                      {
                        "learn": [
                          0.7208267135,
                          0.8042411241
                        ],
                        "iteration": 130,
                        "passed_time": 153.1746621,
                        "remaining_time": 5693.186486,
                        "test": [
                          0.6225263448,
                          0.9491738455
                        ]
                      },
                      {
                        "learn": [
                          0.7198178124,
                          0.8032438138
                        ],
                        "iteration": 131,
                        "passed_time": 154.0486857,
                        "remaining_time": 5681.128804,
                        "test": [
                          0.6242739447,
                          0.9483925421
                        ]
                      },
                      {
                        "learn": [
                          0.7213493272,
                          0.8018466776
                        ],
                        "iteration": 132,
                        "passed_time": 154.930496,
                        "remaining_time": 5669.52424,
                        "test": [
                          0.624184668,
                          0.9478690126
                        ]
                      },
                      {
                        "learn": [
                          0.7219704172,
                          0.8010938677
                        ],
                        "iteration": 133,
                        "passed_time": 155.8085022,
                        "remaining_time": 5657.94158,
                        "test": [
                          0.6254349143,
                          0.9476970593
                        ]
                      },
                      {
                        "learn": [
                          0.7227439089,
                          0.800496879
                        ],
                        "iteration": 134,
                        "passed_time": 156.6977279,
                        "remaining_time": 5646.921824,
                        "test": [
                          0.6254349143,
                          0.9469145426
                        ]
                      },
                      {
                        "learn": [
                          0.7212697786,
                          0.7989715471
                        ],
                        "iteration": 135,
                        "passed_time": 157.5887973,
                        "remaining_time": 5636.116986,
                        "test": [
                          0.6262692735,
                          0.9456204101
                        ]
                      },
                      {
                        "learn": [
                          0.721521452,
                          0.7981188269
                        ],
                        "iteration": 136,
                        "passed_time": 158.5199855,
                        "remaining_time": 5626.880946,
                        "test": [
                          0.6263298083,
                          0.9456721826
                        ]
                      },
                      {
                        "learn": [
                          0.7227798834,
                          0.7969163563
                        ],
                        "iteration": 137,
                        "passed_time": 159.485718,
                        "remaining_time": 5618.982326,
                        "test": [
                          0.6247746472,
                          0.9452669098
                        ]
                      },
                      {
                        "learn": [
                          0.7233540534,
                          0.79613395
                        ],
                        "iteration": 138,
                        "passed_time": 160.444609,
                        "remaining_time": 5610.944204,
                        "test": [
                          0.6260108247,
                          0.9447366736
                        ]
                      },
                      {
                        "learn": [
                          0.7244343776,
                          0.7946673158
                        ],
                        "iteration": 139,
                        "passed_time": 161.4150612,
                        "remaining_time": 5603.408554,
                        "test": [
                          0.6262422663,
                          0.9438081698
                        ]
                      },
                      {
                        "learn": [
                          0.7252377743,
                          0.7930679918
                        ],
                        "iteration": 140,
                        "passed_time": 162.7942429,
                        "remaining_time": 5610.051251,
                        "test": [
                          0.624208455,
                          0.9428682388
                        ]
                      },
                      {
                        "learn": [
                          0.7253355734,
                          0.7919426157
                        ],
                        "iteration": 141,
                        "passed_time": 164.0337297,
                        "remaining_time": 5611.801823,
                        "test": [
                          0.6236116938,
                          0.9428979947
                        ]
                      },
                      {
                        "learn": [
                          0.7258985457,
                          0.7908943525
                        ],
                        "iteration": 142,
                        "passed_time": 164.9049787,
                        "remaining_time": 5601.003369,
                        "test": [
                          0.6247696494,
                          0.9425018882
                        ]
                      },
                      {
                        "learn": [
                          0.7263260623,
                          0.7899312931
                        ],
                        "iteration": 143,
                        "passed_time": 165.8505568,
                        "remaining_time": 5592.849332,
                        "test": [
                          0.6258303758,
                          0.9426010366
                        ]
                      },
                      {
                        "learn": [
                          0.7268308624,
                          0.7889393057
                        ],
                        "iteration": 144,
                        "passed_time": 166.8443088,
                        "remaining_time": 5586.407718,
                        "test": [
                          0.6276129474,
                          0.9419052515
                        ]
                      },
                      {
                        "learn": [
                          0.7279786966,
                          0.7880301022
                        ],
                        "iteration": 145,
                        "passed_time": 167.8346716,
                        "remaining_time": 5579.928054,
                        "test": [
                          0.6275951495,
                          0.9414217551
                        ]
                      },
                      {
                        "learn": [
                          0.7294127301,
                          0.7872509519
                        ],
                        "iteration": 146,
                        "passed_time": 168.8180161,
                        "remaining_time": 5573.291376,
                        "test": [
                          0.6281721963,
                          0.9410887255
                        ]
                      },
                      {
                        "learn": [
                          0.7310332813,
                          0.7850261652
                        ],
                        "iteration": 147,
                        "passed_time": 169.7502924,
                        "remaining_time": 5565.056884,
                        "test": [
                          0.6281733583,
                          0.9397049652
                        ]
                      },
                      {
                        "learn": [
                          0.7317275251,
                          0.784274792
                        ],
                        "iteration": 148,
                        "passed_time": 170.6163781,
                        "remaining_time": 5554.765439,
                        "test": [
                          0.6308048877,
                          0.9393026493
                        ]
                      },
                      {
                        "learn": [
                          0.7327101693,
                          0.7828517671
                        ],
                        "iteration": 149,
                        "passed_time": 171.5123973,
                        "remaining_time": 5545.567512,
                        "test": [
                          0.6305459813,
                          0.9391540576
                        ]
                      },
                      {
                        "learn": [
                          0.7342858982,
                          0.7811114716
                        ],
                        "iteration": 150,
                        "passed_time": 172.4937193,
                        "remaining_time": 5539.21884,
                        "test": [
                          0.6274443471,
                          0.9388891746
                        ]
                      },
                      {
                        "learn": [
                          0.736034027,
                          0.7797965092
                        ],
                        "iteration": 151,
                        "passed_time": 173.4750286,
                        "remaining_time": 5532.940387,
                        "test": [
                          0.6304783937,
                          0.9385941065
                        ]
                      },
                      {
                        "learn": [
                          0.7383901428,
                          0.777208847
                        ],
                        "iteration": 152,
                        "passed_time": 174.64051,
                        "remaining_time": 5532.565698,
                        "test": [
                          0.6301593589,
                          0.9371221024
                        ]
                      },
                      {
                        "learn": [
                          0.7384099632,
                          0.7752322016
                        ],
                        "iteration": 153,
                        "passed_time": 176.0657981,
                        "remaining_time": 5540.356218,
                        "test": [
                          0.6313949545,
                          0.9356944271
                        ]
                      },
                      {
                        "learn": [
                          0.7398837319,
                          0.7738822447
                        ],
                        "iteration": 154,
                        "passed_time": 176.9449317,
                        "remaining_time": 5530.956089,
                        "test": [
                          0.6315317819,
                          0.934507258
                        ]
                      },
                      {
                        "learn": [
                          0.7405147094,
                          0.7714244895
                        ],
                        "iteration": 155,
                        "passed_time": 177.8823003,
                        "remaining_time": 5523.473478,
                        "test": [
                          0.6315083516,
                          0.9330631976
                        ]
                      },
                      {
                        "learn": [
                          0.7412316309,
                          0.7702390208
                        ],
                        "iteration": 156,
                        "passed_time": 178.833005,
                        "remaining_time": 5516.485625,
                        "test": [
                          0.6319328774,
                          0.932743653
                        ]
                      },
                      {
                        "learn": [
                          0.7403585935,
                          0.7683705358
                        ],
                        "iteration": 157,
                        "passed_time": 179.7390021,
                        "remaining_time": 5508.204103,
                        "test": [
                          0.6326625219,
                          0.9323621208
                        ]
                      },
                      {
                        "learn": [
                          0.7412769738,
                          0.7674689006
                        ],
                        "iteration": 158,
                        "passed_time": 180.6258949,
                        "remaining_time": 5499.433694,
                        "test": [
                          0.6327355075,
                          0.932212112
                        ]
                      },
                      {
                        "learn": [
                          0.740327723,
                          0.7663758244
                        ],
                        "iteration": 159,
                        "passed_time": 181.6149476,
                        "remaining_time": 5493.852165,
                        "test": [
                          0.6348607989,
                          0.9319555281
                        ]
                      },
                      {
                        "learn": [
                          0.7419421102,
                          0.764876656
                        ],
                        "iteration": 160,
                        "passed_time": 182.5196036,
                        "remaining_time": 5485.791067,
                        "test": [
                          0.6365977611,
                          0.9306734656
                        ]
                      },
                      {
                        "learn": [
                          0.7417351411,
                          0.7638626608
                        ],
                        "iteration": 161,
                        "passed_time": 183.3805998,
                        "remaining_time": 5476.514456,
                        "test": [
                          0.6369072105,
                          0.9303705359
                        ]
                      },
                      {
                        "learn": [
                          0.7414796589,
                          0.7631980357
                        ],
                        "iteration": 162,
                        "passed_time": 184.2627228,
                        "remaining_time": 5467.968039,
                        "test": [
                          0.6360584854,
                          0.9298171194
                        ]
                      },
                      {
                        "learn": [
                          0.7418582563,
                          0.7622042787
                        ],
                        "iteration": 163,
                        "passed_time": 185.1527508,
                        "remaining_time": 5459.748188,
                        "test": [
                          0.6378610895,
                          0.9288064263
                        ]
                      },
                      {
                        "learn": [
                          0.7426109314,
                          0.7610485211
                        ],
                        "iteration": 164,
                        "passed_time": 186.099166,
                        "remaining_time": 5453.269499,
                        "test": [
                          0.6382760306,
                          0.9289095903
                        ]
                      },
                      {
                        "learn": [
                          0.7436277535,
                          0.7604164899
                        ],
                        "iteration": 165,
                        "passed_time": 187.5290816,
                        "remaining_time": 5460.937232,
                        "test": [
                          0.6375247802,
                          0.9287669765
                        ]
                      },
                      {
                        "learn": [
                          0.7431823789,
                          0.7585258864
                        ],
                        "iteration": 166,
                        "passed_time": 188.7232119,
                        "remaining_time": 5461.672354,
                        "test": [
                          0.6384717181,
                          0.9284197151
                        ]
                      },
                      {
                        "learn": [
                          0.7461676902,
                          0.7569420703
                        ],
                        "iteration": 167,
                        "passed_time": 189.594267,
                        "remaining_time": 5453.092251,
                        "test": [
                          0.6388298678,
                          0.927394349
                        ]
                      },
                      {
                        "learn": [
                          0.7466979513,
                          0.7562199948
                        ],
                        "iteration": 168,
                        "passed_time": 190.5032295,
                        "remaining_time": 5445.686992,
                        "test": [
                          0.6387739369,
                          0.9271879792
                        ]
                      },
                      {
                        "learn": [
                          0.7469555406,
                          0.7556647706
                        ],
                        "iteration": 169,
                        "passed_time": 191.3946734,
                        "remaining_time": 5437.860427,
                        "test": [
                          0.6388298678,
                          0.926828222
                        ]
                      },
                      {
                        "learn": [
                          0.7482439929,
                          0.7547479523
                        ],
                        "iteration": 170,
                        "passed_time": 192.3095339,
                        "remaining_time": 5430.776253,
                        "test": [
                          0.6388523232,
                          0.9266696178
                        ]
                      },
                      {
                        "learn": [
                          0.7482875067,
                          0.7533647252
                        ],
                        "iteration": 171,
                        "passed_time": 193.2365715,
                        "remaining_time": 5424.105622,
                        "test": [
                          0.6403150185,
                          0.9257260822
                        ]
                      },
                      {
                        "learn": [
                          0.7499670592,
                          0.7524708909
                        ],
                        "iteration": 172,
                        "passed_time": 194.194909,
                        "remaining_time": 5418.374716,
                        "test": [
                          0.6412120811,
                          0.9253139252
                        ]
                      },
                      {
                        "learn": [
                          0.7502076225,
                          0.751812783
                        ],
                        "iteration": 173,
                        "passed_time": 195.125714,
                        "remaining_time": 5411.935034,
                        "test": [
                          0.6418147874,
                          0.9253437832
                        ]
                      },
                      {
                        "learn": [
                          0.7507415889,
                          0.7508482272
                        ],
                        "iteration": 174,
                        "passed_time": 196.1040113,
                        "remaining_time": 5406.867739,
                        "test": [
                          0.6429989803,
                          0.9247932138
                        ]
                      },
                      {
                        "learn": [
                          0.7516483352,
                          0.749908602
                        ],
                        "iteration": 175,
                        "passed_time": 197.0066363,
                        "remaining_time": 5399.772805,
                        "test": [
                          0.6431437462,
                          0.9243073
                        ]
                      },
                      {
                        "learn": [
                          0.7519293055,
                          0.7490531617
                        ],
                        "iteration": 176,
                        "passed_time": 197.9953486,
                        "remaining_time": 5395.093595,
                        "test": [
                          0.6431437462,
                          0.9242339081
                        ]
                      },
                      {
                        "learn": [
                          0.7519293055,
                          0.7486588588
                        ],
                        "iteration": 177,
                        "passed_time": 199.1653743,
                        "remaining_time": 5395.367612,
                        "test": [
                          0.6436894957,
                          0.9241499853
                        ]
                      },
                      {
                        "learn": [
                          0.7519513417,
                          0.7479890431
                        ],
                        "iteration": 178,
                        "passed_time": 200.5343937,
                        "remaining_time": 5400.984984,
                        "test": [
                          0.643747156,
                          0.9243108725
                        ]
                      },
                      {
                        "learn": [
                          0.7539326763,
                          0.7459327154
                        ],
                        "iteration": 179,
                        "passed_time": 201.477422,
                        "remaining_time": 5395.117635,
                        "test": [
                          0.6437246352,
                          0.9225701601
                        ]
                      },
                      {
                        "learn": [
                          0.7541920674,
                          0.7456221596
                        ],
                        "iteration": 180,
                        "passed_time": 202.4035445,
                        "remaining_time": 5388.854591,
                        "test": [
                          0.6438044062,
                          0.9225434311
                        ]
                      },
                      {
                        "learn": [
                          0.7544784167,
                          0.744761642
                        ],
                        "iteration": 181,
                        "passed_time": 203.3605231,
                        "remaining_time": 5383.467036,
                        "test": [
                          0.6444528499,
                          0.9218289718
                        ]
                      },
                      {
                        "learn": [
                          0.7549264146,
                          0.7436281061
                        ],
                        "iteration": 182,
                        "passed_time": 204.2520915,
                        "remaining_time": 5376.406147,
                        "test": [
                          0.64394592,
                          0.9217993803
                        ]
                      },
                      {
                        "learn": [
                          0.7556910907,
                          0.7424397359
                        ],
                        "iteration": 183,
                        "passed_time": 205.1588784,
                        "remaining_time": 5369.810644,
                        "test": [
                          0.6426803345,
                          0.9212143982
                        ]
                      },
                      {
                        "learn": [
                          0.7559187493,
                          0.7411048176
                        ],
                        "iteration": 184,
                        "passed_time": 206.1390454,
                        "remaining_time": 5365.186506,
                        "test": [
                          0.64394592,
                          0.9206683181
                        ]
                      },
                      {
                        "learn": [
                          0.7568509778,
                          0.7403624976
                        ],
                        "iteration": 185,
                        "passed_time": 207.0216972,
                        "remaining_time": 5358.07769,
                        "test": [
                          0.6445499665,
                          0.9200651336
                        ]
                      },
                      {
                        "learn": [
                          0.7577475903,
                          0.7399608623
                        ],
                        "iteration": 186,
                        "passed_time": 207.9950623,
                        "remaining_time": 5353.370239,
                        "test": [
                          0.6446487092,
                          0.9201587587
                        ]
                      },
                      {
                        "learn": [
                          0.7571034666,
                          0.7394542697
                        ],
                        "iteration": 187,
                        "passed_time": 209.0001079,
                        "remaining_time": 5349.5134,
                        "test": [
                          0.6446561455,
                          0.9199648436
                        ]
                      },
                      {
                        "learn": [
                          0.757703629,
                          0.7385232135
                        ],
                        "iteration": 188,
                        "passed_time": 209.9320651,
                        "remaining_time": 5343.826271,
                        "test": [
                          0.6446561455,
                          0.9198970901
                        ]
                      },
                      {
                        "learn": [
                          0.7576550037,
                          0.7362599515
                        ],
                        "iteration": 189,
                        "passed_time": 210.866139,
                        "remaining_time": 5338.242781,
                        "test": [
                          0.646404913,
                          0.9176872829
                        ]
                      },
                      {
                        "learn": [
                          0.7589260745,
                          0.7355629092
                        ],
                        "iteration": 190,
                        "passed_time": 212.3348047,
                        "remaining_time": 5346.167936,
                        "test": [
                          0.646404913,
                          0.9173979161
                        ]
                      },
                      {
                        "learn": [
                          0.7586656399,
                          0.7347071084
                        ],
                        "iteration": 191,
                        "passed_time": 213.5909458,
                        "remaining_time": 5348.673268,
                        "test": [
                          0.6461464772,
                          0.9172270088
                        ]
                      },
                      {
                        "learn": [
                          0.7592878361,
                          0.7337992196
                        ],
                        "iteration": 192,
                        "passed_time": 214.5668398,
                        "remaining_time": 5344.159579,
                        "test": [
                          0.6467250011,
                          0.9162206004
                        ]
                      },
                      {
                        "learn": [
                          0.7600396049,
                          0.7331361217
                        ],
                        "iteration": 193,
                        "passed_time": 215.485542,
                        "remaining_time": 5338.265539,
                        "test": [
                          0.6473308437,
                          0.9163675018
                        ]
                      },
                      {
                        "learn": [
                          0.7593870776,
                          0.7325945135
                        ],
                        "iteration": 194,
                        "passed_time": 216.465053,
                        "remaining_time": 5333.920921,
                        "test": [
                          0.64790271,
                          0.9162605187
                        ]
                      },
                      {
                        "learn": [
                          0.7598364533,
                          0.7319943513
                        ],
                        "iteration": 195,
                        "passed_time": 217.4817367,
                        "remaining_time": 5330.52175,
                        "test": [
                          0.6473374747,
                          0.916086511
                        ]
                      },
                      {
                        "learn": [
                          0.7618764364,
                          0.7304285527
                        ],
                        "iteration": 196,
                        "passed_time": 218.490717,
                        "remaining_time": 5326.958954,
                        "test": [
                          0.6448762865,
                          0.9148948502
                        ]
                      },
                      {
                        "learn": [
                          0.7628884237,
                          0.7295914866
                        ],
                        "iteration": 197,
                        "passed_time": 219.4950481,
                        "remaining_time": 5323.309198,
                        "test": [
                          0.6454733247,
                          0.9147717763
                        ]
                      },
                      {
                        "learn": [
                          0.7621240771,
                          0.7287933915
                        ],
                        "iteration": 198,
                        "passed_time": 220.381888,
                        "remaining_time": 5316.85148,
                        "test": [
                          0.6440265795,
                          0.9146876313
                        ]
                      },
                      {
                        "learn": [
                          0.762262462,
                          0.7274565191
                        ],
                        "iteration": 199,
                        "passed_time": 221.2926431,
                        "remaining_time": 5311.023435,
                        "test": [
                          0.6407314452,
                          0.9150357192
                        ]
                      },
                      {
                        "learn": [
                          0.7624852726,
                          0.7267112401
                        ],
                        "iteration": 200,
                        "passed_time": 222.2192392,
                        "remaining_time": 5305.622533,
                        "test": [
                          0.6415838603,
                          0.9145835972
                        ]
                      },
                      {
                        "learn": [
                          0.7631040163,
                          0.7258796149
                        ],
                        "iteration": 201,
                        "passed_time": 223.2804178,
                        "remaining_time": 5303.462596,
                        "test": [
                          0.6436431421,
                          0.9140476694
                        ]
                      },
                      {
                        "learn": [
                          0.7637010578,
                          0.7247658737
                        ],
                        "iteration": 202,
                        "passed_time": 224.7085083,
                        "remaining_time": 5309.983814,
                        "test": [
                          0.6448277189,
                          0.9136385916
                        ]
                      },
                      {
                        "learn": [
                          0.764800639,
                          0.7237572284
                        ],
                        "iteration": 203,
                        "passed_time": 225.8517815,
                        "remaining_time": 5309.731098,
                        "test": [
                          0.6465423108,
                          0.9133038758
                        ]
                      },
                      {
                        "learn": [
                          0.7633010645,
                          0.7228236381
                        ],
                        "iteration": 204,
                        "passed_time": 226.7473539,
                        "remaining_time": 5303.675913,
                        "test": [
                          0.6445087689,
                          0.912928436
                        ]
                      },
                      {
                        "learn": [
                          0.7644630715,
                          0.7221427651
                        ],
                        "iteration": 205,
                        "passed_time": 227.6204592,
                        "remaining_time": 5297.147967,
                        "test": [
                          0.6443546754,
                          0.9127356609
                        ]
                      },
                      {
                        "learn": [
                          0.7643076602,
                          0.7208909313
                        ],
                        "iteration": 206,
                        "passed_time": 228.5036783,
                        "remaining_time": 5290.90884,
                        "test": [
                          0.6441480862,
                          0.9125209106
                        ]
                      },
                      {
                        "learn": [
                          0.7648596776,
                          0.7203595217
                        ],
                        "iteration": 207,
                        "passed_time": 229.3983321,
                        "remaining_time": 5284.984651,
                        "test": [
                          0.6440226159,
                          0.9124638213
                        ]
                      },
                      {
                        "learn": [
                          0.7645302527,
                          0.719808657
                        ],
                        "iteration": 208,
                        "passed_time": 230.3570898,
                        "remaining_time": 5280.578072,
                        "test": [
                          0.6434548818,
                          0.9127007008
                        ]
                      },
                      {
                        "learn": [
                          0.7659003499,
                          0.7182842898
                        ],
                        "iteration": 209,
                        "passed_time": 231.2903861,
                        "remaining_time": 5275.623569,
                        "test": [
                          0.6417331603,
                          0.9122858465
                        ]
                      },
                      {
                        "learn": [
                          0.7657783257,
                          0.7175091728
                        ],
                        "iteration": 210,
                        "passed_time": 232.1791268,
                        "remaining_time": 5269.695915,
                        "test": [
                          0.6437776291,
                          0.9120259647
                        ]
                      },
                      {
                        "learn": [
                          0.7674423698,
                          0.7161066654
                        ],
                        "iteration": 211,
                        "passed_time": 233.0710702,
                        "remaining_time": 5263.888133,
                        "test": [
                          0.6425486437,
                          0.9108918802
                        ]
                      },
                      {
                        "learn": [
                          0.7679829138,
                          0.7155496645
                        ],
                        "iteration": 212,
                        "passed_time": 233.9588707,
                        "remaining_time": 5258.033399,
                        "test": [
                          0.6432808825,
                          0.9112700898
                        ]
                      },
                      {
                        "learn": [
                          0.7677672175,
                          0.714345906
                        ],
                        "iteration": 213,
                        "passed_time": 234.854094,
                        "remaining_time": 5252.391093,
                        "test": [
                          0.6417447923,
                          0.9109868412
                        ]
                      },
                      {
                        "learn": [
                          0.7687587428,
                          0.7136043891
                        ],
                        "iteration": 214,
                        "passed_time": 235.8748414,
                        "remaining_time": 5249.586587,
                        "test": [
                          0.6418411115,
                          0.910962977
                        ]
                      },
                      {
                        "learn": [
                          0.7678694902,
                          0.712718512
                        ],
                        "iteration": 215,
                        "passed_time": 237.428475,
                        "remaining_time": 5258.60104,
                        "test": [
                          0.6417750736,
                          0.9105172602
                        ]
                      },
                      {
                        "learn": [
                          0.7673521436,
                          0.7112469187
                        ],
                        "iteration": 216,
                        "passed_time": 238.5963685,
                        "remaining_time": 5259.015809,
                        "test": [
                          0.641680078,
                          0.90938404
                        ]
                      },
                      {
                        "learn": [
                          0.7691064859,
                          0.7105849783
                        ],
                        "iteration": 217,
                        "passed_time": 239.5329649,
                        "remaining_time": 5254.342376,
                        "test": [
                          0.6431033709,
                          0.9089030627
                        ]
                      },
                      {
                        "learn": [
                          0.7679764901,
                          0.7097383964
                        ],
                        "iteration": 218,
                        "passed_time": 240.4196293,
                        "remaining_time": 5248.613003,
                        "test": [
                          0.6415963335,
                          0.9085925464
                        ]
                      },
                      {
                        "learn": [
                          0.7710807102,
                          0.7085907026
                        ],
                        "iteration": 219,
                        "passed_time": 241.307526,
                        "remaining_time": 5242.954428,
                        "test": [
                          0.6427260105,
                          0.9081837632
                        ]
                      },
                      {
                        "learn": [
                          0.7716951549,
                          0.7075824642
                        ],
                        "iteration": 220,
                        "passed_time": 242.2300562,
                        "remaining_time": 5238.087956,
                        "test": [
                          0.6418269637,
                          0.9077025808
                        ]
                      },
                      {
                        "learn": [
                          0.7739777701,
                          0.7058621965
                        ],
                        "iteration": 221,
                        "passed_time": 243.2399365,
                        "remaining_time": 5235.137011,
                        "test": [
                          0.6439456979,
                          0.9077032064
                        ]
                      },
                      {
                        "learn": [
                          0.7746315833,
                          0.7051832481
                        ],
                        "iteration": 222,
                        "passed_time": 244.2227433,
                        "remaining_time": 5231.623518,
                        "test": [
                          0.6451718159,
                          0.9078722937
                        ]
                      },
                      {
                        "learn": [
                          0.7753393641,
                          0.7045833013
                        ],
                        "iteration": 223,
                        "passed_time": 245.1859865,
                        "remaining_time": 5227.715497,
                        "test": [
                          0.6450987204,
                          0.9079145686
                        ]
                      },
                      {
                        "learn": [
                          0.7747044051,
                          0.7039942833
                        ],
                        "iteration": 224,
                        "passed_time": 246.0873816,
                        "remaining_time": 5222.521098,
                        "test": [
                          0.6445818435,
                          0.9080144362
                        ]
                      },
                      {
                        "learn": [
                          0.7754881057,
                          0.7032266225
                        ],
                        "iteration": 225,
                        "passed_time": 247.0781039,
                        "remaining_time": 5219.251629,
                        "test": [
                          0.6415407358,
                          0.9079889665
                        ]
                      },
                      {
                        "learn": [
                          0.7764947778,
                          0.7025401018
                        ],
                        "iteration": 226,
                        "passed_time": 248.0320613,
                        "remaining_time": 5215.229202,
                        "test": [
                          0.6425565343,
                          0.9081423622
                        ]
                      },
                      {
                        "learn": [
                          0.7772819514,
                          0.7020792889
                        ],
                        "iteration": 227,
                        "passed_time": 249.3074997,
                        "remaining_time": 5217.96223,
                        "test": [
                          0.6424124263,
                          0.9081351413
                        ]
                      },
                      {
                        "learn": [
                          0.7785591708,
                          0.7014870652
                        ],
                        "iteration": 228,
                        "passed_time": 250.6636651,
                        "remaining_time": 5222.342122,
                        "test": [
                          0.6424124263,
                          0.9080519251
                        ]
                      },
                      {
                        "learn": [
                          0.7788217584,
                          0.7009065693
                        ],
                        "iteration": 229,
                        "passed_time": 251.6059959,
                        "remaining_time": 5218.089566,
                        "test": [
                          0.6415983489,
                          0.9080616484
                        ]
                      },
                      {
                        "learn": [
                          0.7785530844,
                          0.7001948356
                        ],
                        "iteration": 230,
                        "passed_time": 252.511215,
                        "remaining_time": 5213.0995,
                        "test": [
                          0.6437750594,
                          0.9078854598
                        ]
                      },
                      {
                        "learn": [
                          0.7783109002,
                          0.699493053
                        ],
                        "iteration": 231,
                        "passed_time": 253.3837443,
                        "remaining_time": 5207.472814,
                        "test": [
                          0.6433613805,
                          0.9076204007
                        ]
                      },
                      {
                        "learn": [
                          0.7783214671,
                          0.6988791775
                        ],
                        "iteration": 232,
                        "passed_time": 254.3844284,
                        "remaining_time": 5204.508884,
                        "test": [
                          0.6451200635,
                          0.9070265406
                        ]
                      },
                      {
                        "learn": [
                          0.7784259106,
                          0.6976919294
                        ],
                        "iteration": 233,
                        "passed_time": 255.2958117,
                        "remaining_time": 5199.742901,
                        "test": [
                          0.6451818414,
                          0.9069013553
                        ]
                      },
                      {
                        "learn": [
                          0.7784259106,
                          0.6970578746
                        ],
                        "iteration": 234,
                        "passed_time": 256.2003588,
                        "remaining_time": 5194.871105,
                        "test": [
                          0.6467707124,
                          0.9066137213
                        ]
                      },
                      {
                        "learn": [
                          0.7783363532,
                          0.69622177
                        ],
                        "iteration": 235,
                        "passed_time": 257.1949571,
                        "remaining_time": 5191.850744,
                        "test": [
                          0.6445429892,
                          0.9069404851
                        ]
                      },
                      {
                        "learn": [
                          0.7788587844,
                          0.6955262609
                        ],
                        "iteration": 236,
                        "passed_time": 258.1244522,
                        "remaining_time": 5187.539097,
                        "test": [
                          0.6451818414,
                          0.9064959406
                        ]
                      },
                      {
                        "learn": [
                          0.7796438486,
                          0.6950975646
                        ],
                        "iteration": 237,
                        "passed_time": 259.0150331,
                        "remaining_time": 5182.477259,
                        "test": [
                          0.6451818414,
                          0.9064415498
                        ]
                      },
                      {
                        "learn": [
                          0.7794313197,
                          0.6940999774
                        ],
                        "iteration": 238,
                        "passed_time": 259.9750831,
                        "remaining_time": 5178.834188,
                        "test": [
                          0.6452497239,
                          0.9064150136
                        ]
                      },
                      {
                        "learn": [
                          0.7800744231,
                          0.6934946292
                        ],
                        "iteration": 239,
                        "passed_time": 261.2099895,
                        "remaining_time": 5180.664791,
                        "test": [
                          0.6462878245,
                          0.9058966948
                        ]
                      },
                      {
                        "learn": [
                          0.7804250057,
                          0.692241092
                        ],
                        "iteration": 240,
                        "passed_time": 262.7129488,
                        "remaining_time": 5187.763167,
                        "test": [
                          0.646318136,
                          0.9045460136
                        ]
                      },
                      {
                        "learn": [
                          0.7807800228,
                          0.6918254123
                        ],
                        "iteration": 241,
                        "passed_time": 263.7206804,
                        "remaining_time": 5185.053707,
                        "test": [
                          0.646318136,
                          0.9045301289
                        ]
                      },
                      {
                        "learn": [
                          0.781837904,
                          0.6911889511
                        ],
                        "iteration": 242,
                        "passed_time": 264.7368646,
                        "remaining_time": 5182.523724,
                        "test": [
                          0.6469242225,
                          0.9043831197
                        ]
                      },
                      {
                        "learn": [
                          0.7828930332,
                          0.6900963203
                        ],
                        "iteration": 243,
                        "passed_time": 265.7236994,
                        "remaining_time": 5179.434075,
                        "test": [
                          0.6493609684,
                          0.9044317768
                        ]
                      },
                      {
                        "learn": [
                          0.7828930332,
                          0.6897313161
                        ],
                        "iteration": 244,
                        "passed_time": 266.6205187,
                        "remaining_time": 5174.614558,
                        "test": [
                          0.6499935886,
                          0.9042808073
                        ]
                      },
                      {
                        "learn": [
                          0.7846903172,
                          0.688832135
                        ],
                        "iteration": 245,
                        "passed_time": 267.5311042,
                        "remaining_time": 5170.092964,
                        "test": [
                          0.6499935886,
                          0.9035865125
                        ]
                      },
                      {
                        "learn": [
                          0.7846764657,
                          0.6881381697
                        ],
                        "iteration": 246,
                        "passed_time": 268.4297761,
                        "remaining_time": 5165.37136,
                        "test": [
                          0.6499935886,
                          0.9036105839
                        ]
                      },
                      {
                        "learn": [
                          0.7854568436,
                          0.6877031569
                        ],
                        "iteration": 247,
                        "passed_time": 269.4203634,
                        "remaining_time": 5162.441803,
                        "test": [
                          0.6499935886,
                          0.9036650964
                        ]
                      },
                      {
                        "learn": [
                          0.7851895178,
                          0.6872491227
                        ],
                        "iteration": 248,
                        "passed_time": 270.3457881,
                        "remaining_time": 5158.284494,
                        "test": [
                          0.6499935886,
                          0.9034738419
                        ]
                      },
                      {
                        "learn": [
                          0.7856773311,
                          0.6861471111
                        ],
                        "iteration": 249,
                        "passed_time": 271.2315762,
                        "remaining_time": 5153.399947,
                        "test": [
                          0.6496734889,
                          0.902883152
                        ]
                      },
                      {
                        "learn": [
                          0.7864986774,
                          0.6854373941
                        ],
                        "iteration": 250,
                        "passed_time": 272.1848644,
                        "remaining_time": 5149.824387,
                        "test": [
                          0.6506048537,
                          0.9020335308
                        ]
                      },
                      {
                        "learn": [
                          0.7868577905,
                          0.6841561268
                        ],
                        "iteration": 251,
                        "passed_time": 273.4191781,
                        "remaining_time": 5151.564513,
                        "test": [
                          0.6510163642,
                          0.9014720426
                        ]
                      },
                      {
                        "learn": [
                          0.7874763251,
                          0.6837557858
                        ],
                        "iteration": 252,
                        "passed_time": 274.784791,
                        "remaining_time": 5155.744676,
                        "test": [
                          0.6518660958,
                          0.9012818333
                        ]
                      },
                      {
                        "learn": [
                          0.7880363971,
                          0.6833947394
                        ],
                        "iteration": 253,
                        "passed_time": 275.9381673,
                        "remaining_time": 5155.915519,
                        "test": [
                          0.6540385627,
                          0.9008489824
                        ]
                      },
                      {
                        "learn": [
                          0.7868115462,
                          0.6826891318
                        ],
                        "iteration": 254,
                        "passed_time": 276.9149544,
                        "remaining_time": 5152.790034,
                        "test": [
                          0.6519214118,
                          0.9006459089
                        ]
                      },
                      {
                        "learn": [
                          0.7868377516,
                          0.6820247333
                        ],
                        "iteration": 255,
                        "passed_time": 277.8253099,
                        "remaining_time": 5148.450274,
                        "test": [
                          0.6528866505,
                          0.9003829555
                        ]
                      },
                      {
                        "learn": [
                          0.7879836248,
                          0.6810737783
                        ],
                        "iteration": 256,
                        "passed_time": 278.7103736,
                        "remaining_time": 5143.670436,
                        "test": [
                          0.6511107896,
                          0.900699399
                        ]
                      },
                      {
                        "learn": [
                          0.7883586082,
                          0.6804164367
                        ],
                        "iteration": 257,
                        "passed_time": 279.6012233,
                        "remaining_time": 5139.027135,
                        "test": [
                          0.6516081874,
                          0.9000985656
                        ]
                      },
                      {
                        "learn": [
                          0.7886850521,
                          0.6799767775
                        ],
                        "iteration": 258,
                        "passed_time": 280.5006015,
                        "remaining_time": 5134.568926,
                        "test": [
                          0.6521528708,
                          0.8999321228
                        ]
                      },
                      {
                        "learn": [
                          0.7890864681,
                          0.6795440009
                        ],
                        "iteration": 259,
                        "passed_time": 281.3874238,
                        "remaining_time": 5129.909187,
                        "test": [
                          0.6522730023,
                          0.8995883002
                        ]
                      },
                      {
                        "learn": [
                          0.7890204916,
                          0.6786707136
                        ],
                        "iteration": 260,
                        "passed_time": 282.3181191,
                        "remaining_time": 5126.074966,
                        "test": [
                          0.6528714492,
                          0.8991559003
                        ]
                      },
                      {
                        "learn": [
                          0.7887594379,
                          0.6779885131
                        ],
                        "iteration": 261,
                        "passed_time": 283.2255887,
                        "remaining_time": 5121.842897,
                        "test": [
                          0.6528981289,
                          0.898818727
                        ]
                      },
                      {
                        "learn": [
                          0.788997811,
                          0.676649549
                        ],
                        "iteration": 262,
                        "passed_time": 284.1354742,
                        "remaining_time": 5117.679624,
                        "test": [
                          0.6546641346,
                          0.8975683183
                        ]
                      },
                      {
                        "learn": [
                          0.7898538343,
                          0.6758059508
                        ],
                        "iteration": 263,
                        "passed_time": 285.0381449,
                        "remaining_time": 5113.411569,
                        "test": [
                          0.6543027351,
                          0.8973468624
                        ]
                      },
                      {
                        "learn": [
                          0.7898138408,
                          0.6737930466
                        ],
                        "iteration": 264,
                        "passed_time": 286.2530339,
                        "remaining_time": 5114.747605,
                        "test": [
                          0.6542693511,
                          0.896843342
                        ]
                      },
                      {
                        "learn": [
                          0.7898997667,
                          0.6730048505
                        ],
                        "iteration": 265,
                        "passed_time": 287.7358008,
                        "remaining_time": 5120.831883,
                        "test": [
                          0.6548695731,
                          0.895973199
                        ]
                      },
                      {
                        "learn": [
                          0.7916928398,
                          0.6726290948
                        ],
                        "iteration": 266,
                        "passed_time": 288.6406811,
                        "remaining_time": 5116.61552,
                        "test": [
                          0.6551424023,
                          0.8957934984
                        ]
                      },
                      {
                        "learn": [
                          0.7911954943,
                          0.6717741525
                        ],
                        "iteration": 267,
                        "passed_time": 289.5517217,
                        "remaining_time": 5112.532639,
                        "test": [
                          0.6559538611,
                          0.8955819647
                        ]
                      },
                      {
                        "learn": [
                          0.7922341122,
                          0.6712519146
                        ],
                        "iteration": 268,
                        "passed_time": 290.4512818,
                        "remaining_time": 5108.271429,
                        "test": [
                          0.6559187723,
                          0.8955913219
                        ]
                      },
                      {
                        "learn": [
                          0.7921925608,
                          0.6707142774
                        ],
                        "iteration": 269,
                        "passed_time": 291.3472647,
                        "remaining_time": 5103.972453,
                        "test": [
                          0.6559413604,
                          0.8953779117
                        ]
                      },
                      {
                        "learn": [
                          0.7923898356,
                          0.6700754542
                        ],
                        "iteration": 270,
                        "passed_time": 292.2594977,
                        "remaining_time": 5099.982157,
                        "test": [
                          0.6565489143,
                          0.8948133092
                        ]
                      },
                      {
                        "learn": [
                          0.7935218278,
                          0.6691753001
                        ],
                        "iteration": 271,
                        "passed_time": 293.2665795,
                        "remaining_time": 5097.663191,
                        "test": [
                          0.6583550933,
                          0.893558243
                        ]
                      },
                      {
                        "learn": [
                          0.7926604482,
                          0.6684293883
                        ],
                        "iteration": 272,
                        "passed_time": 294.2726486,
                        "remaining_time": 5095.3363,
                        "test": [
                          0.6584085069,
                          0.8933565239
                        ]
                      },
                      {
                        "learn": [
                          0.7936022311,
                          0.6678106152
                        ],
                        "iteration": 273,
                        "passed_time": 295.1762818,
                        "remaining_time": 5091.252219,
                        "test": [
                          0.6599816139,
                          0.8934745178
                        ]
                      },
                      {
                        "learn": [
                          0.79585318,
                          0.6664954812
                        ],
                        "iteration": 274,
                        "passed_time": 296.0655165,
                        "remaining_time": 5086.943874,
                        "test": [
                          0.6603288146,
                          0.8927797382
                        ]
                      },
                      {
                        "learn": [
                          0.7962468187,
                          0.6659453803
                        ],
                        "iteration": 275,
                        "passed_time": 296.936248,
                        "remaining_time": 5082.343607,
                        "test": [
                          0.6610137087,
                          0.8923987796
                        ]
                      },
                      {
                        "learn": [
                          0.7948947751,
                          0.6651614631
                        ],
                        "iteration": 276,
                        "passed_time": 297.8656011,
                        "remaining_time": 5078.769797,
                        "test": [
                          0.6616624359,
                          0.8923490034
                        ]
                      },
                      {
                        "learn": [
                          0.794786077,
                          0.664521151
                        ],
                        "iteration": 277,
                        "passed_time": 299.1742065,
                        "remaining_time": 5081.656846,
                        "test": [
                          0.6612175577,
                          0.8916766196
                        ]
                      },
                      {
                        "learn": [
                          0.795746724,
                          0.6637431933
                        ],
                        "iteration": 278,
                        "passed_time": 300.3700133,
                        "remaining_time": 5082.605135,
                        "test": [
                          0.6605182926,
                          0.8911276423
                        ]
                      },
                      {
                        "learn": [
                          0.7949666267,
                          0.6627621937
                        ],
                        "iteration": 279,
                        "passed_time": 301.268299,
                        "remaining_time": 5078.522755,
                        "test": [
                          0.6620449324,
                          0.8904323916
                        ]
                      },
                      {
                        "learn": [
                          0.7953126108,
                          0.6623917259
                        ],
                        "iteration": 280,
                        "passed_time": 302.1508496,
                        "remaining_time": 5074.198788,
                        "test": [
                          0.6636151042,
                          0.8902641278
                        ]
                      },
                      {
                        "learn": [
                          0.7955785866,
                          0.6620386439
                        ],
                        "iteration": 281,
                        "passed_time": 303.1081917,
                        "remaining_time": 5071.150526,
                        "test": [
                          0.6626226566,
                          0.8901090463
                        ]
                      },
                      {
                        "learn": [
                          0.7967285651,
                          0.6608273361
                        ],
                        "iteration": 282,
                        "passed_time": 304.0298287,
                        "remaining_time": 5067.521916,
                        "test": [
                          0.6619451614,
                          0.8896716213
                        ]
                      },
                      {
                        "learn": [
                          0.7955338385,
                          0.6599310356
                        ],
                        "iteration": 283,
                        "passed_time": 305.0046603,
                        "remaining_time": 5064.795698,
                        "test": [
                          0.6610597148,
                          0.8894287055
                        ]
                      },
                      {
                        "learn": [
                          0.7962295848,
                          0.6595935111
                        ],
                        "iteration": 284,
                        "passed_time": 306.0089013,
                        "remaining_time": 5062.568315,
                        "test": [
                          0.660813344,
                          0.8893155044
                        ]
                      },
                      {
                        "learn": [
                          0.7964955542,
                          0.6588312974
                        ],
                        "iteration": 285,
                        "passed_time": 306.9568328,
                        "remaining_time": 5059.421363,
                        "test": [
                          0.6595208654,
                          0.8892082541
                        ]
                      },
                      {
                        "learn": [
                          0.7964868411,
                          0.6585491508
                        ],
                        "iteration": 286,
                        "passed_time": 307.8451087,
                        "remaining_time": 5055.310096,
                        "test": [
                          0.6595208654,
                          0.8890530002
                        ]
                      },
                      {
                        "learn": [
                          0.7972003416,
                          0.6578757595
                        ],
                        "iteration": 287,
                        "passed_time": 308.7503346,
                        "remaining_time": 5051.498531,
                        "test": [
                          0.6599565994,
                          0.8887936461
                        ]
                      },
                      {
                        "learn": [
                          0.7973031873,
                          0.6570673892
                        ],
                        "iteration": 288,
                        "passed_time": 309.6578258,
                        "remaining_time": 5047.744005,
                        "test": [
                          0.6599565994,
                          0.8881466109
                        ]
                      },
                      {
                        "learn": [
                          0.7985388457,
                          0.6566467234
                        ],
                        "iteration": 289,
                        "passed_time": 310.9170461,
                        "remaining_time": 5049.721679,
                        "test": [
                          0.6599565994,
                          0.8881145238
                        ]
                      },
                      {
                        "learn": [
                          0.7990407799,
                          0.6562604561
                        ],
                        "iteration": 290,
                        "passed_time": 312.3675006,
                        "remaining_time": 5054.771685,
                        "test": [
                          0.6599565994,
                          0.8878356205
                        ]
                      },
                      {
                        "learn": [
                          0.7988048559,
                          0.6553812238
                        ],
                        "iteration": 291,
                        "passed_time": 313.419964,
                        "remaining_time": 5053.360241,
                        "test": [
                          0.660795072,
                          0.8875383841
                        ]
                      },
                      {
                        "learn": [
                          0.7986975294,
                          0.6548622725
                        ],
                        "iteration": 292,
                        "passed_time": 314.341174,
                        "remaining_time": 5049.842682,
                        "test": [
                          0.6612506208,
                          0.8876748711
                        ]
                      },
                      {
                        "learn": [
                          0.798249593,
                          0.6535793146
                        ],
                        "iteration": 293,
                        "passed_time": 315.2356827,
                        "remaining_time": 5045.915383,
                        "test": [
                          0.6604765138,
                          0.8872348918
                        ]
                      },
                      {
                        "learn": [
                          0.7994056907,
                          0.6526567313
                        ],
                        "iteration": 294,
                        "passed_time": 316.1523627,
                        "remaining_time": 5042.362259,
                        "test": [
                          0.6598072276,
                          0.887685526
                        ]
                      },
                      {
                        "learn": [
                          0.7996711882,
                          0.6523152813
                        ],
                        "iteration": 295,
                        "passed_time": 317.0535471,
                        "remaining_time": 5038.580694,
                        "test": [
                          0.6610833043,
                          0.8875597705
                        ]
                      },
                      {
                        "learn": [
                          0.7993015554,
                          0.6519807075
                        ],
                        "iteration": 296,
                        "passed_time": 317.9677008,
                        "remaining_time": 5035.023896,
                        "test": [
                          0.6610833043,
                          0.8873703354
                        ]
                      },
                      {
                        "learn": [
                          0.7991616128,
                          0.6514643373
                        ],
                        "iteration": 297,
                        "passed_time": 318.8692113,
                        "remaining_time": 5031.285341,
                        "test": [
                          0.6602368049,
                          0.8872148869
                        ]
                      },
                      {
                        "learn": [
                          0.8000409384,
                          0.6506885715
                        ],
                        "iteration": 298,
                        "passed_time": 319.9180583,
                        "remaining_time": 5029.882248,
                        "test": [
                          0.6609701868,
                          0.8872925686
                        ]
                      },
                      {
                        "learn": [
                          0.7994048979,
                          0.6503190387
                        ],
                        "iteration": 299,
                        "passed_time": 320.8216491,
                        "remaining_time": 5026.205836,
                        "test": [
                          0.660912486,
                          0.8872273027
                        ]
                      },
                      {
                        "learn": [
                          0.7987789558,
                          0.6493888778
                        ],
                        "iteration": 300,
                        "passed_time": 321.8387681,
                        "remaining_time": 5024.320171,
                        "test": [
                          0.6611360196,
                          0.8866914692
                        ]
                      },
                      {
                        "learn": [
                          0.7987595917,
                          0.6489530009
                        ],
                        "iteration": 301,
                        "passed_time": 322.7518709,
                        "remaining_time": 5020.822151,
                        "test": [
                          0.662364337,
                          0.8862726336
                        ]
                      },
                      {
                        "learn": [
                          0.7985016128,
                          0.6485924358
                        ],
                        "iteration": 302,
                        "passed_time": 324.1583691,
                        "remaining_time": 5024.989636,
                        "test": [
                          0.662364337,
                          0.8862921222
                        ]
                      },
                      {
                        "learn": [
                          0.7990032425,
                          0.6477348578
                        ],
                        "iteration": 303,
                        "passed_time": 325.5537312,
                        "remaining_time": 5028.948427,
                        "test": [
                          0.6611570342,
                          0.8858038955
                        ]
                      },
                      {
                        "learn": [
                          0.7998696692,
                          0.6473924114
                        ],
                        "iteration": 304,
                        "passed_time": 326.4628517,
                        "remaining_time": 5025.387176,
                        "test": [
                          0.6617705053,
                          0.8860058668
                        ]
                      },
                      {
                        "learn": [
                          0.7997006224,
                          0.6468315222
                        ],
                        "iteration": 305,
                        "passed_time": 327.3837891,
                        "remaining_time": 5022.02453,
                        "test": [
                          0.662349539,
                          0.8864847423
                        ]
                      },
                      {
                        "learn": [
                          0.8003891377,
                          0.6461158517
                        ],
                        "iteration": 306,
                        "passed_time": 328.3059914,
                        "remaining_time": 5018.697125,
                        "test": [
                          0.6622379133,
                          0.8863549826
                        ]
                      },
                      {
                        "learn": [
                          0.8001244303,
                          0.6456436973
                        ],
                        "iteration": 307,
                        "passed_time": 329.2167453,
                        "remaining_time": 5015.210939,
                        "test": [
                          0.6622379133,
                          0.8863412959
                        ]
                      },
                      {
                        "learn": [
                          0.8004903253,
                          0.6453081115
                        ],
                        "iteration": 308,
                        "passed_time": 330.1298776,
                        "remaining_time": 5011.777527,
                        "test": [
                          0.6630731669,
                          0.8864592592
                        ]
                      },
                      {
                        "learn": [
                          0.8007028622,
                          0.6441695253
                        ],
                        "iteration": 309,
                        "passed_time": 331.0425527,
                        "remaining_time": 5008.353459,
                        "test": [
                          0.6628088947,
                          0.8865643951
                        ]
                      },
                      {
                        "learn": [
                          0.8012358677,
                          0.6436487297
                        ],
                        "iteration": 310,
                        "passed_time": 331.960959,
                        "remaining_time": 5005.031951,
                        "test": [
                          0.6635885593,
                          0.8866296624
                        ]
                      },
                      {
                        "learn": [
                          0.8012168581,
                          0.6431608212
                        ],
                        "iteration": 311,
                        "passed_time": 332.8621437,
                        "remaining_time": 5001.467082,
                        "test": [
                          0.664712035,
                          0.8862872906
                        ]
                      },
                      {
                        "learn": [
                          0.8014832706,
                          0.6427869372
                        ],
                        "iteration": 312,
                        "passed_time": 333.858486,
                        "remaining_time": 4999.344166,
                        "test": [
                          0.664712035,
                          0.8860677284
                        ]
                      },
                      {
                        "learn": [
                          0.803133353,
                          0.6419363289
                        ],
                        "iteration": 313,
                        "passed_time": 334.8763957,
                        "remaining_time": 4997.550288,
                        "test": [
                          0.6653825043,
                          0.8859900902
                        ]
                      },
                      {
                        "learn": [
                          0.803133353,
                          0.6412625049
                        ],
                        "iteration": 314,
                        "passed_time": 336.1474312,
                        "remaining_time": 4999.526079,
                        "test": [
                          0.6653232972,
                          0.8856524177
                        ]
                      },
                      {
                        "learn": [
                          0.8043717786,
                          0.640413622
                        ],
                        "iteration": 315,
                        "passed_time": 337.7220987,
                        "remaining_time": 5005.981995,
                        "test": [
                          0.6641298962,
                          0.8857578734
                        ]
                      },
                      {
                        "learn": [
                          0.8043717844,
                          0.6397290354
                        ],
                        "iteration": 316,
                        "passed_time": 338.6379264,
                        "remaining_time": 5002.654288,
                        "test": [
                          0.6641298962,
                          0.8856232224
                        ]
                      },
                      {
                        "learn": [
                          0.8051603786,
                          0.6391930395
                        ],
                        "iteration": 317,
                        "passed_time": 339.5797437,
                        "remaining_time": 4999.724403,
                        "test": [
                          0.665286719,
                          0.8855038614
                        ]
                      },
                      {
                        "learn": [
                          0.8057889427,
                          0.6388726189
                        ],
                        "iteration": 318,
                        "passed_time": 340.5394073,
                        "remaining_time": 4997.068858,
                        "test": [
                          0.665345636,
                          0.8853690395
                        ]
                      },
                      {
                        "learn": [
                          0.8058003753,
                          0.6384633447
                        ],
                        "iteration": 319,
                        "passed_time": 341.4892169,
                        "remaining_time": 4994.279797,
                        "test": [
                          0.6640940631,
                          0.8856789419
                        ]
                      },
                      {
                        "learn": [
                          0.806041052,
                          0.6376247036
                        ],
                        "iteration": 320,
                        "passed_time": 342.459627,
                        "remaining_time": 4991.802476,
                        "test": [
                          0.6634696661,
                          0.8858149945
                        ]
                      },
                      {
                        "learn": [
                          0.8067453705,
                          0.6370434788
                        ],
                        "iteration": 321,
                        "passed_time": 343.3748804,
                        "remaining_time": 4988.5332,
                        "test": [
                          0.6639575511,
                          0.8859031126
                        ]
                      },
                      {
                        "learn": [
                          0.8070106356,
                          0.63665166
                        ],
                        "iteration": 322,
                        "passed_time": 344.2868796,
                        "remaining_time": 4985.231381,
                        "test": [
                          0.6658015351,
                          0.8856259264
                        ]
                      },
                      {
                        "learn": [
                          0.8059476775,
                          0.6362027913
                        ],
                        "iteration": 323,
                        "passed_time": 345.1772159,
                        "remaining_time": 4981.631671,
                        "test": [
                          0.6663811349,
                          0.8852779681
                        ]
                      },
                      {
                        "learn": [
                          0.8062145107,
                          0.6357437232
                        ],
                        "iteration": 324,
                        "passed_time": 346.0982974,
                        "remaining_time": 4978.490894,
                        "test": [
                          0.6655001163,
                          0.8851413366
                        ]
                      },
                      {
                        "learn": [
                          0.8064993072,
                          0.6348140433
                        ],
                        "iteration": 325,
                        "passed_time": 346.9970721,
                        "remaining_time": 4975.043911,
                        "test": [
                          0.6661338366,
                          0.884401899
                        ]
                      },
                      {
                        "learn": [
                          0.8070115791,
                          0.6343449774
                        ],
                        "iteration": 326,
                        "passed_time": 347.9387112,
                        "remaining_time": 4972.225069,
                        "test": [
                          0.668171887,
                          0.8839532042
                        ]
                      },
                      {
                        "learn": [
                          0.8063782035,
                          0.6336926202
                        ],
                        "iteration": 327,
                        "passed_time": 349.3394292,
                        "remaining_time": 4975.956747,
                        "test": [
                          0.6664246765,
                          0.8835827622
                        ]
                      },
                      {
                        "learn": [
                          0.8074220817,
                          0.6333505342
                        ],
                        "iteration": 328,
                        "passed_time": 350.5932374,
                        "remaining_time": 4977.571465,
                        "test": [
                          0.6670134807,
                          0.8834349712
                        ]
                      },
                      {
                        "learn": [
                          0.8083144399,
                          0.6329778386
                        ],
                        "iteration": 329,
                        "passed_time": 351.5059614,
                        "remaining_time": 4974.341938,
                        "test": [
                          0.6670849876,
                          0.8834884272
                        ]
                      },
                      {
                        "learn": [
                          0.8077886266,
                          0.6324491953
                        ],
                        "iteration": 330,
                        "passed_time": 352.4047908,
                        "remaining_time": 4970.930418,
                        "test": [
                          0.667049542,
                          0.8831912159
                        ]
                      },
                      {
                        "learn": [
                          0.8080439837,
                          0.6319842526
                        ],
                        "iteration": 331,
                        "passed_time": 353.3993753,
                        "remaining_time": 4968.880373,
                        "test": [
                          0.6669950263,
                          0.8831301419
                        ]
                      },
                      {
                        "learn": [
                          0.808387381,
                          0.6315229243
                        ],
                        "iteration": 332,
                        "passed_time": 354.412899,
                        "remaining_time": 4967.102101,
                        "test": [
                          0.6669950263,
                          0.8829676856
                        ]
                      },
                      {
                        "learn": [
                          0.8086948595,
                          0.631119027
                        ],
                        "iteration": 333,
                        "passed_time": 355.4227282,
                        "remaining_time": 4965.276796,
                        "test": [
                          0.6667285257,
                          0.8829505479
                        ]
                      },
                      {
                        "learn": [
                          0.8094609888,
                          0.6303360174
                        ],
                        "iteration": 334,
                        "passed_time": 356.3379835,
                        "remaining_time": 4962.139382,
                        "test": [
                          0.6667830414,
                          0.8826572934
                        ]
                      },
                      {
                        "learn": [
                          0.8094864007,
                          0.6298768733
                        ],
                        "iteration": 335,
                        "passed_time": 357.2343056,
                        "remaining_time": 4958.752385,
                        "test": [
                          0.6661352079,
                          0.8824581795
                        ]
                      },
                      {
                        "learn": [
                          0.8092221351,
                          0.6293283308
                        ],
                        "iteration": 336,
                        "passed_time": 358.1368161,
                        "remaining_time": 4955.465797,
                        "test": [
                          0.666117447,
                          0.8823752294
                        ]
                      },
                      {
                        "learn": [
                          0.8092389949,
                          0.628707442
                        ],
                        "iteration": 337,
                        "passed_time": 359.0825,
                        "remaining_time": 4952.788801,
                        "test": [
                          0.666322279,
                          0.882170141
                        ]
                      },
                      {
                        "learn": [
                          0.8095246199,
                          0.6280142306
                        ],
                        "iteration": 338,
                        "passed_time": 360.1567537,
                        "remaining_time": 4951.889761,
                        "test": [
                          0.665773326,
                          0.881989359
                        ]
                      },
                      {
                        "learn": [
                          0.8095144217,
                          0.6275677366
                        ],
                        "iteration": 339,
                        "passed_time": 361.5023987,
                        "remaining_time": 4954.709347,
                        "test": [
                          0.6662769241,
                          0.8818348165
                        ]
                      },
                      {
                        "learn": [
                          0.8095699516,
                          0.6272238737
                        ],
                        "iteration": 340,
                        "passed_time": 362.7408707,
                        "remaining_time": 4956.040225,
                        "test": [
                          0.6662769241,
                          0.8816894448
                        ]
                      },
                      {
                        "learn": [
                          0.8101240234,
                          0.6269199751
                        ],
                        "iteration": 341,
                        "passed_time": 363.7404148,
                        "remaining_time": 4954.101907,
                        "test": [
                          0.6663969272,
                          0.8815755849
                        ]
                      },
                      {
                        "learn": [
                          0.8104175335,
                          0.626326142
                        ],
                        "iteration": 342,
                        "passed_time": 364.7422339,
                        "remaining_time": 4952.199951,
                        "test": [
                          0.6671800081,
                          0.8812544803
                        ]
                      },
                      {
                        "learn": [
                          0.8106644342,
                          0.6258565614
                        ],
                        "iteration": 343,
                        "passed_time": 365.7264027,
                        "remaining_time": 4950.064334,
                        "test": [
                          0.6664340996,
                          0.8813048707
                        ]
                      },
                      {
                        "learn": [
                          0.8116094624,
                          0.6254958274
                        ],
                        "iteration": 344,
                        "passed_time": 366.7306608,
                        "remaining_time": 4948.206452,
                        "test": [
                          0.6664340996,
                          0.8814994623
                        ]
                      },
                      {
                        "learn": [
                          0.8123683252,
                          0.6239538807
                        ],
                        "iteration": 345,
                        "passed_time": 367.7514551,
                        "remaining_time": 4946.57593,
                        "test": [
                          0.6671029964,
                          0.8811884391
                        ]
                      },
                      {
                        "learn": [
                          0.8121016026,
                          0.6236182345
                        ],
                        "iteration": 346,
                        "passed_time": 368.7744028,
                        "remaining_time": 4944.977799,
                        "test": [
                          0.6678031014,
                          0.8812903297
                        ]
                      },
                      {
                        "learn": [
                          0.8129123217,
                          0.6230480992
                        ],
                        "iteration": 347,
                        "passed_time": 369.7236738,
                        "remaining_time": 4942.398076,
                        "test": [
                          0.6671029964,
                          0.8811761227
                        ]
                      },
                      {
                        "learn": [
                          0.813284785,
                          0.622726835
                        ],
                        "iteration": 348,
                        "passed_time": 370.6420161,
                        "remaining_time": 4939.415521,
                        "test": [
                          0.6678031014,
                          0.8811916713
                        ]
                      },
                      {
                        "learn": [
                          0.8132774853,
                          0.6220280747
                        ],
                        "iteration": 349,
                        "passed_time": 371.56907,
                        "remaining_time": 4936.560501,
                        "test": [
                          0.6672232252,
                          0.8810766401
                        ]
                      },
                      {
                        "learn": [
                          0.8143756201,
                          0.6211663
                        ],
                        "iteration": 350,
                        "passed_time": 372.4669804,
                        "remaining_time": 4933.330461,
                        "test": [
                          0.6670754248,
                          0.8808020363
                        ]
                      },
                      {
                        "learn": [
                          0.8152110356,
                          0.620412775
                        ],
                        "iteration": 351,
                        "passed_time": 373.8167096,
                        "remaining_time": 4936.079734,
                        "test": [
                          0.6690236695,
                          0.8807385333
                        ]
                      },
                      {
                        "learn": [
                          0.8145523132,
                          0.6201640025
                        ],
                        "iteration": 352,
                        "passed_time": 375.0888208,
                        "remaining_time": 4937.783996,
                        "test": [
                          0.6680266377,
                          0.8807074396
                        ]
                      },
                      {
                        "learn": [
                          0.8151330612,
                          0.61948514
                        ],
                        "iteration": 353,
                        "passed_time": 376.0088565,
                        "remaining_time": 4934.850698,
                        "test": [
                          0.6658951369,
                          0.880287064
                        ]
                      },
                      {
                        "learn": [
                          0.8151157691,
                          0.6189540331
                        ],
                        "iteration": 354,
                        "passed_time": 376.9275853,
                        "remaining_time": 4931.911645,
                        "test": [
                          0.6658400603,
                          0.8803263419
                        ]
                      },
                      {
                        "learn": [
                          0.8156958547,
                          0.6185798657
                        ],
                        "iteration": 355,
                        "passed_time": 377.8210949,
                        "remaining_time": 4928.654957,
                        "test": [
                          0.6651772533,
                          0.8800278314
                        ]
                      },
                      {
                        "learn": [
                          0.8168553456,
                          0.6180235539
                        ],
                        "iteration": 356,
                        "passed_time": 378.7875235,
                        "remaining_time": 4926.359865,
                        "test": [
                          0.6645966156,
                          0.8803138046
                        ]
                      },
                      {
                        "learn": [
                          0.8159799271,
                          0.6172943497
                        ],
                        "iteration": 357,
                        "passed_time": 379.7933501,
                        "remaining_time": 4924.583048,
                        "test": [
                          0.6646795442,
                          0.8804867516
                        ]
                      },
                      {
                        "learn": [
                          0.8157223042,
                          0.6166835489
                        ],
                        "iteration": 358,
                        "passed_time": 380.8019911,
                        "remaining_time": 4922.846909,
                        "test": [
                          0.6652284604,
                          0.880491492
                        ]
                      },
                      {
                        "learn": [
                          0.8166730262,
                          0.616240715
                        ],
                        "iteration": 359,
                        "passed_time": 381.7472295,
                        "remaining_time": 4920.297624,
                        "test": [
                          0.6645966156,
                          0.8806608754
                        ]
                      },
                      {
                        "learn": [
                          0.8157745235,
                          0.6156831431
                        ],
                        "iteration": 360,
                        "passed_time": 382.6924857,
                        "remaining_time": 4917.757455,
                        "test": [
                          0.6645966156,
                          0.8800912983
                        ]
                      },
                      {
                        "learn": [
                          0.816564995,
                          0.6153139093
                        ],
                        "iteration": 361,
                        "passed_time": 383.6666694,
                        "remaining_time": 4915.59672,
                        "test": [
                          0.6627156604,
                          0.8801703815
                        ]
                      },
                      {
                        "learn": [
                          0.8169292448,
                          0.6148922986
                        ],
                        "iteration": 362,
                        "passed_time": 384.5622863,
                        "remaining_time": 4912.438903,
                        "test": [
                          0.6627156604,
                          0.8804750749
                        ]
                      },
                      {
                        "learn": [
                          0.8166800048,
                          0.6143008985
                        ],
                        "iteration": 363,
                        "passed_time": 385.7771669,
                        "remaining_time": 4913.35974,
                        "test": [
                          0.6640257166,
                          0.8801807735
                        ]
                      },
                      {
                        "learn": [
                          0.8171958044,
                          0.6136568591
                        ],
                        "iteration": 364,
                        "passed_time": 387.1351737,
                        "remaining_time": 4916.086384,
                        "test": [
                          0.6638262981,
                          0.880213572
                        ]
                      },
                      {
                        "learn": [
                          0.817714463,
                          0.6132603627
                        ],
                        "iteration": 365,
                        "passed_time": 388.2033652,
                        "remaining_time": 4915.121296,
                        "test": [
                          0.6644817098,
                          0.8798616928
                        ]
                      },
                      {
                        "learn": [
                          0.817714463,
                          0.6127933659
                        ],
                        "iteration": 366,
                        "passed_time": 389.1478371,
                        "remaining_time": 4912.593813,
                        "test": [
                          0.6641228923,
                          0.8796321202
                        ]
                      },
                      {
                        "learn": [
                          0.8186569444,
                          0.6120035075
                        ],
                        "iteration": 367,
                        "passed_time": 390.3976455,
                        "remaining_time": 4913.91819,
                        "test": [
                          0.6659723881,
                          0.8797650734
                        ]
                      },
                      {
                        "learn": [
                          0.819832665,
                          0.6114851093
                        ],
                        "iteration": 368,
                        "passed_time": 391.41778,
                        "remaining_time": 4912.346177,
                        "test": [
                          0.6660458372,
                          0.8792223672
                        ]
                      },
                      {
                        "learn": [
                          0.8198224813,
                          0.6111129084
                        ],
                        "iteration": 369,
                        "passed_time": 392.4348833,
                        "remaining_time": 4910.739216,
                        "test": [
                          0.6660458372,
                          0.8790888263
                        ]
                      },
                      {
                        "learn": [
                          0.8195590619,
                          0.6108390309
                        ],
                        "iteration": 370,
                        "passed_time": 393.4283216,
                        "remaining_time": 4908.840163,
                        "test": [
                          0.6648868575,
                          0.8791882864
                        ]
                      },
                      {
                        "learn": [
                          0.820172686,
                          0.6105177822
                        ],
                        "iteration": 371,
                        "passed_time": 394.4415572,
                        "remaining_time": 4907.192276,
                        "test": [
                          0.6654665724,
                          0.8793028194
                        ]
                      },
                      {
                        "learn": [
                          0.8207762299,
                          0.6102405254
                        ],
                        "iteration": 372,
                        "passed_time": 395.3623089,
                        "remaining_time": 4904.400545,
                        "test": [
                          0.664218359,
                          0.8794448168
                        ]
                      },
                      {
                        "learn": [
                          0.8208025561,
                          0.6095588728
                        ],
                        "iteration": 373,
                        "passed_time": 396.2857335,
                        "remaining_time": 4901.65188,
                        "test": [
                          0.6642536915,
                          0.8783491304
                        ]
                      },
                      {
                        "learn": [
                          0.8212992118,
                          0.6091045696
                        ],
                        "iteration": 374,
                        "passed_time": 397.2093806,
                        "remaining_time": 4898.915694,
                        "test": [
                          0.6636392462,
                          0.8784286255
                        ]
                      },
                      {
                        "learn": [
                          0.8210591007,
                          0.608772586
                        ],
                        "iteration": 375,
                        "passed_time": 398.5967993,
                        "remaining_time": 4901.892553,
                        "test": [
                          0.6649095271,
                          0.8786122973
                        ]
                      },
                      {
                        "learn": [
                          0.8219125067,
                          0.6083522004
                        ],
                        "iteration": 376,
                        "passed_time": 400.0101131,
                        "remaining_time": 4905.1638,
                        "test": [
                          0.6664614033,
                          0.8784724265
                        ]
                      },
                      {
                        "learn": [
                          0.8222144998,
                          0.6078521119
                        ],
                        "iteration": 377,
                        "passed_time": 401.0192222,
                        "remaining_time": 4903.467844,
                        "test": [
                          0.6663869584,
                          0.8782882929
                        ]
                      },
                      {
                        "learn": [
                          0.8224809609,
                          0.6075553301
                        ],
                        "iteration": 378,
                        "passed_time": 402.0471211,
                        "remaining_time": 4902.004608,
                        "test": [
                          0.6682728038,
                          0.8779185765
                        ]
                      },
                      {
                        "learn": [
                          0.8218833664,
                          0.6071013019
                        ],
                        "iteration": 379,
                        "passed_time": 403.0315865,
                        "remaining_time": 4900.015604,
                        "test": [
                          0.6682728038,
                          0.8774544559
                        ]
                      },
                      {
                        "learn": [
                          0.8232645211,
                          0.6061500909
                        ],
                        "iteration": 380,
                        "passed_time": 403.9291968,
                        "remaining_time": 4896.978898,
                        "test": [
                          0.6681699676,
                          0.877481625
                        ]
                      },
                      {
                        "learn": [
                          0.8228321042,
                          0.6055402155
                        ],
                        "iteration": 381,
                        "passed_time": 404.7987461,
                        "remaining_time": 4893.614161,
                        "test": [
                          0.6688088022,
                          0.8771284285
                        ]
                      },
                      {
                        "learn": [
                          0.8221618506,
                          0.605009797
                        ],
                        "iteration": 382,
                        "passed_time": 405.7166601,
                        "remaining_time": 4890.845482,
                        "test": [
                          0.6693082769,
                          0.8766343485
                        ]
                      },
                      {
                        "learn": [
                          0.8224454547,
                          0.6043446376
                        ],
                        "iteration": 383,
                        "passed_time": 406.7149521,
                        "remaining_time": 4889.052653,
                        "test": [
                          0.6693082769,
                          0.8765161001
                        ]
                      },
                      {
                        "learn": [
                          0.8235680924,
                          0.6034394738
                        ],
                        "iteration": 384,
                        "passed_time": 407.645938,
                        "remaining_time": 4886.457153,
                        "test": [
                          0.6685974302,
                          0.8765570087
                        ]
                      },
                      {
                        "learn": [
                          0.8238339717,
                          0.6028123338
                        ],
                        "iteration": 385,
                        "passed_time": 408.5575038,
                        "remaining_time": 4883.638141,
                        "test": [
                          0.6685974302,
                          0.8764886024
                        ]
                      },
                      {
                        "learn": [
                          0.8245393605,
                          0.6025011492
                        ],
                        "iteration": 386,
                        "passed_time": 409.5354137,
                        "remaining_time": 4881.619802,
                        "test": [
                          0.6685974302,
                          0.8765419838
                        ]
                      },
                      {
                        "learn": [
                          0.8248209238,
                          0.6021399148
                        ],
                        "iteration": 387,
                        "passed_time": 410.7077587,
                        "remaining_time": 4881.917998,
                        "test": [
                          0.6679815396,
                          0.8765347236
                        ]
                      },
                      {
                        "learn": [
                          0.8246426838,
                          0.6016537436
                        ],
                        "iteration": 388,
                        "passed_time": 412.1626319,
                        "remaining_time": 4885.557572,
                        "test": [
                          0.6679815396,
                          0.8766330155
                        ]
                      },
                      {
                        "learn": [
                          0.8247243373,
                          0.6010827753
                        ],
                        "iteration": 389,
                        "passed_time": 413.3070404,
                        "remaining_time": 4885.50117,
                        "test": [
                          0.6674016718,
                          0.8765153623
                        ]
                      },
                      {
                        "learn": [
                          0.8247243373,
                          0.6007140987
                        ],
                        "iteration": 390,
                        "passed_time": 414.3074139,
                        "remaining_time": 4883.741357,
                        "test": [
                          0.6674016718,
                          0.8764824727
                        ]
                      },
                      {
                        "learn": [
                          0.8251404923,
                          0.60028702
                        ],
                        "iteration": 391,
                        "passed_time": 415.2233296,
                        "remaining_time": 4880.992609,
                        "test": [
                          0.6667698749,
                          0.8766030208
                        ]
                      },
                      {
                        "learn": [
                          0.8251404923,
                          0.5999559352
                        ],
                        "iteration": 392,
                        "passed_time": 416.1206212,
                        "remaining_time": 4878.034865,
                        "test": [
                          0.6665712176,
                          0.8766740319
                        ]
                      },
                      {
                        "learn": [
                          0.8259387247,
                          0.5995821135
                        ],
                        "iteration": 393,
                        "passed_time": 417.0331136,
                        "remaining_time": 4875.265282,
                        "test": [
                          0.6665168996,
                          0.8761242449
                        ]
                      },
                      {
                        "learn": [
                          0.8257608023,
                          0.5991580449
                        ],
                        "iteration": 394,
                        "passed_time": 417.9676813,
                        "remaining_time": 4872.762462,
                        "test": [
                          0.6671473665,
                          0.8760433099
                        ]
                      },
                      {
                        "learn": [
                          0.8250862543,
                          0.5987424919
                        ],
                        "iteration": 395,
                        "passed_time": 418.8692342,
                        "remaining_time": 4869.883723,
                        "test": [
                          0.6672003083,
                          0.8760935951
                        ]
                      },
                      {
                        "learn": [
                          0.8260498956,
                          0.5982170617
                        ],
                        "iteration": 396,
                        "passed_time": 419.7742412,
                        "remaining_time": 4867.054993,
                        "test": [
                          0.6678291532,
                          0.8760546436
                        ]
                      },
                      {
                        "learn": [
                          0.8265988212,
                          0.5975244772
                        ],
                        "iteration": 397,
                        "passed_time": 420.7359407,
                        "remaining_time": 4864.891455,
                        "test": [
                          0.6679442214,
                          0.8759775944
                        ]
                      },
                      {
                        "learn": [
                          0.8268821881,
                          0.5969367985
                        ],
                        "iteration": 398,
                        "passed_time": 421.6868872,
                        "remaining_time": 4862.609945,
                        "test": [
                          0.6691408585,
                          0.8759762244
                        ]
                      },
                      {
                        "learn": [
                          0.8271644233,
                          0.596596698
                        ],
                        "iteration": 399,
                        "passed_time": 422.6618834,
                        "remaining_time": 4860.611659,
                        "test": [
                          0.6697684191,
                          0.8756427551
                        ]
                      },
                      {
                        "learn": [
                          0.8276566634,
                          0.596273996
                        ],
                        "iteration": 400,
                        "passed_time": 424.1384837,
                        "remaining_time": 4864.371288,
                        "test": [
                          0.6691523746,
                          0.8753577563
                        ]
                      },
                      {
                        "learn": [
                          0.8273904612,
                          0.5959735399
                        ],
                        "iteration": 401,
                        "passed_time": 425.5659427,
                        "remaining_time": 4867.542797,
                        "test": [
                          0.6685249781,
                          0.8753312248
                        ]
                      },
                      {
                        "learn": [
                          0.8279886825,
                          0.5953462579
                        ],
                        "iteration": 402,
                        "passed_time": 426.5402045,
                        "remaining_time": 4865.521886,
                        "test": [
                          0.6672271443,
                          0.8751069275
                        ]
                      },
                      {
                        "learn": [
                          0.8284132696,
                          0.5949727393
                        ],
                        "iteration": 403,
                        "passed_time": 427.447093,
                        "remaining_time": 4862.739701,
                        "test": [
                          0.6672271443,
                          0.8750507646
                        ]
                      },
                      {
                        "learn": [
                          0.8285983661,
                          0.5941866379
                        ],
                        "iteration": 404,
                        "passed_time": 428.3628816,
                        "remaining_time": 4860.067755,
                        "test": [
                          0.6698037807,
                          0.8750898234
                        ]
                      },
                      {
                        "learn": [
                          0.8288719682,
                          0.59386155
                        ],
                        "iteration": 405,
                        "passed_time": 429.3905341,
                        "remaining_time": 4858.67023,
                        "test": [
                          0.6698050232,
                          0.8752769869
                        ]
                      },
                      {
                        "learn": [
                          0.8283389661,
                          0.5930902843
                        ],
                        "iteration": 406,
                        "passed_time": 430.3056086,
                        "remaining_time": 4856.00408,
                        "test": [
                          0.6689941138,
                          0.8743558185
                        ]
                      },
                      {
                        "learn": [
                          0.8291382372,
                          0.5924756311
                        ],
                        "iteration": 407,
                        "passed_time": 431.3463715,
                        "remaining_time": 4854.761122,
                        "test": [
                          0.6679791638,
                          0.8738871408
                        ]
                      },
                      {
                        "learn": [
                          0.8291382372,
                          0.5920443933
                        ],
                        "iteration": 408,
                        "passed_time": 432.2379492,
                        "remaining_time": 4851.844559,
                        "test": [
                          0.6686088392,
                          0.8738657162
                        ]
                      },
                      {
                        "learn": [
                          0.8288111813,
                          0.5915023531
                        ],
                        "iteration": 409,
                        "passed_time": 433.1483601,
                        "remaining_time": 4849.148715,
                        "test": [
                          0.6686088392,
                          0.873475813
                        ]
                      },
                      {
                        "learn": [
                          0.8285443792,
                          0.5909416917
                        ],
                        "iteration": 410,
                        "passed_time": 434.1500412,
                        "remaining_time": 4847.48063,
                        "test": [
                          0.6674557125,
                          0.873510325
                        ]
                      },
                      {
                        "learn": [
                          0.8291280096,
                          0.589745091
                        ],
                        "iteration": 411,
                        "passed_time": 435.1009621,
                        "remaining_time": 4845.250519,
                        "test": [
                          0.6670581249,
                          0.872467886
                        ]
                      },
                      {
                        "learn": [
                          0.8294806576,
                          0.589390195
                        ],
                        "iteration": 412,
                        "passed_time": 436.4244096,
                        "remaining_time": 4847.164085,
                        "test": [
                          0.6671371448,
                          0.8725033721
                        ]
                      },
                      {
                        "learn": [
                          0.8320670483,
                          0.5890150204
                        ],
                        "iteration": 413,
                        "passed_time": 437.9388151,
                        "remaining_time": 4851.17731,
                        "test": [
                          0.667017611,
                          0.8722572877
                        ]
                      },
                      {
                        "learn": [
                          0.8315325937,
                          0.5886878977
                        ],
                        "iteration": 414,
                        "passed_time": 438.9331926,
                        "remaining_time": 4849.418525,
                        "test": [
                          0.6669900965,
                          0.8722113569
                        ]
                      },
                      {
                        "learn": [
                          0.8315027053,
                          0.5878224458
                        ],
                        "iteration": 415,
                        "passed_time": 439.9096407,
                        "remaining_time": 4847.465849,
                        "test": [
                          0.6670287201,
                          0.8718196662
                        ]
                      },
                      {
                        "learn": [
                          0.831754888,
                          0.5872360517
                        ],
                        "iteration": 416,
                        "passed_time": 440.8540621,
                        "remaining_time": 4845.165867,
                        "test": [
                          0.6676093515,
                          0.8707801786
                        ]
                      },
                      {
                        "learn": [
                          0.8317652712,
                          0.586960491
                        ],
                        "iteration": 417,
                        "passed_time": 441.8560193,
                        "remaining_time": 4843.503063,
                        "test": [
                          0.6669798673,
                          0.8708567252
                        ]
                      },
                      {
                        "learn": [
                          0.8314938409,
                          0.5863232034
                        ],
                        "iteration": 418,
                        "passed_time": 442.8819413,
                        "remaining_time": 4842.105425,
                        "test": [
                          0.6676093515,
                          0.8706913029
                        ]
                      },
                      {
                        "learn": [
                          0.8326976239,
                          0.5859767174
                        ],
                        "iteration": 419,
                        "passed_time": 443.9161695,
                        "remaining_time": 4840.800134,
                        "test": [
                          0.6685006356,
                          0.8706473757
                        ]
                      },
                      {
                        "learn": [
                          0.8326976239,
                          0.585633332
                        ],
                        "iteration": 420,
                        "passed_time": 444.9317613,
                        "remaining_time": 4839.293433,
                        "test": [
                          0.6691577036,
                          0.8705218552
                        ]
                      },
                      {
                        "learn": [
                          0.8332320606,
                          0.585231232
                        ],
                        "iteration": 421,
                        "passed_time": 445.8315825,
                        "remaining_time": 4836.533139,
                        "test": [
                          0.6685291226,
                          0.8702742511
                        ]
                      },
                      {
                        "learn": [
                          0.8328891592,
                          0.5846514452
                        ],
                        "iteration": 422,
                        "passed_time": 446.750687,
                        "remaining_time": 4833.990294,
                        "test": [
                          0.6685256083,
                          0.8697383003
                        ]
                      },
                      {
                        "learn": [
                          0.8329784097,
                          0.5841617792
                        ],
                        "iteration": 423,
                        "passed_time": 447.6749203,
                        "remaining_time": 4831.510461,
                        "test": [
                          0.667896124,
                          0.8696527232
                        ]
                      },
                      {
                        "learn": [
                          0.8334461905,
                          0.5837328875
                        ],
                        "iteration": 424,
                        "passed_time": 449.1410443,
                        "remaining_time": 4834.871241,
                        "test": [
                          0.6679087042,
                          0.8696175124
                        ]
                      },
                      {
                        "learn": [
                          0.8331063099,
                          0.5831734383
                        ],
                        "iteration": 425,
                        "passed_time": 450.4851688,
                        "remaining_time": 4836.899442,
                        "test": [
                          0.6679087042,
                          0.8693839947
                        ]
                      },
                      {
                        "learn": [
                          0.8340564457,
                          0.5829205905
                        ],
                        "iteration": 426,
                        "passed_time": 451.4760186,
                        "remaining_time": 4835.128414,
                        "test": [
                          0.6679087042,
                          0.8694442862
                        ]
                      },
                      {
                        "learn": [
                          0.8337224385,
                          0.5825209047
                        ],
                        "iteration": 427,
                        "passed_time": 452.502453,
                        "remaining_time": 4833.741157,
                        "test": [
                          0.6680234125,
                          0.8691223002
                        ]
                      },
                      {
                        "learn": [
                          0.8336893383,
                          0.5820169673
                        ],
                        "iteration": 428,
                        "passed_time": 453.4588178,
                        "remaining_time": 4831.608989,
                        "test": [
                          0.667955948,
                          0.8689420904
                        ]
                      },
                      {
                        "learn": [
                          0.8341808189,
                          0.5813961427
                        ],
                        "iteration": 429,
                        "passed_time": 454.4101231,
                        "remaining_time": 4829.428518,
                        "test": [
                          0.6688167475,
                          0.8686027462
                        ]
                      },
                      {
                        "learn": [
                          0.8341808189,
                          0.5809837515
                        ],
                        "iteration": 430,
                        "passed_time": 455.389435,
                        "remaining_time": 4827.550646,
                        "test": [
                          0.6681886378,
                          0.8686537921
                        ]
                      },
                      {
                        "learn": [
                          0.8349807814,
                          0.580351644
                        ],
                        "iteration": 431,
                        "passed_time": 456.3670258,
                        "remaining_time": 4825.658736,
                        "test": [
                          0.6687805798,
                          0.8677168716
                        ]
                      },
                      {
                        "learn": [
                          0.8358676839,
                          0.5798604985
                        ],
                        "iteration": 432,
                        "passed_time": 457.4085647,
                        "remaining_time": 4824.445532,
                        "test": [
                          0.6675557562,
                          0.8679866826
                        ]
                      },
                      {
                        "learn": [
                          0.8353272654,
                          0.5794398091
                        ],
                        "iteration": 433,
                        "passed_time": 458.4622176,
                        "remaining_time": 4823.360566,
                        "test": [
                          0.6675557562,
                          0.8683036878
                        ]
                      },
                      {
                        "learn": [
                          0.835129734,
                          0.5789661103
                        ],
                        "iteration": 434,
                        "passed_time": 459.4560243,
                        "remaining_time": 4821.647703,
                        "test": [
                          0.666940135,
                          0.8678926936
                        ]
                      },
                      {
                        "learn": [
                          0.835129734,
                          0.5784915639
                        ],
                        "iteration": 435,
                        "passed_time": 460.4103467,
                        "remaining_time": 4819.524822,
                        "test": [
                          0.666425201,
                          0.8677636562
                        ]
                      },
                      {
                        "learn": [
                          0.8351607423,
                          0.5782877886
                        ],
                        "iteration": 436,
                        "passed_time": 461.7406652,
                        "remaining_time": 4821.333308,
                        "test": [
                          0.666425201,
                          0.8675725075
                        ]
                      },
                      {
                        "learn": [
                          0.836033333,
                          0.5777705818
                        ],
                        "iteration": 437,
                        "passed_time": 463.0836474,
                        "remaining_time": 4823.25936,
                        "test": [
                          0.666425201,
                          0.8675604726
                        ]
                      },
                      {
                        "learn": [
                          0.8365533012,
                          0.5775091702
                        ],
                        "iteration": 438,
                        "passed_time": 464.0872116,
                        "remaining_time": 4821.644127,
                        "test": [
                          0.666425201,
                          0.8676397468
                        ]
                      },
                      {
                        "learn": [
                          0.8363757609,
                          0.5769972887
                        ],
                        "iteration": 439,
                        "passed_time": 465.0965597,
                        "remaining_time": 4820.091619,
                        "test": [
                          0.6670433998,
                          0.8674463804
                        ]
                      },
                      {
                        "learn": [
                          0.8366855906,
                          0.5766431681
                        ],
                        "iteration": 440,
                        "passed_time": 466.126231,
                        "remaining_time": 4818.751671,
                        "test": [
                          0.6664135142,
                          0.8678823196
                        ]
                      },
                      {
                        "learn": [
                          0.8366702933,
                          0.5763049091
                        ],
                        "iteration": 441,
                        "passed_time": 467.0183751,
                        "remaining_time": 4815.994918,
                        "test": [
                          0.6664135142,
                          0.8677966571
                        ]
                      },
                      {
                        "learn": [
                          0.8370290403,
                          0.5752747299
                        ],
                        "iteration": 442,
                        "passed_time": 467.9355976,
                        "remaining_time": 4813.504556,
                        "test": [
                          0.6682799967,
                          0.8669083927
                        ]
                      },
                      {
                        "learn": [
                          0.8372967525,
                          0.5746769643
                        ],
                        "iteration": 443,
                        "passed_time": 468.8421417,
                        "remaining_time": 4810.911706,
                        "test": [
                          0.6682799967,
                          0.8667719649
                        ]
                      },
                      {
                        "learn": [
                          0.8372967525,
                          0.5743176079
                        ],
                        "iteration": 444,
                        "passed_time": 469.8083014,
                        "remaining_time": 4808.936658,
                        "test": [
                          0.6691054542,
                          0.8662300908
                        ]
                      },
                      {
                        "learn": [
                          0.8370290403,
                          0.5741450951
                        ],
                        "iteration": 445,
                        "passed_time": 470.7530245,
                        "remaining_time": 4806.74725,
                        "test": [
                          0.6691054542,
                          0.8661858487
                        ]
                      },
                      {
                        "learn": [
                          0.8381040088,
                          0.5735448336
                        ],
                        "iteration": 446,
                        "passed_time": 471.7156247,
                        "remaining_time": 4804.745501,
                        "test": [
                          0.6691798926,
                          0.8660103253
                        ]
                      },
                      {
                        "learn": [
                          0.8378363744,
                          0.573207393
                        ],
                        "iteration": 447,
                        "passed_time": 472.6750904,
                        "remaining_time": 4802.716544,
                        "test": [
                          0.6691579672,
                          0.8658937682
                        ]
                      },
                      {
                        "learn": [
                          0.8372918782,
                          0.5725806421
                        ],
                        "iteration": 448,
                        "passed_time": 473.8350881,
                        "remaining_time": 4802.724913,
                        "test": [
                          0.6686084751,
                          0.8659925236
                        ]
                      },
                      {
                        "learn": [
                          0.8370242708,
                          0.5720478244
                        ],
                        "iteration": 449,
                        "passed_time": 475.2215216,
                        "remaining_time": 4805.017607,
                        "test": [
                          0.6686632172,
                          0.8659788516
                        ]
                      },
                      {
                        "learn": [
                          0.838164952,
                          0.5715385014
                        ],
                        "iteration": 450,
                        "passed_time": 476.2487316,
                        "remaining_time": 4803.670688,
                        "test": [
                          0.6680534103,
                          0.8658853293
                        ]
                      },
                      {
                        "learn": [
                          0.8384455933,
                          0.5711951088
                        ],
                        "iteration": 451,
                        "passed_time": 477.1612542,
                        "remaining_time": 4801.171204,
                        "test": [
                          0.6686521153,
                          0.8652838442
                        ]
                      },
                      {
                        "learn": [
                          0.838178148,
                          0.5709444815
                        ],
                        "iteration": 452,
                        "passed_time": 478.0726816,
                        "remaining_time": 4798.667733,
                        "test": [
                          0.6692312069,
                          0.8651730061
                        ]
                      },
                      {
                        "learn": [
                          0.8369357711,
                          0.5698754636
                        ],
                        "iteration": 453,
                        "passed_time": 479.0549464,
                        "remaining_time": 4796.880587,
                        "test": [
                          0.6680725866,
                          0.8647995345
                        ]
                      },
                      {
                        "learn": [
                          0.8369292133,
                          0.569605671
                        ],
                        "iteration": 454,
                        "passed_time": 480.0268573,
                        "remaining_time": 4794.993553,
                        "test": [
                          0.6680725866,
                          0.8647953086
                        ]
                      },
                      {
                        "learn": [
                          0.8375816545,
                          0.5693789912
                        ],
                        "iteration": 455,
                        "passed_time": 480.9020412,
                        "remaining_time": 4792.146657,
                        "test": [
                          0.6688923782,
                          0.8646707299
                        ]
                      },
                      {
                        "learn": [
                          0.8376029604,
                          0.568830576
                        ],
                        "iteration": 456,
                        "passed_time": 481.8158771,
                        "remaining_time": 4789.692625,
                        "test": [
                          0.6694722092,
                          0.8639214824
                        ]
                      },
                      {
                        "learn": [
                          0.8373376376,
                          0.56851339
                        ],
                        "iteration": 457,
                        "passed_time": 482.7197826,
                        "remaining_time": 4787.14684,
                        "test": [
                          0.6694722092,
                          0.8636190041
                        ]
                      },
                      {
                        "learn": [
                          0.8369281836,
                          0.5677286549
                        ],
                        "iteration": 458,
                        "passed_time": 483.6240175,
                        "remaining_time": 4784.611468,
                        "test": [
                          0.6694446105,
                          0.8636882309
                        ]
                      },
                      {
                        "learn": [
                          0.8369281836,
                          0.5673317246
                        ],
                        "iteration": 459,
                        "passed_time": 484.6240768,
                        "remaining_time": 4783.028932,
                        "test": [
                          0.6700627654,
                          0.8636803956
                        ]
                      },
                      {
                        "learn": [
                          0.8375252525,
                          0.5670531865
                        ],
                        "iteration": 460,
                        "passed_time": 485.561876,
                        "remaining_time": 4780.835912,
                        "test": [
                          0.6700627654,
                          0.8636621525
                        ]
                      },
                      {
                        "learn": [
                          0.8372868153,
                          0.5668078141
                        ],
                        "iteration": 461,
                        "passed_time": 486.9426767,
                        "remaining_time": 4782.999712,
                        "test": [
                          0.6701419561,
                          0.86406592
                        ]
                      },
                      {
                        "learn": [
                          0.8370193337,
                          0.5665175974
                        ],
                        "iteration": 462,
                        "passed_time": 488.3071536,
                        "remaining_time": 4784.988242,
                        "test": [
                          0.6694323016,
                          0.8641856032
                        ]
                      },
                      {
                        "learn": [
                          0.8376330316,
                          0.5658453895
                        ],
                        "iteration": 463,
                        "passed_time": 489.2778789,
                        "remaining_time": 4783.113057,
                        "test": [
                          0.6713418818,
                          0.86437611
                        ]
                      },
                      {
                        "learn": [
                          0.8384442288,
                          0.5650503368
                        ],
                        "iteration": 464,
                        "passed_time": 490.1943443,
                        "remaining_time": 4780.712583,
                        "test": [
                          0.670452301,
                          0.8644902731
                        ]
                      },
                      {
                        "learn": [
                          0.8387032497,
                          0.564744369
                        ],
                        "iteration": 465,
                        "passed_time": 491.0929216,
                        "remaining_time": 4778.144434,
                        "test": [
                          0.6704367775,
                          0.8645356182
                        ]
                      },
                      {
                        "learn": [
                          0.8395801909,
                          0.5635772009
                        ],
                        "iteration": 466,
                        "passed_time": 492.0677438,
                        "remaining_time": 4776.323517,
                        "test": [
                          0.6709652017,
                          0.8638278615
                        ]
                      },
                      {
                        "learn": [
                          0.8405109548,
                          0.5632797813
                        ],
                        "iteration": 467,
                        "passed_time": 493.093327,
                        "remaining_time": 4774.997774,
                        "test": [
                          0.6709652017,
                          0.8638208266
                        ]
                      },
                      {
                        "learn": [
                          0.8407699447,
                          0.5630536898
                        ],
                        "iteration": 468,
                        "passed_time": 494.3425386,
                        "remaining_time": 4775.833779,
                        "test": [
                          0.6709652017,
                          0.863911229
                        ]
                      },
                      {
                        "learn": [
                          0.8410626763,
                          0.5626868931
                        ],
                        "iteration": 469,
                        "passed_time": 495.3366818,
                        "remaining_time": 4774.202487,
                        "test": [
                          0.6715158304,
                          0.8639227108
                        ]
                      },
                      {
                        "learn": [
                          0.8410505874,
                          0.5623690349
                        ],
                        "iteration": 470,
                        "passed_time": 496.3047504,
                        "remaining_time": 4772.323173,
                        "test": [
                          0.6715158304,
                          0.8642312151
                        ]
                      },
                      {
                        "learn": [
                          0.8399292151,
                          0.5618729171
                        ],
                        "iteration": 471,
                        "passed_time": 497.2153441,
                        "remaining_time": 4769.896352,
                        "test": [
                          0.6721052809,
                          0.8641148533
                        ]
                      },
                      {
                        "learn": [
                          0.8398085494,
                          0.5614430982
                        ],
                        "iteration": 472,
                        "passed_time": 498.2239539,
                        "remaining_time": 4768.414036,
                        "test": [
                          0.6709220364,
                          0.8642334808
                        ]
                      },
                      {
                        "learn": [
                          0.8401604594,
                          0.5606574084
                        ],
                        "iteration": 473,
                        "passed_time": 499.6090888,
                        "remaining_time": 4770.528979,
                        "test": [
                          0.6716481101,
                          0.8638736004
                        ]
                      },
                      {
                        "learn": [
                          0.8401604594,
                          0.5604410726
                        ],
                        "iteration": 474,
                        "passed_time": 500.7249414,
                        "remaining_time": 4770.063916,
                        "test": [
                          0.6722345964,
                          0.8638432952
                        ]
                      },
                      {
                        "learn": [
                          0.8398952232,
                          0.5601096674
                        ],
                        "iteration": 475,
                        "passed_time": 501.5989968,
                        "remaining_time": 4767.298028,
                        "test": [
                          0.6716182744,
                          0.8639730478
                        ]
                      },
                      {
                        "learn": [
                          0.8398992784,
                          0.5596615882
                        ],
                        "iteration": 476,
                        "passed_time": 502.5134245,
                        "remaining_time": 4764.922891,
                        "test": [
                          0.6716182744,
                          0.8639305807
                        ]
                      },
                      {
                        "learn": [
                          0.8410938516,
                          0.5590211273
                        ],
                        "iteration": 477,
                        "passed_time": 503.4754132,
                        "remaining_time": 4763.003805,
                        "test": [
                          0.6716716887,
                          0.8633598779
                        ]
                      },
                      {
                        "learn": [
                          0.8414884221,
                          0.5581819943
                        ],
                        "iteration": 478,
                        "passed_time": 504.4940463,
                        "remaining_time": 4761.623347,
                        "test": [
                          0.6722758549,
                          0.8632959068
                        ]
                      },
                      {
                        "learn": [
                          0.841820075,
                          0.5574863878
                        ],
                        "iteration": 479,
                        "passed_time": 505.4502092,
                        "remaining_time": 4759.656137,
                        "test": [
                          0.6710307665,
                          0.8633605175
                        ]
                      },
                      {
                        "learn": [
                          0.8424948032,
                          0.5567580435
                        ],
                        "iteration": 480,
                        "passed_time": 506.4470321,
                        "remaining_time": 4758.075131,
                        "test": [
                          0.6733776852,
                          0.8632214419
                        ]
                      },
                      {
                        "learn": [
                          0.8427598052,
                          0.5562737119
                        ],
                        "iteration": 481,
                        "passed_time": 507.3633717,
                        "remaining_time": 4755.742144,
                        "test": [
                          0.6733776852,
                          0.8627404371
                        ]
                      },
                      {
                        "learn": [
                          0.8436142654,
                          0.55566576
                        ],
                        "iteration": 482,
                        "passed_time": 508.269844,
                        "remaining_time": 4753.322744,
                        "test": [
                          0.6734674266,
                          0.8627182409
                        ]
                      },
                      {
                        "learn": [
                          0.8441334532,
                          0.555256146
                        ],
                        "iteration": 483,
                        "passed_time": 509.179576,
                        "remaining_time": 4750.940011,
                        "test": [
                          0.6727892406,
                          0.8629549657
                        ]
                      },
                      {
                        "learn": [
                          0.8452108384,
                          0.5547639127
                        ],
                        "iteration": 484,
                        "passed_time": 510.0582769,
                        "remaining_time": 4748.274474,
                        "test": [
                          0.6731946564,
                          0.8630879253
                        ]
                      },
                      {
                        "learn": [
                          0.8449459447,
                          0.5545190265
                        ],
                        "iteration": 485,
                        "passed_time": 511.4800694,
                        "remaining_time": 4750.660562,
                        "test": [
                          0.6723802096,
                          0.8632022136
                        ]
                      },
                      {
                        "learn": [
                          0.8460086829,
                          0.5533352392
                        ],
                        "iteration": 486,
                        "passed_time": 512.8898712,
                        "remaining_time": 4752.919895,
                        "test": [
                          0.6737643986,
                          0.8623088795
                        ]
                      },
                      {
                        "learn": [
                          0.8462685545,
                          0.5529976474
                        ],
                        "iteration": 487,
                        "passed_time": 513.853683,
                        "remaining_time": 4751.04061,
                        "test": [
                          0.6744859888,
                          0.861944608
                        ]
                      },
                      {
                        "learn": [
                          0.8468494095,
                          0.5527869677
                        ],
                        "iteration": 488,
                        "passed_time": 514.8078024,
                        "remaining_time": 4749.075657,
                        "test": [
                          0.6738955708,
                          0.8620429985
                        ]
                      },
                      {
                        "learn": [
                          0.8468571113,
                          0.552164039
                        ],
                        "iteration": 489,
                        "passed_time": 515.7887976,
                        "remaining_time": 4747.362198,
                        "test": [
                          0.6732768796,
                          0.8619889047
                        ]
                      },
                      {
                        "learn": [
                          0.8465807505,
                          0.5516295458
                        ],
                        "iteration": 490,
                        "passed_time": 516.6981995,
                        "remaining_time": 4744.99426,
                        "test": [
                          0.674424004,
                          0.8620066031
                        ]
                      },
                      {
                        "learn": [
                          0.8465884659,
                          0.5514091939
                        ],
                        "iteration": 491,
                        "passed_time": 517.584033,
                        "remaining_time": 4742.416302,
                        "test": [
                          0.6738557263,
                          0.8620119177
                        ]
                      },
                      {
                        "learn": [
                          0.8472357929,
                          0.5510444026
                        ],
                        "iteration": 492,
                        "passed_time": 518.4697503,
                        "remaining_time": 4739.844148,
                        "test": [
                          0.6729804168,
                          0.8620595541
                        ]
                      },
                      {
                        "learn": [
                          0.8475044519,
                          0.5505390604
                        ],
                        "iteration": 493,
                        "passed_time": 519.3831656,
                        "remaining_time": 4737.531466,
                        "test": [
                          0.6723612466,
                          0.8615885322
                        ]
                      },
                      {
                        "learn": [
                          0.8472217154,
                          0.5499886653
                        ],
                        "iteration": 494,
                        "passed_time": 520.301597,
                        "remaining_time": 4735.27009,
                        "test": [
                          0.6738045002,
                          0.861509078
                        ]
                      },
                      {
                        "learn": [
                          0.8466963139,
                          0.5494937566
                        ],
                        "iteration": 495,
                        "passed_time": 521.3058363,
                        "remaining_time": 4733.79332,
                        "test": [
                          0.674322996,
                          0.8610501221
                        ]
                      },
                      {
                        "learn": [
                          0.8480984696,
                          0.549058465
                        ],
                        "iteration": 496,
                        "passed_time": 522.3799875,
                        "remaining_time": 4732.951878,
                        "test": [
                          0.6737562321,
                          0.8614528434
                        ]
                      },
                      {
                        "learn": [
                          0.8475194451,
                          0.5487897519
                        ],
                        "iteration": 497,
                        "passed_time": 523.5451391,
                        "remaining_time": 4732.932161,
                        "test": [
                          0.6737562321,
                          0.8612096172
                        ]
                      },
                      {
                        "learn": [
                          0.8470327087,
                          0.5483810521
                        ],
                        "iteration": 498,
                        "passed_time": 525.09406,
                        "remaining_time": 4736.369467,
                        "test": [
                          0.6731756578,
                          0.861320099
                        ]
                      },
                      {
                        "learn": [
                          0.8484300608,
                          0.5479986275
                        ],
                        "iteration": 499,
                        "passed_time": 526.1112509,
                        "remaining_time": 4735.001258,
                        "test": [
                          0.6732255569,
                          0.8617362059
                        ]
                      },
                      {
                        "learn": [
                          0.8482256919,
                          0.5476812411
                        ],
                        "iteration": 500,
                        "passed_time": 527.0092829,
                        "remaining_time": 4732.564399,
                        "test": [
                          0.6730409548,
                          0.8611425032
                        ]
                      },
                      {
                        "learn": [
                          0.8482178498,
                          0.5474501116
                        ],
                        "iteration": 501,
                        "passed_time": 527.9227099,
                        "remaining_time": 4730.271612,
                        "test": [
                          0.6730409548,
                          0.8611028488
                        ]
                      },
                      {
                        "learn": [
                          0.8482869124,
                          0.5469957687
                        ],
                        "iteration": 502,
                        "passed_time": 528.8279656,
                        "remaining_time": 4727.911255,
                        "test": [
                          0.6730409548,
                          0.8610557189
                        ]
                      },
                      {
                        "learn": [
                          0.8485470159,
                          0.5467507747
                        ],
                        "iteration": 503,
                        "passed_time": 529.7289474,
                        "remaining_time": 4725.518547,
                        "test": [
                          0.6730409548,
                          0.8612329506
                        ]
                      },
                      {
                        "learn": [
                          0.8491338815,
                          0.546215897
                        ],
                        "iteration": 504,
                        "passed_time": 530.6288634,
                        "remaining_time": 4723.122259,
                        "test": [
                          0.6736204099,
                          0.8612543397
                        ]
                      },
                      {
                        "learn": [
                          0.8493940433,
                          0.5459630612
                        ],
                        "iteration": 505,
                        "passed_time": 531.5371729,
                        "remaining_time": 4720.806433,
                        "test": [
                          0.6736204099,
                          0.8611086842
                        ]
                      },
                      {
                        "learn": [
                          0.8493940433,
                          0.5457156647
                        ],
                        "iteration": 506,
                        "passed_time": 532.4105255,
                        "remaining_time": 4718.186373,
                        "test": [
                          0.6742508781,
                          0.8610355625
                        ]
                      },
                      {
                        "learn": [
                          0.8496665275,
                          0.5453821409
                        ],
                        "iteration": 507,
                        "passed_time": 533.3742212,
                        "remaining_time": 4716.372051,
                        "test": [
                          0.6736596382,
                          0.8606135621
                        ]
                      },
                      {
                        "learn": [
                          0.8493628449,
                          0.5448840033
                        ],
                        "iteration": 508,
                        "passed_time": 534.322027,
                        "remaining_time": 4714.420871,
                        "test": [
                          0.6754870048,
                          0.8605586173
                        ]
                      },
                      {
                        "learn": [
                          0.8499587382,
                          0.5446161303
                        ],
                        "iteration": 509,
                        "passed_time": 535.2578385,
                        "remaining_time": 4712.368029,
                        "test": [
                          0.6754870048,
                          0.8604732777
                        ]
                      },
                      {
                        "learn": [
                          0.8513582213,
                          0.543993373
                        ],
                        "iteration": 510,
                        "passed_time": 536.5366396,
                        "remaining_time": 4713.332632,
                        "test": [
                          0.6762922168,
                          0.8602216174
                        ]
                      },
                      {
                        "learn": [
                          0.851690892,
                          0.5436735101
                        ],
                        "iteration": 511,
                        "passed_time": 538.0199111,
                        "remaining_time": 4716.080784,
                        "test": [
                          0.6762922168,
                          0.8603913307
                        ]
                      },
                      {
                        "learn": [
                          0.8519507786,
                          0.5434357122
                        ],
                        "iteration": 512,
                        "passed_time": 539.0535376,
                        "remaining_time": 4714.879578,
                        "test": [
                          0.6756729018,
                          0.8603261946
                        ]
                      },
                      {
                        "learn": [
                          0.8524837725,
                          0.5431816692
                        ],
                        "iteration": 513,
                        "passed_time": 540.0889349,
                        "remaining_time": 4713.694479,
                        "test": [
                          0.6763716313,
                          0.8603061555
                        ]
                      },
                      {
                        "learn": [
                          0.8524837725,
                          0.542866458
                        ],
                        "iteration": 514,
                        "passed_time": 540.9936682,
                        "remaining_time": 4711.372042,
                        "test": [
                          0.6757422017,
                          0.8602600234
                        ]
                      },
                      {
                        "learn": [
                          0.8524837725,
                          0.5423639705
                        ],
                        "iteration": 515,
                        "passed_time": 541.8753721,
                        "remaining_time": 4708.854978,
                        "test": [
                          0.6762726594,
                          0.8599701212
                        ]
                      },
                      {
                        "learn": [
                          0.8525474773,
                          0.5418320292
                        ],
                        "iteration": 516,
                        "passed_time": 542.9020441,
                        "remaining_time": 4707.601283,
                        "test": [
                          0.6756915774,
                          0.8599677587
                        ]
                      },
                      {
                        "learn": [
                          0.8530711802,
                          0.5412911667
                        ],
                        "iteration": 517,
                        "passed_time": 543.8351974,
                        "remaining_time": 4705.539295,
                        "test": [
                          0.6763209138,
                          0.8595138512
                        ]
                      },
                      {
                        "learn": [
                          0.853114226,
                          0.5401209905
                        ],
                        "iteration": 518,
                        "passed_time": 544.7401044,
                        "remaining_time": 4703.23778,
                        "test": [
                          0.6754308292,
                          0.8586768334
                        ]
                      },
                      {
                        "learn": [
                          0.8539385966,
                          0.5394198033
                        ],
                        "iteration": 519,
                        "passed_time": 545.6586933,
                        "remaining_time": 4701.059512,
                        "test": [
                          0.6753517233,
                          0.8586922997
                        ]
                      },
                      {
                        "learn": [
                          0.853458831,
                          0.5390262048
                        ],
                        "iteration": 520,
                        "passed_time": 546.5759769,
                        "remaining_time": 4698.874857,
                        "test": [
                          0.6753517233,
                          0.8584578491
                        ]
                      },
                      {
                        "learn": [
                          0.8545707699,
                          0.5386460937
                        ],
                        "iteration": 521,
                        "passed_time": 547.473492,
                        "remaining_time": 4696.525474,
                        "test": [
                          0.6747619914,
                          0.8583556043
                        ]
                      },
                      {
                        "learn": [
                          0.8546253966,
                          0.5383926688
                        ],
                        "iteration": 522,
                        "passed_time": 548.5546503,
                        "remaining_time": 4695.75367,
                        "test": [
                          0.6734836275,
                          0.8582683044
                        ]
                      },
                      {
                        "learn": [
                          0.8539779329,
                          0.5382038627
                        ],
                        "iteration": 523,
                        "passed_time": 549.97752,
                        "remaining_time": 4697.89958,
                        "test": [
                          0.6743745103,
                          0.8582927525
                        ]
                      },
                      {
                        "learn": [
                          0.8542776501,
                          0.5379502872
                        ],
                        "iteration": 524,
                        "passed_time": 550.9958768,
                        "remaining_time": 4696.583902,
                        "test": [
                          0.6734926793,
                          0.8579847865
                        ]
                      },
                      {
                        "learn": [
                          0.8545591519,
                          0.5372569738
                        ],
                        "iteration": 525,
                        "passed_time": 551.9380716,
                        "remaining_time": 4694.621545,
                        "test": [
                          0.6737827877,
                          0.8578225874
                        ]
                      },
                      {
                        "learn": [
                          0.8545010181,
                          0.5369373081
                        ],
                        "iteration": 526,
                        "passed_time": 552.8390684,
                        "remaining_time": 4692.313383,
                        "test": [
                          0.6722728555,
                          0.857996667
                        ]
                      },
                      {
                        "learn": [
                          0.8545152183,
                          0.5364101364
                        ],
                        "iteration": 527,
                        "passed_time": 553.72874,
                        "remaining_time": 4689.914632,
                        "test": [
                          0.6710103299,
                          0.8573889088
                        ]
                      },
                      {
                        "learn": [
                          0.8542529874,
                          0.5359953332
                        ],
                        "iteration": 528,
                        "passed_time": 554.670444,
                        "remaining_time": 4687.961352,
                        "test": [
                          0.6722227494,
                          0.8580256324
                        ]
                      },
                      {
                        "learn": [
                          0.854774627,
                          0.5357307141
                        ],
                        "iteration": 529,
                        "passed_time": 555.6952338,
                        "remaining_time": 4686.712632,
                        "test": [
                          0.6722227494,
                          0.8579262759
                        ]
                      },
                      {
                        "learn": [
                          0.8542223362,
                          0.5354615861
                        ],
                        "iteration": 530,
                        "passed_time": 556.790803,
                        "remaining_time": 4686.06045,
                        "test": [
                          0.6728102113,
                          0.8577638802
                        ]
                      },
                      {
                        "learn": [
                          0.8542223362,
                          0.5352724389
                        ],
                        "iteration": 531,
                        "passed_time": 557.7575591,
                        "remaining_time": 4684.324763,
                        "test": [
                          0.6728102113,
                          0.8577971284
                        ]
                      },
                      {
                        "learn": [
                          0.8547440152,
                          0.53460263
                        ],
                        "iteration": 532,
                        "passed_time": 558.6760894,
                        "remaining_time": 4682.187788,
                        "test": [
                          0.6716401695,
                          0.8574602524
                        ]
                      },
                      {
                        "learn": [
                          0.855328143,
                          0.5341200881
                        ],
                        "iteration": 533,
                        "passed_time": 559.6037443,
                        "remaining_time": 4680.131689,
                        "test": [
                          0.6710199921,
                          0.8575733722
                        ]
                      },
                      {
                        "learn": [
                          0.8560935332,
                          0.533854381
                        ],
                        "iteration": 534,
                        "passed_time": 561.1267347,
                        "remaining_time": 4683.048356,
                        "test": [
                          0.6706659342,
                          0.85780174
                        ]
                      },
                      {
                        "learn": [
                          0.8558193345,
                          0.5333227806
                        ],
                        "iteration": 535,
                        "passed_time": 562.5246049,
                        "remaining_time": 4684.906411,
                        "test": [
                          0.6712161251,
                          0.8574902358
                        ]
                      },
                      {
                        "learn": [
                          0.856147021,
                          0.5325919275
                        ],
                        "iteration": 536,
                        "passed_time": 563.4839471,
                        "remaining_time": 4683.107739,
                        "test": [
                          0.6718309592,
                          0.8573287976
                        ]
                      },
                      {
                        "learn": [
                          0.8564820722,
                          0.5319675649
                        ],
                        "iteration": 537,
                        "passed_time": 564.4049258,
                        "remaining_time": 4680.994013,
                        "test": [
                          0.671729774,
                          0.8570687059
                        ]
                      },
                      {
                        "learn": [
                          0.8566559691,
                          0.5311319057
                        ],
                        "iteration": 538,
                        "passed_time": 565.3248376,
                        "remaining_time": 4678.875882,
                        "test": [
                          0.6717789343,
                          0.8565731242
                        ]
                      },
                      {
                        "learn": [
                          0.85673971,
                          0.5305577679
                        ],
                        "iteration": 539,
                        "passed_time": 566.2469267,
                        "remaining_time": 4676.780172,
                        "test": [
                          0.6730359975,
                          0.8558613648
                        ]
                      },
                      {
                        "learn": [
                          0.8567357665,
                          0.5303186921
                        ],
                        "iteration": 540,
                        "passed_time": 567.257537,
                        "remaining_time": 4675.418406,
                        "test": [
                          0.6730359975,
                          0.8558130088
                        ]
                      },
                      {
                        "learn": [
                          0.8564578012,
                          0.5297073752
                        ],
                        "iteration": 541,
                        "passed_time": 568.2096699,
                        "remaining_time": 4673.576952,
                        "test": [
                          0.6743025163,
                          0.8554288777
                        ]
                      },
                      {
                        "learn": [
                          0.8564578012,
                          0.5291747543
                        ],
                        "iteration": 542,
                        "passed_time": 569.0954643,
                        "remaining_time": 4671.194262,
                        "test": [
                          0.6737718675,
                          0.8549533688
                        ]
                      },
                      {
                        "learn": [
                          0.8561885672,
                          0.5287683038
                        ],
                        "iteration": 543,
                        "passed_time": 570.007971,
                        "remaining_time": 4669.03588,
                        "test": [
                          0.6712109353,
                          0.8547522581
                        ]
                      },
                      {
                        "learn": [
                          0.8569998148,
                          0.5282975605
                        ],
                        "iteration": 544,
                        "passed_time": 570.9335235,
                        "remaining_time": 4666.988711,
                        "test": [
                          0.6718313275,
                          0.854425169
                        ]
                      },
                      {
                        "learn": [
                          0.8569998148,
                          0.5279865682
                        ],
                        "iteration": 545,
                        "passed_time": 571.8584303,
                        "remaining_time": 4664.940382,
                        "test": [
                          0.6718313275,
                          0.8543148503
                        ]
                      },
                      {
                        "learn": [
                          0.8576475332,
                          0.5274522527
                        ],
                        "iteration": 546,
                        "passed_time": 572.8377073,
                        "remaining_time": 4663.338776,
                        "test": [
                          0.6711614358,
                          0.8541002961
                        ]
                      },
                      {
                        "learn": [
                          0.8576475332,
                          0.5273222027
                        ],
                        "iteration": 547,
                        "passed_time": 574.2445569,
                        "remaining_time": 4665.213079,
                        "test": [
                          0.6711614358,
                          0.8541525916
                        ]
                      },
                      {
                        "learn": [
                          0.8576475332,
                          0.5269926096
                        ],
                        "iteration": 548,
                        "passed_time": 575.4482524,
                        "remaining_time": 4665.428363,
                        "test": [
                          0.6711614358,
                          0.8542302144
                        ]
                      },
                      {
                        "learn": [
                          0.8579250763,
                          0.5262286098
                        ],
                        "iteration": 549,
                        "passed_time": 576.4192855,
                        "remaining_time": 4663.756037,
                        "test": [
                          0.6712105961,
                          0.8544539534
                        ]
                      },
                      {
                        "learn": [
                          0.8581947811,
                          0.5255933179
                        ],
                        "iteration": 550,
                        "passed_time": 577.4373386,
                        "remaining_time": 4662.465916,
                        "test": [
                          0.6719476261,
                          0.8543054081
                        ]
                      },
                      {
                        "learn": [
                          0.8582321253,
                          0.5245175164
                        ],
                        "iteration": 551,
                        "passed_time": 578.4871002,
                        "remaining_time": 4661.432286,
                        "test": [
                          0.6719605854,
                          0.8547526004
                        ]
                      },
                      {
                        "learn": [
                          0.8579013839,
                          0.5243510965
                        ],
                        "iteration": 552,
                        "passed_time": 579.6255926,
                        "remaining_time": 4661.112134,
                        "test": [
                          0.6720293972,
                          0.8547689324
                        ]
                      },
                      {
                        "learn": [
                          0.8582459055,
                          0.5241665433
                        ],
                        "iteration": 553,
                        "passed_time": 580.5908,
                        "remaining_time": 4659.39837,
                        "test": [
                          0.671975144,
                          0.8548702312
                        ]
                      },
                      {
                        "learn": [
                          0.8585683539,
                          0.5238480081
                        ],
                        "iteration": 554,
                        "passed_time": 581.5415706,
                        "remaining_time": 4657.571678,
                        "test": [
                          0.6701566547,
                          0.8548149731
                        ]
                      },
                      {
                        "learn": [
                          0.8585683539,
                          0.523449467
                        ],
                        "iteration": 555,
                        "passed_time": 582.5027735,
                        "remaining_time": 4655.831521,
                        "test": [
                          0.6702116921,
                          0.8550564965
                        ]
                      },
                      {
                        "learn": [
                          0.8585546535,
                          0.5229816893
                        ],
                        "iteration": 556,
                        "passed_time": 583.421699,
                        "remaining_time": 4653.756928,
                        "test": [
                          0.6707770366,
                          0.8551163392
                        ]
                      },
                      {
                        "learn": [
                          0.8591557241,
                          0.5224478757
                        ],
                        "iteration": 557,
                        "passed_time": 584.335505,
                        "remaining_time": 4651.645722,
                        "test": [
                          0.6708458484,
                          0.854773608
                        ]
                      },
                      {
                        "learn": [
                          0.8594963582,
                          0.5220280776
                        ],
                        "iteration": 558,
                        "passed_time": 585.3721028,
                        "remaining_time": 4650.514327,
                        "test": [
                          0.6708458484,
                          0.8551235991
                        ]
                      },
                      {
                        "learn": [
                          0.8597605367,
                          0.5217111769
                        ],
                        "iteration": 559,
                        "passed_time": 586.8832887,
                        "remaining_time": 4653.146075,
                        "test": [
                          0.6708458484,
                          0.8549615492
                        ]
                      },
                      {
                        "learn": [
                          0.8597605367,
                          0.5214387966
                        ],
                        "iteration": 560,
                        "passed_time": 588.1750554,
                        "remaining_time": 4654.026864,
                        "test": [
                          0.6714067843,
                          0.8548572303
                        ]
                      },
                      {
                        "learn": [
                          0.8602915687,
                          0.5211850752
                        ],
                        "iteration": 561,
                        "passed_time": 589.0919417,
                        "remaining_time": 4651.939568,
                        "test": [
                          0.670786559,
                          0.8547728464
                        ]
                      },
                      {
                        "learn": [
                          0.8610840104,
                          0.5207334323
                        ],
                        "iteration": 562,
                        "passed_time": 590.0221044,
                        "remaining_time": 4649.961061,
                        "test": [
                          0.6710190767,
                          0.8544928645
                        ]
                      },
                      {
                        "learn": [
                          0.8610703214,
                          0.5204383087
                        ],
                        "iteration": 563,
                        "passed_time": 591.0313265,
                        "remaining_time": 4648.608092,
                        "test": [
                          0.6710190767,
                          0.8545342973
                        ]
                      },
                      {
                        "learn": [
                          0.8605147101,
                          0.5199239137
                        ],
                        "iteration": 564,
                        "passed_time": 591.9807632,
                        "remaining_time": 4646.787052,
                        "test": [
                          0.671639484,
                          0.8542200199
                        ]
                      },
                      {
                        "learn": [
                          0.8607760448,
                          0.5197213615
                        ],
                        "iteration": 565,
                        "passed_time": 592.9092806,
                        "remaining_time": 4644.805212,
                        "test": [
                          0.6724866122,
                          0.8543950597
                        ]
                      },
                      {
                        "learn": [
                          0.8604552559,
                          0.5193931896
                        ],
                        "iteration": 566,
                        "passed_time": 593.7867893,
                        "remaining_time": 4642.428284,
                        "test": [
                          0.6724866122,
                          0.8541769374
                        ]
                      },
                      {
                        "learn": [
                          0.8604552559,
                          0.5192088121
                        ],
                        "iteration": 567,
                        "passed_time": 594.7127479,
                        "remaining_time": 4640.434681,
                        "test": [
                          0.6718662049,
                          0.8541055778
                        ]
                      },
                      {
                        "learn": [
                          0.8603945271,
                          0.5189900547
                        ],
                        "iteration": 568,
                        "passed_time": 595.680894,
                        "remaining_time": 4638.773359,
                        "test": [
                          0.6724866122,
                          0.8542947907
                        ]
                      },
                      {
                        "learn": [
                          0.861571682,
                          0.5187260482
                        ],
                        "iteration": 569,
                        "passed_time": 596.6658941,
                        "remaining_time": 4637.245458,
                        "test": [
                          0.6719042224,
                          0.8542470727
                        ]
                      },
                      {
                        "learn": [
                          0.8619005187,
                          0.5182409931
                        ],
                        "iteration": 570,
                        "passed_time": 597.6690433,
                        "remaining_time": 4635.860233,
                        "test": [
                          0.671164026,
                          0.8539898761
                        ]
                      },
                      {
                        "learn": [
                          0.8622203641,
                          0.517784093
                        ],
                        "iteration": 571,
                        "passed_time": 599.0916079,
                        "remaining_time": 4637.723147,
                        "test": [
                          0.6717927449,
                          0.8537517585
                        ]
                      },
                      {
                        "learn": [
                          0.8616253202,
                          0.5175447042
                        ],
                        "iteration": 572,
                        "passed_time": 600.6521302,
                        "remaining_time": 4640.640454,
                        "test": [
                          0.6723757542,
                          0.8535148647
                        ]
                      },
                      {
                        "learn": [
                          0.861689317,
                          0.5170670788
                        ],
                        "iteration": 573,
                        "passed_time": 601.6507056,
                        "remaining_time": 4639.209099,
                        "test": [
                          0.6723892595,
                          0.8535666521
                        ]
                      },
                      {
                        "learn": [
                          0.8610487503,
                          0.5167884039
                        ],
                        "iteration": 574,
                        "passed_time": 602.6157934,
                        "remaining_time": 4637.52154,
                        "test": [
                          0.6723771163,
                          0.8536150997
                        ]
                      },
                      {
                        "learn": [
                          0.8619053624,
                          0.5163939139
                        ],
                        "iteration": 575,
                        "passed_time": 603.615432,
                        "remaining_time": 4636.10186,
                        "test": [
                          0.6723771163,
                          0.8531973821
                        ]
                      },
                      {
                        "learn": [
                          0.862108459,
                          0.5158994103
                        ],
                        "iteration": 576,
                        "passed_time": 604.5052785,
                        "remaining_time": 4633.842022,
                        "test": [
                          0.6717558929,
                          0.8527972908
                        ]
                      },
                      {
                        "learn": [
                          0.8627065928,
                          0.5156880959
                        ],
                        "iteration": 577,
                        "passed_time": 605.4043497,
                        "remaining_time": 4631.657499,
                        "test": [
                          0.6723771163,
                          0.8527600941
                        ]
                      },
                      {
                        "learn": [
                          0.8627028511,
                          0.5152822151
                        ],
                        "iteration": 578,
                        "passed_time": 606.3151457,
                        "remaining_time": 4629.566941,
                        "test": [
                          0.6730681575,
                          0.8530308205
                        ]
                      },
                      {
                        "learn": [
                          0.8629193974,
                          0.5146846823
                        ],
                        "iteration": 579,
                        "passed_time": 607.2312051,
                        "remaining_time": 4627.520563,
                        "test": [
                          0.6730681575,
                          0.8534653638
                        ]
                      },
                      {
                        "learn": [
                          0.8629193974,
                          0.5145092628
                        ],
                        "iteration": 580,
                        "passed_time": 608.2314329,
                        "remaining_time": 4626.118248,
                        "test": [
                          0.6730681575,
                          0.8534478685
                        ]
                      },
                      {
                        "learn": [
                          0.8635557967,
                          0.514332899
                        ],
                        "iteration": 581,
                        "passed_time": 609.2646296,
                        "remaining_time": 4624.967583,
                        "test": [
                          0.6736501397,
                          0.8533339274
                        ]
                      },
                      {
                        "learn": [
                          0.8638172019,
                          0.5140906863
                        ],
                        "iteration": 582,
                        "passed_time": 610.2201741,
                        "remaining_time": 4623.229003,
                        "test": [
                          0.6736501397,
                          0.8534692879
                        ]
                      },
                      {
                        "learn": [
                          0.8638306277,
                          0.5137752169
                        ],
                        "iteration": 583,
                        "passed_time": 611.3741074,
                        "remaining_time": 4622.993251,
                        "test": [
                          0.6736501397,
                          0.8533880175
                        ]
                      },
                      {
                        "learn": [
                          0.864002067,
                          0.513448957
                        ],
                        "iteration": 584,
                        "passed_time": 612.7587322,
                        "remaining_time": 4624.495389,
                        "test": [
                          0.6742671682,
                          0.8530262069
                        ]
                      },
                      {
                        "learn": [
                          0.8640461022,
                          0.5128155384
                        ],
                        "iteration": 585,
                        "passed_time": 613.8216331,
                        "remaining_time": 4623.564315,
                        "test": [
                          0.6738828325,
                          0.8527404182
                        ]
                      },
                      {
                        "learn": [
                          0.864323731,
                          0.5125849167
                        ],
                        "iteration": 586,
                        "passed_time": 614.7388206,
                        "remaining_time": 4621.537335,
                        "test": [
                          0.6738828325,
                          0.8524582275
                        ]
                      },
                      {
                        "learn": [
                          0.8646310933,
                          0.5123690231
                        ],
                        "iteration": 587,
                        "passed_time": 615.6652619,
                        "remaining_time": 4619.583564,
                        "test": [
                          0.674465554,
                          0.8524136942
                        ]
                      },
                      {
                        "learn": [
                          0.8645720215,
                          0.5120878749
                        ],
                        "iteration": 588,
                        "passed_time": 616.68182,
                        "remaining_time": 4618.308163,
                        "test": [
                          0.674465554,
                          0.8522531215
                        ]
                      },
                      {
                        "learn": [
                          0.8648480233,
                          0.5118014209
                        ],
                        "iteration": 589,
                        "passed_time": 617.7027428,
                        "remaining_time": 4617.066264,
                        "test": [
                          0.6738828325,
                          0.8524786218
                        ]
                      },
                      {
                        "learn": [
                          0.8653837664,
                          0.5115488653
                        ],
                        "iteration": 590,
                        "passed_time": 618.7102634,
                        "remaining_time": 4615.725129,
                        "test": [
                          0.6738828325,
                          0.8524108299
                        ]
                      },
                      {
                        "learn": [
                          0.8659750241,
                          0.5109903369
                        ],
                        "iteration": 591,
                        "passed_time": 619.6301132,
                        "remaining_time": 4613.73233,
                        "test": [
                          0.6758623147,
                          0.8523230184
                        ]
                      },
                      {
                        "learn": [
                          0.8665643858,
                          0.5105175735
                        ],
                        "iteration": 592,
                        "passed_time": 620.5919957,
                        "remaining_time": 4612.055523,
                        "test": [
                          0.6758623147,
                          0.8523356844
                        ]
                      },
                      {
                        "learn": [
                          0.8673663988,
                          0.5098266926
                        ],
                        "iteration": 593,
                        "passed_time": 621.5109129,
                        "remaining_time": 4610.062428,
                        "test": [
                          0.6758944591,
                          0.8524742416
                        ]
                      },
                      {
                        "learn": [
                          0.8680189643,
                          0.5090939576
                        ],
                        "iteration": 594,
                        "passed_time": 622.677726,
                        "remaining_time": 4609.908207,
                        "test": [
                          0.6764772371,
                          0.8523703619
                        ]
                      },
                      {
                        "learn": [
                          0.8681047741,
                          0.5088034363
                        ],
                        "iteration": 595,
                        "passed_time": 623.802068,
                        "remaining_time": 4609.436758,
                        "test": [
                          0.6764772371,
                          0.8523706372
                        ]
                      },
                      {
                        "learn": [
                          0.8681047741,
                          0.5086525871
                        ],
                        "iteration": 596,
                        "passed_time": 625.2870314,
                        "remaining_time": 4611.62278,
                        "test": [
                          0.6764772371,
                          0.8521444114
                        ]
                      },
                      {
                        "learn": [
                          0.8686293528,
                          0.5081966564
                        ],
                        "iteration": 597,
                        "passed_time": 626.3069013,
                        "remaining_time": 4610.372876,
                        "test": [
                          0.677199505,
                          0.8517722578
                        ]
                      },
                      {
                        "learn": [
                          0.8704038531,
                          0.5070003921
                        ],
                        "iteration": 598,
                        "passed_time": 627.2116285,
                        "remaining_time": 4608.277758,
                        "test": [
                          0.677199505,
                          0.8524377043
                        ]
                      },
                      {
                        "learn": [
                          0.8697602151,
                          0.50647547
                        ],
                        "iteration": 599,
                        "passed_time": 628.1310545,
                        "remaining_time": 4606.2944,
                        "test": [
                          0.6772349722,
                          0.8525407671
                        ]
                      },
                      {
                        "learn": [
                          0.8709383471,
                          0.5060958053
                        ],
                        "iteration": 600,
                        "passed_time": 629.0658994,
                        "remaining_time": 4604.42744,
                        "test": [
                          0.6772349722,
                          0.8523151844
                        ]
                      },
                      {
                        "learn": [
                          0.8712002804,
                          0.5058515885
                        ],
                        "iteration": 601,
                        "passed_time": 629.9962885,
                        "remaining_time": 4602.531025,
                        "test": [
                          0.6772349722,
                          0.8521717913
                        ]
                      },
                      {
                        "learn": [
                          0.8705403534,
                          0.5055076917
                        ],
                        "iteration": 602,
                        "passed_time": 630.9199217,
                        "remaining_time": 4600.58855,
                        "test": [
                          0.6765375742,
                          0.8522447577
                        ]
                      },
                      {
                        "learn": [
                          0.87127617,
                          0.5050381387
                        ],
                        "iteration": 603,
                        "passed_time": 631.8365198,
                        "remaining_time": 4598.598247,
                        "test": [
                          0.675682071,
                          0.8518590436
                        ]
                      },
                      {
                        "learn": [
                          0.8712635488,
                          0.5048134665
                        ],
                        "iteration": 604,
                        "passed_time": 632.8532176,
                        "remaining_time": 4597.338663,
                        "test": [
                          0.6750605653,
                          0.8516522728
                        ]
                      },
                      {
                        "learn": [
                          0.871060385,
                          0.5041156181
                        ],
                        "iteration": 605,
                        "passed_time": 633.8076808,
                        "remaining_time": 4595.62863,
                        "test": [
                          0.6756999417,
                          0.8516984974
                        ]
                      },
                      {
                        "learn": [
                          0.8713048793,
                          0.5039340446
                        ],
                        "iteration": 606,
                        "passed_time": 634.7141592,
                        "remaining_time": 4593.573808,
                        "test": [
                          0.6756872541,
                          0.8514633224
                        ]
                      },
                      {
                        "learn": [
                          0.8718392684,
                          0.5035093989
                        ],
                        "iteration": 607,
                        "passed_time": 635.7685681,
                        "remaining_time": 4592.591367,
                        "test": [
                          0.6756479909,
                          0.8512731739
                        ]
                      },
                      {
                        "learn": [
                          0.8721088865,
                          0.5032466553
                        ],
                        "iteration": 608,
                        "passed_time": 637.0963606,
                        "remaining_time": 4593.579835,
                        "test": [
                          0.6771742279,
                          0.8511688255
                        ]
                      },
                      {
                        "learn": [
                          0.8721291502,
                          0.5029013668
                        ],
                        "iteration": 609,
                        "passed_time": 638.3099724,
                        "remaining_time": 4593.738981,
                        "test": [
                          0.6768724909,
                          0.8513068468
                        ]
                      },
                      {
                        "learn": [
                          0.8721264286,
                          0.5022335959
                        ],
                        "iteration": 610,
                        "passed_time": 639.2483104,
                        "remaining_time": 4591.916259,
                        "test": [
                          0.6767613714,
                          0.8513314287
                        ]
                      },
                      {
                        "learn": [
                          0.8721264286,
                          0.5020151198
                        ],
                        "iteration": 611,
                        "passed_time": 640.1314005,
                        "remaining_time": 4589.700303,
                        "test": [
                          0.6767613714,
                          0.8513872525
                        ]
                      },
                      {
                        "learn": [
                          0.8729356819,
                          0.5016997705
                        ],
                        "iteration": 612,
                        "passed_time": 641.0689362,
                        "remaining_time": 4587.878341,
                        "test": [
                          0.6773830375,
                          0.8514453863
                        ]
                      },
                      {
                        "learn": [
                          0.8729356819,
                          0.5014426414
                        ],
                        "iteration": 613,
                        "passed_time": 642.1048121,
                        "remaining_time": 4586.761736,
                        "test": [
                          0.6773830375,
                          0.8511497932
                        ]
                      },
                      {
                        "learn": [
                          0.8729356819,
                          0.5011260238
                        ],
                        "iteration": 614,
                        "passed_time": 643.0775494,
                        "remaining_time": 4585.19521,
                        "test": [
                          0.6773830375,
                          0.8509856232
                        ]
                      },
                      {
                        "learn": [
                          0.8729356819,
                          0.5009124572
                        ],
                        "iteration": 615,
                        "passed_time": 644.0894411,
                        "remaining_time": 4583.909269,
                        "test": [
                          0.6779641588,
                          0.8508892245
                        ]
                      },
                      {
                        "learn": [
                          0.8734646537,
                          0.5004913802
                        ],
                        "iteration": 616,
                        "passed_time": 645.1259349,
                        "remaining_time": 4582.798984,
                        "test": [
                          0.6780516866,
                          0.8507967604
                        ]
                      },
                      {
                        "learn": [
                          0.8729356819,
                          0.5000141273
                        ],
                        "iteration": 617,
                        "passed_time": 646.1740065,
                        "remaining_time": 4581.77103,
                        "test": [
                          0.6780037313,
                          0.8509506565
                        ]
                      },
                      {
                        "learn": [
                          0.8729432862,
                          0.4996504396
                        ],
                        "iteration": 618,
                        "passed_time": 647.1295402,
                        "remaining_time": 4580.08807,
                        "test": [
                          0.6767583275,
                          0.8508026798
                        ]
                      },
                      {
                        "learn": [
                          0.8732132028,
                          0.4993383049
                        ],
                        "iteration": 619,
                        "passed_time": 648.1093697,
                        "remaining_time": 4578.579096,
                        "test": [
                          0.6767583275,
                          0.8505137782
                        ]
                      },
                      {
                        "learn": [
                          0.8735391605,
                          0.4989647272
                        ],
                        "iteration": 620,
                        "passed_time": 649.66492,
                        "remaining_time": 4581.131537,
                        "test": [
                          0.6773811318,
                          0.850436704
                        ]
                      },
                      {
                        "learn": [
                          0.8732627371,
                          0.4984743878
                        ],
                        "iteration": 621,
                        "passed_time": 650.8645188,
                        "remaining_time": 4581.165375,
                        "test": [
                          0.6773811318,
                          0.8504867393
                        ]
                      },
                      {
                        "learn": [
                          0.872936587,
                          0.4982513386
                        ],
                        "iteration": 622,
                        "passed_time": 651.8968388,
                        "remaining_time": 4580.020006,
                        "test": [
                          0.6773811318,
                          0.8503020687
                        ]
                      },
                      {
                        "learn": [
                          0.8735618731,
                          0.4979006283
                        ],
                        "iteration": 623,
                        "passed_time": 652.9269018,
                        "remaining_time": 4578.85917,
                        "test": [
                          0.6768318601,
                          0.8502518757
                        ]
                      },
                      {
                        "learn": [
                          0.8735591367,
                          0.4975353017
                        ],
                        "iteration": 624,
                        "passed_time": 653.9097953,
                        "remaining_time": 4577.368567,
                        "test": [
                          0.6773811318,
                          0.8502963076
                        ]
                      },
                      {
                        "learn": [
                          0.8755191635,
                          0.4969435711
                        ],
                        "iteration": 625,
                        "passed_time": 654.8398261,
                        "remaining_time": 4575.510222,
                        "test": [
                          0.6768161096,
                          0.8506333022
                        ]
                      },
                      {
                        "learn": [
                          0.8758652003,
                          0.4965124927
                        ],
                        "iteration": 626,
                        "passed_time": 655.7587653,
                        "remaining_time": 4573.577481,
                        "test": [
                          0.6766706934,
                          0.8498923089
                        ]
                      },
                      {
                        "learn": [
                          0.8755934687,
                          0.4962534591
                        ],
                        "iteration": 627,
                        "passed_time": 656.6772473,
                        "remaining_time": 4571.644785,
                        "test": [
                          0.6782136435,
                          0.849952152
                        ]
                      },
                      {
                        "learn": [
                          0.8761268194,
                          0.495922833
                        ],
                        "iteration": 628,
                        "passed_time": 657.5589157,
                        "remaining_time": 4569.459492,
                        "test": [
                          0.678961263,
                          0.8500007492
                        ]
                      },
                      {
                        "learn": [
                          0.8761268194,
                          0.4957375561
                        ],
                        "iteration": 629,
                        "passed_time": 658.4786708,
                        "remaining_time": 4567.542526,
                        "test": [
                          0.6788983512,
                          0.8499473794
                        ]
                      },
                      {
                        "learn": [
                          0.875547388,
                          0.4954248159
                        ],
                        "iteration": 630,
                        "passed_time": 659.504833,
                        "remaining_time": 4566.365476,
                        "test": [
                          0.6788983512,
                          0.8495647728
                        ]
                      },
                      {
                        "learn": [
                          0.8756069906,
                          0.4952240743
                        ],
                        "iteration": 631,
                        "passed_time": 660.4980742,
                        "remaining_time": 4564.961374,
                        "test": [
                          0.6788983512,
                          0.8495295117
                        ]
                      },
                      {
                        "learn": [
                          0.8758770964,
                          0.4949086791
                        ],
                        "iteration": 632,
                        "passed_time": 661.8196663,
                        "remaining_time": 4565.823827,
                        "test": [
                          0.6788709868,
                          0.8493567388
                        ]
                      },
                      {
                        "learn": [
                          0.8761416638,
                          0.494488525
                        ],
                        "iteration": 633,
                        "passed_time": 663.2122479,
                        "remaining_time": 4567.168256,
                        "test": [
                          0.67893358,
                          0.8489335857
                        ]
                      },
                      {
                        "learn": [
                          0.8764365684,
                          0.4940979067
                        ],
                        "iteration": 634,
                        "passed_time": 664.1373774,
                        "remaining_time": 4565.290791,
                        "test": [
                          0.6787812054,
                          0.8489867496
                        ]
                      },
                      {
                        "learn": [
                          0.8764212721,
                          0.4934844734
                        ],
                        "iteration": 635,
                        "passed_time": 665.1200668,
                        "remaining_time": 4563.811276,
                        "test": [
                          0.67893358,
                          0.8491158908
                        ]
                      },
                      {
                        "learn": [
                          0.8772571166,
                          0.493045262
                        ],
                        "iteration": 636,
                        "passed_time": 666.0738206,
                        "remaining_time": 4562.135132,
                        "test": [
                          0.6776666297,
                          0.8490861683
                        ]
                      },
                      {
                        "learn": [
                          0.8775809805,
                          0.4928296796
                        ],
                        "iteration": 637,
                        "passed_time": 667.08373,
                        "remaining_time": 4560.845188,
                        "test": [
                          0.677044554,
                          0.849004033
                        ]
                      },
                      {
                        "learn": [
                          0.8772571166,
                          0.4925948772
                        ],
                        "iteration": 638,
                        "passed_time": 668.020076,
                        "remaining_time": 4559.054071,
                        "test": [
                          0.6776264242,
                          0.8489413928
                        ]
                      },
                      {
                        "learn": [
                          0.8778282895,
                          0.492347562
                        ],
                        "iteration": 639,
                        "passed_time": 668.9391019,
                        "remaining_time": 4557.147632,
                        "test": [
                          0.6776264242,
                          0.8488989515
                        ]
                      },
                      {
                        "learn": [
                          0.8784370659,
                          0.4919315505
                        ],
                        "iteration": 640,
                        "passed_time": 669.8668983,
                        "remaining_time": 4555.303915,
                        "test": [
                          0.6776264242,
                          0.8483679337
                        ]
                      },
                      {
                        "learn": [
                          0.878121784,
                          0.4916205544
                        ],
                        "iteration": 641,
                        "passed_time": 670.8737177,
                        "remaining_time": 4553.999473,
                        "test": [
                          0.6770572018,
                          0.847805279
                        ]
                      },
                      {
                        "learn": [
                          0.8786966815,
                          0.4912740716
                        ],
                        "iteration": 642,
                        "passed_time": 671.9340004,
                        "remaining_time": 4553.058227,
                        "test": [
                          0.677679449,
                          0.8476576944
                        ]
                      },
                      {
                        "learn": [
                          0.8794836725,
                          0.4908981996
                        ],
                        "iteration": 643,
                        "passed_time": 672.8596114,
                        "remaining_time": 4551.205694,
                        "test": [
                          0.677679449,
                          0.8477651905
                        ]
                      },
                      {
                        "learn": [
                          0.8794836725,
                          0.490686675
                        ],
                        "iteration": 644,
                        "passed_time": 674.2061702,
                        "remaining_time": 4552.19825,
                        "test": [
                          0.677679449,
                          0.8478780466
                        ]
                      },
                      {
                        "learn": [
                          0.8794836725,
                          0.490546993
                        ],
                        "iteration": 645,
                        "passed_time": 675.5790656,
                        "remaining_time": 4553.361071,
                        "test": [
                          0.677679449,
                          0.847855409
                        ]
                      },
                      {
                        "learn": [
                          0.8797824763,
                          0.4901771478
                        ],
                        "iteration": 646,
                        "passed_time": 676.9317023,
                        "remaining_time": 4554.379753,
                        "test": [
                          0.677679449,
                          0.8475129435
                        ]
                      },
                      {
                        "learn": [
                          0.8797270681,
                          0.4898867184
                        ],
                        "iteration": 647,
                        "passed_time": 677.8647717,
                        "remaining_time": 4552.573281,
                        "test": [
                          0.677679449,
                          0.8474547347
                        ]
                      },
                      {
                        "learn": [
                          0.8800448786,
                          0.4896143398
                        ],
                        "iteration": 648,
                        "passed_time": 678.7812497,
                        "remaining_time": 4550.65827,
                        "test": [
                          0.6770572018,
                          0.8474524584
                        ]
                      },
                      {
                        "learn": [
                          0.8797488862,
                          0.4891810107
                        ],
                        "iteration": 649,
                        "passed_time": 679.6637044,
                        "remaining_time": 4548.518637,
                        "test": [
                          0.6769683743,
                          0.8478324852
                        ]
                      },
                      {
                        "learn": [
                          0.8797336685,
                          0.4889700786
                        ],
                        "iteration": 650,
                        "passed_time": 680.582637,
                        "remaining_time": 4546.626557,
                        "test": [
                          0.6763464702,
                          0.8479272485
                        ]
                      },
                      {
                        "learn": [
                          0.8800560888,
                          0.4887516054
                        ],
                        "iteration": 651,
                        "passed_time": 681.5145782,
                        "remaining_time": 4544.824211,
                        "test": [
                          0.6769198597,
                          0.8480883743
                        ]
                      },
                      {
                        "learn": [
                          0.8798090709,
                          0.4885718085
                        ],
                        "iteration": 652,
                        "passed_time": 682.4575853,
                        "remaining_time": 4543.098198,
                        "test": [
                          0.6769198597,
                          0.8482067081
                        ]
                      },
                      {
                        "learn": [
                          0.8803859721,
                          0.4880069629
                        ],
                        "iteration": 653,
                        "passed_time": 683.4808195,
                        "remaining_time": 4541.907709,
                        "test": [
                          0.6763664217,
                          0.8481101043
                        ]
                      },
                      {
                        "learn": [
                          0.8809628536,
                          0.4877541966
                        ],
                        "iteration": 654,
                        "passed_time": 684.505789,
                        "remaining_time": 4540.729241,
                        "test": [
                          0.6763415364,
                          0.8483377094
                        ]
                      },
                      {
                        "learn": [
                          0.8810149994,
                          0.4876029248
                        ],
                        "iteration": 655,
                        "passed_time": 685.3987464,
                        "remaining_time": 4538.677064,
                        "test": [
                          0.6763415364,
                          0.8485127765
                        ]
                      },
                      {
                        "learn": [
                          0.8813257339,
                          0.4873989339
                        ],
                        "iteration": 656,
                        "passed_time": 686.5878344,
                        "remaining_time": 4538.585943,
                        "test": [
                          0.6763415364,
                          0.8485780625
                        ]
                      },
                      {
                        "learn": [
                          0.881003186,
                          0.4870044827
                        ],
                        "iteration": 657,
                        "passed_time": 688.0383004,
                        "remaining_time": 4540.216262,
                        "test": [
                          0.6763415364,
                          0.848924979
                        ]
                      },
                      {
                        "learn": [
                          0.8821708427,
                          0.4866846386
                        ],
                        "iteration": 658,
                        "passed_time": 689.0187743,
                        "remaining_time": 4538.741273,
                        "test": [
                          0.675731082,
                          0.8489604945
                        ]
                      },
                      {
                        "learn": [
                          0.8816377648,
                          0.4864663289
                        ],
                        "iteration": 659,
                        "passed_time": 690.0012249,
                        "remaining_time": 4537.280782,
                        "test": [
                          0.6757711746,
                          0.8490821575
                        ]
                      },
                      {
                        "learn": [
                          0.8819273483,
                          0.4860258279
                        ],
                        "iteration": 660,
                        "passed_time": 690.9172572,
                        "remaining_time": 4535.385748,
                        "test": [
                          0.6751492967,
                          0.8491708784
                        ]
                      },
                      {
                        "learn": [
                          0.8824586299,
                          0.485717434
                        ],
                        "iteration": 661,
                        "passed_time": 691.8855489,
                        "remaining_time": 4533.83612,
                        "test": [
                          0.6750760728,
                          0.8492708577
                        ]
                      },
                      {
                        "learn": [
                          0.8824586299,
                          0.485447007
                        ],
                        "iteration": 662,
                        "passed_time": 692.9428037,
                        "remaining_time": 4532.870196,
                        "test": [
                          0.6743820986,
                          0.849299588
                        ]
                      },
                      {
                        "learn": [
                          0.8830440202,
                          0.4848062676
                        ],
                        "iteration": 663,
                        "passed_time": 693.8159574,
                        "remaining_time": 4530.701794,
                        "test": [
                          0.6750216738,
                          0.8484776371
                        ]
                      },
                      {
                        "learn": [
                          0.8832937969,
                          0.4845604942
                        ],
                        "iteration": 664,
                        "passed_time": 694.7219912,
                        "remaining_time": 4528.751627,
                        "test": [
                          0.6743382909,
                          0.848666622
                        ]
                      },
                      {
                        "learn": [
                          0.8838197418,
                          0.4842069345
                        ],
                        "iteration": 665,
                        "passed_time": 695.6481166,
                        "remaining_time": 4526.935341,
                        "test": [
                          0.6744095497,
                          0.8486040856
                        ]
                      },
                      {
                        "learn": [
                          0.8843992164,
                          0.4840036159
                        ],
                        "iteration": 666,
                        "passed_time": 696.5913529,
                        "remaining_time": 4525.232881,
                        "test": [
                          0.6756017208,
                          0.8484409659
                        ]
                      },
                      {
                        "learn": [
                          0.8844431343,
                          0.4834760638
                        ],
                        "iteration": 667,
                        "passed_time": 697.5304409,
                        "remaining_time": 4523.505794,
                        "test": [
                          0.675736107,
                          0.8479103938
                        ]
                      },
                      {
                        "learn": [
                          0.8852489606,
                          0.4829547475
                        ],
                        "iteration": 668,
                        "passed_time": 698.6100027,
                        "remaining_time": 4522.690466,
                        "test": [
                          0.6744699125,
                          0.8482257144
                        ]
                      },
                      {
                        "learn": [
                          0.8852635991,
                          0.4827298885
                        ],
                        "iteration": 669,
                        "passed_time": 700.06198,
                        "remaining_time": 4524.281154,
                        "test": [
                          0.6745323421,
                          0.8481840357
                        ]
                      },
                      {
                        "learn": [
                          0.8849987813,
                          0.4825568475
                        ],
                        "iteration": 670,
                        "passed_time": 701.1712346,
                        "remaining_time": 4523.651676,
                        "test": [
                          0.6745323421,
                          0.8481961821
                        ]
                      },
                      {
                        "learn": [
                          0.8855171045,
                          0.4821980946
                        ],
                        "iteration": 671,
                        "passed_time": 702.1296844,
                        "remaining_time": 4522.049515,
                        "test": [
                          0.6745120671,
                          0.8480744547
                        ]
                      },
                      {
                        "learn": [
                          0.8855545983,
                          0.4819849779
                        ],
                        "iteration": 672,
                        "passed_time": 703.1234841,
                        "remaining_time": 4520.676546,
                        "test": [
                          0.6750942774,
                          0.8480462346
                        ]
                      },
                      {
                        "learn": [
                          0.8866700729,
                          0.4815639162
                        ],
                        "iteration": 673,
                        "passed_time": 704.1420617,
                        "remaining_time": 4519.463737,
                        "test": [
                          0.6750349169,
                          0.8479643743
                        ]
                      },
                      {
                        "learn": [
                          0.8869013292,
                          0.4811878917
                        ],
                        "iteration": 674,
                        "passed_time": 705.1777307,
                        "remaining_time": 4518.361015,
                        "test": [
                          0.675658359,
                          0.8480323387
                        ]
                      },
                      {
                        "learn": [
                          0.8866380875,
                          0.480937131
                        ],
                        "iteration": 675,
                        "passed_time": 706.2128307,
                        "remaining_time": 4517.254852,
                        "test": [
                          0.6750349169,
                          0.8479054412
                        ]
                      },
                      {
                        "learn": [
                          0.8871787545,
                          0.4805264464
                        ],
                        "iteration": 676,
                        "passed_time": 707.2401324,
                        "remaining_time": 4516.099103,
                        "test": [
                          0.6756170325,
                          0.8474287369
                        ]
                      },
                      {
                        "learn": [
                          0.8874464345,
                          0.4802702682
                        ],
                        "iteration": 677,
                        "passed_time": 708.2084575,
                        "remaining_time": 4514.567778,
                        "test": [
                          0.6762401545,
                          0.8474750631
                        ]
                      },
                      {
                        "learn": [
                          0.8870917826,
                          0.4800718111
                        ],
                        "iteration": 678,
                        "passed_time": 709.1328211,
                        "remaining_time": 4512.75835,
                        "test": [
                          0.675092376,
                          0.8477293115
                        ]
                      },
                      {
                        "learn": [
                          0.8868278771,
                          0.4796070954
                        ],
                        "iteration": 679,
                        "passed_time": 710.0753483,
                        "remaining_time": 4511.066919,
                        "test": [
                          0.675051392,
                          0.8478134244
                        ]
                      },
                      {
                        "learn": [
                          0.8871206901,
                          0.4792123589
                        ],
                        "iteration": 680,
                        "passed_time": 711.2283576,
                        "remaining_time": 4510.712594,
                        "test": [
                          0.6744019356,
                          0.8480674137
                        ]
                      },
                      {
                        "learn": [
                          0.8874427228,
                          0.4790151922
                        ],
                        "iteration": 681,
                        "passed_time": 712.7683569,
                        "remaining_time": 4512.806107,
                        "test": [
                          0.6750282564,
                          0.8480451274
                        ]
                      },
                      {
                        "learn": [
                          0.8874427228,
                          0.4788124018
                        ],
                        "iteration": 682,
                        "passed_time": 713.8551641,
                        "remaining_time": 4512.024515,
                        "test": [
                          0.6762631768,
                          0.8481813902
                        ]
                      },
                      {
                        "learn": [
                          0.8874355977,
                          0.4785131136
                        ],
                        "iteration": 683,
                        "passed_time": 714.9732627,
                        "remaining_time": 4511.439476,
                        "test": [
                          0.6762523522,
                          0.8477968868
                        ]
                      },
                      {
                        "learn": [
                          0.8877288915,
                          0.4781716898
                        ],
                        "iteration": 684,
                        "passed_time": 715.9148974,
                        "remaining_time": 4509.741288,
                        "test": [
                          0.6750596309,
                          0.8480504016
                        ]
                      },
                      {
                        "learn": [
                          0.8878403872,
                          0.4776692594
                        ],
                        "iteration": 685,
                        "passed_time": 716.7923816,
                        "remaining_time": 4507.641887,
                        "test": [
                          0.6755526463,
                          0.848368176
                        ]
                      },
                      {
                        "learn": [
                          0.8869922147,
                          0.4769677109
                        ],
                        "iteration": 686,
                        "passed_time": 717.7175914,
                        "remaining_time": 4505.845665,
                        "test": [
                          0.6773512378,
                          0.8484050303
                        ]
                      },
                      {
                        "learn": [
                          0.8875277553,
                          0.4767374386
                        ],
                        "iteration": 687,
                        "passed_time": 719.0517959,
                        "remaining_time": 4506.615325,
                        "test": [
                          0.6767376008,
                          0.8484472518
                        ]
                      },
                      {
                        "learn": [
                          0.8875553785,
                          0.4761122703
                        ],
                        "iteration": 688,
                        "passed_time": 720.0883043,
                        "remaining_time": 4505.516226,
                        "test": [
                          0.6742566112,
                          0.848545581
                        ]
                      },
                      {
                        "learn": [
                          0.8875082702,
                          0.4757592451
                        ],
                        "iteration": 689,
                        "passed_time": 721.0209637,
                        "remaining_time": 4503.768629,
                        "test": [
                          0.6748688321,
                          0.8484333019
                        ]
                      },
                      {
                        "learn": [
                          0.8880507441,
                          0.4755470529
                        ],
                        "iteration": 690,
                        "passed_time": 722.0604926,
                        "remaining_time": 4502.689816,
                        "test": [
                          0.6733433936,
                          0.8484840602
                        ]
                      },
                      {
                        "learn": [
                          0.8880446756,
                          0.4754127167
                        ],
                        "iteration": 691,
                        "passed_time": 723.1137041,
                        "remaining_time": 4501.696297,
                        "test": [
                          0.6727204711,
                          0.8484712886
                        ]
                      },
                      {
                        "learn": [
                          0.8886803665,
                          0.4750684293
                        ],
                        "iteration": 692,
                        "passed_time": 724.5841039,
                        "remaining_time": 4503.295433,
                        "test": [
                          0.6733433936,
                          0.8486323061
                        ]
                      },
                      {
                        "learn": [
                          0.8881380918,
                          0.4748781154
                        ],
                        "iteration": 693,
                        "passed_time": 725.8760313,
                        "remaining_time": 4503.778373,
                        "test": [
                          0.6726987926,
                          0.8486491827
                        ]
                      },
                      {
                        "learn": [
                          0.8886680263,
                          0.4743913823
                        ],
                        "iteration": 694,
                        "passed_time": 726.8941025,
                        "remaining_time": 4502.559873,
                        "test": [
                          0.6721360461,
                          0.8485113241
                        ]
                      },
                      {
                        "learn": [
                          0.8887170146,
                          0.4742313497
                        ],
                        "iteration": 695,
                        "passed_time": 727.9441968,
                        "remaining_time": 4501.539975,
                        "test": [
                          0.6721360461,
                          0.8485056112
                        ]
                      },
                      {
                        "learn": [
                          0.8889858925,
                          0.4739940983
                        ],
                        "iteration": 696,
                        "passed_time": 728.9322707,
                        "remaining_time": 4500.137103,
                        "test": [
                          0.6721360461,
                          0.848347053
                        ]
                      },
                      {
                        "learn": [
                          0.8887629463,
                          0.4737062857
                        ],
                        "iteration": 697,
                        "passed_time": 729.9529407,
                        "remaining_time": 4498.936319,
                        "test": [
                          0.6727600116,
                          0.8480978761
                        ]
                      },
                      {
                        "learn": [
                          0.8884839216,
                          0.4732189382
                        ],
                        "iteration": 698,
                        "passed_time": 730.935943,
                        "remaining_time": 4497.504279,
                        "test": [
                          0.6734315513,
                          0.8481480614
                        ]
                      },
                      {
                        "learn": [
                          0.8882129602,
                          0.4730396655
                        ],
                        "iteration": 699,
                        "passed_time": 731.8792317,
                        "remaining_time": 4495.829566,
                        "test": [
                          0.6734315513,
                          0.8480069129
                        ]
                      },
                      {
                        "learn": [
                          0.8887621858,
                          0.4727067738
                        ],
                        "iteration": 700,
                        "passed_time": 732.8307195,
                        "remaining_time": 4494.207223,
                        "test": [
                          0.6722057235,
                          0.8481252556
                        ]
                      },
                      {
                        "learn": [
                          0.8890971518,
                          0.4722510146
                        ],
                        "iteration": 701,
                        "passed_time": 733.7522018,
                        "remaining_time": 4492.403082,
                        "test": [
                          0.6715812592,
                          0.8479599883
                        ]
                      },
                      {
                        "learn": [
                          0.8896395751,
                          0.4714866293
                        ],
                        "iteration": 702,
                        "passed_time": 734.6543052,
                        "remaining_time": 4490.483,
                        "test": [
                          0.6739743817,
                          0.848204133
                        ]
                      },
                      {
                        "learn": [
                          0.8894100878,
                          0.4710633822
                        ],
                        "iteration": 703,
                        "passed_time": 735.5934992,
                        "remaining_time": 4488.792149,
                        "test": [
                          0.6732349606,
                          0.8481883876
                        ]
                      },
                      {
                        "learn": [
                          0.8896738799,
                          0.4705853592
                        ],
                        "iteration": 704,
                        "passed_time": 737.0315055,
                        "remaining_time": 4490.142292,
                        "test": [
                          0.6732293916,
                          0.8482841602
                        ]
                      },
                      {
                        "learn": [
                          0.8907486666,
                          0.4703659436
                        ],
                        "iteration": 705,
                        "passed_time": 738.3206823,
                        "remaining_time": 4490.579334,
                        "test": [
                          0.6726208868,
                          0.8484764057
                        ]
                      },
                      {
                        "learn": [
                          0.8910540668,
                          0.4698883945
                        ],
                        "iteration": 706,
                        "passed_time": 739.2399097,
                        "remaining_time": 4488.76511,
                        "test": [
                          0.6706179186,
                          0.8487030604
                        ]
                      },
                      {
                        "learn": [
                          0.8913253268,
                          0.469394138
                        ],
                        "iteration": 707,
                        "passed_time": 740.1844726,
                        "remaining_time": 4487.107,
                        "test": [
                          0.6727799835,
                          0.8490925198
                        ]
                      },
                      {
                        "learn": [
                          0.8915892645,
                          0.4689484093
                        ],
                        "iteration": 708,
                        "passed_time": 741.1346283,
                        "remaining_time": 4485.484753,
                        "test": [
                          0.6722009718,
                          0.849031254
                        ]
                      },
                      {
                        "learn": [
                          0.8921384297,
                          0.468479296
                        ],
                        "iteration": 709,
                        "passed_time": 742.0909043,
                        "remaining_time": 4483.90138,
                        "test": [
                          0.6726934367,
                          0.8490490727
                        ]
                      },
                      {
                        "learn": [
                          0.8926222568,
                          0.4681547105
                        ],
                        "iteration": 710,
                        "passed_time": 743.0273898,
                        "remaining_time": 4482.200386,
                        "test": [
                          0.6733190688,
                          0.8489257
                        ]
                      },
                      {
                        "learn": [
                          0.8928862044,
                          0.4676845346
                        ],
                        "iteration": 711,
                        "passed_time": 743.9563063,
                        "remaining_time": 4480.455957,
                        "test": [
                          0.6731162307,
                          0.8488385524
                        ]
                      },
                      {
                        "learn": [
                          0.8928767397,
                          0.4673078811
                        ],
                        "iteration": 712,
                        "passed_time": 744.8974317,
                        "remaining_time": 4478.787223,
                        "test": [
                          0.6731162307,
                          0.8489704255
                        ]
                      },
                      {
                        "learn": [
                          0.8931620335,
                          0.4665766417
                        ],
                        "iteration": 713,
                        "passed_time": 745.8208823,
                        "remaining_time": 4477.014428,
                        "test": [
                          0.6721817446,
                          0.849017568
                        ]
                      },
                      {
                        "learn": [
                          0.8934424027,
                          0.4663007465
                        ],
                        "iteration": 714,
                        "passed_time": 746.7462731,
                        "remaining_time": 4475.255637,
                        "test": [
                          0.6721817446,
                          0.8490497415
                        ]
                      },
                      {
                        "learn": [
                          0.8931853846,
                          0.4660357882
                        ],
                        "iteration": 715,
                        "passed_time": 747.6415136,
                        "remaining_time": 4473.318777,
                        "test": [
                          0.6721817446,
                          0.8489874509
                        ]
                      },
                      {
                        "learn": [
                          0.8923596608,
                          0.4657054619
                        ],
                        "iteration": 716,
                        "passed_time": 748.8931716,
                        "remaining_time": 4473.513883,
                        "test": [
                          0.6728650268,
                          0.8493125866
                        ]
                      },
                      {
                        "learn": [
                          0.8928990985,
                          0.4653857403
                        ],
                        "iteration": 717,
                        "passed_time": 750.357748,
                        "remaining_time": 4474.974759,
                        "test": [
                          0.6728686006,
                          0.8491742835
                        ]
                      },
                      {
                        "learn": [
                          0.8928990985,
                          0.4650300462
                        ],
                        "iteration": 718,
                        "passed_time": 751.5161142,
                        "remaining_time": 4474.60429,
                        "test": [
                          0.6727635241,
                          0.8490049417
                        ]
                      },
                      {
                        "learn": [
                          0.8926282055,
                          0.4648876687
                        ],
                        "iteration": 719,
                        "passed_time": 752.4472733,
                        "remaining_time": 4472.881014,
                        "test": [
                          0.6727635241,
                          0.8490302447
                        ]
                      },
                      {
                        "learn": [
                          0.892088536,
                          0.4646599532
                        ],
                        "iteration": 720,
                        "passed_time": 753.3806867,
                        "remaining_time": 4471.173313,
                        "test": [
                          0.6728686006,
                          0.8491546046
                        ]
                      },
                      {
                        "learn": [
                          0.8923168032,
                          0.4641649796
                        ],
                        "iteration": 721,
                        "passed_time": 754.2536315,
                        "remaining_time": 4469.109468,
                        "test": [
                          0.673492462,
                          0.8486535969
                        ]
                      },
                      {
                        "learn": [
                          0.8920456527,
                          0.4638884272
                        ],
                        "iteration": 722,
                        "passed_time": 755.172922,
                        "remaining_time": 4467.323081,
                        "test": [
                          0.6729611452,
                          0.8485573091
                        ]
                      },
                      {
                        "learn": [
                          0.8928655649,
                          0.4635309747
                        ],
                        "iteration": 723,
                        "passed_time": 756.0988722,
                        "remaining_time": 4465.578422,
                        "test": [
                          0.6729611452,
                          0.8488162332
                        ]
                      },
                      {
                        "learn": [
                          0.8923132263,
                          0.4633599178
                        ],
                        "iteration": 724,
                        "passed_time": 757.0173218,
                        "remaining_time": 4463.791794,
                        "test": [
                          0.673540178,
                          0.8487918043
                        ]
                      },
                      {
                        "learn": [
                          0.8926304809,
                          0.4632010325
                        ],
                        "iteration": 725,
                        "passed_time": 757.9561012,
                        "remaining_time": 4462.127241,
                        "test": [
                          0.673540178,
                          0.848861211
                        ]
                      },
                      {
                        "learn": [
                          0.893213817,
                          0.4628378018
                        ],
                        "iteration": 726,
                        "passed_time": 758.9832223,
                        "remaining_time": 4460.983919,
                        "test": [
                          0.6727337417,
                          0.8485201584
                        ]
                      },
                      {
                        "learn": [
                          0.8932583101,
                          0.4623227255
                        ],
                        "iteration": 727,
                        "passed_time": 759.9512772,
                        "remaining_time": 4459.494308,
                        "test": [
                          0.6729150591,
                          0.8485155482
                        ]
                      },
                      {
                        "learn": [
                          0.8932583101,
                          0.4619912887
                        ],
                        "iteration": 728,
                        "passed_time": 760.8616653,
                        "remaining_time": 4457.668275,
                        "test": [
                          0.6721092455,
                          0.8485657345
                        ]
                      },
                      {
                        "learn": [
                          0.8932035561,
                          0.4617755107
                        ],
                        "iteration": 729,
                        "passed_time": 762.4624831,
                        "remaining_time": 4459.883291,
                        "test": [
                          0.6721092455,
                          0.8483691068
                        ]
                      },
                      {
                        "learn": [
                          0.8929328832,
                          0.4616820856
                        ],
                        "iteration": 730,
                        "passed_time": 763.8558627,
                        "remaining_time": 4460.876441,
                        "test": [
                          0.6721092455,
                          0.8484266732
                        ]
                      },
                      {
                        "learn": [
                          0.8931982171,
                          0.4612853351
                        ],
                        "iteration": 731,
                        "passed_time": 764.8904136,
                        "remaining_time": 4459.770882,
                        "test": [
                          0.6720403033,
                          0.8481102705
                        ]
                      },
                      {
                        "learn": [
                          0.8937781911,
                          0.4606563062
                        ],
                        "iteration": 732,
                        "passed_time": 765.8447351,
                        "remaining_time": 4458.198479,
                        "test": [
                          0.6721237758,
                          0.8482470757
                        ]
                      },
                      {
                        "learn": [
                          0.8935127485,
                          0.4600580673
                        ],
                        "iteration": 733,
                        "passed_time": 767.076716,
                        "remaining_time": 4458.241513,
                        "test": [
                          0.6719857705,
                          0.8478250956
                        ]
                      },
                      {
                        "learn": [
                          0.8940475165,
                          0.4598316868
                        ],
                        "iteration": 734,
                        "passed_time": 768.0734638,
                        "remaining_time": 4456.916086,
                        "test": [
                          0.6720543892,
                          0.8479981367
                        ]
                      },
                      {
                        "learn": [
                          0.894358184,
                          0.4596560213
                        ],
                        "iteration": 735,
                        "passed_time": 769.032125,
                        "remaining_time": 4455.370898,
                        "test": [
                          0.6720543892,
                          0.8480842109
                        ]
                      },
                      {
                        "learn": [
                          0.8951703152,
                          0.4593979379
                        ],
                        "iteration": 736,
                        "passed_time": 770.0354249,
                        "remaining_time": 4454.085504,
                        "test": [
                          0.6721237758,
                          0.8480848068
                        ]
                      },
                      {
                        "learn": [
                          0.8951703152,
                          0.4592070961
                        ],
                        "iteration": 737,
                        "passed_time": 771.065028,
                        "remaining_time": 4452.952777,
                        "test": [
                          0.6721237758,
                          0.8479630018
                        ]
                      },
                      {
                        "learn": [
                          0.8946679267,
                          0.4588616548
                        ],
                        "iteration": 738,
                        "passed_time": 772.0181383,
                        "remaining_time": 4451.379279,
                        "test": [
                          0.6721237758,
                          0.8480340034
                        ]
                      },
                      {
                        "learn": [
                          0.8946679267,
                          0.458641653
                        ],
                        "iteration": 739,
                        "passed_time": 773.0272936,
                        "remaining_time": 4450.130096,
                        "test": [
                          0.672701782,
                          0.8477089587
                        ]
                      },
                      {
                        "learn": [
                          0.8949450847,
                          0.4582446637
                        ],
                        "iteration": 740,
                        "passed_time": 774.1408819,
                        "remaining_time": 4449.481803,
                        "test": [
                          0.672701782,
                          0.8478704376
                        ]
                      },
                      {
                        "learn": [
                          0.8955287171,
                          0.4579492749
                        ],
                        "iteration": 741,
                        "passed_time": 775.594722,
                        "remaining_time": 4450.784806,
                        "test": [
                          0.672701782,
                          0.8475875987
                        ]
                      },
                      {
                        "learn": [
                          0.8957999537,
                          0.4577588819
                        ],
                        "iteration": 742,
                        "passed_time": 776.8162498,
                        "remaining_time": 4450.749361,
                        "test": [
                          0.672701782,
                          0.8472380943
                        ]
                      },
                      {
                        "learn": [
                          0.8966966509,
                          0.4573037529
                        ],
                        "iteration": 743,
                        "passed_time": 777.7322226,
                        "remaining_time": 4448.962822,
                        "test": [
                          0.6732258515,
                          0.8469324861
                        ]
                      },
                      {
                        "learn": [
                          0.896648031,
                          0.4567263395
                        ],
                        "iteration": 744,
                        "passed_time": 778.6940886,
                        "remaining_time": 4447.440734,
                        "test": [
                          0.673827041,
                          0.8466859051
                        ]
                      },
                      {
                        "learn": [
                          0.896648031,
                          0.4565736722
                        ],
                        "iteration": 745,
                        "passed_time": 779.7333159,
                        "remaining_time": 4446.361295,
                        "test": [
                          0.673827041,
                          0.8466449711
                        ]
                      },
                      {
                        "learn": [
                          0.896912349,
                          0.4563671081
                        ],
                        "iteration": 746,
                        "passed_time": 780.7375597,
                        "remaining_time": 4445.082786,
                        "test": [
                          0.673827041,
                          0.84619988
                        ]
                      },
                      {
                        "learn": [
                          0.8972253354,
                          0.4560506991
                        ],
                        "iteration": 747,
                        "passed_time": 781.6850684,
                        "remaining_time": 4443.482501,
                        "test": [
                          0.673827041,
                          0.845869614
                        ]
                      },
                      {
                        "learn": [
                          0.8972253354,
                          0.4557836638
                        ],
                        "iteration": 748,
                        "passed_time": 782.6982294,
                        "remaining_time": 4442.256573,
                        "test": [
                          0.6732478994,
                          0.845778046
                        ]
                      },
                      {
                        "learn": [
                          0.8971806669,
                          0.4554724908
                        ],
                        "iteration": 749,
                        "passed_time": 783.6264802,
                        "remaining_time": 4440.550054,
                        "test": [
                          0.673827041,
                          0.845538372
                        ]
                      },
                      {
                        "learn": [
                          0.8971808042,
                          0.4552090696
                        ],
                        "iteration": 750,
                        "passed_time": 784.5559345,
                        "remaining_time": 4438.852418,
                        "test": [
                          0.673827041,
                          0.8457452726
                        ]
                      },
                      {
                        "learn": [
                          0.8971808042,
                          0.4550207919
                        ],
                        "iteration": 751,
                        "passed_time": 785.4607994,
                        "remaining_time": 4437.01792,
                        "test": [
                          0.6738964524,
                          0.8455107679
                        ]
                      },
                      {
                        "learn": [
                          0.8971808042,
                          0.4546941959
                        ],
                        "iteration": 752,
                        "passed_time": 786.6055324,
                        "remaining_time": 4436.538773,
                        "test": [
                          0.6738964524,
                          0.8455260628
                        ]
                      },
                      {
                        "learn": [
                          0.8974937986,
                          0.4545188835
                        ],
                        "iteration": 753,
                        "passed_time": 788.047024,
                        "remaining_time": 4437.728997,
                        "test": [
                          0.6738964524,
                          0.845679919
                        ]
                      },
                      {
                        "learn": [
                          0.8968398722,
                          0.4542559188
                        ],
                        "iteration": 754,
                        "passed_time": 789.4377297,
                        "remaining_time": 4438.626705,
                        "test": [
                          0.675490746,
                          0.8457718494
                        ]
                      },
                      {
                        "learn": [
                          0.8968763873,
                          0.4540017404
                        ],
                        "iteration": 755,
                        "passed_time": 790.4140366,
                        "remaining_time": 4437.192025,
                        "test": [
                          0.675490746,
                          0.8456102378
                        ]
                      },
                      {
                        "learn": [
                          0.8968763873,
                          0.4538207761
                        ],
                        "iteration": 756,
                        "passed_time": 791.4134376,
                        "remaining_time": 4435.888,
                        "test": [
                          0.675490746,
                          0.8455627549
                        ]
                      },
                      {
                        "learn": [
                          0.8971635263,
                          0.4535545076
                        ],
                        "iteration": 757,
                        "passed_time": 792.4153211,
                        "remaining_time": 4434.59867,
                        "test": [
                          0.6767415114,
                          0.8457118064
                        ]
                      },
                      {
                        "learn": [
                          0.8974679531,
                          0.4534268461
                        ],
                        "iteration": 758,
                        "passed_time": 793.3349922,
                        "remaining_time": 4432.850727,
                        "test": [
                          0.676136007,
                          0.8457681496
                        ]
                      },
                      {
                        "learn": [
                          0.8974679531,
                          0.4529410096
                        ],
                        "iteration": 759,
                        "passed_time": 794.2327953,
                        "remaining_time": 4430.982963,
                        "test": [
                          0.6762039011,
                          0.8455297337
                        ]
                      },
                      {
                        "learn": [
                          0.8985886392,
                          0.4527223992
                        ],
                        "iteration": 760,
                        "passed_time": 795.1848098,
                        "remaining_time": 4429.419722,
                        "test": [
                          0.6773885246,
                          0.8455475815
                        ]
                      },
                      {
                        "learn": [
                          0.8988962821,
                          0.4525297346
                        ],
                        "iteration": 761,
                        "passed_time": 796.1072292,
                        "remaining_time": 4427.693488,
                        "test": [
                          0.676807714,
                          0.8454958496
                        ]
                      },
                      {
                        "learn": [
                          0.8988483949,
                          0.452242972
                        ],
                        "iteration": 762,
                        "passed_time": 797.0617698,
                        "remaining_time": 4426.147731,
                        "test": [
                          0.6773885246,
                          0.8452201824
                        ]
                      },
                      {
                        "learn": [
                          0.8991227045,
                          0.4518970472
                        ],
                        "iteration": 763,
                        "passed_time": 798.0799841,
                        "remaining_time": 4424.956561,
                        "test": [
                          0.676807714,
                          0.84482266
                        ]
                      },
                      {
                        "learn": [
                          0.8993915115,
                          0.4517290945
                        ],
                        "iteration": 764,
                        "passed_time": 799.0546902,
                        "remaining_time": 4423.524984,
                        "test": [
                          0.6773885246,
                          0.8447599264
                        ]
                      },
                      {
                        "learn": [
                          0.8997052569,
                          0.4515428015
                        ],
                        "iteration": 765,
                        "passed_time": 800.5106057,
                        "remaining_time": 4424.754445,
                        "test": [
                          0.6773885246,
                          0.8447486263
                        ]
                      },
                      {
                        "learn": [
                          0.8991214237,
                          0.4512036903
                        ],
                        "iteration": 766,
                        "passed_time": 801.8198376,
                        "remaining_time": 4425.16737,
                        "test": [
                          0.6767623541,
                          0.8444843262
                        ]
                      },
                      {
                        "learn": [
                          0.8997004354,
                          0.4508483115
                        ],
                        "iteration": 767,
                        "passed_time": 802.7806918,
                        "remaining_time": 4423.656104,
                        "test": [
                          0.6767848615,
                          0.8448176674
                        ]
                      },
                      {
                        "learn": [
                          0.8993426554,
                          0.4505145395
                        ],
                        "iteration": 768,
                        "passed_time": 803.7175405,
                        "remaining_time": 4422.014192,
                        "test": [
                          0.6779741813,
                          0.8450104677
                        ]
                      },
                      {
                        "learn": [
                          0.8996555756,
                          0.4500062961
                        ],
                        "iteration": 769,
                        "passed_time": 804.7249198,
                        "remaining_time": 4420.761572,
                        "test": [
                          0.6773959089,
                          0.8447192241
                        ]
                      },
                      {
                        "learn": [
                          0.8991602963,
                          0.4492184648
                        ],
                        "iteration": 770,
                        "passed_time": 805.7431867,
                        "remaining_time": 4419.569308,
                        "test": [
                          0.676586465,
                          0.8452567477
                        ]
                      },
                      {
                        "learn": [
                          0.8991602963,
                          0.4488155627
                        ],
                        "iteration": 771,
                        "passed_time": 807.0172898,
                        "remaining_time": 4419.778629,
                        "test": [
                          0.676586465,
                          0.8451922498
                        ]
                      },
                      {
                        "learn": [
                          0.8991632052,
                          0.4485821674
                        ],
                        "iteration": 772,
                        "passed_time": 807.9480191,
                        "remaining_time": 4418.106438,
                        "test": [
                          0.6758900407,
                          0.8449475148
                        ]
                      },
                      {
                        "learn": [
                          0.8988895729,
                          0.4483747368
                        ],
                        "iteration": 773,
                        "passed_time": 808.8871451,
                        "remaining_time": 4416.482009,
                        "test": [
                          0.6767950825,
                          0.844935386
                        ]
                      },
                      {
                        "learn": [
                          0.8994197105,
                          0.4481376773
                        ],
                        "iteration": 774,
                        "passed_time": 809.8209106,
                        "remaining_time": 4414.830126,
                        "test": [
                          0.6767950825,
                          0.8448733018
                        ]
                      },
                      {
                        "learn": [
                          0.8997324596,
                          0.4479828197
                        ],
                        "iteration": 775,
                        "passed_time": 810.7440458,
                        "remaining_time": 4413.122228,
                        "test": [
                          0.6760169502,
                          0.8448586408
                        ]
                      },
                      {
                        "learn": [
                          0.9000444184,
                          0.4478589033
                        ],
                        "iteration": 776,
                        "passed_time": 811.7590068,
                        "remaining_time": 4411.915426,
                        "test": [
                          0.6760169502,
                          0.8449648636
                        ]
                      },
                      {
                        "learn": [
                          0.9000444184,
                          0.4474262592
                        ],
                        "iteration": 777,
                        "passed_time": 813.165106,
                        "remaining_time": 4412.831719,
                        "test": [
                          0.676772951,
                          0.8450305589
                        ]
                      },
                      {
                        "learn": [
                          0.9008587184,
                          0.4470949819
                        ],
                        "iteration": 778,
                        "passed_time": 814.4232545,
                        "remaining_time": 4412.940382,
                        "test": [
                          0.676772951,
                          0.8449390409
                        ]
                      },
                      {
                        "learn": [
                          0.9011747026,
                          0.4468286909
                        ],
                        "iteration": 779,
                        "passed_time": 815.3633542,
                        "remaining_time": 4411.324814,
                        "test": [
                          0.6754118872,
                          0.8448629858
                        ]
                      },
                      {
                        "learn": [
                          0.9014787345,
                          0.4465846425
                        ],
                        "iteration": 780,
                        "passed_time": 816.3942719,
                        "remaining_time": 4410.201579,
                        "test": [
                          0.6748304312,
                          0.8448437203
                        ]
                      },
                      {
                        "learn": [
                          0.9017432064,
                          0.4463695312
                        ],
                        "iteration": 781,
                        "passed_time": 817.3596749,
                        "remaining_time": 4408.725203,
                        "test": [
                          0.6748304312,
                          0.8446687768
                        ]
                      },
                      {
                        "learn": [
                          0.9017432064,
                          0.4462211777
                        ],
                        "iteration": 782,
                        "passed_time": 818.3965176,
                        "remaining_time": 4407.634885,
                        "test": [
                          0.6748304312,
                          0.8446601753
                        ]
                      },
                      {
                        "learn": [
                          0.9017432064,
                          0.4456373335
                        ],
                        "iteration": 783,
                        "passed_time": 819.3490886,
                        "remaining_time": 4406.091528,
                        "test": [
                          0.6748304312,
                          0.8438567404
                        ]
                      },
                      {
                        "learn": [
                          0.9020093176,
                          0.4453488547
                        ],
                        "iteration": 784,
                        "passed_time": 820.3884241,
                        "remaining_time": 4405.015551,
                        "test": [
                          0.6748304312,
                          0.8444446937
                        ]
                      },
                      {
                        "learn": [
                          0.9023049897,
                          0.4449423549
                        ],
                        "iteration": 785,
                        "passed_time": 821.2949931,
                        "remaining_time": 4403.227864,
                        "test": [
                          0.6756097939,
                          0.8445646889
                        ]
                      },
                      {
                        "learn": [
                          0.9017165829,
                          0.4447030404
                        ],
                        "iteration": 786,
                        "passed_time": 822.2730632,
                        "remaining_time": 4401.825178,
                        "test": [
                          0.6756097939,
                          0.8446987551
                        ]
                      },
                      {
                        "learn": [
                          0.9017215465,
                          0.4443922187
                        ],
                        "iteration": 787,
                        "passed_time": 823.2689886,
                        "remaining_time": 4400.51901,
                        "test": [
                          0.6756097939,
                          0.8444914276
                        ]
                      },
                      {
                        "learn": [
                          0.9022939675,
                          0.4442451493
                        ],
                        "iteration": 788,
                        "passed_time": 824.4178241,
                        "remaining_time": 4400.02973,
                        "test": [
                          0.6756097939,
                          0.8446181492
                        ]
                      },
                      {
                        "learn": [
                          0.9022939675,
                          0.4437810939
                        ],
                        "iteration": 789,
                        "passed_time": 825.8301873,
                        "remaining_time": 4400.94315,
                        "test": [
                          0.6747054761,
                          0.8443779211
                        ]
                      },
                      {
                        "learn": [
                          0.902875052,
                          0.443511356
                        ],
                        "iteration": 790,
                        "passed_time": 827.1019413,
                        "remaining_time": 4401.102492,
                        "test": [
                          0.675027612,
                          0.8441678731
                        ]
                      },
                      {
                        "learn": [
                          0.902875052,
                          0.4433268643
                        ],
                        "iteration": 791,
                        "passed_time": 828.0369979,
                        "remaining_time": 4399.469302,
                        "test": [
                          0.675027612,
                          0.8443118902
                        ]
                      },
                      {
                        "learn": [
                          0.9026057536,
                          0.4430621116
                        ],
                        "iteration": 792,
                        "passed_time": 828.9873624,
                        "remaining_time": 4397.919084,
                        "test": [
                          0.675027612,
                          0.8442605011
                        ]
                      },
                      {
                        "learn": [
                          0.9037981555,
                          0.4428138738
                        ],
                        "iteration": 793,
                        "passed_time": 830.0222558,
                        "remaining_time": 4396.818146,
                        "test": [
                          0.675027612,
                          0.8444470078
                        ]
                      },
                      {
                        "learn": [
                          0.9037548333,
                          0.4424317984
                        ],
                        "iteration": 794,
                        "passed_time": 830.9960532,
                        "remaining_time": 4395.394219,
                        "test": [
                          0.675027612,
                          0.8442398662
                        ]
                      },
                      {
                        "learn": [
                          0.9034951199,
                          0.4422264788
                        ],
                        "iteration": 795,
                        "passed_time": 831.9602871,
                        "remaining_time": 4393.920913,
                        "test": [
                          0.675027612,
                          0.8440469362
                        ]
                      },
                      {
                        "learn": [
                          0.9028840648,
                          0.4419180817
                        ],
                        "iteration": 796,
                        "passed_time": 832.9884655,
                        "remaining_time": 4392.786098,
                        "test": [
                          0.6750183165,
                          0.8441033773
                        ]
                      },
                      {
                        "learn": [
                          0.9028847383,
                          0.4417594188
                        ],
                        "iteration": 797,
                        "passed_time": 833.9308147,
                        "remaining_time": 4391.199603,
                        "test": [
                          0.6750183165,
                          0.8440683454
                        ]
                      },
                      {
                        "learn": [
                          0.9037250167,
                          0.4415353943
                        ],
                        "iteration": 798,
                        "passed_time": 834.8679576,
                        "remaining_time": 4389.587347,
                        "test": [
                          0.6734863924,
                          0.8440771379
                        ]
                      },
                      {
                        "learn": [
                          0.9040702078,
                          0.4412609564
                        ],
                        "iteration": 799,
                        "passed_time": 835.7975848,
                        "remaining_time": 4387.93732,
                        "test": [
                          0.674110519,
                          0.8443574936
                        ]
                      },
                      {
                        "learn": [
                          0.9049059558,
                          0.4410230407
                        ],
                        "iteration": 800,
                        "passed_time": 836.7463839,
                        "remaining_time": 4386.389596,
                        "test": [
                          0.6725914126,
                          0.844650534
                        ]
                      },
                      {
                        "learn": [
                          0.9051755819,
                          0.4406765116
                        ],
                        "iteration": 801,
                        "passed_time": 838.1801045,
                        "remaining_time": 4387.381644,
                        "test": [
                          0.6725914126,
                          0.8447030915
                        ]
                      },
                      {
                        "learn": [
                          0.9048400886,
                          0.4402818648
                        ],
                        "iteration": 802,
                        "passed_time": 839.4155364,
                        "remaining_time": 4387.331266,
                        "test": [
                          0.6725914126,
                          0.8449698289
                        ]
                      },
                      {
                        "learn": [
                          0.9048373358,
                          0.4399749579
                        ],
                        "iteration": 803,
                        "passed_time": 840.3405245,
                        "remaining_time": 4385.657762,
                        "test": [
                          0.6725914126,
                          0.8448796503
                        ]
                      },
                      {
                        "learn": [
                          0.9051046525,
                          0.4397387104
                        ],
                        "iteration": 804,
                        "passed_time": 841.2626196,
                        "remaining_time": 4383.971042,
                        "test": [
                          0.6735086555,
                          0.8447384518
                        ]
                      },
                      {
                        "learn": [
                          0.9057156804,
                          0.4395023914
                        ],
                        "iteration": 805,
                        "passed_time": 842.1590922,
                        "remaining_time": 4382.152894,
                        "test": [
                          0.6728838547,
                          0.8446796889
                        ]
                      },
                      {
                        "learn": [
                          0.9062802692,
                          0.4392096959
                        ],
                        "iteration": 806,
                        "passed_time": 843.0616366,
                        "remaining_time": 4380.368578,
                        "test": [
                          0.6734863924,
                          0.8444347822
                        ]
                      },
                      {
                        "learn": [
                          0.9059702443,
                          0.4390380577
                        ],
                        "iteration": 807,
                        "passed_time": 844.0112583,
                        "remaining_time": 4378.830687,
                        "test": [
                          0.6734863924,
                          0.8445714346
                        ]
                      },
                      {
                        "learn": [
                          0.9065469642,
                          0.4388863507
                        ],
                        "iteration": 808,
                        "passed_time": 845.3687764,
                        "remaining_time": 4379.407345,
                        "test": [
                          0.6734863924,
                          0.8444849657
                        ]
                      },
                      {
                        "learn": [
                          0.9062368473,
                          0.4383362644
                        ],
                        "iteration": 809,
                        "passed_time": 846.3062699,
                        "remaining_time": 4377.806507,
                        "test": [
                          0.674110519,
                          0.8441513027
                        ]
                      },
                      {
                        "learn": [
                          0.9062397088,
                          0.4378503335
                        ],
                        "iteration": 810,
                        "passed_time": 847.2650874,
                        "remaining_time": 4376.317449,
                        "test": [
                          0.6726374637,
                          0.8439526981
                        ]
                      },
                      {
                        "learn": [
                          0.9068423221,
                          0.4376827053
                        ],
                        "iteration": 811,
                        "passed_time": 848.2731783,
                        "remaining_time": 4375.083831,
                        "test": [
                          0.6726374637,
                          0.843967523
                        ]
                      },
                      {
                        "learn": [
                          0.9076883744,
                          0.437267155
                        ],
                        "iteration": 812,
                        "passed_time": 849.1964255,
                        "remaining_time": 4373.413818,
                        "test": [
                          0.6726374637,
                          0.8439540833
                        ]
                      },
                      {
                        "learn": [
                          0.9079258253,
                          0.4370290518
                        ],
                        "iteration": 813,
                        "passed_time": 850.538999,
                        "remaining_time": 4373.902027,
                        "test": [
                          0.6726374637,
                          0.8438313858
                        ]
                      },
                      {
                        "learn": [
                          0.9084888778,
                          0.4368401476
                        ],
                        "iteration": 814,
                        "passed_time": 851.8783769,
                        "remaining_time": 4374.369334,
                        "test": [
                          0.6726374637,
                          0.8438914098
                        ]
                      },
                      {
                        "learn": [
                          0.9088037464,
                          0.4365530843
                        ],
                        "iteration": 815,
                        "passed_time": 852.8365798,
                        "remaining_time": 4372.877757,
                        "test": [
                          0.6726374637,
                          0.8435902488
                        ]
                      },
                      {
                        "learn": [
                          0.9090684713,
                          0.4362906188
                        ],
                        "iteration": 816,
                        "passed_time": 853.8369898,
                        "remaining_time": 4371.603584,
                        "test": [
                          0.6726374637,
                          0.8431948736
                        ]
                      },
                      {
                        "learn": [
                          0.9087932426,
                          0.4359524619
                        ],
                        "iteration": 817,
                        "passed_time": 854.7838381,
                        "remaining_time": 4370.056248,
                        "test": [
                          0.6738427255,
                          0.8429058022
                        ]
                      },
                      {
                        "learn": [
                          0.9085238387,
                          0.435620296
                        ],
                        "iteration": 818,
                        "passed_time": 855.7336751,
                        "remaining_time": 4368.525636,
                        "test": [
                          0.6738915928,
                          0.8430977503
                        ]
                      },
                      {
                        "learn": [
                          0.9085238387,
                          0.4354580069
                        ],
                        "iteration": 819,
                        "passed_time": 856.7248393,
                        "remaining_time": 4367.207108,
                        "test": [
                          0.6738915928,
                          0.8430502638
                        ]
                      },
                      {
                        "learn": [
                          0.9088288339,
                          0.4351824967
                        ],
                        "iteration": 820,
                        "passed_time": 857.656577,
                        "remaining_time": 4365.586888,
                        "test": [
                          0.6726868281,
                          0.8428002963
                        ]
                      },
                      {
                        "learn": [
                          0.9080280878,
                          0.4347749023
                        ],
                        "iteration": 821,
                        "passed_time": 858.619346,
                        "remaining_time": 4364.126067,
                        "test": [
                          0.6734923534,
                          0.8421916851
                        ]
                      },
                      {
                        "learn": [
                          0.9080280878,
                          0.4345442791
                        ],
                        "iteration": 822,
                        "passed_time": 859.6244232,
                        "remaining_time": 4362.881186,
                        "test": [
                          0.6734923534,
                          0.8421091228
                        ]
                      },
                      {
                        "learn": [
                          0.908298986,
                          0.4343993104
                        ],
                        "iteration": 823,
                        "passed_time": 860.5467967,
                        "remaining_time": 4361.217746,
                        "test": [
                          0.6729115818,
                          0.8423301655
                        ]
                      },
                      {
                        "learn": [
                          0.9085967861,
                          0.4341143591
                        ],
                        "iteration": 824,
                        "passed_time": 861.4578315,
                        "remaining_time": 4359.498723,
                        "test": [
                          0.6726189626,
                          0.8422420142
                        ]
                      },
                      {
                        "learn": [
                          0.9094692661,
                          0.4337396942
                        ],
                        "iteration": 825,
                        "passed_time": 862.6751139,
                        "remaining_time": 4359.329208,
                        "test": [
                          0.6726189626,
                          0.8424549413
                        ]
                      },
                      {
                        "learn": [
                          0.9097290178,
                          0.4334943433
                        ],
                        "iteration": 826,
                        "passed_time": 864.0003565,
                        "remaining_time": 4359.70192,
                        "test": [
                          0.6737804575,
                          0.8425281528
                        ]
                      },
                      {
                        "learn": [
                          0.9094904226,
                          0.4330453471
                        ],
                        "iteration": 827,
                        "passed_time": 865.0838414,
                        "remaining_time": 4358.852399,
                        "test": [
                          0.6737359332,
                          0.8425675701
                        ]
                      },
                      {
                        "learn": [
                          0.9097678065,
                          0.4327874434
                        ],
                        "iteration": 828,
                        "passed_time": 866.063175,
                        "remaining_time": 4357.478291,
                        "test": [
                          0.6731110301,
                          0.842974487
                        ]
                      },
                      {
                        "learn": [
                          0.9097669885,
                          0.4322639718
                        ],
                        "iteration": 829,
                        "passed_time": 867.1686064,
                        "remaining_time": 4356.738661,
                        "test": [
                          0.6737359332,
                          0.8429346972
                        ]
                      },
                      {
                        "learn": [
                          0.9100381454,
                          0.4319106281
                        ],
                        "iteration": 830,
                        "passed_time": 868.1189476,
                        "remaining_time": 4355.220087,
                        "test": [
                          0.6736867074,
                          0.8430081172
                        ]
                      },
                      {
                        "learn": [
                          0.9100381454,
                          0.4317842305
                        ],
                        "iteration": 831,
                        "passed_time": 869.0149585,
                        "remaining_time": 4353.430706,
                        "test": [
                          0.6736867074,
                          0.8430064917
                        ]
                      },
                      {
                        "learn": [
                          0.9100640377,
                          0.4315769075
                        ],
                        "iteration": 832,
                        "passed_time": 869.9482211,
                        "remaining_time": 4351.829817,
                        "test": [
                          0.6736867074,
                          0.8429773095
                        ]
                      },
                      {
                        "learn": [
                          0.9100381454,
                          0.4314028314
                        ],
                        "iteration": 833,
                        "passed_time": 870.8823603,
                        "remaining_time": 4350.234908,
                        "test": [
                          0.6736867074,
                          0.8429138346
                        ]
                      },
                      {
                        "learn": [
                          0.9106090227,
                          0.4312168758
                        ],
                        "iteration": 834,
                        "passed_time": 871.8541928,
                        "remaining_time": 4348.829597,
                        "test": [
                          0.6736867074,
                          0.8428487991
                        ]
                      },
                      {
                        "learn": [
                          0.9108789021,
                          0.4309403805
                        ],
                        "iteration": 835,
                        "passed_time": 872.8811299,
                        "remaining_time": 4347.699791,
                        "test": [
                          0.6743115558,
                          0.8427573862
                        ]
                      },
                      {
                        "learn": [
                          0.9103153773,
                          0.4305910539
                        ],
                        "iteration": 836,
                        "passed_time": 873.9153134,
                        "remaining_time": 4346.606272,
                        "test": [
                          0.6748916296,
                          0.8425860605
                        ]
                      },
                      {
                        "learn": [
                          0.9108902652,
                          0.4303097504
                        ],
                        "iteration": 837,
                        "passed_time": 875.0917289,
                        "remaining_time": 4346.219303,
                        "test": [
                          0.6748916296,
                          0.8424078814
                        ]
                      },
                      {
                        "learn": [
                          0.9108581203,
                          0.4300360988
                        ],
                        "iteration": 838,
                        "passed_time": 876.5114969,
                        "remaining_time": 4347.037352,
                        "test": [
                          0.6754713104,
                          0.8424288
                        ]
                      },
                      {
                        "learn": [
                          0.9111616442,
                          0.4296896567
                        ],
                        "iteration": 839,
                        "passed_time": 877.7270039,
                        "remaining_time": 4346.838495,
                        "test": [
                          0.6760965517,
                          0.842361134
                        ]
                      },
                      {
                        "learn": [
                          0.9111616442,
                          0.4294676769
                        ],
                        "iteration": 840,
                        "passed_time": 878.6690062,
                        "remaining_time": 4345.284657,
                        "test": [
                          0.6754713104,
                          0.8421493781
                        ]
                      },
                      {
                        "learn": [
                          0.9114362849,
                          0.4292165704
                        ],
                        "iteration": 841,
                        "passed_time": 879.6016779,
                        "remaining_time": 4343.686196,
                        "test": [
                          0.6754713104,
                          0.842145164
                        ]
                      },
                      {
                        "learn": [
                          0.9117033026,
                          0.4290733831
                        ],
                        "iteration": 842,
                        "passed_time": 880.5381218,
                        "remaining_time": 4342.107915,
                        "test": [
                          0.6754713104,
                          0.8421611631
                        ]
                      },
                      {
                        "learn": [
                          0.9116947336,
                          0.4286608952
                        ],
                        "iteration": 843,
                        "passed_time": 881.4470499,
                        "remaining_time": 4340.395663,
                        "test": [
                          0.6754713104,
                          0.8419150859
                        ]
                      },
                      {
                        "learn": [
                          0.9116947336,
                          0.4285389645
                        ],
                        "iteration": 844,
                        "passed_time": 882.365155,
                        "remaining_time": 4338.730437,
                        "test": [
                          0.6745925608,
                          0.8420468585
                        ]
                      },
                      {
                        "learn": [
                          0.9117304671,
                          0.4282149898
                        ],
                        "iteration": 845,
                        "passed_time": 883.3496995,
                        "remaining_time": 4337.393205,
                        "test": [
                          0.675217179,
                          0.8420444761
                        ]
                      },
                      {
                        "learn": [
                          0.9123121361,
                          0.4278553515
                        ],
                        "iteration": 846,
                        "passed_time": 884.6359375,
                        "remaining_time": 4337.536067,
                        "test": [
                          0.674613817,
                          0.8420349596
                        ]
                      },
                      {
                        "learn": [
                          0.9128395144,
                          0.4275318535
                        ],
                        "iteration": 847,
                        "passed_time": 885.5993618,
                        "remaining_time": 4336.094989,
                        "test": [
                          0.6739885209,
                          0.8421802347
                        ]
                      },
                      {
                        "learn": [
                          0.9131404448,
                          0.4272838079
                        ],
                        "iteration": 848,
                        "passed_time": 886.5994766,
                        "remaining_time": 4334.834425,
                        "test": [
                          0.6739885209,
                          0.8422310784
                        ]
                      },
                      {
                        "learn": [
                          0.9131404448,
                          0.4271443831
                        ],
                        "iteration": 849,
                        "passed_time": 887.8820672,
                        "remaining_time": 4334.953622,
                        "test": [
                          0.6745668601,
                          0.842252406
                        ]
                      },
                      {
                        "learn": [
                          0.9131135595,
                          0.4266997981
                        ],
                        "iteration": 850,
                        "passed_time": 889.4475191,
                        "remaining_time": 4336.448598,
                        "test": [
                          0.6751906577,
                          0.8422410076
                        ]
                      },
                      {
                        "learn": [
                          0.9131135595,
                          0.4264273252
                        ],
                        "iteration": 851,
                        "passed_time": 890.3539792,
                        "remaining_time": 4334.728058,
                        "test": [
                          0.6752867811,
                          0.8424310996
                        ]
                      },
                      {
                        "learn": [
                          0.9136508974,
                          0.4261981538
                        ],
                        "iteration": 852,
                        "passed_time": 891.2899776,
                        "remaining_time": 4333.153033,
                        "test": [
                          0.6746829455,
                          0.8422493917
                        ]
                      },
                      {
                        "learn": [
                          0.9139173839,
                          0.4259150745
                        ],
                        "iteration": 853,
                        "passed_time": 892.2446363,
                        "remaining_time": 4331.670096,
                        "test": [
                          0.6734289488,
                          0.8424413575
                        ]
                      },
                      {
                        "learn": [
                          0.9142227167,
                          0.4256743696
                        ],
                        "iteration": 854,
                        "passed_time": 893.2697594,
                        "remaining_time": 4330.530003,
                        "test": [
                          0.6746343725,
                          0.842261661
                        ]
                      },
                      {
                        "learn": [
                          0.9145447831,
                          0.4253906067
                        ],
                        "iteration": 855,
                        "passed_time": 894.2285908,
                        "remaining_time": 4329.069253,
                        "test": [
                          0.6739635849,
                          0.8421568807
                        ]
                      },
                      {
                        "learn": [
                          0.9145473439,
                          0.4251705811
                        ],
                        "iteration": 856,
                        "passed_time": 895.2593617,
                        "remaining_time": 4327.957451,
                        "test": [
                          0.6763354399,
                          0.8423594951
                        ]
                      },
                      {
                        "learn": [
                          0.9142519084,
                          0.4249601158
                        ],
                        "iteration": 857,
                        "passed_time": 896.2935944,
                        "remaining_time": 4326.86255,
                        "test": [
                          0.6747814327,
                          0.842310652
                        ]
                      },
                      {
                        "learn": [
                          0.9142733714,
                          0.4247622058
                        ],
                        "iteration": 858,
                        "passed_time": 897.2431292,
                        "remaining_time": 4325.359486,
                        "test": [
                          0.6747814327,
                          0.8423457179
                        ]
                      },
                      {
                        "learn": [
                          0.9142733714,
                          0.4245481537
                        ],
                        "iteration": 859,
                        "passed_time": 898.1105974,
                        "remaining_time": 4323.462643,
                        "test": [
                          0.6757094777,
                          0.8421965009
                        ]
                      },
                      {
                        "learn": [
                          0.9145397238,
                          0.4244184813
                        ],
                        "iteration": 860,
                        "passed_time": 899.0470217,
                        "remaining_time": 4321.899678,
                        "test": [
                          0.6757094777,
                          0.8421659025
                        ]
                      },
                      {
                        "learn": [
                          0.9145378337,
                          0.4243208009
                        ],
                        "iteration": 861,
                        "passed_time": 900.1866466,
                        "remaining_time": 4321.313624,
                        "test": [
                          0.6757094777,
                          0.8422977624
                        ]
                      },
                      {
                        "learn": [
                          0.9148419963,
                          0.4238252814
                        ],
                        "iteration": 862,
                        "passed_time": 901.5863515,
                        "remaining_time": 4321.973043,
                        "test": [
                          0.6751058183,
                          0.8421044049
                        ]
                      },
                      {
                        "learn": [
                          0.9156772008,
                          0.4235493692
                        ],
                        "iteration": 863,
                        "passed_time": 902.6095111,
                        "remaining_time": 4320.82516,
                        "test": [
                          0.6751939444,
                          0.8420091329
                        ]
                      },
                      {
                        "learn": [
                          0.9156772008,
                          0.4233126122
                        ],
                        "iteration": 864,
                        "passed_time": 903.5081386,
                        "remaining_time": 4319.082258,
                        "test": [
                          0.6757519246,
                          0.841941086
                        ]
                      },
                      {
                        "learn": [
                          0.9154018278,
                          0.423071437
                        ],
                        "iteration": 865,
                        "passed_time": 904.5284367,
                        "remaining_time": 4317.922122,
                        "test": [
                          0.6749358909,
                          0.842028364
                        ]
                      },
                      {
                        "learn": [
                          0.9154060425,
                          0.4228317037
                        ],
                        "iteration": 866,
                        "passed_time": 905.4868751,
                        "remaining_time": 4316.467422,
                        "test": [
                          0.6743090736,
                          0.8420937326
                        ]
                      },
                      {
                        "learn": [
                          0.9154060425,
                          0.4226404103
                        ],
                        "iteration": 867,
                        "passed_time": 906.5121199,
                        "remaining_time": 4315.331889,
                        "test": [
                          0.6743090736,
                          0.8420834257
                        ]
                      },
                      {
                        "learn": [
                          0.9156720161,
                          0.4224053733
                        ],
                        "iteration": 868,
                        "passed_time": 907.4673451,
                        "remaining_time": 4313.863755,
                        "test": [
                          0.6749343914,
                          0.8422459424
                        ]
                      },
                      {
                        "learn": [
                          0.9164751274,
                          0.4222260162
                        ],
                        "iteration": 869,
                        "passed_time": 908.4927412,
                        "remaining_time": 4312.729909,
                        "test": [
                          0.6755387856,
                          0.8425709075
                        ]
                      },
                      {
                        "learn": [
                          0.9162080422,
                          0.4221295371
                        ],
                        "iteration": 870,
                        "passed_time": 909.4222708,
                        "remaining_time": 4311.141855,
                        "test": [
                          0.6749343914,
                          0.8426132803
                        ]
                      },
                      {
                        "learn": [
                          0.9167822577,
                          0.4219549435
                        ],
                        "iteration": 871,
                        "passed_time": 910.363551,
                        "remaining_time": 4309.610939,
                        "test": [
                          0.6755387856,
                          0.8426761694
                        ]
                      },
                      {
                        "learn": [
                          0.917083498,
                          0.4215705867
                        ],
                        "iteration": 872,
                        "passed_time": 911.2584863,
                        "remaining_time": 4307.862283,
                        "test": [
                          0.6755150804,
                          0.8423780828
                        ]
                      },
                      {
                        "learn": [
                          0.9173928224,
                          0.4213309735
                        ],
                        "iteration": 873,
                        "passed_time": 912.3269447,
                        "remaining_time": 4306.934753,
                        "test": [
                          0.6755150804,
                          0.8424486849
                        ]
                      },
                      {
                        "learn": [
                          0.9168325656,
                          0.421032959
                        ],
                        "iteration": 874,
                        "passed_time": 913.9605429,
                        "remaining_time": 4308.671131,
                        "test": [
                          0.6749312995,
                          0.8422949771
                        ]
                      },
                      {
                        "learn": [
                          0.917393049,
                          0.4206999781
                        ],
                        "iteration": 875,
                        "passed_time": 915.1283224,
                        "remaining_time": 4308.206851,
                        "test": [
                          0.6751686357,
                          0.8421172236
                        ]
                      },
                      {
                        "learn": [
                          0.9173556166,
                          0.4204397902
                        ],
                        "iteration": 876,
                        "passed_time": 916.0704283,
                        "remaining_time": 4306.680018,
                        "test": [
                          0.6751466193,
                          0.8426273096
                        ]
                      },
                      {
                        "learn": [
                          0.9183009293,
                          0.4198907062
                        ],
                        "iteration": 877,
                        "passed_time": 917.043827,
                        "remaining_time": 4305.301429,
                        "test": [
                          0.6743970795,
                          0.8421960785
                        ]
                      },
                      {
                        "learn": [
                          0.9177102622,
                          0.4196787059
                        ],
                        "iteration": 878,
                        "passed_time": 917.9971638,
                        "remaining_time": 4303.829707,
                        "test": [
                          0.6757953186,
                          0.8421830907
                        ]
                      },
                      {
                        "learn": [
                          0.9182931931,
                          0.4193989455
                        ],
                        "iteration": 879,
                        "passed_time": 918.9012786,
                        "remaining_time": 4302.128714,
                        "test": [
                          0.6743970795,
                          0.8420933729
                        ]
                      },
                      {
                        "learn": [
                          0.9177015581,
                          0.4191517524
                        ],
                        "iteration": 880,
                        "passed_time": 919.8222483,
                        "remaining_time": 4300.508332,
                        "test": [
                          0.6749778841,
                          0.8422690918
                        ]
                      },
                      {
                        "learn": [
                          0.9179736548,
                          0.4189480016
                        ],
                        "iteration": 881,
                        "passed_time": 921.0340698,
                        "remaining_time": 4300.247505,
                        "test": [
                          0.6743970795,
                          0.8423234484
                        ]
                      },
                      {
                        "learn": [
                          0.9179399317,
                          0.4186884389
                        ],
                        "iteration": 882,
                        "passed_time": 922.053114,
                        "remaining_time": 4299.085697,
                        "test": [
                          0.6743512012,
                          0.84201737
                        ]
                      },
                      {
                        "learn": [
                          0.9180147292,
                          0.4183955235
                        ],
                        "iteration": 883,
                        "passed_time": 922.9606063,
                        "remaining_time": 4297.404814,
                        "test": [
                          0.6743512012,
                          0.8419575332
                        ]
                      },
                      {
                        "learn": [
                          0.9177159626,
                          0.4182787768
                        ],
                        "iteration": 884,
                        "passed_time": 923.9127444,
                        "remaining_time": 4295.933269,
                        "test": [
                          0.6743512012,
                          0.8421077991
                        ]
                      },
                      {
                        "learn": [
                          0.9177152483,
                          0.4178792624
                        ],
                        "iteration": 885,
                        "passed_time": 925.2010944,
                        "remaining_time": 4296.024043,
                        "test": [
                          0.6743512012,
                          0.8422721046
                        ]
                      },
                      {
                        "learn": [
                          0.918292392,
                          0.4175323783
                        ],
                        "iteration": 886,
                        "passed_time": 926.7126125,
                        "remaining_time": 4297.146533,
                        "test": [
                          0.6737672639,
                          0.8423620277
                        ]
                      },
                      {
                        "learn": [
                          0.9200057537,
                          0.4168579752
                        ],
                        "iteration": 887,
                        "passed_time": 927.9078143,
                        "remaining_time": 4296.798347,
                        "test": [
                          0.6724911152,
                          0.842272968
                        ]
                      },
                      {
                        "learn": [
                          0.9197132617,
                          0.4166003977
                        ],
                        "iteration": 888,
                        "passed_time": 928.947994,
                        "remaining_time": 4295.731387,
                        "test": [
                          0.6719312894,
                          0.842436963
                        ]
                      },
                      {
                        "learn": [
                          0.9197532645,
                          0.4163106521
                        ],
                        "iteration": 889,
                        "passed_time": 929.9869631,
                        "remaining_time": 4294.658897,
                        "test": [
                          0.6713021654,
                          0.8425499252
                        ]
                      },
                      {
                        "learn": [
                          0.9197536027,
                          0.4161637919
                        ],
                        "iteration": 890,
                        "passed_time": 931.0140594,
                        "remaining_time": 4293.531728,
                        "test": [
                          0.6713464564,
                          0.842322708
                        ]
                      },
                      {
                        "learn": [
                          0.9186155438,
                          0.4159256603
                        ],
                        "iteration": 891,
                        "passed_time": 931.9430004,
                        "remaining_time": 4291.952742,
                        "test": [
                          0.6719255765,
                          0.8422292558
                        ]
                      },
                      {
                        "learn": [
                          0.9186155438,
                          0.4157381977
                        ],
                        "iteration": 892,
                        "passed_time": 932.8940763,
                        "remaining_time": 4290.477012,
                        "test": [
                          0.6719255765,
                          0.8422217147
                        ]
                      },
                      {
                        "learn": [
                          0.9189136637,
                          0.4155481086
                        ],
                        "iteration": 893,
                        "passed_time": 933.7696725,
                        "remaining_time": 4288.655789,
                        "test": [
                          0.6725319956,
                          0.8423069671
                        ]
                      },
                      {
                        "learn": [
                          0.9183139114,
                          0.4153412029
                        ],
                        "iteration": 894,
                        "passed_time": 934.7092415,
                        "remaining_time": 4287.130097,
                        "test": [
                          0.6731605644,
                          0.842243756
                        ]
                      },
                      {
                        "learn": [
                          0.9189136637,
                          0.4151694717
                        ],
                        "iteration": 895,
                        "passed_time": 935.6498341,
                        "remaining_time": 4285.610401,
                        "test": [
                          0.6725809465,
                          0.8423144323
                        ]
                      },
                      {
                        "learn": [
                          0.9186208179,
                          0.414965691
                        ],
                        "iteration": 896,
                        "passed_time": 936.5841944,
                        "remaining_time": 4284.063489,
                        "test": [
                          0.6719526935,
                          0.8422622603
                        ]
                      },
                      {
                        "learn": [
                          0.9192144739,
                          0.4146777902
                        ],
                        "iteration": 897,
                        "passed_time": 937.7084002,
                        "remaining_time": 4283.385142,
                        "test": [
                          0.6720239535,
                          0.8418260107
                        ]
                      },
                      {
                        "learn": [
                          0.9197814837,
                          0.4143854931
                        ],
                        "iteration": 898,
                        "passed_time": 939.1977092,
                        "remaining_time": 4284.371307,
                        "test": [
                          0.6726286345,
                          0.8418544093
                        ]
                      },
                      {
                        "learn": [
                          0.9198070786,
                          0.4140620692
                        ],
                        "iteration": 899,
                        "passed_time": 940.4812887,
                        "remaining_time": 4284.414759,
                        "test": [
                          0.6726761258,
                          0.8421407125
                        ]
                      },
                      {
                        "learn": [
                          0.9194998147,
                          0.4137296216
                        ],
                        "iteration": 900,
                        "passed_time": 941.439441,
                        "remaining_time": 4282.974771,
                        "test": [
                          0.6720239535,
                          0.8414774001
                        ]
                      },
                      {
                        "learn": [
                          0.920073512,
                          0.4133392993
                        ],
                        "iteration": 901,
                        "passed_time": 942.392903,
                        "remaining_time": 4281.514542,
                        "test": [
                          0.6726761258,
                          0.8418611797
                        ]
                      },
                      {
                        "learn": [
                          0.9203146241,
                          0.4131144067
                        ],
                        "iteration": 902,
                        "passed_time": 943.4739269,
                        "remaining_time": 4280.634195,
                        "test": [
                          0.6726761258,
                          0.842065948
                        ]
                      },
                      {
                        "learn": [
                          0.9195008177,
                          0.4129469148
                        ],
                        "iteration": 903,
                        "passed_time": 944.4608152,
                        "remaining_time": 4279.326879,
                        "test": [
                          0.6720486086,
                          0.8420468551
                        ]
                      },
                      {
                        "learn": [
                          0.9197771785,
                          0.4127490088
                        ],
                        "iteration": 904,
                        "passed_time": 945.557248,
                        "remaining_time": 4278.515945,
                        "test": [
                          0.6720486086,
                          0.8421341575
                        ]
                      },
                      {
                        "learn": [
                          0.920051227,
                          0.4125976384
                        ],
                        "iteration": 905,
                        "passed_time": 946.5967774,
                        "remaining_time": 4277.447248,
                        "test": [
                          0.6720486086,
                          0.8423427388
                        ]
                      },
                      {
                        "learn": [
                          0.920051227,
                          0.4124138582
                        ],
                        "iteration": 906,
                        "passed_time": 947.6473142,
                        "remaining_time": 4276.428288,
                        "test": [
                          0.6714685296,
                          0.8425477501
                        ]
                      },
                      {
                        "learn": [
                          0.9203193735,
                          0.4122666999
                        ],
                        "iteration": 907,
                        "passed_time": 948.6557006,
                        "remaining_time": 4275.219303,
                        "test": [
                          0.6714685296,
                          0.842704575
                        ]
                      },
                      {
                        "learn": [
                          0.9206465393,
                          0.4121835969
                        ],
                        "iteration": 908,
                        "passed_time": 949.5534776,
                        "remaining_time": 4273.512956,
                        "test": [
                          0.6714685296,
                          0.8425780512
                        ]
                      },
                      {
                        "learn": [
                          0.9203478016,
                          0.4120476947
                        ],
                        "iteration": 909,
                        "passed_time": 950.7893364,
                        "remaining_time": 4273.327896,
                        "test": [
                          0.6714685296,
                          0.8425748806
                        ]
                      },
                      {
                        "learn": [
                          0.9203478016,
                          0.4119512879
                        ],
                        "iteration": 910,
                        "passed_time": 952.3302076,
                        "remaining_time": 4274.50957,
                        "test": [
                          0.6714685296,
                          0.8425122492
                        ]
                      },
                      {
                        "learn": [
                          0.9206647587,
                          0.4118028416
                        ],
                        "iteration": 911,
                        "passed_time": 953.5767049,
                        "remaining_time": 4274.365756,
                        "test": [
                          0.6714685296,
                          0.8423368559
                        ]
                      },
                      {
                        "learn": [
                          0.920899095,
                          0.411585532
                        ],
                        "iteration": 912,
                        "passed_time": 954.5022086,
                        "remaining_time": 4272.782614,
                        "test": [
                          0.6714685296,
                          0.8423712202
                        ]
                      },
                      {
                        "learn": [
                          0.9214700029,
                          0.4114377687
                        ],
                        "iteration": 913,
                        "passed_time": 955.4490194,
                        "remaining_time": 4271.296163,
                        "test": [
                          0.6714685296,
                          0.8424262274
                        ]
                      },
                      {
                        "learn": [
                          0.9220065759,
                          0.4112319794
                        ],
                        "iteration": 914,
                        "passed_time": 956.3795036,
                        "remaining_time": 4269.738002,
                        "test": [
                          0.6714685296,
                          0.8426020578
                        ]
                      },
                      {
                        "learn": [
                          0.9222735848,
                          0.4109232671
                        ],
                        "iteration": 915,
                        "passed_time": 957.4050845,
                        "remaining_time": 4268.605202,
                        "test": [
                          0.6714685296,
                          0.8426787402
                        ]
                      },
                      {
                        "learn": [
                          0.9217266515,
                          0.4105556595
                        ],
                        "iteration": 916,
                        "passed_time": 958.3730001,
                        "remaining_time": 4267.215877,
                        "test": [
                          0.6708627346,
                          0.8426681128
                        ]
                      },
                      {
                        "learn": [
                          0.9214343353,
                          0.4104186888
                        ],
                        "iteration": 917,
                        "passed_time": 959.304898,
                        "remaining_time": 4265.667313,
                        "test": [
                          0.6708627346,
                          0.8426258956
                        ]
                      },
                      {
                        "learn": [
                          0.9214343353,
                          0.4102492079
                        ],
                        "iteration": 918,
                        "passed_time": 960.312198,
                        "remaining_time": 4264.454929,
                        "test": [
                          0.6714685296,
                          0.8426133893
                        ]
                      },
                      {
                        "learn": [
                          0.921175793,
                          0.4100054794
                        ],
                        "iteration": 919,
                        "passed_time": 961.3054976,
                        "remaining_time": 4263.180903,
                        "test": [
                          0.6720486086,
                          0.8422238219
                        ]
                      },
                      {
                        "learn": [
                          0.9214343353,
                          0.4098121471
                        ],
                        "iteration": 920,
                        "passed_time": 962.3204535,
                        "remaining_time": 4262.003398,
                        "test": [
                          0.6720486086,
                          0.8422970379
                        ]
                      },
                      {
                        "learn": [
                          0.921773381,
                          0.4096422121
                        ],
                        "iteration": 921,
                        "passed_time": 963.6783009,
                        "remaining_time": 4262.342854,
                        "test": [
                          0.6720486086,
                          0.8423261396
                        ]
                      },
                      {
                        "learn": [
                          0.9220628593,
                          0.4093757034
                        ],
                        "iteration": 922,
                        "passed_time": 965.1619573,
                        "remaining_time": 4263.234344,
                        "test": [
                          0.6720009373,
                          0.8423772352
                        ]
                      },
                      {
                        "learn": [
                          0.9214666246,
                          0.4092003465
                        ],
                        "iteration": 923,
                        "passed_time": 966.1601285,
                        "remaining_time": 4261.979095,
                        "test": [
                          0.6720009373,
                          0.8424617455
                        ]
                      },
                      {
                        "learn": [
                          0.9211675149,
                          0.4090836448
                        ],
                        "iteration": 924,
                        "passed_time": 967.0832664,
                        "remaining_time": 4260.393849,
                        "test": [
                          0.6720009373,
                          0.8423883919
                        ]
                      },
                      {
                        "learn": [
                          0.9211675149,
                          0.4089543042
                        ],
                        "iteration": 925,
                        "passed_time": 968.0281045,
                        "remaining_time": 4258.905505,
                        "test": [
                          0.6720009373,
                          0.8425361681
                        ]
                      },
                      {
                        "learn": [
                          0.9214343353,
                          0.4086308051
                        ],
                        "iteration": 926,
                        "passed_time": 968.9940799,
                        "remaining_time": 4257.511205,
                        "test": [
                          0.6713955702,
                          0.8421235609
                        ]
                      },
                      {
                        "learn": [
                          0.9219680463,
                          0.4083388843
                        ],
                        "iteration": 927,
                        "passed_time": 969.9228601,
                        "remaining_time": 4255.954619,
                        "test": [
                          0.6719753984,
                          0.8421393953
                        ]
                      },
                      {
                        "learn": [
                          0.9222605446,
                          0.4080770591
                        ],
                        "iteration": 928,
                        "passed_time": 970.8548483,
                        "remaining_time": 4254.413442,
                        "test": [
                          0.6719753984,
                          0.8419393044
                        ]
                      },
                      {
                        "learn": [
                          0.9225325442,
                          0.407899078
                        ],
                        "iteration": 929,
                        "passed_time": 971.7963912,
                        "remaining_time": 4252.91539,
                        "test": [
                          0.6719753984,
                          0.8418831759
                        ]
                      },
                      {
                        "learn": [
                          0.9230714764,
                          0.4076121708
                        ],
                        "iteration": 930,
                        "passed_time": 972.8418832,
                        "remaining_time": 4251.872849,
                        "test": [
                          0.6719753984,
                          0.8417207455
                        ]
                      },
                      {
                        "learn": [
                          0.9228042765,
                          0.4074029281
                        ],
                        "iteration": 931,
                        "passed_time": 973.8128018,
                        "remaining_time": 4250.504804,
                        "test": [
                          0.6720695485,
                          0.8418201594
                        ]
                      },
                      {
                        "learn": [
                          0.9227990721,
                          0.4072491448
                        ],
                        "iteration": 932,
                        "passed_time": 974.7473115,
                        "remaining_time": 4248.978903,
                        "test": [
                          0.6720695485,
                          0.8418483611
                        ]
                      },
                      {
                        "learn": [
                          0.9227990721,
                          0.4071298285
                        ],
                        "iteration": 933,
                        "passed_time": 976.1102744,
                        "remaining_time": 4249.31946,
                        "test": [
                          0.6720695485,
                          0.8418311571
                        ]
                      },
                      {
                        "learn": [
                          0.92366884,
                          0.4066278453
                        ],
                        "iteration": 934,
                        "passed_time": 977.4943953,
                        "remaining_time": 4249.74836,
                        "test": [
                          0.6709092258,
                          0.8426173267
                        ]
                      },
                      {
                        "learn": [
                          0.9245581598,
                          0.4063387654
                        ],
                        "iteration": 935,
                        "passed_time": 978.6533362,
                        "remaining_time": 4249.195682,
                        "test": [
                          0.6714895847,
                          0.8425051699
                        ]
                      },
                      {
                        "learn": [
                          0.9248446412,
                          0.4061621523
                        ],
                        "iteration": 936,
                        "passed_time": 979.639213,
                        "remaining_time": 4247.891273,
                        "test": [
                          0.6714895847,
                          0.8424223478
                        ]
                      },
                      {
                        "learn": [
                          0.9251383588,
                          0.405911301
                        ],
                        "iteration": 937,
                        "passed_time": 980.6153072,
                        "remaining_time": 4246.545179,
                        "test": [
                          0.6709092258,
                          0.8423934156
                        ]
                      },
                      {
                        "learn": [
                          0.9256775749,
                          0.4058184426
                        ],
                        "iteration": 938,
                        "passed_time": 981.5471727,
                        "remaining_time": 4245.008593,
                        "test": [
                          0.6715601118,
                          0.8424381865
                        ]
                      },
                      {
                        "learn": [
                          0.9259757976,
                          0.4054817261
                        ],
                        "iteration": 939,
                        "passed_time": 982.6930591,
                        "remaining_time": 4244.397681,
                        "test": [
                          0.6715601118,
                          0.8429274313
                        ]
                      },
                      {
                        "learn": [
                          0.9259757976,
                          0.4053656358
                        ],
                        "iteration": 940,
                        "passed_time": 983.5970685,
                        "remaining_time": 4242.742297,
                        "test": [
                          0.6714895847,
                          0.8428731566
                        ]
                      },
                      {
                        "learn": [
                          0.9259757976,
                          0.4051994943
                        ],
                        "iteration": 941,
                        "passed_time": 984.5321458,
                        "remaining_time": 4241.222344,
                        "test": [
                          0.6714895847,
                          0.8428964071
                        ]
                      },
                      {
                        "learn": [
                          0.92568586,
                          0.4049217329
                        ],
                        "iteration": 942,
                        "passed_time": 985.4557024,
                        "remaining_time": 4239.654067,
                        "test": [
                          0.6699968653,
                          0.8427446108
                        ]
                      },
                      {
                        "learn": [
                          0.92568586,
                          0.4048308916
                        ],
                        "iteration": 943,
                        "passed_time": 986.389519,
                        "remaining_time": 4238.131238,
                        "test": [
                          0.6699968653,
                          0.842680582
                        ]
                      },
                      {
                        "learn": [
                          0.92568586,
                          0.4046627538
                        ],
                        "iteration": 944,
                        "passed_time": 987.3286111,
                        "remaining_time": 4236.632294,
                        "test": [
                          0.6699968653,
                          0.842567451
                        ]
                      },
                      {
                        "learn": [
                          0.9265628117,
                          0.4044842431
                        ],
                        "iteration": 945,
                        "passed_time": 988.6394756,
                        "remaining_time": 4236.727731,
                        "test": [
                          0.6694172907,
                          0.8425773231
                        ]
                      },
                      {
                        "learn": [
                          0.9271314453,
                          0.4042869193
                        ],
                        "iteration": 946,
                        "passed_time": 990.178189,
                        "remaining_time": 4237.795354,
                        "test": [
                          0.6708447222,
                          0.8423049452
                        ]
                      },
                      {
                        "learn": [
                          0.9276709985,
                          0.4040601837
                        ],
                        "iteration": 947,
                        "passed_time": 991.2172895,
                        "remaining_time": 4236.722001,
                        "test": [
                          0.6708234927,
                          0.8423773764
                        ]
                      },
                      {
                        "learn": [
                          0.9273943216,
                          0.4039108874
                        ],
                        "iteration": 948,
                        "passed_time": 992.2524869,
                        "remaining_time": 4235.63206,
                        "test": [
                          0.6708234927,
                          0.8423786668
                        ]
                      },
                      {
                        "learn": [
                          0.9276670841,
                          0.4035439602
                        ],
                        "iteration": 949,
                        "passed_time": 993.2100547,
                        "remaining_time": 4234.211286,
                        "test": [
                          0.6700487663,
                          0.8422651101
                        ]
                      },
                      {
                        "learn": [
                          0.9276755809,
                          0.4031571334
                        ],
                        "iteration": 950,
                        "passed_time": 994.2223848,
                        "remaining_time": 4233.024644,
                        "test": [
                          0.6694196946,
                          0.8420905071
                        ]
                      },
                      {
                        "learn": [
                          0.9282360082,
                          0.4029180849
                        ],
                        "iteration": 951,
                        "passed_time": 995.1469497,
                        "remaining_time": 4231.465181,
                        "test": [
                          0.6688392773,
                          0.8419299522
                        ]
                      },
                      {
                        "learn": [
                          0.9279608898,
                          0.4025373319
                        ],
                        "iteration": 952,
                        "passed_time": 996.0560729,
                        "remaining_time": 4229.841477,
                        "test": [
                          0.6688889749,
                          0.8423315047
                        ]
                      },
                      {
                        "learn": [
                          0.9268297915,
                          0.4021312811
                        ],
                        "iteration": 953,
                        "passed_time": 997.0674076,
                        "remaining_time": 4228.652758,
                        "test": [
                          0.6700487663,
                          0.8421814607
                        ]
                      },
                      {
                        "learn": [
                          0.9273692681,
                          0.4017007642
                        ],
                        "iteration": 954,
                        "passed_time": 998.0559805,
                        "remaining_time": 4227.368001,
                        "test": [
                          0.6688392773,
                          0.8421775709
                        ]
                      },
                      {
                        "learn": [
                          0.9268297915,
                          0.4015796874
                        ],
                        "iteration": 955,
                        "passed_time": 998.9824164,
                        "remaining_time": 4225.821017,
                        "test": [
                          0.6700487663,
                          0.8421993211
                        ]
                      },
                      {
                        "learn": [
                          0.9271019624,
                          0.4013565502
                        ],
                        "iteration": 956,
                        "passed_time": 999.9109615,
                        "remaining_time": 4224.28424,
                        "test": [
                          0.6680129548,
                          0.8422217838
                        ]
                      },
                      {
                        "learn": [
                          0.9273744754,
                          0.4010854636
                        ],
                        "iteration": 957,
                        "passed_time": 1001.003085,
                        "remaining_time": 4223.438903,
                        "test": [
                          0.6680355985,
                          0.8422888465
                        ]
                      },
                      {
                        "learn": [
                          0.9273744754,
                          0.4008740324
                        ],
                        "iteration": 958,
                        "passed_time": 1002.612913,
                        "remaining_time": 4224.774538,
                        "test": [
                          0.6686152967,
                          0.8422972997
                        ]
                      },
                      {
                        "learn": [
                          0.9276665659,
                          0.4007275383
                        ],
                        "iteration": 959,
                        "passed_time": 1003.738158,
                        "remaining_time": 4224.064749,
                        "test": [
                          0.6685923312,
                          0.8421874479
                        ]
                      },
                      {
                        "learn": [
                          0.928233503,
                          0.4005524285
                        ],
                        "iteration": 960,
                        "passed_time": 1004.774125,
                        "remaining_time": 4222.978865,
                        "test": [
                          0.6691713098,
                          0.8421579117
                        ]
                      },
                      {
                        "learn": [
                          0.9279386374,
                          0.4003366344
                        ],
                        "iteration": 961,
                        "passed_time": 1005.701433,
                        "remaining_time": 4221.436993,
                        "test": [
                          0.6685923312,
                          0.8419837649
                        ]
                      },
                      {
                        "learn": [
                          0.9279386374,
                          0.4000625071
                        ],
                        "iteration": 962,
                        "passed_time": 1006.645055,
                        "remaining_time": 4219.964785,
                        "test": [
                          0.6686139085,
                          0.8418882016
                        ]
                      },
                      {
                        "learn": [
                          0.9279386374,
                          0.3998390944
                        ],
                        "iteration": 963,
                        "passed_time": 1007.591218,
                        "remaining_time": 4218.504313,
                        "test": [
                          0.6691930239,
                          0.84183031
                        ]
                      },
                      {
                        "learn": [
                          0.9279304198,
                          0.399713496
                        ],
                        "iteration": 964,
                        "passed_time": 1008.540282,
                        "remaining_time": 4217.057033,
                        "test": [
                          0.6691930239,
                          0.841869208
                        ]
                      },
                      {
                        "learn": [
                          0.9282026052,
                          0.399093122
                        ],
                        "iteration": 965,
                        "passed_time": 1009.471832,
                        "remaining_time": 4215.537652,
                        "test": [
                          0.6691437928,
                          0.8415766768
                        ]
                      },
                      {
                        "learn": [
                          0.9284747909,
                          0.3989959705
                        ],
                        "iteration": 966,
                        "passed_time": 1010.461396,
                        "remaining_time": 4214.261436,
                        "test": [
                          0.6691672224,
                          0.8417015013
                        ]
                      },
                      {
                        "learn": [
                          0.9284747909,
                          0.3986994087
                        ],
                        "iteration": 967,
                        "passed_time": 1011.450584,
                        "remaining_time": 4212.984249,
                        "test": [
                          0.6691672224,
                          0.8420742577
                        ]
                      },
                      {
                        "learn": [
                          0.9282026052,
                          0.3985639768
                        ],
                        "iteration": 968,
                        "passed_time": 1012.422311,
                        "remaining_time": 4211.635023,
                        "test": [
                          0.6691672224,
                          0.8421030237
                        ]
                      },
                      {
                        "learn": [
                          0.9282026052,
                          0.3984040926
                        ],
                        "iteration": 969,
                        "passed_time": 1013.485225,
                        "remaining_time": 4210.665421,
                        "test": [
                          0.6691672224,
                          0.8419860523
                        ]
                      },
                      {
                        "learn": [
                          0.9284775837,
                          0.3982436766
                        ],
                        "iteration": 970,
                        "passed_time": 1014.910863,
                        "remaining_time": 4211.200685,
                        "test": [
                          0.6685884972,
                          0.8420490697
                        ]
                      },
                      {
                        "learn": [
                          0.9284775837,
                          0.3980169786
                        ],
                        "iteration": 971,
                        "passed_time": 1016.059558,
                        "remaining_time": 4210.584259,
                        "test": [
                          0.6685884972,
                          0.8420876283
                        ]
                      },
                      {
                        "learn": [
                          0.9287524353,
                          0.3977972026
                        ],
                        "iteration": 972,
                        "passed_time": 1016.964409,
                        "remaining_time": 4208.957527,
                        "test": [
                          0.6685884972,
                          0.8421097378
                        ]
                      },
                      {
                        "learn": [
                          0.9290422826,
                          0.3975831337
                        ],
                        "iteration": 973,
                        "passed_time": 1018.010607,
                        "remaining_time": 4207.916533,
                        "test": [
                          0.6685884972,
                          0.8422427137
                        ]
                      },
                      {
                        "learn": [
                          0.9290502049,
                          0.3972524086
                        ],
                        "iteration": 974,
                        "passed_time": 1019.059083,
                        "remaining_time": 4206.884934,
                        "test": [
                          0.6691672224,
                          0.8423789522
                        ]
                      },
                      {
                        "learn": [
                          0.9290502049,
                          0.3969860224
                        ],
                        "iteration": 975,
                        "passed_time": 1019.987894,
                        "remaining_time": 4205.359922,
                        "test": [
                          0.6691672224,
                          0.8422489359
                        ]
                      },
                      {
                        "learn": [
                          0.9293180143,
                          0.3968020915
                        ],
                        "iteration": 976,
                        "passed_time": 1021.010494,
                        "remaining_time": 4204.222332,
                        "test": [
                          0.6691672224,
                          0.8422089731
                        ]
                      },
                      {
                        "learn": [
                          0.9295905339,
                          0.3966029923
                        ],
                        "iteration": 977,
                        "passed_time": 1021.961517,
                        "remaining_time": 4202.790614,
                        "test": [
                          0.6685610407,
                          0.8420964238
                        ]
                      },
                      {
                        "learn": [
                          0.9293496808,
                          0.3963551005
                        ],
                        "iteration": 978,
                        "passed_time": 1023.245535,
                        "remaining_time": 4202.727576,
                        "test": [
                          0.6679408219,
                          0.8417932645
                        ]
                      },
                      {
                        "learn": [
                          0.9290502049,
                          0.3960549138
                        ],
                        "iteration": 979,
                        "passed_time": 1024.189836,
                        "remaining_time": 4201.26851,
                        "test": [
                          0.6679408219,
                          0.8419532432
                        ]
                      },
                      {
                        "learn": [
                          0.9293416514,
                          0.3957708582
                        ],
                        "iteration": 980,
                        "passed_time": 1025.222023,
                        "remaining_time": 4200.170553,
                        "test": [
                          0.6679408219,
                          0.8417569809
                        ]
                      },
                      {
                        "learn": [
                          0.9299115436,
                          0.3952533972
                        ],
                        "iteration": 981,
                        "passed_time": 1026.487663,
                        "remaining_time": 4200.027931,
                        "test": [
                          0.6691431621,
                          0.8414431711
                        ]
                      },
                      {
                        "learn": [
                          0.9296222947,
                          0.3950772853
                        ],
                        "iteration": 982,
                        "passed_time": 1027.930664,
                        "remaining_time": 4200.607809,
                        "test": [
                          0.6691431621,
                          0.8413320956
                        ]
                      },
                      {
                        "learn": [
                          0.9299058178,
                          0.3948848963
                        ],
                        "iteration": 983,
                        "passed_time": 1029.006164,
                        "remaining_time": 4199.683696,
                        "test": [
                          0.6697265416,
                          0.8413846172
                        ]
                      },
                      {
                        "learn": [
                          0.9299077903,
                          0.3944416287
                        ],
                        "iteration": 984,
                        "passed_time": 1030.039213,
                        "remaining_time": 4198.586236,
                        "test": [
                          0.6697755113,
                          0.8415030158
                        ]
                      },
                      {
                        "learn": [
                          0.930180525,
                          0.3942784904
                        ],
                        "iteration": 985,
                        "passed_time": 1031.076344,
                        "remaining_time": 4197.505523,
                        "test": [
                          0.6697755113,
                          0.8415888809
                        ]
                      },
                      {
                        "learn": [
                          0.9293663023,
                          0.3939006405
                        ],
                        "iteration": 986,
                        "passed_time": 1032.146198,
                        "remaining_time": 4196.557947,
                        "test": [
                          0.6703977563,
                          0.8414317616
                        ]
                      },
                      {
                        "learn": [
                          0.9299276541,
                          0.3931433016
                        ],
                        "iteration": 987,
                        "passed_time": 1033.108679,
                        "remaining_time": 4195.17411,
                        "test": [
                          0.6684549323,
                          0.8410365321
                        ]
                      },
                      {
                        "learn": [
                          0.9299276541,
                          0.3928633174
                        ],
                        "iteration": 988,
                        "passed_time": 1034.109431,
                        "remaining_time": 4193.946339,
                        "test": [
                          0.6684549323,
                          0.8410502271
                        ]
                      },
                      {
                        "learn": [
                          0.9301956538,
                          0.392600641
                        ],
                        "iteration": 989,
                        "passed_time": 1035.06002,
                        "remaining_time": 4192.51584,
                        "test": [
                          0.6690344501,
                          0.8412083621
                        ]
                      },
                      {
                        "learn": [
                          0.9301956538,
                          0.3923606963
                        ],
                        "iteration": 990,
                        "passed_time": 1036.019454,
                        "remaining_time": 4191.122091,
                        "test": [
                          0.6690344501,
                          0.841377207
                        ]
                      },
                      {
                        "learn": [
                          0.9301956538,
                          0.3921218869
                        ],
                        "iteration": 991,
                        "passed_time": 1036.967666,
                        "remaining_time": 4189.683877,
                        "test": [
                          0.6690344501,
                          0.8413739091
                        ]
                      },
                      {
                        "learn": [
                          0.9304636269,
                          0.3919072406
                        ],
                        "iteration": 992,
                        "passed_time": 1037.977585,
                        "remaining_time": 4188.495653,
                        "test": [
                          0.6685480538,
                          0.8412856571
                        ]
                      },
                      {
                        "learn": [
                          0.9312793049,
                          0.3916874103
                        ],
                        "iteration": 993,
                        "passed_time": 1039.336663,
                        "remaining_time": 4188.714963,
                        "test": [
                          0.6685943704,
                          0.8415098051
                        ]
                      },
                      {
                        "learn": [
                          0.9315734006,
                          0.3915071357
                        ],
                        "iteration": 994,
                        "passed_time": 1040.898216,
                        "remaining_time": 4189.746086,
                        "test": [
                          0.669173698,
                          0.8417196985
                        ]
                      },
                      {
                        "learn": [
                          0.9318444559,
                          0.3911061319
                        ],
                        "iteration": 995,
                        "passed_time": 1041.777926,
                        "remaining_time": 4188.030939,
                        "test": [
                          0.6692859724,
                          0.8420713232
                        ]
                      },
                      {
                        "learn": [
                          0.9321216644,
                          0.3909042845
                        ],
                        "iteration": 996,
                        "passed_time": 1042.712504,
                        "remaining_time": 4186.537766,
                        "test": [
                          0.6687464529,
                          0.8418906875
                        ]
                      },
                      {
                        "learn": [
                          0.9315676732,
                          0.3907635928
                        ],
                        "iteration": 997,
                        "passed_time": 1043.641348,
                        "remaining_time": 4185.022721,
                        "test": [
                          0.6694378489,
                          0.8419072851
                        ]
                      },
                      {
                        "learn": [
                          0.9318345802,
                          0.3905810781
                        ],
                        "iteration": 998,
                        "passed_time": 1044.570552,
                        "remaining_time": 4183.510288,
                        "test": [
                          0.6694378489,
                          0.8418469894
                        ]
                      },
                      {
                        "learn": [
                          0.9318345802,
                          0.3903127154
                        ],
                        "iteration": 999,
                        "passed_time": 1045.506744,
                        "remaining_time": 4182.026977,
                        "test": [
                          0.6694378489,
                          0.8419353454
                        ]
                      },
                      {
                        "learn": [
                          0.9321232679,
                          0.3901646207
                        ],
                        "iteration": 1000,
                        "passed_time": 1046.750123,
                        "remaining_time": 4181.771971,
                        "test": [
                          0.6687464529,
                          0.8419931214
                        ]
                      },
                      {
                        "learn": [
                          0.9321232679,
                          0.3898533022
                        ],
                        "iteration": 1001,
                        "passed_time": 1047.731893,
                        "remaining_time": 4180.471167,
                        "test": [
                          0.6688117025,
                          0.8421585481
                        ]
                      },
                      {
                        "learn": [
                          0.9326767964,
                          0.3896443475
                        ],
                        "iteration": 1002,
                        "passed_time": 1048.681747,
                        "remaining_time": 4179.043813,
                        "test": [
                          0.6688117025,
                          0.8423319736
                        ]
                      },
                      {
                        "learn": [
                          0.9326767964,
                          0.3892880455
                        ],
                        "iteration": 1003,
                        "passed_time": 1049.625614,
                        "remaining_time": 4177.593578,
                        "test": [
                          0.6682732005,
                          0.8423352531
                        ]
                      },
                      {
                        "learn": [
                          0.9329495913,
                          0.3890198308
                        ],
                        "iteration": 1004,
                        "passed_time": 1050.573441,
                        "remaining_time": 4176.160095,
                        "test": [
                          0.6689027536,
                          0.8422345995
                        ]
                      },
                      {
                        "learn": [
                          0.9329694469,
                          0.3888032508
                        ],
                        "iteration": 1005,
                        "passed_time": 1051.758523,
                        "remaining_time": 4175.669523,
                        "test": [
                          0.6689027536,
                          0.8422243227
                        ]
                      },
                      {
                        "learn": [
                          0.933237783,
                          0.3885443985
                        ],
                        "iteration": 1006,
                        "passed_time": 1053.238974,
                        "remaining_time": 4176.34878,
                        "test": [
                          0.6689027536,
                          0.842532935
                        ]
                      },
                      {
                        "learn": [
                          0.933237783,
                          0.3884154613
                        ],
                        "iteration": 1007,
                        "passed_time": 1054.308449,
                        "remaining_time": 4175.396157,
                        "test": [
                          0.6689476482,
                          0.8424753799
                        ]
                      },
                      {
                        "learn": [
                          0.9335060934,
                          0.3882287166
                        ],
                        "iteration": 1008,
                        "passed_time": 1055.296261,
                        "remaining_time": 4174.120297,
                        "test": [
                          0.6682563206,
                          0.8424119736
                        ]
                      },
                      {
                        "learn": [
                          0.9335060934,
                          0.3880567574
                        ],
                        "iteration": 1009,
                        "passed_time": 1056.334186,
                        "remaining_time": 4173.042971,
                        "test": [
                          0.6701480059,
                          0.8423586708
                        ]
                      },
                      {
                        "learn": [
                          0.9340455656,
                          0.3877556177
                        ],
                        "iteration": 1010,
                        "passed_time": 1057.389064,
                        "remaining_time": 4172.032619,
                        "test": [
                          0.6694580841,
                          0.8422008737
                        ]
                      },
                      {
                        "learn": [
                          0.9343333576,
                          0.387544338
                        ],
                        "iteration": 1011,
                        "passed_time": 1058.382002,
                        "remaining_time": 4170.778088,
                        "test": [
                          0.6701480059,
                          0.8422381309
                        ]
                      },
                      {
                        "learn": [
                          0.9346000763,
                          0.3873904914
                        ],
                        "iteration": 1012,
                        "passed_time": 1059.328842,
                        "remaining_time": 4169.34264,
                        "test": [
                          0.6694580841,
                          0.8421839682
                        ]
                      },
                      {
                        "learn": [
                          0.9346185716,
                          0.3871421232
                        ],
                        "iteration": 1013,
                        "passed_time": 1060.263991,
                        "remaining_time": 4167.862196,
                        "test": [
                          0.6694580841,
                          0.8423508075
                        ]
                      },
                      {
                        "learn": [
                          0.9348914057,
                          0.3868980639
                        ],
                        "iteration": 1014,
                        "passed_time": 1061.297183,
                        "remaining_time": 4166.767759,
                        "test": [
                          0.6694580841,
                          0.8420427712
                        ]
                      },
                      {
                        "learn": [
                          0.9351671374,
                          0.3866723695
                        ],
                        "iteration": 1015,
                        "passed_time": 1062.349739,
                        "remaining_time": 4165.749372,
                        "test": [
                          0.6694580841,
                          0.8420261315
                        ]
                      },
                      {
                        "learn": [
                          0.9348717925,
                          0.3863626936
                        ],
                        "iteration": 1016,
                        "passed_time": 1063.420896,
                        "remaining_time": 4164.803767,
                        "test": [
                          0.6694580841,
                          0.8416840937
                        ]
                      },
                      {
                        "learn": [
                          0.9354352641,
                          0.3860593679
                        ],
                        "iteration": 1017,
                        "passed_time": 1064.787666,
                        "remaining_time": 4165.014229,
                        "test": [
                          0.6699894825,
                          0.841643555
                        ]
                      },
                      {
                        "learn": [
                          0.9354352641,
                          0.3858880519
                        ],
                        "iteration": 1018,
                        "passed_time": 1066.186007,
                        "remaining_time": 4165.344939,
                        "test": [
                          0.6706470466,
                          0.8420367565
                        ]
                      },
                      {
                        "learn": [
                          0.9351565666,
                          0.3854749612
                        ],
                        "iteration": 1019,
                        "passed_time": 1067.123544,
                        "remaining_time": 4163.874219,
                        "test": [
                          0.670017671,
                          0.8418218396
                        ]
                      },
                      {
                        "learn": [
                          0.9357197412,
                          0.3849411145
                        ],
                        "iteration": 1020,
                        "passed_time": 1068.183782,
                        "remaining_time": 4162.88273,
                        "test": [
                          0.6718536755,
                          0.8417795845
                        ]
                      },
                      {
                        "learn": [
                          0.9357037762,
                          0.3845676783
                        ],
                        "iteration": 1021,
                        "passed_time": 1069.090265,
                        "remaining_time": 4161.292637,
                        "test": [
                          0.6712229746,
                          0.8419567393
                        ]
                      },
                      {
                        "learn": [
                          0.9359718917,
                          0.3844317985
                        ],
                        "iteration": 1022,
                        "passed_time": 1070.006546,
                        "remaining_time": 4159.741968,
                        "test": [
                          0.6718536755,
                          0.8419934232
                        ]
                      },
                      {
                        "learn": [
                          0.9359718917,
                          0.3842414599
                        ],
                        "iteration": 1023,
                        "passed_time": 1070.951753,
                        "remaining_time": 4158.304854,
                        "test": [
                          0.6718536755,
                          0.8421296373
                        ]
                      },
                      {
                        "learn": [
                          0.9359718917,
                          0.3840684289
                        ],
                        "iteration": 1024,
                        "passed_time": 1071.967096,
                        "remaining_time": 4157.140689,
                        "test": [
                          0.6712229746,
                          0.8420699352
                        ]
                      },
                      {
                        "learn": [
                          0.9359718917,
                          0.3838938241
                        ],
                        "iteration": 1025,
                        "passed_time": 1072.951124,
                        "remaining_time": 4155.855521,
                        "test": [
                          0.6712229746,
                          0.8419192521
                        ]
                      },
                      {
                        "learn": [
                          0.9359718917,
                          0.3836901924
                        ],
                        "iteration": 1026,
                        "passed_time": 1074.307593,
                        "remaining_time": 4156.011751,
                        "test": [
                          0.6712229746,
                          0.8417691812
                        ]
                      },
                      {
                        "learn": [
                          0.9359718917,
                          0.3835395597
                        ],
                        "iteration": 1027,
                        "passed_time": 1075.345615,
                        "remaining_time": 4154.934613,
                        "test": [
                          0.6718179697,
                          0.8418501235
                        ]
                      },
                      {
                        "learn": [
                          0.9362670729,
                          0.3832272107
                        ],
                        "iteration": 1028,
                        "passed_time": 1076.611577,
                        "remaining_time": 4154.737195,
                        "test": [
                          0.6712229746,
                          0.8420061003
                        ]
                      },
                      {
                        "learn": [
                          0.9365401406,
                          0.3829474405
                        ],
                        "iteration": 1029,
                        "passed_time": 1078.141185,
                        "remaining_time": 4155.553887,
                        "test": [
                          0.6711582772,
                          0.8417667022
                        ]
                      },
                      {
                        "learn": [
                          0.9368155191,
                          0.3826432993
                        ],
                        "iteration": 1030,
                        "passed_time": 1079.31637,
                        "remaining_time": 4155.001624,
                        "test": [
                          0.6712540538,
                          0.8416126345
                        ]
                      },
                      {
                        "learn": [
                          0.9368155191,
                          0.3825728509
                        ],
                        "iteration": 1031,
                        "passed_time": 1080.256638,
                        "remaining_time": 4153.544902,
                        "test": [
                          0.6705617394,
                          0.8415385291
                        ]
                      },
                      {
                        "learn": [
                          0.9370869625,
                          0.3823133033
                        ],
                        "iteration": 1032,
                        "passed_time": 1081.283084,
                        "remaining_time": 4152.420131,
                        "test": [
                          0.6705617394,
                          0.8414006572
                        ]
                      },
                      {
                        "learn": [
                          0.9370869625,
                          0.3820790943
                        ],
                        "iteration": 1033,
                        "passed_time": 1082.240428,
                        "remaining_time": 4151.030499,
                        "test": [
                          0.6712540538,
                          0.8415054966
                        ]
                      },
                      {
                        "learn": [
                          0.9368139959,
                          0.3818646189
                        ],
                        "iteration": 1034,
                        "passed_time": 1083.239938,
                        "remaining_time": 4149.803241,
                        "test": [
                          0.6719452708,
                          0.8416801842
                        ]
                      },
                      {
                        "learn": [
                          0.9368139959,
                          0.3816563363
                        ],
                        "iteration": 1035,
                        "passed_time": 1084.165188,
                        "remaining_time": 4148.292284,
                        "test": [
                          0.6719452708,
                          0.8416378685
                        ]
                      },
                      {
                        "learn": [
                          0.9370869625,
                          0.3813431825
                        ],
                        "iteration": 1036,
                        "passed_time": 1085.106207,
                        "remaining_time": 4146.842719,
                        "test": [
                          0.6713061889,
                          0.8416066921
                        ]
                      },
                      {
                        "learn": [
                          0.9371016377,
                          0.3810036234
                        ],
                        "iteration": 1037,
                        "passed_time": 1086.055667,
                        "remaining_time": 4145.42635,
                        "test": [
                          0.6719049319,
                          0.841618925
                        ]
                      },
                      {
                        "learn": [
                          0.9376635577,
                          0.3808076359
                        ],
                        "iteration": 1038,
                        "passed_time": 1087.003373,
                        "remaining_time": 4144.004196,
                        "test": [
                          0.6719049319,
                          0.8416372114
                        ]
                      },
                      {
                        "learn": [
                          0.9373880706,
                          0.3806262168
                        ],
                        "iteration": 1039,
                        "passed_time": 1087.964066,
                        "remaining_time": 4142.632406,
                        "test": [
                          0.6720475389,
                          0.8415661558
                        ]
                      },
                      {
                        "learn": [
                          0.9376635577,
                          0.3804773002
                        ],
                        "iteration": 1040,
                        "passed_time": 1089.026761,
                        "remaining_time": 4141.649326,
                        "test": [
                          0.6719049319,
                          0.8418178908
                        ]
                      },
                      {
                        "learn": [
                          0.9382392149,
                          0.3803221366
                        ],
                        "iteration": 1041,
                        "passed_time": 1090.556224,
                        "remaining_time": 4142.439093,
                        "test": [
                          0.6719049319,
                          0.8422517255
                        ]
                      },
                      {
                        "learn": [
                          0.9382392149,
                          0.3801824102
                        ],
                        "iteration": 1042,
                        "passed_time": 1091.715728,
                        "remaining_time": 4141.820838,
                        "test": [
                          0.6724841261,
                          0.8422778775
                        ]
                      },
                      {
                        "learn": [
                          0.9385319562,
                          0.3795603869
                        ],
                        "iteration": 1043,
                        "passed_time": 1092.762739,
                        "remaining_time": 4140.775282,
                        "test": [
                          0.6751319861,
                          0.8419401136
                        ]
                      },
                      {
                        "learn": [
                          0.9388048287,
                          0.3793876782
                        ],
                        "iteration": 1044,
                        "passed_time": 1093.755601,
                        "remaining_time": 4139.524786,
                        "test": [
                          0.6757114883,
                          0.8418749648
                        ]
                      },
                      {
                        "learn": [
                          0.9390721559,
                          0.3792749438
                        ],
                        "iteration": 1045,
                        "passed_time": 1094.790279,
                        "remaining_time": 4138.432853,
                        "test": [
                          0.6757114883,
                          0.8417409337
                        ]
                      },
                      {
                        "learn": [
                          0.9393473507,
                          0.3789950656
                        ],
                        "iteration": 1046,
                        "passed_time": 1095.825979,
                        "remaining_time": 4137.344884,
                        "test": [
                          0.675081928,
                          0.8416776717
                        ]
                      },
                      {
                        "learn": [
                          0.9401738081,
                          0.3785783042
                        ],
                        "iteration": 1047,
                        "passed_time": 1096.859354,
                        "remaining_time": 4136.248251,
                        "test": [
                          0.6756607358,
                          0.8413270184
                        ]
                      },
                      {
                        "learn": [
                          0.9404494614,
                          0.3784511977
                        ],
                        "iteration": 1048,
                        "passed_time": 1097.748482,
                        "remaining_time": 4134.60844,
                        "test": [
                          0.6756607358,
                          0.841352076
                        ]
                      },
                      {
                        "learn": [
                          0.9404494614,
                          0.3781715186
                        ],
                        "iteration": 1049,
                        "passed_time": 1098.686945,
                        "remaining_time": 4133.155651,
                        "test": [
                          0.6757114883,
                          0.8411618717
                        ]
                      },
                      {
                        "learn": [
                          0.9398891504,
                          0.3780729882
                        ],
                        "iteration": 1050,
                        "passed_time": 1099.64156,
                        "remaining_time": 4131.76453,
                        "test": [
                          0.675081928,
                          0.841136085
                        ]
                      },
                      {
                        "learn": [
                          0.9398891504,
                          0.3778785357
                        ],
                        "iteration": 1051,
                        "passed_time": 1100.807213,
                        "remaining_time": 4131.166232,
                        "test": [
                          0.6744748323,
                          0.8411864908
                        ]
                      },
                      {
                        "learn": [
                          0.9398990872,
                          0.377723286
                        ],
                        "iteration": 1052,
                        "passed_time": 1101.96915,
                        "remaining_time": 4130.552928,
                        "test": [
                          0.6744748323,
                          0.8413793741
                        ]
                      },
                      {
                        "learn": [
                          0.9396258726,
                          0.3775429678
                        ],
                        "iteration": 1053,
                        "passed_time": 1103.537877,
                        "remaining_time": 4131.461538,
                        "test": [
                          0.6744748323,
                          0.8412443467
                        ]
                      },
                      {
                        "learn": [
                          0.9398943084,
                          0.3772022841
                        ],
                        "iteration": 1054,
                        "passed_time": 1104.635792,
                        "remaining_time": 4130.604929,
                        "test": [
                          0.6751050864,
                          0.8411182316
                        ]
                      },
                      {
                        "learn": [
                          0.9398943084,
                          0.3770911593
                        ],
                        "iteration": 1055,
                        "passed_time": 1105.589858,
                        "remaining_time": 4129.210607,
                        "test": [
                          0.6750626211,
                          0.8410336158
                        ]
                      },
                      {
                        "learn": [
                          0.9398986811,
                          0.3766571958
                        ],
                        "iteration": 1056,
                        "passed_time": 1106.528139,
                        "remaining_time": 4127.758231,
                        "test": [
                          0.6744829695,
                          0.8411132011
                        ]
                      },
                      {
                        "learn": [
                          0.9395980606,
                          0.3765634793
                        ],
                        "iteration": 1057,
                        "passed_time": 1107.523611,
                        "remaining_time": 4126.519919,
                        "test": [
                          0.6744829695,
                          0.8411473271
                        ]
                      },
                      {
                        "learn": [
                          0.9395980606,
                          0.3763009869
                        ],
                        "iteration": 1058,
                        "passed_time": 1108.497579,
                        "remaining_time": 4125.202038,
                        "test": [
                          0.6741854859,
                          0.8411743362
                        ]
                      },
                      {
                        "learn": [
                          0.9404254474,
                          0.376006976
                        ],
                        "iteration": 1059,
                        "passed_time": 1109.401606,
                        "remaining_time": 4123.624836,
                        "test": [
                          0.6756985467,
                          0.841018723
                        ]
                      },
                      {
                        "learn": [
                          0.940453712,
                          0.375729315
                        ],
                        "iteration": 1060,
                        "passed_time": 1110.442506,
                        "remaining_time": 4122.557049,
                        "test": [
                          0.6750532716,
                          0.8409253294
                        ]
                      },
                      {
                        "learn": [
                          0.940453712,
                          0.3755018602
                        ],
                        "iteration": 1061,
                        "passed_time": 1111.508222,
                        "remaining_time": 4121.581335,
                        "test": [
                          0.6750532716,
                          0.8409839412
                        ]
                      },
                      {
                        "learn": [
                          0.940453712,
                          0.3752154809
                        ],
                        "iteration": 1062,
                        "passed_time": 1112.529179,
                        "remaining_time": 4120.439676,
                        "test": [
                          0.6762635578,
                          0.8411832659
                        ]
                      },
                      {
                        "learn": [
                          0.940453712,
                          0.3749376874
                        ],
                        "iteration": 1063,
                        "passed_time": 1113.522751,
                        "remaining_time": 4119.196945,
                        "test": [
                          0.6763049002,
                          0.8409566208
                        ]
                      },
                      {
                        "learn": [
                          0.9407261148,
                          0.3747482736
                        ],
                        "iteration": 1064,
                        "passed_time": 1114.867749,
                        "remaining_time": 4119.253139,
                        "test": [
                          0.6775551689,
                          0.840887987
                        ]
                      },
                      {
                        "learn": [
                          0.9404558901,
                          0.3744317336
                        ],
                        "iteration": 1065,
                        "passed_time": 1116.33464,
                        "remaining_time": 4119.756543,
                        "test": [
                          0.6774600377,
                          0.8405916507
                        ]
                      },
                      {
                        "learn": [
                          0.9401298339,
                          0.3742128925
                        ],
                        "iteration": 1066,
                        "passed_time": 1117.268543,
                        "remaining_time": 4118.29164,
                        "test": [
                          0.6773577123,
                          0.8404951773
                        ]
                      },
                      {
                        "learn": [
                          0.9401298339,
                          0.3740934295
                        ],
                        "iteration": 1067,
                        "passed_time": 1118.177079,
                        "remaining_time": 4116.73434,
                        "test": [
                          0.6767787071,
                          0.8405701009
                        ]
                      },
                      {
                        "learn": [
                          0.9398579133,
                          0.3738691922
                        ],
                        "iteration": 1068,
                        "passed_time": 1119.149472,
                        "remaining_time": 4115.413073,
                        "test": [
                          0.676199322,
                          0.8405045614
                        ]
                      },
                      {
                        "learn": [
                          0.9404195342,
                          0.3735555942
                        ],
                        "iteration": 1069,
                        "passed_time": 1120.105703,
                        "remaining_time": 4114.033097,
                        "test": [
                          0.677438206,
                          0.8405696411
                        ]
                      },
                      {
                        "learn": [
                          0.9404195342,
                          0.3733180335
                        ],
                        "iteration": 1070,
                        "passed_time": 1121.048561,
                        "remaining_time": 4112.604853,
                        "test": [
                          0.6768588209,
                          0.840635374
                        ]
                      },
                      {
                        "learn": [
                          0.9404195342,
                          0.3732179258
                        ],
                        "iteration": 1071,
                        "passed_time": 1122.068585,
                        "remaining_time": 4111.460262,
                        "test": [
                          0.677438206,
                          0.8406654161
                        ]
                      },
                      {
                        "learn": [
                          0.9404195342,
                          0.3730635609
                        ],
                        "iteration": 1072,
                        "passed_time": 1123.135085,
                        "remaining_time": 4110.486001,
                        "test": [
                          0.6762400747,
                          0.8407668264
                        ]
                      },
                      {
                        "learn": [
                          0.9404195342,
                          0.3729421067
                        ],
                        "iteration": 1073,
                        "passed_time": 1124.089243,
                        "remaining_time": 4109.1009,
                        "test": [
                          0.6762400747,
                          0.8407041132
                        ]
                      },
                      {
                        "learn": [
                          0.9407053236,
                          0.3727604673
                        ],
                        "iteration": 1074,
                        "passed_time": 1125.058434,
                        "remaining_time": 4107.771492,
                        "test": [
                          0.6768191292,
                          0.8403822583
                        ]
                      },
                      {
                        "learn": [
                          0.941246278,
                          0.3724546397
                        ],
                        "iteration": 1075,
                        "passed_time": 1126.05712,
                        "remaining_time": 4106.550315,
                        "test": [
                          0.6756481411,
                          0.8405771628
                        ]
                      },
                      {
                        "learn": [
                          0.9415127973,
                          0.372270048
                        ],
                        "iteration": 1076,
                        "passed_time": 1127.69383,
                        "remaining_time": 4107.653572,
                        "test": [
                          0.6755646512,
                          0.8406248197
                        ]
                      },
                      {
                        "learn": [
                          0.9415252559,
                          0.3720735805
                        ],
                        "iteration": 1077,
                        "passed_time": 1129.128094,
                        "remaining_time": 4108.015198,
                        "test": [
                          0.6762271956,
                          0.8407614611
                        ]
                      },
                      {
                        "learn": [
                          0.9412534476,
                          0.3717749943
                        ],
                        "iteration": 1078,
                        "passed_time": 1130.072187,
                        "remaining_time": 4106.592258,
                        "test": [
                          0.6762271956,
                          0.8406866897
                        ]
                      },
                      {
                        "learn": [
                          0.9417841033,
                          0.3714150694
                        ],
                        "iteration": 1079,
                        "passed_time": 1130.959651,
                        "remaining_time": 4104.964658,
                        "test": [
                          0.6758591015,
                          0.8405428684
                        ]
                      },
                      {
                        "learn": [
                          0.9420746787,
                          0.3712846516
                        ],
                        "iteration": 1080,
                        "passed_time": 1131.863902,
                        "remaining_time": 4103.39929,
                        "test": [
                          0.6759059598,
                          0.8406724683
                        ]
                      },
                      {
                        "learn": [
                          0.9418081735,
                          0.3711701354
                        ],
                        "iteration": 1081,
                        "passed_time": 1132.808435,
                        "remaining_time": 4101.981006,
                        "test": [
                          0.6762057637,
                          0.8409958381
                        ]
                      },
                      {
                        "learn": [
                          0.941810296,
                          0.3710310828
                        ],
                        "iteration": 1082,
                        "passed_time": 1133.782098,
                        "remaining_time": 4100.668954,
                        "test": [
                          0.6753177473,
                          0.8412091188
                        ]
                      },
                      {
                        "learn": [
                          0.9420746787,
                          0.3708182116
                        ],
                        "iteration": 1083,
                        "passed_time": 1134.820977,
                        "remaining_time": 4099.593125,
                        "test": [
                          0.6759750096,
                          0.841481391
                        ]
                      },
                      {
                        "learn": [
                          0.9420726188,
                          0.3706860465
                        ],
                        "iteration": 1084,
                        "passed_time": 1135.76648,
                        "remaining_time": 4098.180434,
                        "test": [
                          0.6759750096,
                          0.8415429186
                        ]
                      },
                      {
                        "learn": [
                          0.9423421505,
                          0.3704889552
                        ],
                        "iteration": 1085,
                        "passed_time": 1136.686985,
                        "remaining_time": 4096.678506,
                        "test": [
                          0.6754467136,
                          0.8415618108
                        ]
                      },
                      {
                        "learn": [
                          0.9423421505,
                          0.3703713653
                        ],
                        "iteration": 1086,
                        "passed_time": 1137.686758,
                        "remaining_time": 4095.463004,
                        "test": [
                          0.6754467136,
                          0.8414242676
                        ]
                      },
                      {
                        "learn": [
                          0.9423421505,
                          0.3701636917
                        ],
                        "iteration": 1087,
                        "passed_time": 1138.73149,
                        "remaining_time": 4094.40955,
                        "test": [
                          0.6754467136,
                          0.8411137904
                        ]
                      },
                      {
                        "learn": [
                          0.9423421505,
                          0.3698907122
                        ],
                        "iteration": 1088,
                        "passed_time": 1139.980309,
                        "remaining_time": 4094.089063,
                        "test": [
                          0.6748669031,
                          0.8410461106
                        ]
                      },
                      {
                        "learn": [
                          0.9426294934,
                          0.3697157268
                        ],
                        "iteration": 1089,
                        "passed_time": 1141.428306,
                        "remaining_time": 4094.481354,
                        "test": [
                          0.6760582422,
                          0.8410868843
                        ]
                      },
                      {
                        "learn": [
                          0.942647926,
                          0.3694333412
                        ],
                        "iteration": 1090,
                        "passed_time": 1142.441218,
                        "remaining_time": 4093.311385,
                        "test": [
                          0.6760582422,
                          0.8413677263
                        ]
                      },
                      {
                        "learn": [
                          0.9429343251,
                          0.3691374818
                        ],
                        "iteration": 1091,
                        "passed_time": 1143.340933,
                        "remaining_time": 4091.7366,
                        "test": [
                          0.6758922831,
                          0.8416378274
                        ]
                      },
                      {
                        "learn": [
                          0.9440401653,
                          0.3687721422
                        ],
                        "iteration": 1092,
                        "passed_time": 1144.292834,
                        "remaining_time": 4090.349592,
                        "test": [
                          0.6753118443,
                          0.8418261046
                        ]
                      },
                      {
                        "learn": [
                          0.9446019957,
                          0.3683888399
                        ],
                        "iteration": 1093,
                        "passed_time": 1145.423346,
                        "remaining_time": 4089.601086,
                        "test": [
                          0.6769842515,
                          0.8417655749
                        ]
                      },
                      {
                        "learn": [
                          0.9446019957,
                          0.368231398
                        ],
                        "iteration": 1094,
                        "passed_time": 1146.460309,
                        "remaining_time": 4088.518271,
                        "test": [
                          0.6769842515,
                          0.8418187071
                        ]
                      },
                      {
                        "learn": [
                          0.944326633,
                          0.3680859773
                        ],
                        "iteration": 1095,
                        "passed_time": 1147.52163,
                        "remaining_time": 4087.522302,
                        "test": [
                          0.6764031292,
                          0.8417925794
                        ]
                      },
                      {
                        "learn": [
                          0.9457018951,
                          0.3674906236
                        ],
                        "iteration": 1096,
                        "passed_time": 1148.530432,
                        "remaining_time": 4086.339358,
                        "test": [
                          0.6751279637,
                          0.8416296063
                        ]
                      },
                      {
                        "learn": [
                          0.9456990256,
                          0.3672808417
                        ],
                        "iteration": 1097,
                        "passed_time": 1149.550769,
                        "remaining_time": 4085.197724,
                        "test": [
                          0.6745448679,
                          0.8416901529
                        ]
                      },
                      {
                        "learn": [
                          0.9459673286,
                          0.3670897424
                        ],
                        "iteration": 1098,
                        "passed_time": 1150.604022,
                        "remaining_time": 4084.173149,
                        "test": [
                          0.6763108674,
                          0.8419960592
                        ]
                      },
                      {
                        "learn": [
                          0.9459716111,
                          0.3666883111
                        ],
                        "iteration": 1099,
                        "passed_time": 1151.666926,
                        "remaining_time": 4083.182738,
                        "test": [
                          0.6763480208,
                          0.8421984915
                        ]
                      },
                      {
                        "learn": [
                          0.9465445285,
                          0.3665780322
                        ],
                        "iteration": 1100,
                        "passed_time": 1153.614911,
                        "remaining_time": 4085.326558,
                        "test": [
                          0.6763480208,
                          0.8421607767
                        ]
                      },
                      {
                        "learn": [
                          0.9470892018,
                          0.3662934189
                        ],
                        "iteration": 1101,
                        "passed_time": 1154.715825,
                        "remaining_time": 4084.466683,
                        "test": [
                          0.6765891227,
                          0.842278953
                        ]
                      },
                      {
                        "learn": [
                          0.9473797277,
                          0.3661698888
                        ],
                        "iteration": 1102,
                        "passed_time": 1155.670059,
                        "remaining_time": 4083.088141,
                        "test": [
                          0.6765891227,
                          0.8424329954
                        ]
                      },
                      {
                        "learn": [
                          0.9476737102,
                          0.3659785484
                        ],
                        "iteration": 1103,
                        "passed_time": 1156.610404,
                        "remaining_time": 4081.661354,
                        "test": [
                          0.6757000484,
                          0.8424618855
                        ]
                      },
                      {
                        "learn": [
                          0.9479776453,
                          0.3657418041
                        ],
                        "iteration": 1104,
                        "passed_time": 1157.570345,
                        "remaining_time": 4080.30452,
                        "test": [
                          0.6750921664,
                          0.8424881311
                        ]
                      },
                      {
                        "learn": [
                          0.9479776453,
                          0.3654599275
                        ],
                        "iteration": 1105,
                        "passed_time": 1158.542788,
                        "remaining_time": 4078.99242,
                        "test": [
                          0.6750921664,
                          0.8424379328
                        ]
                      },
                      {
                        "learn": [
                          0.9479776453,
                          0.3653066296
                        ],
                        "iteration": 1106,
                        "passed_time": 1159.569587,
                        "remaining_time": 4077.872089,
                        "test": [
                          0.6757000484,
                          0.8424022327
                        ]
                      },
                      {
                        "learn": [
                          0.9471554519,
                          0.3648831876
                        ],
                        "iteration": 1107,
                        "passed_time": 1160.474535,
                        "remaining_time": 4076.323908,
                        "test": [
                          0.6762810692,
                          0.8421979423
                        ]
                      },
                      {
                        "learn": [
                          0.9474292177,
                          0.3646204486
                        ],
                        "iteration": 1108,
                        "passed_time": 1161.41749,
                        "remaining_time": 4074.910238,
                        "test": [
                          0.6768617069,
                          0.8421813127
                        ]
                      },
                      {
                        "learn": [
                          0.9474232595,
                          0.3643966339
                        ],
                        "iteration": 1109,
                        "passed_time": 1162.446463,
                        "remaining_time": 4073.798864,
                        "test": [
                          0.6777659224,
                          0.842364002
                        ]
                      },
                      {
                        "learn": [
                          0.9471554519,
                          0.3642996976
                        ],
                        "iteration": 1110,
                        "passed_time": 1163.410714,
                        "remaining_time": 4072.461088,
                        "test": [
                          0.6771697603,
                          0.8423737829
                        ]
                      },
                      {
                        "learn": [
                          0.9468934504,
                          0.3640215748
                        ],
                        "iteration": 1111,
                        "passed_time": 1164.597902,
                        "remaining_time": 4071.903455,
                        "test": [
                          0.6777659224,
                          0.8422483152
                        ]
                      },
                      {
                        "learn": [
                          0.9468934504,
                          0.3639227798
                        ],
                        "iteration": 1112,
                        "passed_time": 1166.036143,
                        "remaining_time": 4072.221464,
                        "test": [
                          0.6777659224,
                          0.8423299985
                        ]
                      },
                      {
                        "learn": [
                          0.947163538,
                          0.3636667978
                        ],
                        "iteration": 1113,
                        "passed_time": 1167.121831,
                        "remaining_time": 4071.306496,
                        "test": [
                          0.6768617069,
                          0.8421699895
                        ]
                      },
                      {
                        "learn": [
                          0.9477016027,
                          0.3634457683
                        ],
                        "iteration": 1114,
                        "passed_time": 1168.043664,
                        "remaining_time": 4069.820301,
                        "test": [
                          0.6762014757,
                          0.8422109871
                        ]
                      },
                      {
                        "learn": [
                          0.948244244,
                          0.3631777773
                        ],
                        "iteration": 1115,
                        "passed_time": 1169.068436,
                        "remaining_time": 4068.693373,
                        "test": [
                          0.6765246967,
                          0.8424445616
                        ]
                      },
                      {
                        "learn": [
                          0.948244244,
                          0.3630282883
                        ],
                        "iteration": 1116,
                        "passed_time": 1170.203424,
                        "remaining_time": 4067.949773,
                        "test": [
                          0.6747079615,
                          0.8424861375
                        ]
                      },
                      {
                        "learn": [
                          0.9485172215,
                          0.3629175149
                        ],
                        "iteration": 1117,
                        "passed_time": 1171.190566,
                        "remaining_time": 4066.692107,
                        "test": [
                          0.6758976754,
                          0.8423336633
                        ]
                      },
                      {
                        "learn": [
                          0.9485172215,
                          0.3627137098
                        ],
                        "iteration": 1118,
                        "passed_time": 1172.207555,
                        "remaining_time": 4065.538446,
                        "test": [
                          0.6759237893,
                          0.8422929841
                        ]
                      },
                      {
                        "learn": [
                          0.9485172215,
                          0.362628816
                        ],
                        "iteration": 1119,
                        "passed_time": 1173.317345,
                        "remaining_time": 4064.706518,
                        "test": [
                          0.6759237893,
                          0.8423103578
                        ]
                      },
                      {
                        "learn": [
                          0.9479789965,
                          0.3625048403
                        ],
                        "iteration": 1120,
                        "passed_time": 1174.345088,
                        "remaining_time": 4063.590186,
                        "test": [
                          0.6759237893,
                          0.8423595027
                        ]
                      },
                      {
                        "learn": [
                          0.9482540025,
                          0.3622482171
                        ],
                        "iteration": 1121,
                        "passed_time": 1175.393128,
                        "remaining_time": 4062.544163,
                        "test": [
                          0.6747452709,
                          0.8421292999
                        ]
                      },
                      {
                        "learn": [
                          0.9479926872,
                          0.3620498087
                        ],
                        "iteration": 1122,
                        "passed_time": 1176.445884,
                        "remaining_time": 4061.514418,
                        "test": [
                          0.6759237893,
                          0.8422112121
                        ]
                      },
                      {
                        "learn": [
                          0.9482656403,
                          0.3619313284
                        ],
                        "iteration": 1123,
                        "passed_time": 1177.827826,
                        "remaining_time": 4061.619798,
                        "test": [
                          0.6753429478,
                          0.8421124979
                        ]
                      },
                      {
                        "learn": [
                          0.9482635974,
                          0.3617715486
                        ],
                        "iteration": 1124,
                        "passed_time": 1179.430055,
                        "remaining_time": 4062.481299,
                        "test": [
                          0.6753429478,
                          0.8418865557
                        ]
                      },
                      {
                        "learn": [
                          0.9479754287,
                          0.3615993513
                        ],
                        "iteration": 1125,
                        "passed_time": 1180.700649,
                        "remaining_time": 4062.197439,
                        "test": [
                          0.6753429478,
                          0.8419989691
                        ]
                      },
                      {
                        "learn": [
                          0.9479754287,
                          0.3614021347
                        ],
                        "iteration": 1126,
                        "passed_time": 1181.776621,
                        "remaining_time": 4061.242993,
                        "test": [
                          0.6753429478,
                          0.842094685
                        ]
                      },
                      {
                        "learn": [
                          0.9482656403,
                          0.3611663601
                        ],
                        "iteration": 1127,
                        "passed_time": 1182.832834,
                        "remaining_time": 4060.220509,
                        "test": [
                          0.6753429478,
                          0.8421682301
                        ]
                      },
                      {
                        "learn": [
                          0.9482656403,
                          0.3610394098
                        ],
                        "iteration": 1128,
                        "passed_time": 1183.92339,
                        "remaining_time": 4059.315715,
                        "test": [
                          0.6744390891,
                          0.8422528655
                        ]
                      }
                    ],
                    "meta": {
                      "test_sets": [
                        "test"
                      ],
                      "test_metrics": [
                        {
                          "best_value": "Max",
                          "name": "TotalF1"
                        },
                        {
                          "best_value": "Min",
                          "name": "MultiClass"
                        }
                      ],
                      "learn_metrics": [
                        {
                          "best_value": "Max",
                          "name": "TotalF1"
                        },
                        {
                          "best_value": "Min",
                          "name": "MultiClass"
                        }
                      ],
                      "launch_mode": "Train",
                      "parameters": "",
                      "iteration_count": 5000,
                      "learn_sets": [
                        "learn"
                      ],
                      "name": "experiment"
                    }
                  }
                }
              }
            },
            "layout": "IPY_MODEL_bf94c76a7d9c4a5684f0686e0fc97fe9"
          }
        }
      }
    }
  },
  "cells": [
    {
      "cell_type": "code",
      "execution_count": 1,
      "metadata": {
        "colab": {
          "base_uri": "https://localhost:8080/"
        },
        "id": "aeBGeL-vVDkl",
        "outputId": "8e58816e-0e99-4183-eed7-22dbc7ace595"
      },
      "outputs": [
        {
          "output_type": "stream",
          "name": "stdout",
          "text": [
            "Looking in indexes: https://pypi.org/simple, https://us-python.pkg.dev/colab-wheels/public/simple/\n",
            "Collecting tensorflow_text\n",
            "  Downloading tensorflow_text-2.12.1-cp39-cp39-manylinux_2_17_x86_64.manylinux2014_x86_64.whl (6.0 MB)\n",
            "\u001b[2K     \u001b[90m━━━━━━━━━━━━━━━━━━━━━━━━━━━━━━━━━━━━━━━━\u001b[0m \u001b[32m6.0/6.0 MB\u001b[0m \u001b[31m40.2 MB/s\u001b[0m eta \u001b[36m0:00:00\u001b[0m\n",
            "\u001b[?25hRequirement already satisfied: tensorflow<2.13,>=2.12.0 in /usr/local/lib/python3.9/dist-packages (from tensorflow_text) (2.12.0)\n",
            "Requirement already satisfied: tensorflow-hub>=0.8.0 in /usr/local/lib/python3.9/dist-packages (from tensorflow_text) (0.13.0)\n",
            "Requirement already satisfied: google-pasta>=0.1.1 in /usr/local/lib/python3.9/dist-packages (from tensorflow<2.13,>=2.12.0->tensorflow_text) (0.2.0)\n",
            "Requirement already satisfied: keras<2.13,>=2.12.0 in /usr/local/lib/python3.9/dist-packages (from tensorflow<2.13,>=2.12.0->tensorflow_text) (2.12.0)\n",
            "Requirement already satisfied: setuptools in /usr/local/lib/python3.9/dist-packages (from tensorflow<2.13,>=2.12.0->tensorflow_text) (67.6.1)\n",
            "Requirement already satisfied: six>=1.12.0 in /usr/local/lib/python3.9/dist-packages (from tensorflow<2.13,>=2.12.0->tensorflow_text) (1.16.0)\n",
            "Requirement already satisfied: flatbuffers>=2.0 in /usr/local/lib/python3.9/dist-packages (from tensorflow<2.13,>=2.12.0->tensorflow_text) (23.3.3)\n",
            "Requirement already satisfied: protobuf!=4.21.0,!=4.21.1,!=4.21.2,!=4.21.3,!=4.21.4,!=4.21.5,<5.0.0dev,>=3.20.3 in /usr/local/lib/python3.9/dist-packages (from tensorflow<2.13,>=2.12.0->tensorflow_text) (3.20.3)\n",
            "Requirement already satisfied: termcolor>=1.1.0 in /usr/local/lib/python3.9/dist-packages (from tensorflow<2.13,>=2.12.0->tensorflow_text) (2.2.0)\n",
            "Requirement already satisfied: libclang>=13.0.0 in /usr/local/lib/python3.9/dist-packages (from tensorflow<2.13,>=2.12.0->tensorflow_text) (16.0.0)\n",
            "Requirement already satisfied: tensorflow-io-gcs-filesystem>=0.23.1 in /usr/local/lib/python3.9/dist-packages (from tensorflow<2.13,>=2.12.0->tensorflow_text) (0.32.0)\n",
            "Requirement already satisfied: packaging in /usr/local/lib/python3.9/dist-packages (from tensorflow<2.13,>=2.12.0->tensorflow_text) (23.1)\n",
            "Requirement already satisfied: jax>=0.3.15 in /usr/local/lib/python3.9/dist-packages (from tensorflow<2.13,>=2.12.0->tensorflow_text) (0.4.8)\n",
            "Requirement already satisfied: absl-py>=1.0.0 in /usr/local/lib/python3.9/dist-packages (from tensorflow<2.13,>=2.12.0->tensorflow_text) (1.4.0)\n",
            "Requirement already satisfied: gast<=0.4.0,>=0.2.1 in /usr/local/lib/python3.9/dist-packages (from tensorflow<2.13,>=2.12.0->tensorflow_text) (0.4.0)\n",
            "Requirement already satisfied: tensorboard<2.13,>=2.12 in /usr/local/lib/python3.9/dist-packages (from tensorflow<2.13,>=2.12.0->tensorflow_text) (2.12.2)\n",
            "Requirement already satisfied: astunparse>=1.6.0 in /usr/local/lib/python3.9/dist-packages (from tensorflow<2.13,>=2.12.0->tensorflow_text) (1.6.3)\n",
            "Requirement already satisfied: typing-extensions>=3.6.6 in /usr/local/lib/python3.9/dist-packages (from tensorflow<2.13,>=2.12.0->tensorflow_text) (4.5.0)\n",
            "Requirement already satisfied: wrapt<1.15,>=1.11.0 in /usr/local/lib/python3.9/dist-packages (from tensorflow<2.13,>=2.12.0->tensorflow_text) (1.14.1)\n",
            "Requirement already satisfied: tensorflow-estimator<2.13,>=2.12.0 in /usr/local/lib/python3.9/dist-packages (from tensorflow<2.13,>=2.12.0->tensorflow_text) (2.12.0)\n",
            "Requirement already satisfied: opt-einsum>=2.3.2 in /usr/local/lib/python3.9/dist-packages (from tensorflow<2.13,>=2.12.0->tensorflow_text) (3.3.0)\n",
            "Requirement already satisfied: h5py>=2.9.0 in /usr/local/lib/python3.9/dist-packages (from tensorflow<2.13,>=2.12.0->tensorflow_text) (3.8.0)\n",
            "Requirement already satisfied: numpy<1.24,>=1.22 in /usr/local/lib/python3.9/dist-packages (from tensorflow<2.13,>=2.12.0->tensorflow_text) (1.22.4)\n",
            "Requirement already satisfied: grpcio<2.0,>=1.24.3 in /usr/local/lib/python3.9/dist-packages (from tensorflow<2.13,>=2.12.0->tensorflow_text) (1.53.0)\n",
            "Requirement already satisfied: wheel<1.0,>=0.23.0 in /usr/local/lib/python3.9/dist-packages (from astunparse>=1.6.0->tensorflow<2.13,>=2.12.0->tensorflow_text) (0.40.0)\n",
            "Requirement already satisfied: ml-dtypes>=0.0.3 in /usr/local/lib/python3.9/dist-packages (from jax>=0.3.15->tensorflow<2.13,>=2.12.0->tensorflow_text) (0.1.0)\n",
            "Requirement already satisfied: scipy>=1.7 in /usr/local/lib/python3.9/dist-packages (from jax>=0.3.15->tensorflow<2.13,>=2.12.0->tensorflow_text) (1.10.1)\n",
            "Requirement already satisfied: tensorboard-plugin-wit>=1.6.0 in /usr/local/lib/python3.9/dist-packages (from tensorboard<2.13,>=2.12->tensorflow<2.13,>=2.12.0->tensorflow_text) (1.8.1)\n",
            "Requirement already satisfied: google-auth-oauthlib<1.1,>=0.5 in /usr/local/lib/python3.9/dist-packages (from tensorboard<2.13,>=2.12->tensorflow<2.13,>=2.12.0->tensorflow_text) (1.0.0)\n",
            "Requirement already satisfied: markdown>=2.6.8 in /usr/local/lib/python3.9/dist-packages (from tensorboard<2.13,>=2.12->tensorflow<2.13,>=2.12.0->tensorflow_text) (3.4.3)\n",
            "Requirement already satisfied: requests<3,>=2.21.0 in /usr/local/lib/python3.9/dist-packages (from tensorboard<2.13,>=2.12->tensorflow<2.13,>=2.12.0->tensorflow_text) (2.27.1)\n",
            "Requirement already satisfied: werkzeug>=1.0.1 in /usr/local/lib/python3.9/dist-packages (from tensorboard<2.13,>=2.12->tensorflow<2.13,>=2.12.0->tensorflow_text) (2.2.3)\n",
            "Requirement already satisfied: tensorboard-data-server<0.8.0,>=0.7.0 in /usr/local/lib/python3.9/dist-packages (from tensorboard<2.13,>=2.12->tensorflow<2.13,>=2.12.0->tensorflow_text) (0.7.0)\n",
            "Requirement already satisfied: google-auth<3,>=1.6.3 in /usr/local/lib/python3.9/dist-packages (from tensorboard<2.13,>=2.12->tensorflow<2.13,>=2.12.0->tensorflow_text) (2.17.3)\n",
            "Requirement already satisfied: pyasn1-modules>=0.2.1 in /usr/local/lib/python3.9/dist-packages (from google-auth<3,>=1.6.3->tensorboard<2.13,>=2.12->tensorflow<2.13,>=2.12.0->tensorflow_text) (0.2.8)\n",
            "Requirement already satisfied: rsa<5,>=3.1.4 in /usr/local/lib/python3.9/dist-packages (from google-auth<3,>=1.6.3->tensorboard<2.13,>=2.12->tensorflow<2.13,>=2.12.0->tensorflow_text) (4.9)\n",
            "Requirement already satisfied: cachetools<6.0,>=2.0.0 in /usr/local/lib/python3.9/dist-packages (from google-auth<3,>=1.6.3->tensorboard<2.13,>=2.12->tensorflow<2.13,>=2.12.0->tensorflow_text) (5.3.0)\n",
            "Requirement already satisfied: requests-oauthlib>=0.7.0 in /usr/local/lib/python3.9/dist-packages (from google-auth-oauthlib<1.1,>=0.5->tensorboard<2.13,>=2.12->tensorflow<2.13,>=2.12.0->tensorflow_text) (1.3.1)\n",
            "Requirement already satisfied: importlib-metadata>=4.4 in /usr/local/lib/python3.9/dist-packages (from markdown>=2.6.8->tensorboard<2.13,>=2.12->tensorflow<2.13,>=2.12.0->tensorflow_text) (6.4.1)\n",
            "Requirement already satisfied: certifi>=2017.4.17 in /usr/local/lib/python3.9/dist-packages (from requests<3,>=2.21.0->tensorboard<2.13,>=2.12->tensorflow<2.13,>=2.12.0->tensorflow_text) (2022.12.7)\n",
            "Requirement already satisfied: charset-normalizer~=2.0.0 in /usr/local/lib/python3.9/dist-packages (from requests<3,>=2.21.0->tensorboard<2.13,>=2.12->tensorflow<2.13,>=2.12.0->tensorflow_text) (2.0.12)\n",
            "Requirement already satisfied: idna<4,>=2.5 in /usr/local/lib/python3.9/dist-packages (from requests<3,>=2.21.0->tensorboard<2.13,>=2.12->tensorflow<2.13,>=2.12.0->tensorflow_text) (3.4)\n",
            "Requirement already satisfied: urllib3<1.27,>=1.21.1 in /usr/local/lib/python3.9/dist-packages (from requests<3,>=2.21.0->tensorboard<2.13,>=2.12->tensorflow<2.13,>=2.12.0->tensorflow_text) (1.26.15)\n",
            "Requirement already satisfied: MarkupSafe>=2.1.1 in /usr/local/lib/python3.9/dist-packages (from werkzeug>=1.0.1->tensorboard<2.13,>=2.12->tensorflow<2.13,>=2.12.0->tensorflow_text) (2.1.2)\n",
            "Requirement already satisfied: zipp>=0.5 in /usr/local/lib/python3.9/dist-packages (from importlib-metadata>=4.4->markdown>=2.6.8->tensorboard<2.13,>=2.12->tensorflow<2.13,>=2.12.0->tensorflow_text) (3.15.0)\n",
            "Requirement already satisfied: pyasn1<0.5.0,>=0.4.6 in /usr/local/lib/python3.9/dist-packages (from pyasn1-modules>=0.2.1->google-auth<3,>=1.6.3->tensorboard<2.13,>=2.12->tensorflow<2.13,>=2.12.0->tensorflow_text) (0.4.8)\n",
            "Requirement already satisfied: oauthlib>=3.0.0 in /usr/local/lib/python3.9/dist-packages (from requests-oauthlib>=0.7.0->google-auth-oauthlib<1.1,>=0.5->tensorboard<2.13,>=2.12->tensorflow<2.13,>=2.12.0->tensorflow_text) (3.2.2)\n",
            "Installing collected packages: tensorflow_text\n",
            "Successfully installed tensorflow_text-2.12.1\n"
          ]
        }
      ],
      "source": [
        "!pip install tensorflow_text"
      ]
    },
    {
      "cell_type": "code",
      "execution_count": 2,
      "metadata": {
        "colab": {
          "base_uri": "https://localhost:8080/"
        },
        "id": "ICmIa4yuVPUn",
        "outputId": "48f91736-564b-4740-e802-7b93523db3b1"
      },
      "outputs": [
        {
          "output_type": "stream",
          "name": "stdout",
          "text": [
            "Looking in indexes: https://pypi.org/simple, https://us-python.pkg.dev/colab-wheels/public/simple/\n",
            "Collecting pymorphy2\n",
            "  Downloading pymorphy2-0.9.1-py3-none-any.whl (55 kB)\n",
            "\u001b[2K     \u001b[90m━━━━━━━━━━━━━━━━━━━━━━━━━━━━━━━━━━━━━━━━\u001b[0m \u001b[32m55.5/55.5 kB\u001b[0m \u001b[31m2.8 MB/s\u001b[0m eta \u001b[36m0:00:00\u001b[0m\n",
            "\u001b[?25hCollecting docopt>=0.6\n",
            "  Downloading docopt-0.6.2.tar.gz (25 kB)\n",
            "  Preparing metadata (setup.py) ... \u001b[?25l\u001b[?25hdone\n",
            "Collecting pymorphy2-dicts-ru<3.0,>=2.4\n",
            "  Downloading pymorphy2_dicts_ru-2.4.417127.4579844-py2.py3-none-any.whl (8.2 MB)\n",
            "\u001b[2K     \u001b[90m━━━━━━━━━━━━━━━━━━━━━━━━━━━━━━━━━━━━━━━━\u001b[0m \u001b[32m8.2/8.2 MB\u001b[0m \u001b[31m59.5 MB/s\u001b[0m eta \u001b[36m0:00:00\u001b[0m\n",
            "\u001b[?25hCollecting dawg-python>=0.7.1\n",
            "  Downloading DAWG_Python-0.7.2-py2.py3-none-any.whl (11 kB)\n",
            "Building wheels for collected packages: docopt\n",
            "  Building wheel for docopt (setup.py) ... \u001b[?25l\u001b[?25hdone\n",
            "  Created wheel for docopt: filename=docopt-0.6.2-py2.py3-none-any.whl size=13721 sha256=c125f9c82438209c53a4df8437a24a30a8092979ebf03b52bd0ecd55d9beaa04\n",
            "  Stored in directory: /root/.cache/pip/wheels/70/4a/46/1309fc853b8d395e60bafaf1b6df7845bdd82c95fd59dd8d2b\n",
            "Successfully built docopt\n",
            "Installing collected packages: pymorphy2-dicts-ru, docopt, dawg-python, pymorphy2\n",
            "Successfully installed dawg-python-0.7.2 docopt-0.6.2 pymorphy2-0.9.1 pymorphy2-dicts-ru-2.4.417127.4579844\n"
          ]
        }
      ],
      "source": [
        "!pip install pymorphy2"
      ]
    },
    {
      "cell_type": "markdown",
      "metadata": {
        "id": "vrzsAzvPZnuY"
      },
      "source": [
        "Импортируем необходимые библиотеки"
      ]
    },
    {
      "cell_type": "code",
      "execution_count": 2,
      "metadata": {
        "id": "4WKJwEX8VFqp",
        "colab": {
          "base_uri": "https://localhost:8080/",
          "height": 374
        },
        "outputId": "d6bb5cc2-2707-4eb7-a752-9d2f32d1298c"
      },
      "outputs": [
        {
          "output_type": "error",
          "ename": "ModuleNotFoundError",
          "evalue": "ignored",
          "traceback": [
            "\u001b[0;31m---------------------------------------------------------------------------\u001b[0m",
            "\u001b[0;31mModuleNotFoundError\u001b[0m                       Traceback (most recent call last)",
            "\u001b[0;32m<ipython-input-2-d9891563dd69>\u001b[0m in \u001b[0;36m<cell line: 7>\u001b[0;34m()\u001b[0m\n\u001b[1;32m      5\u001b[0m \u001b[0;32mfrom\u001b[0m \u001b[0msklearn\u001b[0m\u001b[0;34m.\u001b[0m\u001b[0mmodel_selection\u001b[0m \u001b[0;32mimport\u001b[0m \u001b[0mtrain_test_split\u001b[0m\u001b[0;34m\u001b[0m\u001b[0;34m\u001b[0m\u001b[0m\n\u001b[1;32m      6\u001b[0m \u001b[0;32mfrom\u001b[0m \u001b[0mtqdm\u001b[0m \u001b[0;32mimport\u001b[0m \u001b[0mtqdm\u001b[0m\u001b[0;34m\u001b[0m\u001b[0;34m\u001b[0m\u001b[0m\n\u001b[0;32m----> 7\u001b[0;31m \u001b[0;32mimport\u001b[0m \u001b[0mtensorflow_text\u001b[0m\u001b[0;34m\u001b[0m\u001b[0;34m\u001b[0m\u001b[0m\n\u001b[0m\u001b[1;32m      8\u001b[0m \u001b[0;32mimport\u001b[0m \u001b[0mtensorflow\u001b[0m \u001b[0;32mas\u001b[0m \u001b[0mtf\u001b[0m\u001b[0;34m\u001b[0m\u001b[0;34m\u001b[0m\u001b[0m\n\u001b[1;32m      9\u001b[0m \u001b[0;32mimport\u001b[0m \u001b[0mtensorflow_hub\u001b[0m \u001b[0;32mas\u001b[0m \u001b[0mhub\u001b[0m\u001b[0;34m\u001b[0m\u001b[0;34m\u001b[0m\u001b[0m\n",
            "\u001b[0;31mModuleNotFoundError\u001b[0m: No module named 'tensorflow_text'",
            "",
            "\u001b[0;31m---------------------------------------------------------------------------\u001b[0;32m\nNOTE: If your import is failing due to a missing package, you can\nmanually install dependencies using either !pip or !apt.\n\nTo view examples of installing some common dependencies, click the\n\"Open Examples\" button below.\n\u001b[0;31m---------------------------------------------------------------------------\u001b[0m\n"
          ],
          "errorDetails": {
            "actions": [
              {
                "action": "open_url",
                "actionText": "Open Examples",
                "url": "/notebooks/snippets/importing_libraries.ipynb"
              }
            ]
          }
        }
      ],
      "source": [
        "import pandas as pd\n",
        "import numpy as np\n",
        "import matplotlib.pyplot as plt\n",
        "import random\n",
        "from sklearn.model_selection import train_test_split\n",
        "from tqdm import tqdm\n",
        "import tensorflow_text\n",
        "import tensorflow as tf\n",
        "import tensorflow_hub as hub\n",
        "import re\n",
        "import seaborn as sns"
      ]
    },
    {
      "cell_type": "code",
      "source": [
        "import nltk\n",
        "nltk.download('stopwords')"
      ],
      "metadata": {
        "colab": {
          "base_uri": "https://localhost:8080/"
        },
        "id": "TRc1kCSHWjeo",
        "outputId": "4e0fe471-f4e6-490b-ff07-75bbc766ba38"
      },
      "execution_count": 4,
      "outputs": [
        {
          "output_type": "stream",
          "name": "stderr",
          "text": [
            "[nltk_data] Downloading package stopwords to /root/nltk_data...\n",
            "[nltk_data]   Unzipping corpora/stopwords.zip.\n"
          ]
        },
        {
          "output_type": "execute_result",
          "data": {
            "text/plain": [
              "True"
            ]
          },
          "metadata": {},
          "execution_count": 4
        }
      ]
    },
    {
      "cell_type": "code",
      "source": [
        "import re\n",
        "from pymorphy2 import MorphAnalyzer\n",
        "from nltk.corpus import stopwords\n",
        "patterns = \"[A-Za-z0-9!#$%&'()*+,./:;<=>?@[\\]^_`{|}~—\\\"\\-]+\"\n",
        "stopwords_ru = stopwords.words(\"russian\")\n",
        "morph = MorphAnalyzer()\n",
        "def lemmatize(doc):\n",
        "    doc = re.sub(patterns, ' ', doc)\n",
        "    tokens = []\n",
        "    for token in doc.split():\n",
        "        if token and token not in stopwords_ru:\n",
        "            token = token.strip()\n",
        "            token = morph.normal_forms(token)[0]\n",
        "            \n",
        "            tokens.append(token)\n",
        "    if len(tokens) > 2:\n",
        "        return tokens\n",
        "    return None"
      ],
      "metadata": {
        "id": "tuGVfaKHbfx-"
      },
      "execution_count": 5,
      "outputs": []
    },
    {
      "cell_type": "code",
      "source": [
        "def preprocessText(text):\n",
        "    text = text.lower().replace(\"ё\", \"е\")\n",
        "    text = re.sub('«»((www\\.[^\\s]+)|(https?://[^\\s]+))', ' ', text)\n",
        "    text = re.sub('@[^\\s]+', ' ', text)\n",
        "    text = re.sub('[^a-zA-Zа-яА-Я1-9]+', ' ', text)\n",
        "    text = re.sub(' +', ' ', text)\n",
        "    return text.strip()"
      ],
      "metadata": {
        "id": "2qWNl0T-7byh"
      },
      "execution_count": 6,
      "outputs": []
    },
    {
      "cell_type": "markdown",
      "metadata": {
        "id": "c-s0nu7Oa-56"
      },
      "source": [
        "##Загрузка датасета\n",
        "Данный датасет является корпусом коротких микроблогов, собранных Рубцовой Ю. на просторах Твиттера. \n",
        "\n",
        "Микроблогинг сильно отличается от отзывов на специализированных площадках:  в то время как отзыв является обдуманным,  структурированным заключением автора о продукте или услуге, сообщения микроблога более спонтанны,  менее продуманы и ограничены по длине. В отзывах,  как правило,  преобладает конструктивная критика или похвала продукта,  сообщения микроблога более эмоциональны и менее конструктивны. Микроблоги являются общетематическими ресурсами,  поэтому при их анализе стоит более сложная задача выделения ярких оценочных терминов,  которые имеют положительную или отрицательную окраску во многих предметных областях,  а не в одной, исследуемой."
      ]
    },
    {
      "cell_type": "code",
      "execution_count": 7,
      "metadata": {
        "id": "eF83Xbz8cPsp"
      },
      "outputs": [],
      "source": [
        "light = pd.read_csv('/content/light.csv', sep = ';', header=None)\n",
        "light2 = pd.read_csv('/content/light2.csv', sep = ';', header=None)\n",
        "light3 = pd.read_csv('/content/light3.csv', sep = ';', header=None)\n",
        "middle1 = pd.read_csv('/content/middle1.csv', sep = ';', header=None)\n",
        "middle2 = pd.read_csv('/content/middle2.csv', sep = ';', header=None)"
      ]
    },
    {
      "cell_type": "code",
      "source": [
        "light"
      ],
      "metadata": {
        "colab": {
          "base_uri": "https://localhost:8080/",
          "height": 423
        },
        "id": "mvATMTmR0kcl",
        "outputId": "9d4ad421-b4e3-45b4-8c86-e003c2ba2beb"
      },
      "execution_count": 8,
      "outputs": [
        {
          "output_type": "execute_result",
          "data": {
            "text/plain": [
              "                                                     0\n",
              "0      Само слово экономика пришло из греческого языка\n",
              "1    Оно состоит из двух слов экос  дом и номос  за...\n",
              "2       Экономика это хозяйственная деятельность людей\n",
              "3               Как называется место вашего проживания\n",
              "4                        Вы живёте в городе или в селе\n",
              "..                                                 ...\n",
              "956  Но предприимчивые люди умеют превращать в день...\n",
              "957  мусор. Один немец, долго работая в фирме  по у...\n",
              "958  И тогда он организовал музей, который назвал С...\n",
              "959  Там можно  увидеть старинные часы, картины, др...\n",
              "960  Сейчас этот мусорный музей  один из самых попу...\n",
              "\n",
              "[961 rows x 1 columns]"
            ],
            "text/html": [
              "\n",
              "  <div id=\"df-c03c3203-6799-40a0-94bc-b1be17c2c1ce\">\n",
              "    <div class=\"colab-df-container\">\n",
              "      <div>\n",
              "<style scoped>\n",
              "    .dataframe tbody tr th:only-of-type {\n",
              "        vertical-align: middle;\n",
              "    }\n",
              "\n",
              "    .dataframe tbody tr th {\n",
              "        vertical-align: top;\n",
              "    }\n",
              "\n",
              "    .dataframe thead th {\n",
              "        text-align: right;\n",
              "    }\n",
              "</style>\n",
              "<table border=\"1\" class=\"dataframe\">\n",
              "  <thead>\n",
              "    <tr style=\"text-align: right;\">\n",
              "      <th></th>\n",
              "      <th>0</th>\n",
              "    </tr>\n",
              "  </thead>\n",
              "  <tbody>\n",
              "    <tr>\n",
              "      <th>0</th>\n",
              "      <td>Само слово экономика пришло из греческого языка</td>\n",
              "    </tr>\n",
              "    <tr>\n",
              "      <th>1</th>\n",
              "      <td>Оно состоит из двух слов экос  дом и номос  за...</td>\n",
              "    </tr>\n",
              "    <tr>\n",
              "      <th>2</th>\n",
              "      <td>Экономика это хозяйственная деятельность людей</td>\n",
              "    </tr>\n",
              "    <tr>\n",
              "      <th>3</th>\n",
              "      <td>Как называется место вашего проживания</td>\n",
              "    </tr>\n",
              "    <tr>\n",
              "      <th>4</th>\n",
              "      <td>Вы живёте в городе или в селе</td>\n",
              "    </tr>\n",
              "    <tr>\n",
              "      <th>...</th>\n",
              "      <td>...</td>\n",
              "    </tr>\n",
              "    <tr>\n",
              "      <th>956</th>\n",
              "      <td>Но предприимчивые люди умеют превращать в день...</td>\n",
              "    </tr>\n",
              "    <tr>\n",
              "      <th>957</th>\n",
              "      <td>мусор. Один немец, долго работая в фирме  по у...</td>\n",
              "    </tr>\n",
              "    <tr>\n",
              "      <th>958</th>\n",
              "      <td>И тогда он организовал музей, который назвал С...</td>\n",
              "    </tr>\n",
              "    <tr>\n",
              "      <th>959</th>\n",
              "      <td>Там можно  увидеть старинные часы, картины, др...</td>\n",
              "    </tr>\n",
              "    <tr>\n",
              "      <th>960</th>\n",
              "      <td>Сейчас этот мусорный музей  один из самых попу...</td>\n",
              "    </tr>\n",
              "  </tbody>\n",
              "</table>\n",
              "<p>961 rows × 1 columns</p>\n",
              "</div>\n",
              "      <button class=\"colab-df-convert\" onclick=\"convertToInteractive('df-c03c3203-6799-40a0-94bc-b1be17c2c1ce')\"\n",
              "              title=\"Convert this dataframe to an interactive table.\"\n",
              "              style=\"display:none;\">\n",
              "        \n",
              "  <svg xmlns=\"http://www.w3.org/2000/svg\" height=\"24px\"viewBox=\"0 0 24 24\"\n",
              "       width=\"24px\">\n",
              "    <path d=\"M0 0h24v24H0V0z\" fill=\"none\"/>\n",
              "    <path d=\"M18.56 5.44l.94 2.06.94-2.06 2.06-.94-2.06-.94-.94-2.06-.94 2.06-2.06.94zm-11 1L8.5 8.5l.94-2.06 2.06-.94-2.06-.94L8.5 2.5l-.94 2.06-2.06.94zm10 10l.94 2.06.94-2.06 2.06-.94-2.06-.94-.94-2.06-.94 2.06-2.06.94z\"/><path d=\"M17.41 7.96l-1.37-1.37c-.4-.4-.92-.59-1.43-.59-.52 0-1.04.2-1.43.59L10.3 9.45l-7.72 7.72c-.78.78-.78 2.05 0 2.83L4 21.41c.39.39.9.59 1.41.59.51 0 1.02-.2 1.41-.59l7.78-7.78 2.81-2.81c.8-.78.8-2.07 0-2.86zM5.41 20L4 18.59l7.72-7.72 1.47 1.35L5.41 20z\"/>\n",
              "  </svg>\n",
              "      </button>\n",
              "      \n",
              "  <style>\n",
              "    .colab-df-container {\n",
              "      display:flex;\n",
              "      flex-wrap:wrap;\n",
              "      gap: 12px;\n",
              "    }\n",
              "\n",
              "    .colab-df-convert {\n",
              "      background-color: #E8F0FE;\n",
              "      border: none;\n",
              "      border-radius: 50%;\n",
              "      cursor: pointer;\n",
              "      display: none;\n",
              "      fill: #1967D2;\n",
              "      height: 32px;\n",
              "      padding: 0 0 0 0;\n",
              "      width: 32px;\n",
              "    }\n",
              "\n",
              "    .colab-df-convert:hover {\n",
              "      background-color: #E2EBFA;\n",
              "      box-shadow: 0px 1px 2px rgba(60, 64, 67, 0.3), 0px 1px 3px 1px rgba(60, 64, 67, 0.15);\n",
              "      fill: #174EA6;\n",
              "    }\n",
              "\n",
              "    [theme=dark] .colab-df-convert {\n",
              "      background-color: #3B4455;\n",
              "      fill: #D2E3FC;\n",
              "    }\n",
              "\n",
              "    [theme=dark] .colab-df-convert:hover {\n",
              "      background-color: #434B5C;\n",
              "      box-shadow: 0px 1px 3px 1px rgba(0, 0, 0, 0.15);\n",
              "      filter: drop-shadow(0px 1px 2px rgba(0, 0, 0, 0.3));\n",
              "      fill: #FFFFFF;\n",
              "    }\n",
              "  </style>\n",
              "\n",
              "      <script>\n",
              "        const buttonEl =\n",
              "          document.querySelector('#df-c03c3203-6799-40a0-94bc-b1be17c2c1ce button.colab-df-convert');\n",
              "        buttonEl.style.display =\n",
              "          google.colab.kernel.accessAllowed ? 'block' : 'none';\n",
              "\n",
              "        async function convertToInteractive(key) {\n",
              "          const element = document.querySelector('#df-c03c3203-6799-40a0-94bc-b1be17c2c1ce');\n",
              "          const dataTable =\n",
              "            await google.colab.kernel.invokeFunction('convertToInteractive',\n",
              "                                                     [key], {});\n",
              "          if (!dataTable) return;\n",
              "\n",
              "          const docLinkHtml = 'Like what you see? Visit the ' +\n",
              "            '<a target=\"_blank\" href=https://colab.research.google.com/notebooks/data_table.ipynb>data table notebook</a>'\n",
              "            + ' to learn more about interactive tables.';\n",
              "          element.innerHTML = '';\n",
              "          dataTable['output_type'] = 'display_data';\n",
              "          await google.colab.output.renderOutput(dataTable, element);\n",
              "          const docLink = document.createElement('div');\n",
              "          docLink.innerHTML = docLinkHtml;\n",
              "          element.appendChild(docLink);\n",
              "        }\n",
              "      </script>\n",
              "    </div>\n",
              "  </div>\n",
              "  "
            ]
          },
          "metadata": {},
          "execution_count": 8
        }
      ]
    },
    {
      "cell_type": "code",
      "execution_count": 9,
      "metadata": {
        "id": "QQdsfAsWVIgP"
      },
      "outputs": [],
      "source": [
        "light = light.iloc[:, 0].head(20000)\n",
        "lig = pd.DataFrame(light.apply(lemmatize)).dropna() \n",
        "lig['complexity'] = 'ПервыеКлассы'\n",
        "\n",
        "light2 = light2.iloc[:, 0].head(20000)\n",
        "lig2 = pd.DataFrame(light2.apply(lemmatize)).dropna() \n",
        "lig2['complexity'] = 'НачальнаяШкола' \n",
        "\n",
        "light3 = light3.iloc[:, 0].head(20000)\n",
        "lig3 = pd.DataFrame(light3.apply(lemmatize)).dropna() \n",
        "lig3['complexity'] = 'СредняяШкола' \n",
        "\n",
        "middle1 = middle1.iloc[:, 0].head(20000)\n",
        "mid1 = pd.DataFrame(middle1.apply(lemmatize)).dropna() \n",
        "mid1['complexity'] = 'ВыпускСредние' \n",
        "\n",
        "middle2 = middle2.iloc[:, 0].head(20000)\n",
        "mid2 = pd.DataFrame(middle2.apply(lemmatize)).dropna() \n",
        "mid2['complexity'] = 'СтаршиеКлассы' "
      ]
    },
    {
      "cell_type": "code",
      "source": [
        "type(mid2)"
      ],
      "metadata": {
        "colab": {
          "base_uri": "https://localhost:8080/"
        },
        "id": "0-Avq85ia15v",
        "outputId": "59724f6b-371c-474b-dc03-79427cf0a866"
      },
      "execution_count": 10,
      "outputs": [
        {
          "output_type": "execute_result",
          "data": {
            "text/plain": [
              "pandas.core.frame.DataFrame"
            ]
          },
          "metadata": {},
          "execution_count": 10
        }
      ]
    },
    {
      "cell_type": "code",
      "source": [
        "all = pd.concat([lig, lig2, lig3, mid1, mid2], ignore_index=True)\n",
        "all.columns = ['text', 'complexity']\n",
        "all = all.dropna()"
      ],
      "metadata": {
        "id": "64vZMGSJcKeY"
      },
      "execution_count": 44,
      "outputs": []
    },
    {
      "cell_type": "code",
      "source": [
        "i=0;\n",
        "while(i < len(all)):\n",
        "    all.text[i]= \" \".join(all.text[i])\n",
        "    i=i+1"
      ],
      "metadata": {
        "id": "Uc6XlD7DeCpX"
      },
      "execution_count": 45,
      "outputs": []
    },
    {
      "cell_type": "code",
      "source": [
        "all"
      ],
      "metadata": {
        "colab": {
          "base_uri": "https://localhost:8080/",
          "height": 423
        },
        "id": "M9JAhDxeg_dR",
        "outputId": "a400d663-690a-47e2-cfc1-0e2133d6bf9e"
      },
      "execution_count": 46,
      "outputs": [
        {
          "output_type": "execute_result",
          "data": {
            "text/plain": [
              "                                                   text     complexity\n",
              "0             сам слово экономика прийти греческий язык   ПервыеКлассы\n",
              "1     оно состоять два слово экос дом номос закон пе...   ПервыеКлассы\n",
              "2      экономика это хозяйственный деятельность человек   ПервыеКлассы\n",
              "3                   как называться место ваш проживание   ПервыеКлассы\n",
              "4                                    вы жить город село   ПервыеКлассы\n",
              "...                                                 ...            ...\n",
              "5208  цена консервативный инвестиционный портфель от...  СтаршиеКлассы\n",
              "5209  цена консервативный портфель расти вместе рост...  СтаршиеКлассы\n",
              "5210  ценный бумага выпустить предприятие этот секто...  СтаршиеКлассы\n",
              "5211  управление портфель активный пассивный по уров...  СтаршиеКлассы\n",
              "5212  инвестиционный портфель должный диверсифициров...  СтаршиеКлассы\n",
              "\n",
              "[5213 rows x 2 columns]"
            ],
            "text/html": [
              "\n",
              "  <div id=\"df-0687e7a0-7183-46e6-b6b5-db02d02b136c\">\n",
              "    <div class=\"colab-df-container\">\n",
              "      <div>\n",
              "<style scoped>\n",
              "    .dataframe tbody tr th:only-of-type {\n",
              "        vertical-align: middle;\n",
              "    }\n",
              "\n",
              "    .dataframe tbody tr th {\n",
              "        vertical-align: top;\n",
              "    }\n",
              "\n",
              "    .dataframe thead th {\n",
              "        text-align: right;\n",
              "    }\n",
              "</style>\n",
              "<table border=\"1\" class=\"dataframe\">\n",
              "  <thead>\n",
              "    <tr style=\"text-align: right;\">\n",
              "      <th></th>\n",
              "      <th>text</th>\n",
              "      <th>complexity</th>\n",
              "    </tr>\n",
              "  </thead>\n",
              "  <tbody>\n",
              "    <tr>\n",
              "      <th>0</th>\n",
              "      <td>сам слово экономика прийти греческий язык</td>\n",
              "      <td>ПервыеКлассы</td>\n",
              "    </tr>\n",
              "    <tr>\n",
              "      <th>1</th>\n",
              "      <td>оно состоять два слово экос дом номос закон пе...</td>\n",
              "      <td>ПервыеКлассы</td>\n",
              "    </tr>\n",
              "    <tr>\n",
              "      <th>2</th>\n",
              "      <td>экономика это хозяйственный деятельность человек</td>\n",
              "      <td>ПервыеКлассы</td>\n",
              "    </tr>\n",
              "    <tr>\n",
              "      <th>3</th>\n",
              "      <td>как называться место ваш проживание</td>\n",
              "      <td>ПервыеКлассы</td>\n",
              "    </tr>\n",
              "    <tr>\n",
              "      <th>4</th>\n",
              "      <td>вы жить город село</td>\n",
              "      <td>ПервыеКлассы</td>\n",
              "    </tr>\n",
              "    <tr>\n",
              "      <th>...</th>\n",
              "      <td>...</td>\n",
              "      <td>...</td>\n",
              "    </tr>\n",
              "    <tr>\n",
              "      <th>5208</th>\n",
              "      <td>цена консервативный инвестиционный портфель от...</td>\n",
              "      <td>СтаршиеКлассы</td>\n",
              "    </tr>\n",
              "    <tr>\n",
              "      <th>5209</th>\n",
              "      <td>цена консервативный портфель расти вместе рост...</td>\n",
              "      <td>СтаршиеКлассы</td>\n",
              "    </tr>\n",
              "    <tr>\n",
              "      <th>5210</th>\n",
              "      <td>ценный бумага выпустить предприятие этот секто...</td>\n",
              "      <td>СтаршиеКлассы</td>\n",
              "    </tr>\n",
              "    <tr>\n",
              "      <th>5211</th>\n",
              "      <td>управление портфель активный пассивный по уров...</td>\n",
              "      <td>СтаршиеКлассы</td>\n",
              "    </tr>\n",
              "    <tr>\n",
              "      <th>5212</th>\n",
              "      <td>инвестиционный портфель должный диверсифициров...</td>\n",
              "      <td>СтаршиеКлассы</td>\n",
              "    </tr>\n",
              "  </tbody>\n",
              "</table>\n",
              "<p>5213 rows × 2 columns</p>\n",
              "</div>\n",
              "      <button class=\"colab-df-convert\" onclick=\"convertToInteractive('df-0687e7a0-7183-46e6-b6b5-db02d02b136c')\"\n",
              "              title=\"Convert this dataframe to an interactive table.\"\n",
              "              style=\"display:none;\">\n",
              "        \n",
              "  <svg xmlns=\"http://www.w3.org/2000/svg\" height=\"24px\"viewBox=\"0 0 24 24\"\n",
              "       width=\"24px\">\n",
              "    <path d=\"M0 0h24v24H0V0z\" fill=\"none\"/>\n",
              "    <path d=\"M18.56 5.44l.94 2.06.94-2.06 2.06-.94-2.06-.94-.94-2.06-.94 2.06-2.06.94zm-11 1L8.5 8.5l.94-2.06 2.06-.94-2.06-.94L8.5 2.5l-.94 2.06-2.06.94zm10 10l.94 2.06.94-2.06 2.06-.94-2.06-.94-.94-2.06-.94 2.06-2.06.94z\"/><path d=\"M17.41 7.96l-1.37-1.37c-.4-.4-.92-.59-1.43-.59-.52 0-1.04.2-1.43.59L10.3 9.45l-7.72 7.72c-.78.78-.78 2.05 0 2.83L4 21.41c.39.39.9.59 1.41.59.51 0 1.02-.2 1.41-.59l7.78-7.78 2.81-2.81c.8-.78.8-2.07 0-2.86zM5.41 20L4 18.59l7.72-7.72 1.47 1.35L5.41 20z\"/>\n",
              "  </svg>\n",
              "      </button>\n",
              "      \n",
              "  <style>\n",
              "    .colab-df-container {\n",
              "      display:flex;\n",
              "      flex-wrap:wrap;\n",
              "      gap: 12px;\n",
              "    }\n",
              "\n",
              "    .colab-df-convert {\n",
              "      background-color: #E8F0FE;\n",
              "      border: none;\n",
              "      border-radius: 50%;\n",
              "      cursor: pointer;\n",
              "      display: none;\n",
              "      fill: #1967D2;\n",
              "      height: 32px;\n",
              "      padding: 0 0 0 0;\n",
              "      width: 32px;\n",
              "    }\n",
              "\n",
              "    .colab-df-convert:hover {\n",
              "      background-color: #E2EBFA;\n",
              "      box-shadow: 0px 1px 2px rgba(60, 64, 67, 0.3), 0px 1px 3px 1px rgba(60, 64, 67, 0.15);\n",
              "      fill: #174EA6;\n",
              "    }\n",
              "\n",
              "    [theme=dark] .colab-df-convert {\n",
              "      background-color: #3B4455;\n",
              "      fill: #D2E3FC;\n",
              "    }\n",
              "\n",
              "    [theme=dark] .colab-df-convert:hover {\n",
              "      background-color: #434B5C;\n",
              "      box-shadow: 0px 1px 3px 1px rgba(0, 0, 0, 0.15);\n",
              "      filter: drop-shadow(0px 1px 2px rgba(0, 0, 0, 0.3));\n",
              "      fill: #FFFFFF;\n",
              "    }\n",
              "  </style>\n",
              "\n",
              "      <script>\n",
              "        const buttonEl =\n",
              "          document.querySelector('#df-0687e7a0-7183-46e6-b6b5-db02d02b136c button.colab-df-convert');\n",
              "        buttonEl.style.display =\n",
              "          google.colab.kernel.accessAllowed ? 'block' : 'none';\n",
              "\n",
              "        async function convertToInteractive(key) {\n",
              "          const element = document.querySelector('#df-0687e7a0-7183-46e6-b6b5-db02d02b136c');\n",
              "          const dataTable =\n",
              "            await google.colab.kernel.invokeFunction('convertToInteractive',\n",
              "                                                     [key], {});\n",
              "          if (!dataTable) return;\n",
              "\n",
              "          const docLinkHtml = 'Like what you see? Visit the ' +\n",
              "            '<a target=\"_blank\" href=https://colab.research.google.com/notebooks/data_table.ipynb>data table notebook</a>'\n",
              "            + ' to learn more about interactive tables.';\n",
              "          element.innerHTML = '';\n",
              "          dataTable['output_type'] = 'display_data';\n",
              "          await google.colab.output.renderOutput(dataTable, element);\n",
              "          const docLink = document.createElement('div');\n",
              "          docLink.innerHTML = docLinkHtml;\n",
              "          element.appendChild(docLink);\n",
              "        }\n",
              "      </script>\n",
              "    </div>\n",
              "  </div>\n",
              "  "
            ]
          },
          "metadata": {},
          "execution_count": 46
        }
      ]
    },
    {
      "cell_type": "code",
      "source": [
        "sns.set(rc={'figure.figsize':(20,10)})\n",
        "sns_plt = sns.countplot(x='complexity', data = all, palette=\"Set2\")"
      ],
      "metadata": {
        "colab": {
          "base_uri": "https://localhost:8080/",
          "height": 583
        },
        "id": "-Vuj-vZbmdfR",
        "outputId": "5eefe245-4bfe-433a-f851-ed2b40c2c030"
      },
      "execution_count": 14,
      "outputs": [
        {
          "output_type": "display_data",
          "data": {
            "text/plain": [
              "<Figure size 2000x1000 with 1 Axes>"
            ],
            "image/png": "[encoded data removed]"
          },
          "metadata": {}
        }
      ]
    },
    {
      "cell_type": "markdown",
      "source": [
        "# Pipeline"
      ],
      "metadata": {
        "id": "JYopkTUSQ8UM"
      }
    },
    {
      "cell_type": "code",
      "source": [
        "from sklearn.model_selection import train_test_split\n",
        "\n",
        "X = all['text']\n",
        "y = all['complexity']\n",
        "\n",
        "X_train, X_test, y_train, y_test = train_test_split(X, y, random_state= 42, test_size=0.3)"
      ],
      "metadata": {
        "id": "_ukQABRHyVQj"
      },
      "execution_count": 102,
      "outputs": []
    },
    {
      "cell_type": "code",
      "source": [
        "from sklearn.pipeline import Pipeline\n",
        "from sklearn.feature_extraction.text import TfidfTransformer\n",
        "from sklearn.feature_extraction.text import CountVectorizer\n",
        "from sklearn.feature_extraction.text import TfidfVectorizer\n",
        "from sklearn.linear_model import LogisticRegression\n",
        "\n",
        "logreg = Pipeline([\n",
        "                ('vect', CountVectorizer(analyzer='char')),\n",
        "                ('tfidf', TfidfTransformer()),\n",
        "                ('clf', LogisticRegression(n_jobs=3,C=1e5, solver='saga', \n",
        "                                           multi_class='multinomial',\n",
        "                                           max_iter=1000,\n",
        "                                           random_state=42)),\n",
        "])\n",
        "\n",
        "logreg.fit(X_train, y_train)\n",
        "y_pred = logreg.predict(X_test)\n",
        "\n",
        "themes = all['complexity'].unique()\n",
        "\n",
        "from sklearn.metrics import classification_report\n",
        "from sklearn.metrics import f1_score\n",
        "print(classification_report(y_test, y_pred, target_names = themes))\n",
        "print(f\"F1 Score: {f1_score(y_test, y_pred, average='weighted')}\")"
      ],
      "metadata": {
        "colab": {
          "base_uri": "https://localhost:8080/"
        },
        "id": "oaEKfNLKySFc",
        "outputId": "ea090e7b-7481-454e-9630-9eb692bc11ce"
      },
      "execution_count": 16,
      "outputs": [
        {
          "output_type": "stream",
          "name": "stdout",
          "text": [
            "                precision    recall  f1-score   support\n",
            "\n",
            "  ПервыеКлассы       0.36      0.49      0.42       482\n",
            "НачальнаяШкола       0.16      0.03      0.06        87\n",
            "  СредняяШкола       0.47      0.38      0.42       301\n",
            " ВыпускСредние       0.49      0.16      0.25       128\n",
            " СтаршиеКлассы       0.55      0.59      0.57       566\n",
            "\n",
            "      accuracy                           0.45      1564\n",
            "     macro avg       0.41      0.33      0.34      1564\n",
            "  weighted avg       0.45      0.45      0.44      1564\n",
            "\n",
            "F1 Score: 0.43703040287584727\n"
          ]
        },
        {
          "output_type": "stream",
          "name": "stderr",
          "text": [
            "/usr/local/lib/python3.9/dist-packages/sklearn/linear_model/_sag.py:350: ConvergenceWarning: The max_iter was reached which means the coef_ did not converge\n",
            "  warnings.warn(\n"
          ]
        }
      ]
    },
    {
      "cell_type": "markdown",
      "source": [
        "# catboost "
      ],
      "metadata": {
        "id": "1hkJ5dvxRFph"
      }
    },
    {
      "cell_type": "code",
      "source": [
        "!pip install catboost "
      ],
      "metadata": {
        "colab": {
          "base_uri": "https://localhost:8080/"
        },
        "id": "LZDvDi9Q6FYE",
        "outputId": "43ab3b8f-625a-495a-f6eb-d80303542805"
      },
      "execution_count": 17,
      "outputs": [
        {
          "output_type": "stream",
          "name": "stdout",
          "text": [
            "Looking in indexes: https://pypi.org/simple, https://us-python.pkg.dev/colab-wheels/public/simple/\n",
            "Collecting catboost\n",
            "  Downloading catboost-1.1.1-cp39-none-manylinux1_x86_64.whl (76.6 MB)\n",
            "\u001b[2K     \u001b[90m━━━━━━━━━━━━━━━━━━━━━━━━━━━━━━━━━━━━━━━━\u001b[0m \u001b[32m76.6/76.6 MB\u001b[0m \u001b[31m12.9 MB/s\u001b[0m eta \u001b[36m0:00:00\u001b[0m\n",
            "\u001b[?25hRequirement already satisfied: numpy>=1.16.0 in /usr/local/lib/python3.9/dist-packages (from catboost) (1.22.4)\n",
            "Requirement already satisfied: scipy in /usr/local/lib/python3.9/dist-packages (from catboost) (1.10.1)\n",
            "Requirement already satisfied: six in /usr/local/lib/python3.9/dist-packages (from catboost) (1.16.0)\n",
            "Requirement already satisfied: matplotlib in /usr/local/lib/python3.9/dist-packages (from catboost) (3.7.1)\n",
            "Requirement already satisfied: plotly in /usr/local/lib/python3.9/dist-packages (from catboost) (5.13.1)\n",
            "Requirement already satisfied: pandas>=0.24.0 in /usr/local/lib/python3.9/dist-packages (from catboost) (1.5.3)\n",
            "Requirement already satisfied: graphviz in /usr/local/lib/python3.9/dist-packages (from catboost) (0.20.1)\n",
            "Requirement already satisfied: python-dateutil>=2.8.1 in /usr/local/lib/python3.9/dist-packages (from pandas>=0.24.0->catboost) (2.8.2)\n",
            "Requirement already satisfied: pytz>=2020.1 in /usr/local/lib/python3.9/dist-packages (from pandas>=0.24.0->catboost) (2022.7.1)\n",
            "Requirement already satisfied: importlib-resources>=3.2.0 in /usr/local/lib/python3.9/dist-packages (from matplotlib->catboost) (5.12.0)\n",
            "Requirement already satisfied: pyparsing>=2.3.1 in /usr/local/lib/python3.9/dist-packages (from matplotlib->catboost) (3.0.9)\n",
            "Requirement already satisfied: pillow>=6.2.0 in /usr/local/lib/python3.9/dist-packages (from matplotlib->catboost) (8.4.0)\n",
            "Requirement already satisfied: kiwisolver>=1.0.1 in /usr/local/lib/python3.9/dist-packages (from matplotlib->catboost) (1.4.4)\n",
            "Requirement already satisfied: cycler>=0.10 in /usr/local/lib/python3.9/dist-packages (from matplotlib->catboost) (0.11.0)\n",
            "Requirement already satisfied: packaging>=20.0 in /usr/local/lib/python3.9/dist-packages (from matplotlib->catboost) (23.1)\n",
            "Requirement already satisfied: contourpy>=1.0.1 in /usr/local/lib/python3.9/dist-packages (from matplotlib->catboost) (1.0.7)\n",
            "Requirement already satisfied: fonttools>=4.22.0 in /usr/local/lib/python3.9/dist-packages (from matplotlib->catboost) (4.39.3)\n",
            "Requirement already satisfied: tenacity>=6.2.0 in /usr/local/lib/python3.9/dist-packages (from plotly->catboost) (8.2.2)\n",
            "Requirement already satisfied: zipp>=3.1.0 in /usr/local/lib/python3.9/dist-packages (from importlib-resources>=3.2.0->matplotlib->catboost) (3.15.0)\n",
            "Installing collected packages: catboost\n",
            "Successfully installed catboost-1.1.1\n"
          ]
        }
      ]
    },
    {
      "cell_type": "code",
      "source": [
        "import catboost\n",
        "from catboost import CatBoostClassifier, Pool\n",
        "\n",
        "def fit_model(train_pool, test_pool, **kwargs):\n",
        "    model = CatBoostClassifier(task_type='CPU', iterations = 5000,\n",
        "                               eval_metric='TotalF1', od_type='Iter', \n",
        "                               od_wait=500, **kwargs)\n",
        "    \n",
        "    return model.fit(train_pool, eval_set=test_pool, \n",
        "                     verbose=100, plot=True, \n",
        "                     use_best_model=True)"
      ],
      "metadata": {
        "id": "2MtUIfBQ54cA"
      },
      "execution_count": 18,
      "outputs": []
    },
    {
      "cell_type": "code",
      "source": [
        "X_train"
      ],
      "metadata": {
        "colab": {
          "base_uri": "https://localhost:8080/"
        },
        "id": "OTsvpR86CcfD",
        "outputId": "ef0436ca-7a55-4938-93d5-a6b22bb5d648"
      },
      "execution_count": 19,
      "outputs": [
        {
          "output_type": "execute_result",
          "data": {
            "text/plain": [
              "325     помнить захотеть отыскать клад пойти лес найти...\n",
              "1051                                  банкнот номинал руб\n",
              "3209    неискушённый вкладчик который такой умение обл...\n",
              "3658             это устранить риск изменение курс валюта\n",
              "4756    проблема следовать искать сфера который разбир...\n",
              "                              ...                        \n",
              "466                           вот выглядеть купюра доллар\n",
              "3092    тогда понимать ждать близкий будущее точка зре...\n",
              "3772    а протягивать подпись несколько страница мелки...\n",
              "5191    этот вид портфель иметь цель столько приумноже...\n",
              "860                                      а копить монетка\n",
              "Name: text, Length: 3649, dtype: object"
            ]
          },
          "metadata": {},
          "execution_count": 19
        }
      ]
    },
    {
      "cell_type": "code",
      "source": [
        "train_pool = Pool(data=X_train, label=y_train, text_features = [0])"
      ],
      "metadata": {
        "id": "7wTrs8gl5_Vz"
      },
      "execution_count": 20,
      "outputs": []
    },
    {
      "cell_type": "code",
      "source": [
        "xe = pd.concat([X_test], ignore_index=True)\n",
        "ye = pd.concat([y_test], ignore_index=True)"
      ],
      "metadata": {
        "id": "6DMKllyRpWwf"
      },
      "execution_count": 55,
      "outputs": []
    },
    {
      "cell_type": "code",
      "source": [
        "xe"
      ],
      "metadata": {
        "colab": {
          "base_uri": "https://localhost:8080/"
        },
        "id": "o5W2ze0FvwMp",
        "outputId": "d152b15d-1686-4e0c-b125-350e6f1d5546"
      },
      "execution_count": 57,
      "outputs": [
        {
          "output_type": "execute_result",
          "data": {
            "text/plain": [
              "0       [год, такой, образ, человек, способный, предло...\n",
              "1       [вот, например, какой, оригинальный, коллекция...\n",
              "2       [путёвка, билет, пропасть, прийтись, вернуться...\n",
              "3             [кто, поверить, смочь, произвести, продать]\n",
              "4                                  [это, здание, бумажка]\n",
              "                              ...                        \n",
              "1559    [к, выбор, страховой, компания, подходить, отв...\n",
              "1560    [после, взнос, новичок, должный, пригласить, е...\n",
              "1561    [для, подать, специальный, заявление, асв, смо...\n",
              "1562    [совсем, непросто, выстроить, такой, цепочка, ...\n",
              "1563    [агрессивный, инвестор, составлять, агрессивны...\n",
              "Name: text, Length: 1564, dtype: object"
            ]
          },
          "metadata": {},
          "execution_count": 57
        }
      ]
    },
    {
      "cell_type": "code",
      "source": [
        "i=0;\n",
        "while(i < len(xe)):\n",
        "    xe[i]= \" \".join(xe[i])\n",
        "    i=i+1"
      ],
      "metadata": {
        "id": "i-_nOMmNpr9_"
      },
      "execution_count": 58,
      "outputs": []
    },
    {
      "cell_type": "code",
      "source": [
        "X_test.index[3]"
      ],
      "metadata": {
        "colab": {
          "base_uri": "https://localhost:8080/"
        },
        "id": "vHO3vL2Fujzd",
        "outputId": "3783a3f0-dc1d-4e88-f8c6-04abc4a2c559"
      },
      "execution_count": 49,
      "outputs": [
        {
          "output_type": "execute_result",
          "data": {
            "text/plain": [
              "4979"
            ]
          },
          "metadata": {},
          "execution_count": 49
        }
      ]
    },
    {
      "cell_type": "code",
      "source": [
        "valid_pool = Pool(data = xe, label = ye, text_features = [0])"
      ],
      "metadata": {
        "id": "5m2RyRR59i_r"
      },
      "execution_count": 60,
      "outputs": []
    },
    {
      "cell_type": "code",
      "source": [
        "model = fit_model(train_pool, valid_pool, learning_rate=0.35,\n",
        "                  dictionaries = [{\n",
        "                      'dictionary_id':'Word',\n",
        "                      'max_dictionary_size': '50000'\n",
        "                  }],\n",
        "                 feature_calcers = ['BoW:top_tokens_count=10000'])"
      ],
      "metadata": {
        "colab": {
          "base_uri": "https://localhost:8080/",
          "height": 329,
          "referenced_widgets": [
            "e2a0d35d1bdd43edbd457bd0690d4d55"
          ]
        },
        "id": "_2iw6MUN6BEU",
        "outputId": "66c4f6cc-1e2e-4082-efda-bd6921fdc7fe"
      },
      "execution_count": 62,
      "outputs": [
        {
          "data": {
            "application/vnd.jupyter.widget-view+json": {
              "model_id": "e2a0d35d1bdd43edbd457bd0690d4d55",
              "version_major": 2,
              "version_minor": 0
            },
            "text/plain": [
              "MetricVisualizer(layout=Layout(align_self='stretch', height='500px'))"
            ]
          },
          "metadata": {},
          "output_type": "display_data"
        },
        {
          "output_type": "stream",
          "name": "stdout",
          "text": [
            "0:\tlearn: 0.2078665\ttest: 0.1648442\tbest: 0.1648442 (0)\ttotal: 2.88s\tremaining: 4h 23s\n",
            "100:\tlearn: 0.7012902\ttest: 0.6173385\tbest: 0.6173385 (100)\ttotal: 2m 2s\tremaining: 1h 38m 48s\n",
            "200:\tlearn: 0.7624853\ttest: 0.6415839\tbest: 0.6479027 (194)\ttotal: 3m 42s\tremaining: 1h 28m 25s\n",
            "300:\tlearn: 0.7987790\ttest: 0.6611360\tbest: 0.6636151 (280)\ttotal: 5m 21s\tremaining: 1h 23m 44s\n",
            "400:\tlearn: 0.8276567\ttest: 0.6691524\tbest: 0.6697684 (399)\ttotal: 7m 4s\tremaining: 1h 21m 4s\n",
            "500:\tlearn: 0.8482257\ttest: 0.6730410\tbest: 0.6744860 (487)\ttotal: 8m 47s\tremaining: 1h 18m 52s\n",
            "600:\tlearn: 0.8709383\ttest: 0.6772350\tbest: 0.6772350 (599)\ttotal: 10m 29s\tremaining: 1h 16m 44s\n",
            "700:\tlearn: 0.8887622\ttest: 0.6722057\tbest: 0.6789613 (628)\ttotal: 12m 12s\tremaining: 1h 14m 54s\n",
            "800:\tlearn: 0.9049060\ttest: 0.6725914\tbest: 0.6789613 (628)\ttotal: 13m 56s\tremaining: 1h 13m 6s\n",
            "900:\tlearn: 0.9194998\ttest: 0.6720240\tbest: 0.6789613 (628)\ttotal: 15m 41s\tremaining: 1h 11m 22s\n",
            "1000:\tlearn: 0.9321233\ttest: 0.6687465\tbest: 0.6789613 (628)\ttotal: 17m 26s\tremaining: 1h 9m 41s\n",
            "1100:\tlearn: 0.9465445\ttest: 0.6763480\tbest: 0.6789613 (628)\ttotal: 19m 13s\tremaining: 1h 8m 5s\n",
            "Stopped by overfitting detector  (500 iterations wait)\n",
            "\n",
            "bestTest = 0.678961263\n",
            "bestIteration = 628\n",
            "\n",
            "Shrink model to first 629 iterations.\n"
          ]
        }
      ]
    },
    {
      "cell_type": "markdown",
      "source": [
        "# RandomForestClassifier, LinearSVC(), MultinomialNB(), LogisticRegression\n",
        "\n",
        "https://github.com/susanli2016/Machine-Learning-with-Python/blob/master/Consumer_complaints.ipynb"
      ],
      "metadata": {
        "id": "H84kbn-WRZ2W"
      }
    },
    {
      "cell_type": "code",
      "source": [
        "df['category_id'] = all['complexity'].factorize()[0]\n",
        "category_id = df[['complexity', 'category_id']].drop_duplicates().sort_values('category_id')\n",
        "category_to_id = dict(category_id.values)\n",
        "id_to_category = dict(category_id[['category_id', 'complexity']].values)"
      ],
      "metadata": {
        "id": "dXdFlZ-lSFUC"
      },
      "execution_count": 107,
      "outputs": []
    },
    {
      "cell_type": "code",
      "source": [
        "id_to_category"
      ],
      "metadata": {
        "colab": {
          "base_uri": "https://localhost:8080/"
        },
        "id": "n_WCO9FbSrcm",
        "outputId": "1466e79c-6da3-41f7-fd09-dd10136069ef"
      },
      "execution_count": 125,
      "outputs": [
        {
          "output_type": "execute_result",
          "data": {
            "text/plain": [
              "{0: 'ПервыеКлассы',\n",
              " 1: 'НачальнаяШкола',\n",
              " 2: 'СредняяШкола',\n",
              " 3: 'ВыпускСредние',\n",
              " 4: 'СтаршиеКлассы'}"
            ]
          },
          "metadata": {},
          "execution_count": 125
        }
      ]
    },
    {
      "cell_type": "code",
      "source": [
        "from sklearn.linear_model import LogisticRegression\n",
        "from sklearn.ensemble import RandomForestClassifier\n",
        "from sklearn.naive_bayes import MultinomialNB\n",
        "from sklearn.svm import LinearSVC\n",
        "\n",
        "from sklearn.model_selection import cross_val_score"
      ],
      "metadata": {
        "id": "OUswOhizBWhi"
      },
      "execution_count": 66,
      "outputs": []
    },
    {
      "cell_type": "code",
      "source": [
        "models = [\n",
        "    RandomForestClassifier(n_estimators=200, max_depth=3, random_state=0),\n",
        "    LinearSVC(),\n",
        "    MultinomialNB(),\n",
        "    LogisticRegression(random_state=0),\n",
        "]"
      ],
      "metadata": {
        "id": "ggcakbOoBaZ2"
      },
      "execution_count": null,
      "outputs": []
    },
    {
      "cell_type": "code",
      "source": [
        "from sklearn.feature_extraction.text import TfidfVectorizer\n",
        "\n",
        "tfidf = TfidfVectorizer(sublinear_tf=True, min_df=5, norm='l2', encoding='latin-1', ngram_range=(1, 2))\n",
        "\n",
        "features = tfidf.fit_transform(all.text).toarray()\n",
        "labels = all.complexity"
      ],
      "metadata": {
        "id": "0F8DGc_3BiXR"
      },
      "execution_count": 67,
      "outputs": []
    },
    {
      "cell_type": "code",
      "source": [
        "labels"
      ],
      "metadata": {
        "colab": {
          "base_uri": "https://localhost:8080/"
        },
        "id": "_ISnT_TvRl4o",
        "outputId": "aed86ce8-d3a7-43ee-d8fa-b6f14e5e6025"
      },
      "execution_count": 123,
      "outputs": [
        {
          "output_type": "execute_result",
          "data": {
            "text/plain": [
              "0        ПервыеКлассы\n",
              "1        ПервыеКлассы\n",
              "2        ПервыеКлассы\n",
              "3        ПервыеКлассы\n",
              "4        ПервыеКлассы\n",
              "            ...      \n",
              "5208    СтаршиеКлассы\n",
              "5209    СтаршиеКлассы\n",
              "5210    СтаршиеКлассы\n",
              "5211    СтаршиеКлассы\n",
              "5212    СтаршиеКлассы\n",
              "Name: complexity, Length: 5213, dtype: object"
            ]
          },
          "metadata": {},
          "execution_count": 123
        }
      ]
    },
    {
      "cell_type": "code",
      "source": [
        "CV = 5\n",
        "cv_df = pd.DataFrame(index=range(CV * len(models)))\n",
        "entries = []\n",
        "for model in models:\n",
        "  model_name = model.__class__.__name__\n",
        "  accuracies = cross_val_score(model, features, labels, scoring='accuracy', cv=CV)\n",
        "  for fold_idx, accuracy in enumerate(accuracies):\n",
        "    entries.append((model_name, fold_idx, accuracy))\n",
        "cv_df = pd.DataFrame(entries, columns=['model_name', 'fold_idx', 'accuracy'])"
      ],
      "metadata": {
        "id": "uaqZmhPH4YOC"
      },
      "execution_count": 68,
      "outputs": []
    },
    {
      "cell_type": "code",
      "source": [
        "import seaborn as sns\n",
        "\n",
        "sns.boxplot(x='model_name', y='accuracy', data=cv_df)\n",
        "sns.stripplot(x='model_name', y='accuracy', data=cv_df, \n",
        "              size=8, jitter=True, edgecolor=\"gray\", linewidth=2)\n",
        "plt.show()"
      ],
      "metadata": {
        "colab": {
          "base_uri": "https://localhost:8080/",
          "height": 585
        },
        "id": "8634U_qHCjXz",
        "outputId": "44c15d73-1426-49b8-a253-f3f0eddceffc"
      },
      "execution_count": 69,
      "outputs": [
        {
          "output_type": "display_data",
          "data": {
            "text/plain": [
              "<Figure size 2000x1000 with 1 Axes>"
            ],
            "image/png": "[encoded data removed]"
          },
          "metadata": {}
        }
      ]
    },
    {
      "cell_type": "code",
      "source": [
        "cv_df.groupby('model_name').accuracy.mean()"
      ],
      "metadata": {
        "colab": {
          "base_uri": "https://localhost:8080/"
        },
        "id": "-5eG4P5HCn9i",
        "outputId": "98439928-648c-401f-9c7c-347283e39480"
      },
      "execution_count": 70,
      "outputs": [
        {
          "output_type": "execute_result",
          "data": {
            "text/plain": [
              "model_name\n",
              "LinearSVC                 0.509487\n",
              "LogisticRegression        0.516961\n",
              "MultinomialNB             0.504295\n",
              "RandomForestClassifier    0.405332\n",
              "Name: accuracy, dtype: float64"
            ]
          },
          "metadata": {},
          "execution_count": 70
        }
      ]
    },
    {
      "cell_type": "code",
      "source": [
        "from sklearn.model_selection import train_test_split\n",
        "\n",
        "model = LinearSVC()\n",
        "\n",
        "X_train, X_test, y_train, y_test, indices_train, indices_test = train_test_split(features, labels, all.index, test_size=0.33, random_state=0)\n",
        "model.fit(X_train, y_train)\n",
        "y_pred = model.predict(X_test)"
      ],
      "metadata": {
        "id": "VghLUs7JJCUC"
      },
      "execution_count": 138,
      "outputs": []
    },
    {
      "cell_type": "code",
      "source": [
        "y_train"
      ],
      "metadata": {
        "colab": {
          "base_uri": "https://localhost:8080/"
        },
        "id": "nqN5vYT5P06J",
        "outputId": "df5e2fa7-c8d1-4c9f-dde3-5c8a13a977d2"
      },
      "execution_count": 98,
      "outputs": [
        {
          "output_type": "execute_result",
          "data": {
            "text/plain": [
              "1778    ВыпускСредние\n",
              "1700    ВыпускСредние\n",
              "443      ПервыеКлассы\n",
              "3948    СтаршиеКлассы\n",
              "2623    ВыпускСредние\n",
              "            ...      \n",
              "4931    СтаршиеКлассы\n",
              "3264    ВыпускСредние\n",
              "1653    ВыпускСредние\n",
              "2607    ВыпускСредние\n",
              "2732    ВыпускСредние\n",
              "Name: complexity, Length: 3492, dtype: object"
            ]
          },
          "metadata": {},
          "execution_count": 98
        }
      ]
    },
    {
      "cell_type": "code",
      "source": [
        "df = all"
      ],
      "metadata": {
        "id": "TYkjpwFDMPpm"
      },
      "execution_count": 73,
      "outputs": []
    },
    {
      "cell_type": "code",
      "source": [
        "df"
      ],
      "metadata": {
        "colab": {
          "base_uri": "https://localhost:8080/",
          "height": 423
        },
        "id": "adLkwgiwYK9o",
        "outputId": "5daf4981-6f14-443d-b979-76e7277e5354"
      },
      "execution_count": 137,
      "outputs": [
        {
          "output_type": "execute_result",
          "data": {
            "text/plain": [
              "                                                   text     complexity  \\\n",
              "0             сам слово экономика прийти греческий язык   ПервыеКлассы   \n",
              "1     оно состоять два слово экос дом номос закон пе...   ПервыеКлассы   \n",
              "2      экономика это хозяйственный деятельность человек   ПервыеКлассы   \n",
              "3                   как называться место ваш проживание   ПервыеКлассы   \n",
              "4                                    вы жить город село   ПервыеКлассы   \n",
              "...                                                 ...            ...   \n",
              "5208  цена консервативный инвестиционный портфель от...  СтаршиеКлассы   \n",
              "5209  цена консервативный портфель расти вместе рост...  СтаршиеКлассы   \n",
              "5210  ценный бумага выпустить предприятие этот секто...  СтаршиеКлассы   \n",
              "5211  управление портфель активный пассивный по уров...  СтаршиеКлассы   \n",
              "5212  инвестиционный портфель должный диверсифициров...  СтаршиеКлассы   \n",
              "\n",
              "      category_id  \n",
              "0               0  \n",
              "1               0  \n",
              "2               0  \n",
              "3               0  \n",
              "4               0  \n",
              "...           ...  \n",
              "5208            4  \n",
              "5209            4  \n",
              "5210            4  \n",
              "5211            4  \n",
              "5212            4  \n",
              "\n",
              "[5213 rows x 3 columns]"
            ],
            "text/html": [
              "\n",
              "  <div id=\"df-cbe6a7a6-e3da-4dc6-a4e6-06d32ca0c714\">\n",
              "    <div class=\"colab-df-container\">\n",
              "      <div>\n",
              "<style scoped>\n",
              "    .dataframe tbody tr th:only-of-type {\n",
              "        vertical-align: middle;\n",
              "    }\n",
              "\n",
              "    .dataframe tbody tr th {\n",
              "        vertical-align: top;\n",
              "    }\n",
              "\n",
              "    .dataframe thead th {\n",
              "        text-align: right;\n",
              "    }\n",
              "</style>\n",
              "<table border=\"1\" class=\"dataframe\">\n",
              "  <thead>\n",
              "    <tr style=\"text-align: right;\">\n",
              "      <th></th>\n",
              "      <th>text</th>\n",
              "      <th>complexity</th>\n",
              "      <th>category_id</th>\n",
              "    </tr>\n",
              "  </thead>\n",
              "  <tbody>\n",
              "    <tr>\n",
              "      <th>0</th>\n",
              "      <td>сам слово экономика прийти греческий язык</td>\n",
              "      <td>ПервыеКлассы</td>\n",
              "      <td>0</td>\n",
              "    </tr>\n",
              "    <tr>\n",
              "      <th>1</th>\n",
              "      <td>оно состоять два слово экос дом номос закон пе...</td>\n",
              "      <td>ПервыеКлассы</td>\n",
              "      <td>0</td>\n",
              "    </tr>\n",
              "    <tr>\n",
              "      <th>2</th>\n",
              "      <td>экономика это хозяйственный деятельность человек</td>\n",
              "      <td>ПервыеКлассы</td>\n",
              "      <td>0</td>\n",
              "    </tr>\n",
              "    <tr>\n",
              "      <th>3</th>\n",
              "      <td>как называться место ваш проживание</td>\n",
              "      <td>ПервыеКлассы</td>\n",
              "      <td>0</td>\n",
              "    </tr>\n",
              "    <tr>\n",
              "      <th>4</th>\n",
              "      <td>вы жить город село</td>\n",
              "      <td>ПервыеКлассы</td>\n",
              "      <td>0</td>\n",
              "    </tr>\n",
              "    <tr>\n",
              "      <th>...</th>\n",
              "      <td>...</td>\n",
              "      <td>...</td>\n",
              "      <td>...</td>\n",
              "    </tr>\n",
              "    <tr>\n",
              "      <th>5208</th>\n",
              "      <td>цена консервативный инвестиционный портфель от...</td>\n",
              "      <td>СтаршиеКлассы</td>\n",
              "      <td>4</td>\n",
              "    </tr>\n",
              "    <tr>\n",
              "      <th>5209</th>\n",
              "      <td>цена консервативный портфель расти вместе рост...</td>\n",
              "      <td>СтаршиеКлассы</td>\n",
              "      <td>4</td>\n",
              "    </tr>\n",
              "    <tr>\n",
              "      <th>5210</th>\n",
              "      <td>ценный бумага выпустить предприятие этот секто...</td>\n",
              "      <td>СтаршиеКлассы</td>\n",
              "      <td>4</td>\n",
              "    </tr>\n",
              "    <tr>\n",
              "      <th>5211</th>\n",
              "      <td>управление портфель активный пассивный по уров...</td>\n",
              "      <td>СтаршиеКлассы</td>\n",
              "      <td>4</td>\n",
              "    </tr>\n",
              "    <tr>\n",
              "      <th>5212</th>\n",
              "      <td>инвестиционный портфель должный диверсифициров...</td>\n",
              "      <td>СтаршиеКлассы</td>\n",
              "      <td>4</td>\n",
              "    </tr>\n",
              "  </tbody>\n",
              "</table>\n",
              "<p>5213 rows × 3 columns</p>\n",
              "</div>\n",
              "      <button class=\"colab-df-convert\" onclick=\"convertToInteractive('df-cbe6a7a6-e3da-4dc6-a4e6-06d32ca0c714')\"\n",
              "              title=\"Convert this dataframe to an interactive table.\"\n",
              "              style=\"display:none;\">\n",
              "        \n",
              "  <svg xmlns=\"http://www.w3.org/2000/svg\" height=\"24px\"viewBox=\"0 0 24 24\"\n",
              "       width=\"24px\">\n",
              "    <path d=\"M0 0h24v24H0V0z\" fill=\"none\"/>\n",
              "    <path d=\"M18.56 5.44l.94 2.06.94-2.06 2.06-.94-2.06-.94-.94-2.06-.94 2.06-2.06.94zm-11 1L8.5 8.5l.94-2.06 2.06-.94-2.06-.94L8.5 2.5l-.94 2.06-2.06.94zm10 10l.94 2.06.94-2.06 2.06-.94-2.06-.94-.94-2.06-.94 2.06-2.06.94z\"/><path d=\"M17.41 7.96l-1.37-1.37c-.4-.4-.92-.59-1.43-.59-.52 0-1.04.2-1.43.59L10.3 9.45l-7.72 7.72c-.78.78-.78 2.05 0 2.83L4 21.41c.39.39.9.59 1.41.59.51 0 1.02-.2 1.41-.59l7.78-7.78 2.81-2.81c.8-.78.8-2.07 0-2.86zM5.41 20L4 18.59l7.72-7.72 1.47 1.35L5.41 20z\"/>\n",
              "  </svg>\n",
              "      </button>\n",
              "      \n",
              "  <style>\n",
              "    .colab-df-container {\n",
              "      display:flex;\n",
              "      flex-wrap:wrap;\n",
              "      gap: 12px;\n",
              "    }\n",
              "\n",
              "    .colab-df-convert {\n",
              "      background-color: #E8F0FE;\n",
              "      border: none;\n",
              "      border-radius: 50%;\n",
              "      cursor: pointer;\n",
              "      display: none;\n",
              "      fill: #1967D2;\n",
              "      height: 32px;\n",
              "      padding: 0 0 0 0;\n",
              "      width: 32px;\n",
              "    }\n",
              "\n",
              "    .colab-df-convert:hover {\n",
              "      background-color: #E2EBFA;\n",
              "      box-shadow: 0px 1px 2px rgba(60, 64, 67, 0.3), 0px 1px 3px 1px rgba(60, 64, 67, 0.15);\n",
              "      fill: #174EA6;\n",
              "    }\n",
              "\n",
              "    [theme=dark] .colab-df-convert {\n",
              "      background-color: #3B4455;\n",
              "      fill: #D2E3FC;\n",
              "    }\n",
              "\n",
              "    [theme=dark] .colab-df-convert:hover {\n",
              "      background-color: #434B5C;\n",
              "      box-shadow: 0px 1px 3px 1px rgba(0, 0, 0, 0.15);\n",
              "      filter: drop-shadow(0px 1px 2px rgba(0, 0, 0, 0.3));\n",
              "      fill: #FFFFFF;\n",
              "    }\n",
              "  </style>\n",
              "\n",
              "      <script>\n",
              "        const buttonEl =\n",
              "          document.querySelector('#df-cbe6a7a6-e3da-4dc6-a4e6-06d32ca0c714 button.colab-df-convert');\n",
              "        buttonEl.style.display =\n",
              "          google.colab.kernel.accessAllowed ? 'block' : 'none';\n",
              "\n",
              "        async function convertToInteractive(key) {\n",
              "          const element = document.querySelector('#df-cbe6a7a6-e3da-4dc6-a4e6-06d32ca0c714');\n",
              "          const dataTable =\n",
              "            await google.colab.kernel.invokeFunction('convertToInteractive',\n",
              "                                                     [key], {});\n",
              "          if (!dataTable) return;\n",
              "\n",
              "          const docLinkHtml = 'Like what you see? Visit the ' +\n",
              "            '<a target=\"_blank\" href=https://colab.research.google.com/notebooks/data_table.ipynb>data table notebook</a>'\n",
              "            + ' to learn more about interactive tables.';\n",
              "          element.innerHTML = '';\n",
              "          dataTable['output_type'] = 'display_data';\n",
              "          await google.colab.output.renderOutput(dataTable, element);\n",
              "          const docLink = document.createElement('div');\n",
              "          docLink.innerHTML = docLinkHtml;\n",
              "          element.appendChild(docLink);\n",
              "        }\n",
              "      </script>\n",
              "    </div>\n",
              "  </div>\n",
              "  "
            ]
          },
          "metadata": {},
          "execution_count": 137
        }
      ]
    },
    {
      "cell_type": "code",
      "source": [
        "df['category_id'] = all['complexity'].factorize()[0]\n",
        "category_id = df[['complexity', 'category_id']].drop_duplicates().sort_values('category_id')"
      ],
      "metadata": {
        "id": "I81HbvhFLabx"
      },
      "execution_count": 77,
      "outputs": []
    },
    {
      "cell_type": "code",
      "source": [
        "id_to_category = dict(category_id[['category_id', 'complexity']].values)"
      ],
      "metadata": {
        "id": "gwEwwAcbOD4P"
      },
      "execution_count": 83,
      "outputs": []
    },
    {
      "cell_type": "code",
      "source": [
        "id_to_category"
      ],
      "metadata": {
        "colab": {
          "base_uri": "https://localhost:8080/"
        },
        "id": "hGop0kJDOxJv",
        "outputId": "46480f7a-dc1a-4d91-bbee-b34e2d1c5cb5"
      },
      "execution_count": 86,
      "outputs": [
        {
          "output_type": "execute_result",
          "data": {
            "text/plain": [
              "{0: 'ПервыеКлассы',\n",
              " 1: 'НачальнаяШкола',\n",
              " 2: 'СредняяШкола',\n",
              " 3: 'ВыпускСредние',\n",
              " 4: 'СтаршиеКлассы'}"
            ]
          },
          "metadata": {},
          "execution_count": 86
        }
      ]
    },
    {
      "cell_type": "code",
      "source": [
        "from sklearn.metrics import confusion_matrix\n",
        "\n",
        "conf_mat = confusion_matrix(y_test, y_pred)\n",
        "fig, ax = plt.subplots(figsize=(8,6))\n",
        "sns.heatmap(conf_mat, annot=True, fmt='d',\n",
        "            xticklabels=category_id.complexity.values, yticklabels=category_id.complexity.values)\n",
        "plt.ylabel('Actual')\n",
        "plt.xlabel('Predicted')\n",
        "plt.show()"
      ],
      "metadata": {
        "colab": {
          "base_uri": "https://localhost:8080/",
          "height": 676
        },
        "id": "cynLKNRCJJSS",
        "outputId": "897b3a70-5820-47ce-c980-b8f8dfbe4294"
      },
      "execution_count": 80,
      "outputs": [
        {
          "output_type": "display_data",
          "data": {
            "text/plain": [
              "<Figure size 800x600 with 2 Axes>"
            ],
            "image/png": "[encoded data removed]"
          },
          "metadata": {}
        }
      ]
    },
    {
      "cell_type": "code",
      "source": [
        "model.fit(features, labels)"
      ],
      "metadata": {
        "colab": {
          "base_uri": "https://localhost:8080/",
          "height": 51
        },
        "id": "857_oPS0NyXf",
        "outputId": "4c6b2d11-9b14-4882-8fd1-f2cabdef997f"
      },
      "execution_count": 81,
      "outputs": [
        {
          "output_type": "execute_result",
          "data": {
            "text/plain": [
              "LinearSVC()"
            ],
            "text/html": [
              "<style>#sk-container-id-1 {color: black;background-color: white;}#sk-container-id-1 pre{padding: 0;}#sk-container-id-1 div.sk-toggleable {background-color: white;}#sk-container-id-1 label.sk-toggleable__label {cursor: pointer;display: block;width: 100%;margin-bottom: 0;padding: 0.3em;box-sizing: border-box;text-align: center;}#sk-container-id-1 label.sk-toggleable__label-arrow:before {content: \"▸\";float: left;margin-right: 0.25em;color: #696969;}#sk-container-id-1 label.sk-toggleable__label-arrow:hover:before {color: black;}#sk-container-id-1 div.sk-estimator:hover label.sk-toggleable__label-arrow:before {color: black;}#sk-container-id-1 div.sk-toggleable__content {max-height: 0;max-width: 0;overflow: hidden;text-align: left;background-color: #f0f8ff;}#sk-container-id-1 div.sk-toggleable__content pre {margin: 0.2em;color: black;border-radius: 0.25em;background-color: #f0f8ff;}#sk-container-id-1 input.sk-toggleable__control:checked~div.sk-toggleable__content {max-height: 200px;max-width: 100%;overflow: auto;}#sk-container-id-1 input.sk-toggleable__control:checked~label.sk-toggleable__label-arrow:before {content: \"▾\";}#sk-container-id-1 div.sk-estimator input.sk-toggleable__control:checked~label.sk-toggleable__label {background-color: #d4ebff;}#sk-container-id-1 div.sk-label input.sk-toggleable__control:checked~label.sk-toggleable__label {background-color: #d4ebff;}#sk-container-id-1 input.sk-hidden--visually {border: 0;clip: rect(1px 1px 1px 1px);clip: rect(1px, 1px, 1px, 1px);height: 1px;margin: -1px;overflow: hidden;padding: 0;position: absolute;width: 1px;}#sk-container-id-1 div.sk-estimator {font-family: monospace;background-color: #f0f8ff;border: 1px dotted black;border-radius: 0.25em;box-sizing: border-box;margin-bottom: 0.5em;}#sk-container-id-1 div.sk-estimator:hover {background-color: #d4ebff;}#sk-container-id-1 div.sk-parallel-item::after {content: \"\";width: 100%;border-bottom: 1px solid gray;flex-grow: 1;}#sk-container-id-1 div.sk-label:hover label.sk-toggleable__label {background-color: #d4ebff;}#sk-container-id-1 div.sk-serial::before {content: \"\";position: absolute;border-left: 1px solid gray;box-sizing: border-box;top: 0;bottom: 0;left: 50%;z-index: 0;}#sk-container-id-1 div.sk-serial {display: flex;flex-direction: column;align-items: center;background-color: white;padding-right: 0.2em;padding-left: 0.2em;position: relative;}#sk-container-id-1 div.sk-item {position: relative;z-index: 1;}#sk-container-id-1 div.sk-parallel {display: flex;align-items: stretch;justify-content: center;background-color: white;position: relative;}#sk-container-id-1 div.sk-item::before, #sk-container-id-1 div.sk-parallel-item::before {content: \"\";position: absolute;border-left: 1px solid gray;box-sizing: border-box;top: 0;bottom: 0;left: 50%;z-index: -1;}#sk-container-id-1 div.sk-parallel-item {display: flex;flex-direction: column;z-index: 1;position: relative;background-color: white;}#sk-container-id-1 div.sk-parallel-item:first-child::after {align-self: flex-end;width: 50%;}#sk-container-id-1 div.sk-parallel-item:last-child::after {align-self: flex-start;width: 50%;}#sk-container-id-1 div.sk-parallel-item:only-child::after {width: 0;}#sk-container-id-1 div.sk-dashed-wrapped {border: 1px dashed gray;margin: 0 0.4em 0.5em 0.4em;box-sizing: border-box;padding-bottom: 0.4em;background-color: white;}#sk-container-id-1 div.sk-label label {font-family: monospace;font-weight: bold;display: inline-block;line-height: 1.2em;}#sk-container-id-1 div.sk-label-container {text-align: center;}#sk-container-id-1 div.sk-container {/* jupyter's `normalize.less` sets `[hidden] { display: none; }` but bootstrap.min.css set `[hidden] { display: none !important; }` so we also need the `!important` here to be able to override the default hidden behavior on the sphinx rendered scikit-learn.org. See: https://github.com/scikit-learn/scikit-learn/issues/21755 */display: inline-block !important;position: relative;}#sk-container-id-1 div.sk-text-repr-fallback {display: none;}</style><div id=\"sk-container-id-1\" class=\"sk-top-container\"><div class=\"sk-text-repr-fallback\"><pre>LinearSVC()</pre><b>In a Jupyter environment, please rerun this cell to show the HTML representation or trust the notebook. <br />On GitHub, the HTML representation is unable to render, please try loading this page with nbviewer.org.</b></div><div class=\"sk-container\" hidden><div class=\"sk-item\"><div class=\"sk-estimator sk-toggleable\"><input class=\"sk-toggleable__control sk-hidden--visually\" id=\"sk-estimator-id-1\" type=\"checkbox\" checked><label for=\"sk-estimator-id-1\" class=\"sk-toggleable__label sk-toggleable__label-arrow\">LinearSVC</label><div class=\"sk-toggleable__content\"><pre>LinearSVC()</pre></div></div></div></div></div>"
            ]
          },
          "metadata": {},
          "execution_count": 81
        }
      ]
    },
    {
      "cell_type": "code",
      "source": [
        "texts = ['инфляция', 'экономика']\n",
        "text_features = tfidf.transform(texts)\n",
        "predictions = model.predict(text_features)"
      ],
      "metadata": {
        "id": "jaWlDXUzN5KQ"
      },
      "execution_count": 133,
      "outputs": []
    },
    {
      "cell_type": "code",
      "source": [
        "for text, predicted in zip(texts, predictions):\n",
        "  print('\"{}\"'.format(text))\n",
        "  print(\"  - Predicted as: '{}'\".format(category_to_id[predicted]))"
      ],
      "metadata": {
        "colab": {
          "base_uri": "https://localhost:8080/"
        },
        "id": "KRz0gF4UVNdG",
        "outputId": "0ded4b60-3c3c-4102-ca86-6e41d8b0592a"
      },
      "execution_count": 134,
      "outputs": [
        {
          "output_type": "stream",
          "name": "stdout",
          "text": [
            "\"инфляция\"\n",
            "  - Predicted as: '3'\n",
            "\"экономика\"\n",
            "  - Predicted as: '0'\n"
          ]
        }
      ]
    },
    {
      "cell_type": "code",
      "source": [
        "from sklearn import metrics\n",
        "print(metrics.classification_report(y_test, y_pred, \n",
        "                                    target_names=df['complexity'].unique()))"
      ],
      "metadata": {
        "colab": {
          "base_uri": "https://localhost:8080/"
        },
        "id": "u4M8fWQEYCK8",
        "outputId": "704d0520-ada3-4a9b-8ae3-559c5a06ffd3"
      },
      "execution_count": 139,
      "outputs": [
        {
          "output_type": "stream",
          "name": "stdout",
          "text": [
            "                precision    recall  f1-score   support\n",
            "\n",
            "  ПервыеКлассы       0.64      0.68      0.66       571\n",
            "НачальнаяШкола       0.35      0.30      0.32        83\n",
            "  СредняяШкола       0.67      0.69      0.68       302\n",
            " ВыпускСредние       0.65      0.38      0.48       146\n",
            " СтаршиеКлассы       0.75      0.78      0.76       619\n",
            "\n",
            "      accuracy                           0.68      1721\n",
            "     macro avg       0.61      0.57      0.58      1721\n",
            "  weighted avg       0.67      0.68      0.67      1721\n",
            "\n"
          ]
        }
      ]
    }
  ]
}