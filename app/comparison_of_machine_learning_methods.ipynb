{
  "nbformat": 4,
  "nbformat_minor": 0,
  "metadata": {
    "colab": {
      "provenance": []
    },
    "kernelspec": {
      "name": "python3",
      "display_name": "Python 3"
    },
    "language_info": {
      "name": "python"
    },
    "widgets": {
      "application/vnd.jupyter.widget-state+json": {
        "b142ee4bd9c244339309ca9daf35bb81": {
          "model_module": "catboost-widget",
          "model_name": "CatboostWidgetModel",
          "model_module_version": "^1.0.0",
          "state": {
            "_dom_classes": [],
            "_model_module": "catboost-widget",
            "_model_module_version": "^1.0.0",
            "_model_name": "CatboostWidgetModel",
            "_view_count": null,
            "_view_module": "catboost-widget",
            "_view_module_version": "^1.0.0",
            "_view_name": "CatboostWidgetView",
            "data": {
              "catboost_info": {
                "path": "catboost_info",
                "name": "catboost_info",
                "content": {
                  "passed_iterations": 1077,
                  "total_iterations": 5000,
                  "data": {
                    "iterations": [
                      {
                        "learn": [
                          0.3567182774,
                          1.300041907
                        ],
                        "iteration": 0,
                        "passed_time": 0.434571874,
                        "remaining_time": 2172.424798,
                        "test": [
                          0.3612933609,
                          1.299840021
                        ]
                      },
                      {
                        "learn": [
                          0.4231774587,
                          1.268205822
                        ],
                        "iteration": 1,
                        "passed_time": 0.9284211627,
                        "remaining_time": 2320.124486,
                        "test": [
                          0.4295352796,
                          1.267453733
                        ]
                      },
                      {
                        "learn": [
                          0.4813488068,
                          1.234510736
                        ],
                        "iteration": 2,
                        "passed_time": 1.428122123,
                        "remaining_time": 2378.775416,
                        "test": [
                          0.4824949512,
                          1.235624909
                        ]
                      },
                      {
                        "learn": [
                          0.5212458563,
                          1.204237993
                        ],
                        "iteration": 3,
                        "passed_time": 1.939639062,
                        "remaining_time": 2422.609188,
                        "test": [
                          0.5221342585,
                          1.206572719
                        ]
                      },
                      {
                        "learn": [
                          0.5528872498,
                          1.169380438
                        ],
                        "iteration": 4,
                        "passed_time": 2.611392895,
                        "remaining_time": 2608.781502,
                        "test": [
                          0.5524989556,
                          1.169676966
                        ]
                      },
                      {
                        "learn": [
                          0.5803506549,
                          1.141083518
                        ],
                        "iteration": 5,
                        "passed_time": 3.310100177,
                        "remaining_time": 2755.106714,
                        "test": [
                          0.5773850731,
                          1.142555137
                        ]
                      },
                      {
                        "learn": [
                          0.5972006665,
                          1.124179519
                        ],
                        "iteration": 6,
                        "passed_time": 4.430192908,
                        "remaining_time": 3159.993313,
                        "test": [
                          0.5870901024,
                          1.129651102
                        ]
                      },
                      {
                        "learn": [
                          0.6045420632,
                          1.106413609
                        ],
                        "iteration": 7,
                        "passed_time": 5.3962664,
                        "remaining_time": 3367.270233,
                        "test": [
                          0.5947004415,
                          1.111764518
                        ]
                      },
                      {
                        "learn": [
                          0.6159535807,
                          1.087134708
                        ],
                        "iteration": 8,
                        "passed_time": 6.530053582,
                        "remaining_time": 3621.277492,
                        "test": [
                          0.6072482664,
                          1.092258863
                        ]
                      },
                      {
                        "learn": [
                          0.6245116735,
                          1.073172776
                        ],
                        "iteration": 9,
                        "passed_time": 7.026935919,
                        "remaining_time": 3506.441024,
                        "test": [
                          0.6178211481,
                          1.081138492
                        ]
                      },
                      {
                        "learn": [
                          0.6337078419,
                          1.056429532
                        ],
                        "iteration": 10,
                        "passed_time": 7.546997833,
                        "remaining_time": 3422.906563,
                        "test": [
                          0.6237093611,
                          1.066365588
                        ]
                      },
                      {
                        "learn": [
                          0.6396038727,
                          1.045845793
                        ],
                        "iteration": 11,
                        "passed_time": 8.160972657,
                        "remaining_time": 3392.244301,
                        "test": [
                          0.6322072623,
                          1.054956515
                        ]
                      },
                      {
                        "learn": [
                          0.642576333,
                          1.036402208
                        ],
                        "iteration": 12,
                        "passed_time": 8.795794164,
                        "remaining_time": 3374.201961,
                        "test": [
                          0.6349031999,
                          1.045247225
                        ]
                      },
                      {
                        "learn": [
                          0.6499444681,
                          1.023323194
                        ],
                        "iteration": 13,
                        "passed_time": 9.34596836,
                        "remaining_time": 3328.499874,
                        "test": [
                          0.6434939257,
                          1.033561235
                        ]
                      },
                      {
                        "learn": [
                          0.6576027168,
                          1.01085565
                        ],
                        "iteration": 14,
                        "passed_time": 10.03041662,
                        "remaining_time": 3333.44179,
                        "test": [
                          0.6480657412,
                          1.021074252
                        ]
                      },
                      {
                        "learn": [
                          0.6619831426,
                          0.9989489777
                        ],
                        "iteration": 15,
                        "passed_time": 10.98138252,
                        "remaining_time": 3420.700655,
                        "test": [
                          0.6541863076,
                          1.01088844
                        ]
                      },
                      {
                        "learn": [
                          0.6682727626,
                          0.9869998084
                        ],
                        "iteration": 16,
                        "passed_time": 11.55195824,
                        "remaining_time": 3386.082818,
                        "test": [
                          0.6656964766,
                          0.9997667862
                        ]
                      },
                      {
                        "learn": [
                          0.6751619744,
                          0.9793459826
                        ],
                        "iteration": 17,
                        "passed_time": 12.33136696,
                        "remaining_time": 3413.048344,
                        "test": [
                          0.6650414223,
                          0.9946432328
                        ]
                      },
                      {
                        "learn": [
                          0.6801705092,
                          0.9697881062
                        ],
                        "iteration": 18,
                        "passed_time": 13.00536599,
                        "remaining_time": 3409.459368,
                        "test": [
                          0.671345896,
                          0.987540873
                        ]
                      },
                      {
                        "learn": [
                          0.6794582962,
                          0.9586108083
                        ],
                        "iteration": 19,
                        "passed_time": 13.66890067,
                        "remaining_time": 3403.556267,
                        "test": [
                          0.6725383748,
                          0.976446518
                        ]
                      },
                      {
                        "learn": [
                          0.6848009916,
                          0.9510198422
                        ],
                        "iteration": 20,
                        "passed_time": 14.46037786,
                        "remaining_time": 3428.486732,
                        "test": [
                          0.6768555735,
                          0.9695436702
                        ]
                      },
                      {
                        "learn": [
                          0.6870555733,
                          0.9441389033
                        ],
                        "iteration": 21,
                        "passed_time": 15.19989497,
                        "remaining_time": 3439.321689,
                        "test": [
                          0.6796033363,
                          0.9634783877
                        ]
                      },
                      {
                        "learn": [
                          0.6881324903,
                          0.9361914976
                        ],
                        "iteration": 22,
                        "passed_time": 15.84105268,
                        "remaining_time": 3427.866052,
                        "test": [
                          0.682342839,
                          0.9538788862
                        ]
                      },
                      {
                        "learn": [
                          0.6955984472,
                          0.9266033553
                        ],
                        "iteration": 23,
                        "passed_time": 16.60617316,
                        "remaining_time": 3443.013236,
                        "test": [
                          0.6945453334,
                          0.9443550486
                        ]
                      },
                      {
                        "learn": [
                          0.6961195008,
                          0.9181309602
                        ],
                        "iteration": 24,
                        "passed_time": 17.25694843,
                        "remaining_time": 3434.132737,
                        "test": [
                          0.6878177508,
                          0.938304718
                        ]
                      },
                      {
                        "learn": [
                          0.6983071228,
                          0.913740103
                        ],
                        "iteration": 25,
                        "passed_time": 18.35120258,
                        "remaining_time": 3510.726217,
                        "test": [
                          0.693545825,
                          0.9348466681
                        ]
                      },
                      {
                        "learn": [
                          0.6999849859,
                          0.905108622
                        ],
                        "iteration": 26,
                        "passed_time": 19.27610433,
                        "remaining_time": 3550.372845,
                        "test": [
                          0.6917370145,
                          0.9282573278
                        ]
                      },
                      {
                        "learn": [
                          0.7015210295,
                          0.8976231866
                        ],
                        "iteration": 27,
                        "passed_time": 20.2244281,
                        "remaining_time": 3591.28059,
                        "test": [
                          0.6880538504,
                          0.9208904636
                        ]
                      },
                      {
                        "learn": [
                          0.7042065279,
                          0.890982479
                        ],
                        "iteration": 28,
                        "passed_time": 21.07045588,
                        "remaining_time": 3611.766765,
                        "test": [
                          0.6888482203,
                          0.9164757568
                        ]
                      },
                      {
                        "learn": [
                          0.7053421848,
                          0.8841275312
                        ],
                        "iteration": 29,
                        "passed_time": 21.69754351,
                        "remaining_time": 3594.559708,
                        "test": [
                          0.6898666282,
                          0.9089712659
                        ]
                      },
                      {
                        "learn": [
                          0.7102989019,
                          0.876412376
                        ],
                        "iteration": 30,
                        "passed_time": 22.16008897,
                        "remaining_time": 3552.047809,
                        "test": [
                          0.6932819641,
                          0.9028588287
                        ]
                      },
                      {
                        "learn": [
                          0.711740792,
                          0.8685831987
                        ],
                        "iteration": 31,
                        "passed_time": 22.6260067,
                        "remaining_time": 3512.687541,
                        "test": [
                          0.6949857345,
                          0.8955632303
                        ]
                      },
                      {
                        "learn": [
                          0.7124633108,
                          0.862241215
                        ],
                        "iteration": 32,
                        "passed_time": 23.16361482,
                        "remaining_time": 3486.474994,
                        "test": [
                          0.6980524504,
                          0.8902414033
                        ]
                      },
                      {
                        "learn": [
                          0.7153091905,
                          0.8550441995
                        ],
                        "iteration": 33,
                        "passed_time": 23.64837253,
                        "remaining_time": 3454.053469,
                        "test": [
                          0.6970106212,
                          0.884562643
                        ]
                      },
                      {
                        "learn": [
                          0.71783408,
                          0.8501965243
                        ],
                        "iteration": 34,
                        "passed_time": 24.14064492,
                        "remaining_time": 3424.522916,
                        "test": [
                          0.6974374079,
                          0.8819282978
                        ]
                      },
                      {
                        "learn": [
                          0.7206522333,
                          0.843375829
                        ],
                        "iteration": 35,
                        "passed_time": 24.5632469,
                        "remaining_time": 3386.998822,
                        "test": [
                          0.7007202968,
                          0.8751281161
                        ]
                      },
                      {
                        "learn": [
                          0.719530788,
                          0.8379557546
                        ],
                        "iteration": 36,
                        "passed_time": 25.01572942,
                        "remaining_time": 3355.488247,
                        "test": [
                          0.7007294073,
                          0.8698237291
                        ]
                      },
                      {
                        "learn": [
                          0.7219761533,
                          0.832216278
                        ],
                        "iteration": 37,
                        "passed_time": 25.46005452,
                        "remaining_time": 3324.547119,
                        "test": [
                          0.7026854193,
                          0.8638694488
                        ]
                      },
                      {
                        "learn": [
                          0.7242113493,
                          0.8266432954
                        ],
                        "iteration": 38,
                        "passed_time": 25.99598687,
                        "remaining_time": 3306.822843,
                        "test": [
                          0.7047752642,
                          0.8590134911
                        ]
                      },
                      {
                        "learn": [
                          0.7259682616,
                          0.8216369695
                        ],
                        "iteration": 39,
                        "passed_time": 26.54752346,
                        "remaining_time": 3291.892909,
                        "test": [
                          0.7067946799,
                          0.8543387386
                        ]
                      },
                      {
                        "learn": [
                          0.7289185412,
                          0.817158696
                        ],
                        "iteration": 40,
                        "passed_time": 27.04372883,
                        "remaining_time": 3270.971983,
                        "test": [
                          0.708789525,
                          0.8497937902
                        ]
                      },
                      {
                        "learn": [
                          0.7296837671,
                          0.8127862722
                        ],
                        "iteration": 41,
                        "passed_time": 27.48956246,
                        "remaining_time": 3245.077397,
                        "test": [
                          0.7082705099,
                          0.8463681762
                        ]
                      },
                      {
                        "learn": [
                          0.7318679073,
                          0.8083575713
                        ],
                        "iteration": 42,
                        "passed_time": 27.92718059,
                        "remaining_time": 3219.419399,
                        "test": [
                          0.7113124413,
                          0.8435326416
                        ]
                      },
                      {
                        "learn": [
                          0.7333085336,
                          0.803961023
                        ],
                        "iteration": 43,
                        "passed_time": 28.3886754,
                        "remaining_time": 3197.597166,
                        "test": [
                          0.712340636,
                          0.8410300646
                        ]
                      },
                      {
                        "learn": [
                          0.7341231265,
                          0.8002000743
                        ],
                        "iteration": 44,
                        "passed_time": 28.87071935,
                        "remaining_time": 3178.986986,
                        "test": [
                          0.7140218333,
                          0.8388562312
                        ]
                      },
                      {
                        "learn": [
                          0.7372584473,
                          0.7959847201
                        ],
                        "iteration": 45,
                        "passed_time": 29.35582477,
                        "remaining_time": 3161.494694,
                        "test": [
                          0.7133872815,
                          0.835830609
                        ]
                      },
                      {
                        "learn": [
                          0.7384352995,
                          0.7916941746
                        ],
                        "iteration": 46,
                        "passed_time": 29.73977464,
                        "remaining_time": 3134.066038,
                        "test": [
                          0.7140236862,
                          0.8326550786
                        ]
                      },
                      {
                        "learn": [
                          0.7384434836,
                          0.7880894411
                        ],
                        "iteration": 47,
                        "passed_time": 30.27115472,
                        "remaining_time": 3122.974129,
                        "test": [
                          0.7134970237,
                          0.8301423936
                        ]
                      },
                      {
                        "learn": [
                          0.7394527268,
                          0.7836102632
                        ],
                        "iteration": 48,
                        "passed_time": 30.81110811,
                        "remaining_time": 3113.179516,
                        "test": [
                          0.7142766053,
                          0.8260063232
                        ]
                      },
                      {
                        "learn": [
                          0.7404331795,
                          0.7795295809
                        ],
                        "iteration": 49,
                        "passed_time": 31.37710355,
                        "remaining_time": 3106.333251,
                        "test": [
                          0.712963535,
                          0.8232152599
                        ]
                      },
                      {
                        "learn": [
                          0.7416482025,
                          0.7768392998
                        ],
                        "iteration": 50,
                        "passed_time": 32.07872948,
                        "remaining_time": 3112.894749,
                        "test": [
                          0.7118128244,
                          0.8209571277
                        ]
                      },
                      {
                        "learn": [
                          0.7436687826,
                          0.7731001751
                        ],
                        "iteration": 51,
                        "passed_time": 32.78070121,
                        "remaining_time": 3119.2098,
                        "test": [
                          0.714686891,
                          0.8178090242
                        ]
                      },
                      {
                        "learn": [
                          0.7447453861,
                          0.7694620183
                        ],
                        "iteration": 52,
                        "passed_time": 33.60926874,
                        "remaining_time": 3137.076461,
                        "test": [
                          0.7160978942,
                          0.8146690468
                        ]
                      },
                      {
                        "learn": [
                          0.7456528552,
                          0.7667392545
                        ],
                        "iteration": 53,
                        "passed_time": 34.26220942,
                        "remaining_time": 3138.164589,
                        "test": [
                          0.7175862467,
                          0.8117422815
                        ]
                      },
                      {
                        "learn": [
                          0.7474448594,
                          0.7627079027
                        ],
                        "iteration": 54,
                        "passed_time": 34.69502941,
                        "remaining_time": 3119.398554,
                        "test": [
                          0.7182227182,
                          0.8086299973
                        ]
                      },
                      {
                        "learn": [
                          0.7495591083,
                          0.7598301267
                        ],
                        "iteration": 55,
                        "passed_time": 35.18039841,
                        "remaining_time": 3105.926603,
                        "test": [
                          0.7221560464,
                          0.8065713061
                        ]
                      },
                      {
                        "learn": [
                          0.7513404469,
                          0.7566487776
                        ],
                        "iteration": 56,
                        "passed_time": 35.65016219,
                        "remaining_time": 3091.557047,
                        "test": [
                          0.7233204045,
                          0.8049611892
                        ]
                      },
                      {
                        "learn": [
                          0.7504953515,
                          0.7541204903
                        ],
                        "iteration": 57,
                        "passed_time": 36.2492995,
                        "remaining_time": 3088.690313,
                        "test": [
                          0.7219467033,
                          0.8028257645
                        ]
                      },
                      {
                        "learn": [
                          0.7526272726,
                          0.7505280506
                        ],
                        "iteration": 58,
                        "passed_time": 36.74978402,
                        "remaining_time": 3077.638693,
                        "test": [
                          0.7228703989,
                          0.8001648387
                        ]
                      },
                      {
                        "learn": [
                          0.7541283118,
                          0.7482386018
                        ],
                        "iteration": 59,
                        "passed_time": 37.26603612,
                        "remaining_time": 3068.236974,
                        "test": [
                          0.7233686097,
                          0.798291795
                        ]
                      },
                      {
                        "learn": [
                          0.7549398195,
                          0.7457084846
                        ],
                        "iteration": 60,
                        "passed_time": 37.81200604,
                        "remaining_time": 3061.532752,
                        "test": [
                          0.7222531365,
                          0.7964442217
                        ]
                      },
                      {
                        "learn": [
                          0.7557449732,
                          0.7431394505
                        ],
                        "iteration": 61,
                        "passed_time": 38.33137591,
                        "remaining_time": 3052.908617,
                        "test": [
                          0.7232548194,
                          0.7949703862
                        ]
                      },
                      {
                        "learn": [
                          0.756666152,
                          0.7405121766
                        ],
                        "iteration": 62,
                        "passed_time": 38.90278957,
                        "remaining_time": 3048.620192,
                        "test": [
                          0.723414363,
                          0.7930243256
                        ]
                      },
                      {
                        "learn": [
                          0.7577339667,
                          0.7384342833
                        ],
                        "iteration": 63,
                        "passed_time": 39.38554052,
                        "remaining_time": 3037.609812,
                        "test": [
                          0.72449054,
                          0.7913330456
                        ]
                      },
                      {
                        "learn": [
                          0.7591292324,
                          0.7358535921
                        ],
                        "iteration": 64,
                        "passed_time": 39.93305726,
                        "remaining_time": 3031.840578,
                        "test": [
                          0.7258008013,
                          0.7898984076
                        ]
                      },
                      {
                        "learn": [
                          0.7607820699,
                          0.7340245465
                        ],
                        "iteration": 65,
                        "passed_time": 40.39666271,
                        "remaining_time": 3019.956573,
                        "test": [
                          0.7254383455,
                          0.7893472244
                        ]
                      },
                      {
                        "learn": [
                          0.7604236617,
                          0.7319603417
                        ],
                        "iteration": 66,
                        "passed_time": 41.11179366,
                        "remaining_time": 3026.932509,
                        "test": [
                          0.725042894,
                          0.787669771
                        ]
                      },
                      {
                        "learn": [
                          0.7601157847,
                          0.729144197
                        ],
                        "iteration": 67,
                        "passed_time": 41.76799034,
                        "remaining_time": 3029.40777,
                        "test": [
                          0.7261978671,
                          0.7851570431
                        ]
                      },
                      {
                        "learn": [
                          0.76210846,
                          0.7267318191
                        ],
                        "iteration": 68,
                        "passed_time": 42.22937137,
                        "remaining_time": 3017.870003,
                        "test": [
                          0.728091646,
                          0.7834685099
                        ]
                      },
                      {
                        "learn": [
                          0.7624930312,
                          0.7242716615
                        ],
                        "iteration": 69,
                        "passed_time": 42.65463466,
                        "remaining_time": 3004.104984,
                        "test": [
                          0.7296476701,
                          0.7821219624
                        ]
                      },
                      {
                        "learn": [
                          0.7639746415,
                          0.7217539526
                        ],
                        "iteration": 70,
                        "passed_time": 43.14724132,
                        "remaining_time": 2995.39088,
                        "test": [
                          0.7301831383,
                          0.7804473928
                        ]
                      },
                      {
                        "learn": [
                          0.7655834764,
                          0.7190464577
                        ],
                        "iteration": 71,
                        "passed_time": 43.60087677,
                        "remaining_time": 2984.237788,
                        "test": [
                          0.7318887467,
                          0.7773861606
                        ]
                      },
                      {
                        "learn": [
                          0.7665183661,
                          0.715943116
                        ],
                        "iteration": 72,
                        "passed_time": 44.16704029,
                        "remaining_time": 2980.972706,
                        "test": [
                          0.7331035041,
                          0.7750857842
                        ]
                      },
                      {
                        "learn": [
                          0.7670674096,
                          0.7136904911
                        ],
                        "iteration": 73,
                        "passed_time": 44.7429157,
                        "remaining_time": 2978.427064,
                        "test": [
                          0.7333729444,
                          0.7731063104
                        ]
                      },
                      {
                        "learn": [
                          0.7679741094,
                          0.7113727143
                        ],
                        "iteration": 74,
                        "passed_time": 45.36446171,
                        "remaining_time": 2978.932985,
                        "test": [
                          0.7336045953,
                          0.7715306471
                        ]
                      },
                      {
                        "learn": [
                          0.7688978866,
                          0.7090360463
                        ],
                        "iteration": 75,
                        "passed_time": 46.23092657,
                        "remaining_time": 2995.2774,
                        "test": [
                          0.7327735567,
                          0.7692909637
                        ]
                      },
                      {
                        "learn": [
                          0.7692358246,
                          0.7066349982
                        ],
                        "iteration": 76,
                        "passed_time": 47.02016319,
                        "remaining_time": 3006.237187,
                        "test": [
                          0.7321991262,
                          0.7679416055
                        ]
                      },
                      {
                        "learn": [
                          0.7691065817,
                          0.7038783186
                        ],
                        "iteration": 77,
                        "passed_time": 47.6093898,
                        "remaining_time": 3004.274572,
                        "test": [
                          0.7336844601,
                          0.7654323157
                        ]
                      },
                      {
                        "learn": [
                          0.7685825425,
                          0.7016750933
                        ],
                        "iteration": 78,
                        "passed_time": 48.1665323,
                        "remaining_time": 3000.34817,
                        "test": [
                          0.7343410843,
                          0.7633814105
                        ]
                      },
                      {
                        "learn": [
                          0.7694392126,
                          0.7003897755
                        ],
                        "iteration": 79,
                        "passed_time": 48.69732563,
                        "remaining_time": 2994.885526,
                        "test": [
                          0.7337918615,
                          0.7627722369
                        ]
                      },
                      {
                        "learn": [
                          0.7705772681,
                          0.6980230655
                        ],
                        "iteration": 80,
                        "passed_time": 49.10520509,
                        "remaining_time": 2982.080294,
                        "test": [
                          0.7335142678,
                          0.7609149557
                        ]
                      },
                      {
                        "learn": [
                          0.770649058,
                          0.6962125306
                        ],
                        "iteration": 81,
                        "passed_time": 49.5414014,
                        "remaining_time": 2971.275757,
                        "test": [
                          0.7331231372,
                          0.7598882888
                        ]
                      },
                      {
                        "learn": [
                          0.7711864212,
                          0.6946484182
                        ],
                        "iteration": 82,
                        "passed_time": 49.92311938,
                        "remaining_time": 2957.493711,
                        "test": [
                          0.7328950974,
                          0.7590322823
                        ]
                      },
                      {
                        "learn": [
                          0.7720924608,
                          0.6928007074
                        ],
                        "iteration": 83,
                        "passed_time": 50.34850968,
                        "remaining_time": 2946.58659,
                        "test": [
                          0.732386313,
                          0.7577094838
                        ]
                      },
                      {
                        "learn": [
                          0.7724265991,
                          0.6908624726
                        ],
                        "iteration": 84,
                        "passed_time": 50.76781141,
                        "remaining_time": 2935.574036,
                        "test": [
                          0.7351671019,
                          0.7561054756
                        ]
                      },
                      {
                        "learn": [
                          0.7721559664,
                          0.689060815
                        ],
                        "iteration": 85,
                        "passed_time": 51.29509824,
                        "remaining_time": 2930.978055,
                        "test": [
                          0.7329767321,
                          0.7546360179
                        ]
                      },
                      {
                        "learn": [
                          0.7741774548,
                          0.6870099937
                        ],
                        "iteration": 86,
                        "passed_time": 51.6768523,
                        "remaining_time": 2918.257188,
                        "test": [
                          0.7347003217,
                          0.7529621831
                        ]
                      },
                      {
                        "learn": [
                          0.7760138697,
                          0.6851438667
                        ],
                        "iteration": 87,
                        "passed_time": 51.92006265,
                        "remaining_time": 2898.083497,
                        "test": [
                          0.7370094929,
                          0.7513009554
                        ]
                      },
                      {
                        "learn": [
                          0.7769822089,
                          0.6825951799
                        ],
                        "iteration": 88,
                        "passed_time": 52.17281146,
                        "remaining_time": 2878.884012,
                        "test": [
                          0.736651024,
                          0.7487893898
                        ]
                      },
                      {
                        "learn": [
                          0.7775909783,
                          0.6809600942
                        ],
                        "iteration": 89,
                        "passed_time": 52.42912683,
                        "remaining_time": 2860.300142,
                        "test": [
                          0.7382754066,
                          0.747894414
                        ]
                      },
                      {
                        "learn": [
                          0.7774004775,
                          0.6786210443
                        ],
                        "iteration": 90,
                        "passed_time": 52.66958975,
                        "remaining_time": 2841.263913,
                        "test": [
                          0.7412979048,
                          0.7465921599
                        ]
                      },
                      {
                        "learn": [
                          0.7790769357,
                          0.6773748845
                        ],
                        "iteration": 91,
                        "passed_time": 52.91080717,
                        "remaining_time": 2822.676539,
                        "test": [
                          0.7415629975,
                          0.745564665
                        ]
                      },
                      {
                        "learn": [
                          0.7791776796,
                          0.6755928097
                        ],
                        "iteration": 92,
                        "passed_time": 53.16172179,
                        "remaining_time": 2804.995364,
                        "test": [
                          0.7421076546,
                          0.7438970406
                        ]
                      },
                      {
                        "learn": [
                          0.7803745549,
                          0.674041234
                        ],
                        "iteration": 93,
                        "passed_time": 53.40863058,
                        "remaining_time": 2787.475975,
                        "test": [
                          0.7417925659,
                          0.7435385952
                        ]
                      },
                      {
                        "learn": [
                          0.7808868282,
                          0.6727999944
                        ],
                        "iteration": 94,
                        "passed_time": 53.6472316,
                        "remaining_time": 2769.891274,
                        "test": [
                          0.7423816762,
                          0.7426624408
                        ]
                      },
                      {
                        "learn": [
                          0.7813363016,
                          0.671655575
                        ],
                        "iteration": 95,
                        "passed_time": 53.89628963,
                        "remaining_time": 2753.202129,
                        "test": [
                          0.7415304332,
                          0.742416682
                        ]
                      },
                      {
                        "learn": [
                          0.7821733424,
                          0.668842329
                        ],
                        "iteration": 96,
                        "passed_time": 54.14664805,
                        "remaining_time": 2736.917684,
                        "test": [
                          0.7438023985,
                          0.7398037678
                        ]
                      },
                      {
                        "learn": [
                          0.782880545,
                          0.6676031719
                        ],
                        "iteration": 97,
                        "passed_time": 54.39897431,
                        "remaining_time": 2721.058899,
                        "test": [
                          0.7452335974,
                          0.7388130435
                        ]
                      },
                      {
                        "learn": [
                          0.783113015,
                          0.6657717229
                        ],
                        "iteration": 98,
                        "passed_time": 54.63126906,
                        "remaining_time": 2704.523734,
                        "test": [
                          0.7452817633,
                          0.7376636458
                        ]
                      },
                      {
                        "learn": [
                          0.7840480779,
                          0.6640499622
                        ],
                        "iteration": 99,
                        "passed_time": 54.8739981,
                        "remaining_time": 2688.825907,
                        "test": [
                          0.7475281888,
                          0.7358115391
                        ]
                      },
                      {
                        "learn": [
                          0.7850507197,
                          0.6625239485
                        ],
                        "iteration": 100,
                        "passed_time": 55.11291958,
                        "remaining_time": 2673.249436,
                        "test": [
                          0.7481093101,
                          0.7344270293
                        ]
                      },
                      {
                        "learn": [
                          0.7855875705,
                          0.6608371713
                        ],
                        "iteration": 101,
                        "passed_time": 55.3727284,
                        "remaining_time": 2658.976703,
                        "test": [
                          0.7496086562,
                          0.7326016295
                        ]
                      },
                      {
                        "learn": [
                          0.7869420845,
                          0.6588338341
                        ],
                        "iteration": 102,
                        "passed_time": 55.61178442,
                        "remaining_time": 2643.989401,
                        "test": [
                          0.750994152,
                          0.7311822222
                        ]
                      },
                      {
                        "learn": [
                          0.7875788646,
                          0.6570351123
                        ],
                        "iteration": 103,
                        "passed_time": 55.85286004,
                        "remaining_time": 2629.380796,
                        "test": [
                          0.749568419,
                          0.7300613535
                        ]
                      },
                      {
                        "learn": [
                          0.7888928622,
                          0.6556007126
                        ],
                        "iteration": 104,
                        "passed_time": 56.09444529,
                        "remaining_time": 2615.069616,
                        "test": [
                          0.7488768649,
                          0.7290830088
                        ]
                      },
                      {
                        "learn": [
                          0.7898187723,
                          0.6533726455
                        ],
                        "iteration": 105,
                        "passed_time": 56.34458183,
                        "remaining_time": 2601.418712,
                        "test": [
                          0.7488169826,
                          0.7274808398
                        ]
                      },
                      {
                        "learn": [
                          0.7897351435,
                          0.651688449
                        ],
                        "iteration": 106,
                        "passed_time": 56.5955848,
                        "remaining_time": 2588.05791,
                        "test": [
                          0.7481106807,
                          0.726306481
                        ]
                      },
                      {
                        "learn": [
                          0.7909680226,
                          0.6502727996
                        ],
                        "iteration": 107,
                        "passed_time": 56.83124804,
                        "remaining_time": 2574.24505,
                        "test": [
                          0.7484614775,
                          0.7254689534
                        ]
                      },
                      {
                        "learn": [
                          0.7914580791,
                          0.6489673718
                        ],
                        "iteration": 108,
                        "passed_time": 57.07173558,
                        "remaining_time": 2560.897786,
                        "test": [
                          0.7475871509,
                          0.7249598687
                        ]
                      },
                      {
                        "learn": [
                          0.7916863233,
                          0.6476827714
                        ],
                        "iteration": 109,
                        "passed_time": 57.31877669,
                        "remaining_time": 2548.080164,
                        "test": [
                          0.7476571508,
                          0.7239275148
                        ]
                      },
                      {
                        "learn": [
                          0.7915476863,
                          0.6464522212
                        ],
                        "iteration": 110,
                        "passed_time": 57.62896753,
                        "remaining_time": 2538.270471,
                        "test": [
                          0.7486955411,
                          0.7229163566
                        ]
                      },
                      {
                        "learn": [
                          0.792287097,
                          0.6444045213
                        ],
                        "iteration": 111,
                        "passed_time": 57.98391648,
                        "remaining_time": 2530.583784,
                        "test": [
                          0.7484394177,
                          0.7210643845
                        ]
                      },
                      {
                        "learn": [
                          0.7927536316,
                          0.643089616
                        ],
                        "iteration": 112,
                        "passed_time": 58.38678102,
                        "remaining_time": 2525.099105,
                        "test": [
                          0.7484450691,
                          0.7200891198
                        ]
                      },
                      {
                        "learn": [
                          0.7933693973,
                          0.6415163882
                        ],
                        "iteration": 113,
                        "passed_time": 58.78442416,
                        "remaining_time": 2519.479793,
                        "test": [
                          0.748784637,
                          0.7187217606
                        ]
                      },
                      {
                        "learn": [
                          0.7934240241,
                          0.6399206417
                        ],
                        "iteration": 114,
                        "passed_time": 59.16953308,
                        "remaining_time": 2513.418862,
                        "test": [
                          0.7490691974,
                          0.7182851475
                        ]
                      },
                      {
                        "learn": [
                          0.7928222444,
                          0.6380361666
                        ],
                        "iteration": 115,
                        "passed_time": 59.5771874,
                        "remaining_time": 2508.405028,
                        "test": [
                          0.7517254917,
                          0.716774937
                        ]
                      },
                      {
                        "learn": [
                          0.7939474836,
                          0.636903247
                        ],
                        "iteration": 116,
                        "passed_time": 59.95160517,
                        "remaining_time": 2502.082804,
                        "test": [
                          0.7522565067,
                          0.7155220061
                        ]
                      },
                      {
                        "learn": [
                          0.794710909,
                          0.6357458612
                        ],
                        "iteration": 117,
                        "passed_time": 60.35292051,
                        "remaining_time": 2496.97422,
                        "test": [
                          0.7524731634,
                          0.7151791789
                        ]
                      },
                      {
                        "learn": [
                          0.7948182015,
                          0.6348332952
                        ],
                        "iteration": 118,
                        "passed_time": 60.66401585,
                        "remaining_time": 2488.244213,
                        "test": [
                          0.7521704821,
                          0.7150287395
                        ]
                      },
                      {
                        "learn": [
                          0.7950564171,
                          0.6337342645
                        ],
                        "iteration": 119,
                        "passed_time": 60.90792403,
                        "remaining_time": 2476.922244,
                        "test": [
                          0.7513284645,
                          0.7139763259
                        ]
                      },
                      {
                        "learn": [
                          0.7962729679,
                          0.6319450703
                        ],
                        "iteration": 120,
                        "passed_time": 61.15215136,
                        "remaining_time": 2465.796252,
                        "test": [
                          0.7527547462,
                          0.7122518405
                        ]
                      },
                      {
                        "learn": [
                          0.7972040183,
                          0.6306509285
                        ],
                        "iteration": 121,
                        "passed_time": 61.3969033,
                        "remaining_time": 2454.869625,
                        "test": [
                          0.7539121961,
                          0.712056944
                        ]
                      },
                      {
                        "learn": [
                          0.7985206693,
                          0.6295991339
                        ],
                        "iteration": 122,
                        "passed_time": 61.63836092,
                        "remaining_time": 2443.986067,
                        "test": [
                          0.7535897184,
                          0.7114538133
                        ]
                      },
                      {
                        "learn": [
                          0.7974128067,
                          0.6281931599
                        ],
                        "iteration": 123,
                        "passed_time": 61.87793456,
                        "remaining_time": 2433.200072,
                        "test": [
                          0.7524242957,
                          0.7109137031
                        ]
                      },
                      {
                        "learn": [
                          0.7982370889,
                          0.6269111719
                        ],
                        "iteration": 124,
                        "passed_time": 62.12150058,
                        "remaining_time": 2422.738523,
                        "test": [
                          0.7520852799,
                          0.7096401525
                        ]
                      },
                      {
                        "learn": [
                          0.7984895589,
                          0.6253354933
                        ],
                        "iteration": 125,
                        "passed_time": 62.36610457,
                        "remaining_time": 2412.479315,
                        "test": [
                          0.7521304756,
                          0.7090242338
                        ]
                      },
                      {
                        "learn": [
                          0.7981774114,
                          0.6243055646
                        ],
                        "iteration": 126,
                        "passed_time": 62.61401722,
                        "remaining_time": 2402.504771,
                        "test": [
                          0.7530016917,
                          0.7084701244
                        ]
                      },
                      {
                        "learn": [
                          0.7992195306,
                          0.6232569501
                        ],
                        "iteration": 127,
                        "passed_time": 62.86020283,
                        "remaining_time": 2392.61647,
                        "test": [
                          0.7524442413,
                          0.7078239159
                        ]
                      },
                      {
                        "learn": [
                          0.7987623233,
                          0.6220821108
                        ],
                        "iteration": 128,
                        "passed_time": 63.10332253,
                        "remaining_time": 2382.761892,
                        "test": [
                          0.7521692946,
                          0.7073570017
                        ]
                      },
                      {
                        "learn": [
                          0.7994172729,
                          0.6203720442
                        ],
                        "iteration": 129,
                        "passed_time": 63.35464849,
                        "remaining_time": 2373.362601,
                        "test": [
                          0.7521361419,
                          0.7062896778
                        ]
                      },
                      {
                        "learn": [
                          0.7999405793,
                          0.6191326145
                        ],
                        "iteration": 130,
                        "passed_time": 63.5927262,
                        "remaining_time": 2363.610564,
                        "test": [
                          0.7530162688,
                          0.705323998
                        ]
                      },
                      {
                        "learn": [
                          0.800780737,
                          0.6179478013
                        ],
                        "iteration": 131,
                        "passed_time": 63.84350336,
                        "remaining_time": 2354.471018,
                        "test": [
                          0.7524729258,
                          0.7045703435
                        ]
                      },
                      {
                        "learn": [
                          0.8007983184,
                          0.6168926106
                        ],
                        "iteration": 132,
                        "passed_time": 64.09066754,
                        "remaining_time": 2345.332924,
                        "test": [
                          0.7524486874,
                          0.7040809851
                        ]
                      },
                      {
                        "learn": [
                          0.800828728,
                          0.6158706145
                        ],
                        "iteration": 133,
                        "passed_time": 64.34329808,
                        "remaining_time": 2336.526033,
                        "test": [
                          0.7527014667,
                          0.7035194554
                        ]
                      },
                      {
                        "learn": [
                          0.8016475742,
                          0.6149306428
                        ],
                        "iteration": 134,
                        "passed_time": 64.58775497,
                        "remaining_time": 2327.551318,
                        "test": [
                          0.7526734089,
                          0.7028985518
                        ]
                      },
                      {
                        "learn": [
                          0.8018587559,
                          0.6140272848
                        ],
                        "iteration": 135,
                        "passed_time": 64.84410207,
                        "remaining_time": 2319.130239,
                        "test": [
                          0.7537938191,
                          0.7023111665
                        ]
                      },
                      {
                        "learn": [
                          0.8024948913,
                          0.6131329212
                        ],
                        "iteration": 136,
                        "passed_time": 65.08797038,
                        "remaining_time": 2310.385401,
                        "test": [
                          0.7526405832,
                          0.7016787126
                        ]
                      },
                      {
                        "learn": [
                          0.802881067,
                          0.6116144876
                        ],
                        "iteration": 137,
                        "passed_time": 65.32634612,
                        "remaining_time": 2301.570252,
                        "test": [
                          0.7537653074,
                          0.7001306544
                        ]
                      },
                      {
                        "learn": [
                          0.8027487176,
                          0.6100192085
                        ],
                        "iteration": 138,
                        "passed_time": 65.57200296,
                        "remaining_time": 2293.133139,
                        "test": [
                          0.7534711254,
                          0.6990109754
                        ]
                      },
                      {
                        "learn": [
                          0.8030247026,
                          0.6086460008
                        ],
                        "iteration": 139,
                        "passed_time": 65.81722803,
                        "remaining_time": 2284.798059,
                        "test": [
                          0.7528823722,
                          0.6984113328
                        ]
                      },
                      {
                        "learn": [
                          0.8029880097,
                          0.6075849727
                        ],
                        "iteration": 140,
                        "passed_time": 66.05928946,
                        "remaining_time": 2276.468706,
                        "test": [
                          0.7528947219,
                          0.6975419781
                        ]
                      },
                      {
                        "learn": [
                          0.8031243639,
                          0.6069818069
                        ],
                        "iteration": 141,
                        "passed_time": 66.29415145,
                        "remaining_time": 2268.006956,
                        "test": [
                          0.7533858083,
                          0.6971650105
                        ]
                      },
                      {
                        "learn": [
                          0.8044946736,
                          0.6058425206
                        ],
                        "iteration": 142,
                        "passed_time": 66.55783819,
                        "remaining_time": 2260.639301,
                        "test": [
                          0.7528166644,
                          0.6961877321
                        ]
                      },
                      {
                        "learn": [
                          0.8051770269,
                          0.6048138774
                        ],
                        "iteration": 143,
                        "passed_time": 66.80829976,
                        "remaining_time": 2252.924331,
                        "test": [
                          0.7534129575,
                          0.6954011901
                        ]
                      },
                      {
                        "learn": [
                          0.8055133761,
                          0.6036490941
                        ],
                        "iteration": 144,
                        "passed_time": 67.04476731,
                        "remaining_time": 2244.843761,
                        "test": [
                          0.7522944692,
                          0.6946611722
                        ]
                      },
                      {
                        "learn": [
                          0.8056338825,
                          0.6025463724
                        ],
                        "iteration": 145,
                        "passed_time": 67.28008227,
                        "remaining_time": 2236.832324,
                        "test": [
                          0.7520073329,
                          0.6941068896
                        ]
                      },
                      {
                        "learn": [
                          0.8058533334,
                          0.6015820249
                        ],
                        "iteration": 146,
                        "passed_time": 67.52893774,
                        "remaining_time": 2229.373707,
                        "test": [
                          0.7527904543,
                          0.6932103023
                        ]
                      },
                      {
                        "learn": [
                          0.807089494,
                          0.600845591
                        ],
                        "iteration": 147,
                        "passed_time": 67.77272856,
                        "remaining_time": 2221.84648,
                        "test": [
                          0.7530534756,
                          0.6928404849
                        ]
                      },
                      {
                        "learn": [
                          0.8079662926,
                          0.5999832217
                        ],
                        "iteration": 148,
                        "passed_time": 68.01370296,
                        "remaining_time": 2214.325323,
                        "test": [
                          0.7545008605,
                          0.6923134825
                        ]
                      },
                      {
                        "learn": [
                          0.8080801225,
                          0.5990925478
                        ],
                        "iteration": 149,
                        "passed_time": 68.25451186,
                        "remaining_time": 2206.895884,
                        "test": [
                          0.755378983,
                          0.6914246376
                        ]
                      },
                      {
                        "learn": [
                          0.8089420793,
                          0.5980739247
                        ],
                        "iteration": 150,
                        "passed_time": 68.50841783,
                        "remaining_time": 2199.982239,
                        "test": [
                          0.7538866977,
                          0.6909714253
                        ]
                      },
                      {
                        "learn": [
                          0.8093087163,
                          0.5973605128
                        ],
                        "iteration": 151,
                        "passed_time": 68.75184044,
                        "remaining_time": 2192.821858,
                        "test": [
                          0.7539339009,
                          0.6906391357
                        ]
                      },
                      {
                        "learn": [
                          0.8097933433,
                          0.596410524
                        ],
                        "iteration": 152,
                        "passed_time": 69.0194406,
                        "remaining_time": 2186.517834,
                        "test": [
                          0.7550253022,
                          0.6899379695
                        ]
                      },
                      {
                        "learn": [
                          0.8100482953,
                          0.59533601
                        ],
                        "iteration": 153,
                        "passed_time": 69.25952082,
                        "remaining_time": 2179.42622,
                        "test": [
                          0.7540975989,
                          0.6890765456
                        ]
                      },
                      {
                        "learn": [
                          0.8099349954,
                          0.5941822711
                        ],
                        "iteration": 154,
                        "passed_time": 69.50911157,
                        "remaining_time": 2172.720294,
                        "test": [
                          0.7550471219,
                          0.6884808718
                        ]
                      },
                      {
                        "learn": [
                          0.8097930564,
                          0.5929635367
                        ],
                        "iteration": 155,
                        "passed_time": 69.7448323,
                        "remaining_time": 2165.66646,
                        "test": [
                          0.7550315203,
                          0.6878913663
                        ]
                      },
                      {
                        "learn": [
                          0.810142943,
                          0.5919956373
                        ],
                        "iteration": 156,
                        "passed_time": 69.99878552,
                        "remaining_time": 2159.2619,
                        "test": [
                          0.7556327532,
                          0.6878978768
                        ]
                      },
                      {
                        "learn": [
                          0.8102778779,
                          0.5912243108
                        ],
                        "iteration": 157,
                        "passed_time": 70.23755057,
                        "remaining_time": 2152.469746,
                        "test": [
                          0.7564599872,
                          0.687547072
                        ]
                      },
                      {
                        "learn": [
                          0.8106352777,
                          0.5901455985
                        ],
                        "iteration": 158,
                        "passed_time": 70.49658972,
                        "remaining_time": 2146.377301,
                        "test": [
                          0.7573028013,
                          0.6867291021
                        ]
                      },
                      {
                        "learn": [
                          0.8106252713,
                          0.5890489181
                        ],
                        "iteration": 159,
                        "passed_time": 70.83489664,
                        "remaining_time": 2142.755623,
                        "test": [
                          0.7576313352,
                          0.6856461282
                        ]
                      },
                      {
                        "learn": [
                          0.8111187523,
                          0.5883121508
                        ],
                        "iteration": 160,
                        "passed_time": 71.1919995,
                        "remaining_time": 2139.739662,
                        "test": [
                          0.7564580767,
                          0.6854327942
                        ]
                      },
                      {
                        "learn": [
                          0.8113317559,
                          0.5875324236
                        ],
                        "iteration": 161,
                        "passed_time": 71.5918331,
                        "remaining_time": 2138.032645,
                        "test": [
                          0.7564652894,
                          0.6850412572
                        ]
                      },
                      {
                        "learn": [
                          0.811725224,
                          0.5867687305
                        ],
                        "iteration": 162,
                        "passed_time": 71.98858914,
                        "remaining_time": 2136.250341,
                        "test": [
                          0.757595334,
                          0.6846914885
                        ]
                      },
                      {
                        "learn": [
                          0.8124279005,
                          0.5860332136
                        ],
                        "iteration": 163,
                        "passed_time": 72.37914502,
                        "remaining_time": 2134.302106,
                        "test": [
                          0.7570519411,
                          0.6846595726
                        ]
                      },
                      {
                        "learn": [
                          0.8129126002,
                          0.5851906592
                        ],
                        "iteration": 164,
                        "passed_time": 72.77965188,
                        "remaining_time": 2132.664344,
                        "test": [
                          0.757618101,
                          0.6838823045
                        ]
                      },
                      {
                        "learn": [
                          0.8131962216,
                          0.5845182596
                        ],
                        "iteration": 165,
                        "passed_time": 73.16990266,
                        "remaining_time": 2130.742828,
                        "test": [
                          0.7582081326,
                          0.6828051504
                        ]
                      },
                      {
                        "learn": [
                          0.8137956215,
                          0.5837031928
                        ],
                        "iteration": 166,
                        "passed_time": 73.56248846,
                        "remaining_time": 2128.907226,
                        "test": [
                          0.7584595832,
                          0.6822602593
                        ]
                      },
                      {
                        "learn": [
                          0.814021726,
                          0.5825902569
                        ],
                        "iteration": 167,
                        "passed_time": 73.79773679,
                        "remaining_time": 2122.563477,
                        "test": [
                          0.7584147744,
                          0.6816616221
                        ]
                      },
                      {
                        "learn": [
                          0.8139033707,
                          0.5818087924
                        ],
                        "iteration": 168,
                        "passed_time": 74.05456051,
                        "remaining_time": 2116.908768,
                        "test": [
                          0.7581614968,
                          0.6810097468
                        ]
                      },
                      {
                        "learn": [
                          0.8134605561,
                          0.580602041
                        ],
                        "iteration": 169,
                        "passed_time": 74.29605323,
                        "remaining_time": 2110.881983,
                        "test": [
                          0.7573402163,
                          0.6805486643
                        ]
                      },
                      {
                        "learn": [
                          0.814330102,
                          0.5793471709
                        ],
                        "iteration": 170,
                        "passed_time": 74.53453591,
                        "remaining_time": 2104.837859,
                        "test": [
                          0.7576462282,
                          0.6792700687
                        ]
                      },
                      {
                        "learn": [
                          0.8143420307,
                          0.5788599902
                        ],
                        "iteration": 171,
                        "passed_time": 74.79990991,
                        "remaining_time": 2099.616076,
                        "test": [
                          0.7576165691,
                          0.6793253466
                        ]
                      },
                      {
                        "learn": [
                          0.8150570865,
                          0.5780537268
                        ],
                        "iteration": 172,
                        "passed_time": 75.05399339,
                        "remaining_time": 2094.136567,
                        "test": [
                          0.7573666083,
                          0.6790455554
                        ]
                      },
                      {
                        "learn": [
                          0.8156361236,
                          0.5769754023
                        ],
                        "iteration": 173,
                        "passed_time": 75.28885446,
                        "remaining_time": 2088.183975,
                        "test": [
                          0.7570548955,
                          0.6784681814
                        ]
                      },
                      {
                        "learn": [
                          0.8166007612,
                          0.5761876312
                        ],
                        "iteration": 174,
                        "passed_time": 75.52658542,
                        "remaining_time": 2082.375855,
                        "test": [
                          0.7579076285,
                          0.6783708538
                        ]
                      },
                      {
                        "learn": [
                          0.8169309807,
                          0.5753422854
                        ],
                        "iteration": 175,
                        "passed_time": 75.77993107,
                        "remaining_time": 2077.05902,
                        "test": [
                          0.7576579561,
                          0.6779895366
                        ]
                      },
                      {
                        "learn": [
                          0.8169170073,
                          0.574479919
                        ],
                        "iteration": 176,
                        "passed_time": 76.02447081,
                        "remaining_time": 2071.55945,
                        "test": [
                          0.7579521256,
                          0.6777667029
                        ]
                      },
                      {
                        "learn": [
                          0.8159894118,
                          0.5734940856
                        ],
                        "iteration": 177,
                        "passed_time": 76.27263966,
                        "remaining_time": 2066.217238,
                        "test": [
                          0.7573956415,
                          0.6769039178
                        ]
                      },
                      {
                        "learn": [
                          0.8170633909,
                          0.5725034324
                        ],
                        "iteration": 178,
                        "passed_time": 76.5064357,
                        "remaining_time": 2060.544841,
                        "test": [
                          0.7579484435,
                          0.6762353843
                        ]
                      },
                      {
                        "learn": [
                          0.8170812191,
                          0.5718496846
                        ],
                        "iteration": 179,
                        "passed_time": 76.75615881,
                        "remaining_time": 2055.359364,
                        "test": [
                          0.7579718332,
                          0.6759317004
                        ]
                      },
                      {
                        "learn": [
                          0.8177053597,
                          0.5712977569
                        ],
                        "iteration": 180,
                        "passed_time": 77.00234757,
                        "remaining_time": 2050.134326,
                        "test": [
                          0.7585652223,
                          0.6759101458
                        ]
                      },
                      {
                        "learn": [
                          0.8174637794,
                          0.5706871912
                        ],
                        "iteration": 181,
                        "passed_time": 77.24586939,
                        "remaining_time": 2044.8934,
                        "test": [
                          0.7585774531,
                          0.6756273923
                        ]
                      },
                      {
                        "learn": [
                          0.818292583,
                          0.5701849299
                        ],
                        "iteration": 182,
                        "passed_time": 77.48101313,
                        "remaining_time": 2039.486559,
                        "test": [
                          0.7582743563,
                          0.6755819441
                        ]
                      },
                      {
                        "learn": [
                          0.8187839762,
                          0.5695079035
                        ],
                        "iteration": 183,
                        "passed_time": 77.7284865,
                        "remaining_time": 2034.458647,
                        "test": [
                          0.7585950904,
                          0.6752512821
                        ]
                      },
                      {
                        "learn": [
                          0.8184293548,
                          0.5688271807
                        ],
                        "iteration": 184,
                        "passed_time": 77.96970128,
                        "remaining_time": 2029.319523,
                        "test": [
                          0.7588917849,
                          0.674949562
                        ]
                      },
                      {
                        "learn": [
                          0.8181849459,
                          0.568169776
                        ],
                        "iteration": 185,
                        "passed_time": 78.2142788,
                        "remaining_time": 2024.320098,
                        "test": [
                          0.7583353596,
                          0.674576128
                        ]
                      },
                      {
                        "learn": [
                          0.8184179665,
                          0.567419443
                        ],
                        "iteration": 186,
                        "passed_time": 78.45018453,
                        "remaining_time": 2019.148332,
                        "test": [
                          0.7574566424,
                          0.6747911678
                        ]
                      },
                      {
                        "learn": [
                          0.819264296,
                          0.5668448
                        ],
                        "iteration": 187,
                        "passed_time": 78.69981742,
                        "remaining_time": 2014.380433,
                        "test": [
                          0.7583332679,
                          0.6742471331
                        ]
                      },
                      {
                        "learn": [
                          0.8195232605,
                          0.5658749213
                        ],
                        "iteration": 188,
                        "passed_time": 78.94028601,
                        "remaining_time": 2009.427069,
                        "test": [
                          0.7586155741,
                          0.6736393525
                        ]
                      },
                      {
                        "learn": [
                          0.8192929337,
                          0.5653060894
                        ],
                        "iteration": 189,
                        "passed_time": 79.19109098,
                        "remaining_time": 2004.784987,
                        "test": [
                          0.7582683584,
                          0.6735604001
                        ]
                      },
                      {
                        "learn": [
                          0.8200524373,
                          0.5642992759
                        ],
                        "iteration": 190,
                        "passed_time": 79.42911741,
                        "remaining_time": 1999.86715,
                        "test": [
                          0.7582929002,
                          0.6729632841
                        ]
                      },
                      {
                        "learn": [
                          0.8203881247,
                          0.5637686537
                        ],
                        "iteration": 191,
                        "passed_time": 79.66855722,
                        "remaining_time": 1995.033454,
                        "test": [
                          0.7583064399,
                          0.6725044101
                        ]
                      },
                      {
                        "learn": [
                          0.8204987984,
                          0.5627516906
                        ],
                        "iteration": 192,
                        "passed_time": 79.90670225,
                        "remaining_time": 1990.215118,
                        "test": [
                          0.7579794182,
                          0.6724352715
                        ]
                      },
                      {
                        "learn": [
                          0.8211051722,
                          0.56191936
                        ],
                        "iteration": 193,
                        "passed_time": 80.15084143,
                        "remaining_time": 1985.592494,
                        "test": [
                          0.7582570757,
                          0.6722480687
                        ]
                      },
                      {
                        "learn": [
                          0.8215211889,
                          0.5612173574
                        ],
                        "iteration": 194,
                        "passed_time": 80.39921788,
                        "remaining_time": 1981.119189,
                        "test": [
                          0.7588319911,
                          0.6721338696
                        ]
                      },
                      {
                        "learn": [
                          0.821918435,
                          0.5604079962
                        ],
                        "iteration": 195,
                        "passed_time": 80.63588624,
                        "remaining_time": 1976.402028,
                        "test": [
                          0.7580130375,
                          0.6716704317
                        ]
                      },
                      {
                        "learn": [
                          0.8226382436,
                          0.5596491654
                        ],
                        "iteration": 196,
                        "passed_time": 80.89017955,
                        "remaining_time": 1972.160063,
                        "test": [
                          0.7574023428,
                          0.6713837982
                        ]
                      },
                      {
                        "learn": [
                          0.8234138835,
                          0.5589741038
                        ],
                        "iteration": 197,
                        "passed_time": 81.13143637,
                        "remaining_time": 1967.642209,
                        "test": [
                          0.7580033685,
                          0.6712237474
                        ]
                      },
                      {
                        "learn": [
                          0.8237501825,
                          0.5582774854
                        ],
                        "iteration": 198,
                        "passed_time": 81.37248509,
                        "remaining_time": 1963.162316,
                        "test": [
                          0.7574724158,
                          0.6712010728
                        ]
                      },
                      {
                        "learn": [
                          0.8243899051,
                          0.5575635339
                        ],
                        "iteration": 199,
                        "passed_time": 81.60689622,
                        "remaining_time": 1958.565509,
                        "test": [
                          0.7577444175,
                          0.670954576
                        ]
                      },
                      {
                        "learn": [
                          0.8241227227,
                          0.55701004
                        ],
                        "iteration": 200,
                        "passed_time": 81.86095598,
                        "remaining_time": 1954.481233,
                        "test": [
                          0.758619585,
                          0.6705344693
                        ]
                      },
                      {
                        "learn": [
                          0.8244873397,
                          0.5560835103
                        ],
                        "iteration": 201,
                        "passed_time": 82.10722381,
                        "remaining_time": 1950.249801,
                        "test": [
                          0.7591962959,
                          0.6697972647
                        ]
                      },
                      {
                        "learn": [
                          0.8247392882,
                          0.5550471706
                        ],
                        "iteration": 202,
                        "passed_time": 82.35535964,
                        "remaining_time": 1946.101774,
                        "test": [
                          0.7588864107,
                          0.669288877
                        ]
                      },
                      {
                        "learn": [
                          0.8257093612,
                          0.553987875
                        ],
                        "iteration": 203,
                        "passed_time": 82.59174306,
                        "remaining_time": 1941.715685,
                        "test": [
                          0.7591918617,
                          0.6686643884
                        ]
                      },
                      {
                        "learn": [
                          0.8252401722,
                          0.5534147689
                        ],
                        "iteration": 204,
                        "passed_time": 82.84117206,
                        "remaining_time": 1937.67522,
                        "test": [
                          0.7609213272,
                          0.6682097817
                        ]
                      },
                      {
                        "learn": [
                          0.8252049093,
                          0.5526846593
                        ],
                        "iteration": 205,
                        "passed_time": 83.0852126,
                        "remaining_time": 1933.546161,
                        "test": [
                          0.7606010887,
                          0.6679116961
                        ]
                      },
                      {
                        "learn": [
                          0.8247427813,
                          0.5519947067
                        ],
                        "iteration": 206,
                        "passed_time": 83.32856181,
                        "remaining_time": 1929.438632,
                        "test": [
                          0.7605470602,
                          0.6678388566
                        ]
                      },
                      {
                        "learn": [
                          0.8250942062,
                          0.5510052669
                        ],
                        "iteration": 207,
                        "passed_time": 83.58045697,
                        "remaining_time": 1925.565143,
                        "test": [
                          0.7584496335,
                          0.6675894462
                        ]
                      },
                      {
                        "learn": [
                          0.8251999318,
                          0.5501279738
                        ],
                        "iteration": 208,
                        "passed_time": 83.94311298,
                        "remaining_time": 1924.265332,
                        "test": [
                          0.7581718654,
                          0.6670356607
                        ]
                      },
                      {
                        "learn": [
                          0.8255628653,
                          0.5494820627
                        ],
                        "iteration": 209,
                        "passed_time": 84.33554941,
                        "remaining_time": 1923.653722,
                        "test": [
                          0.7587306685,
                          0.6666183703
                        ]
                      },
                      {
                        "learn": [
                          0.826138731,
                          0.5485101732
                        ],
                        "iteration": 210,
                        "passed_time": 84.71729736,
                        "remaining_time": 1922.801597,
                        "test": [
                          0.7596022489,
                          0.6658891473
                        ]
                      },
                      {
                        "learn": [
                          0.8261426275,
                          0.547760306
                        ],
                        "iteration": 211,
                        "passed_time": 85.09766493,
                        "remaining_time": 1921.922734,
                        "test": [
                          0.7604858258,
                          0.6653518176
                        ]
                      },
                      {
                        "learn": [
                          0.8266941048,
                          0.5466208009
                        ],
                        "iteration": 212,
                        "passed_time": 85.47532185,
                        "remaining_time": 1920.987632,
                        "test": [
                          0.7612860244,
                          0.664231426
                        ]
                      },
                      {
                        "learn": [
                          0.827284904,
                          0.5460478984
                        ],
                        "iteration": 213,
                        "passed_time": 85.8893154,
                        "remaining_time": 1920.87039,
                        "test": [
                          0.7606794078,
                          0.6642426927
                        ]
                      },
                      {
                        "learn": [
                          0.8275179075,
                          0.545492511
                        ],
                        "iteration": 214,
                        "passed_time": 86.27665007,
                        "remaining_time": 1920.157073,
                        "test": [
                          0.7609555988,
                          0.663988243
                        ]
                      },
                      {
                        "learn": [
                          0.828126205,
                          0.5448381481
                        ],
                        "iteration": 215,
                        "passed_time": 86.63167888,
                        "remaining_time": 1918.731258,
                        "test": [
                          0.75890782,
                          0.6636106609
                        ]
                      },
                      {
                        "learn": [
                          0.8284800029,
                          0.543969663
                        ],
                        "iteration": 216,
                        "passed_time": 86.96935425,
                        "remaining_time": 1916.932817,
                        "test": [
                          0.7597872201,
                          0.6630205476
                        ]
                      },
                      {
                        "learn": [
                          0.8287342026,
                          0.543435517
                        ],
                        "iteration": 217,
                        "passed_time": 87.22632704,
                        "remaining_time": 1913.377504,
                        "test": [
                          0.7612374197,
                          0.6629052688
                        ]
                      },
                      {
                        "learn": [
                          0.8294823826,
                          0.5428081615
                        ],
                        "iteration": 218,
                        "passed_time": 87.46541285,
                        "remaining_time": 1909.461821,
                        "test": [
                          0.7612824192,
                          0.6625796206
                        ]
                      },
                      {
                        "learn": [
                          0.8285112912,
                          0.5419761612
                        ],
                        "iteration": 219,
                        "passed_time": 87.70104706,
                        "remaining_time": 1905.504568,
                        "test": [
                          0.7618810876,
                          0.6623265052
                        ]
                      },
                      {
                        "learn": [
                          0.8285951932,
                          0.5413071655
                        ],
                        "iteration": 220,
                        "passed_time": 87.94016638,
                        "remaining_time": 1901.656358,
                        "test": [
                          0.7618121487,
                          0.6616611681
                        ]
                      },
                      {
                        "learn": [
                          0.8283784383,
                          0.5406494479
                        ],
                        "iteration": 221,
                        "passed_time": 88.2005111,
                        "remaining_time": 1898.297487,
                        "test": [
                          0.7609571883,
                          0.6618249489
                        ]
                      },
                      {
                        "learn": [
                          0.8279906563,
                          0.539555065
                        ],
                        "iteration": 222,
                        "passed_time": 88.44057142,
                        "remaining_time": 1894.531882,
                        "test": [
                          0.761502214,
                          0.6612263481
                        ]
                      },
                      {
                        "learn": [
                          0.8285845339,
                          0.5390069377
                        ],
                        "iteration": 223,
                        "passed_time": 88.68626922,
                        "remaining_time": 1890.917955,
                        "test": [
                          0.7612294619,
                          0.6609874558
                        ]
                      },
                      {
                        "learn": [
                          0.8288211375,
                          0.5382468873
                        ],
                        "iteration": 224,
                        "passed_time": 88.92603549,
                        "remaining_time": 1887.208086,
                        "test": [
                          0.7615193543,
                          0.6606019951
                        ]
                      },
                      {
                        "learn": [
                          0.828803646,
                          0.5377696619
                        ],
                        "iteration": 225,
                        "passed_time": 89.18309709,
                        "remaining_time": 1883.894272,
                        "test": [
                          0.7614931993,
                          0.6602258595
                        ]
                      },
                      {
                        "learn": [
                          0.8289270454,
                          0.5370765769
                        ],
                        "iteration": 226,
                        "passed_time": 89.42095372,
                        "remaining_time": 1880.203577,
                        "test": [
                          0.7612113336,
                          0.6598836766
                        ]
                      },
                      {
                        "learn": [
                          0.8292858015,
                          0.5364481014
                        ],
                        "iteration": 227,
                        "passed_time": 89.66573073,
                        "remaining_time": 1876.688013,
                        "test": [
                          0.7600543563,
                          0.6600891139
                        ]
                      },
                      {
                        "learn": [
                          0.829755925,
                          0.5356896303
                        ],
                        "iteration": 228,
                        "passed_time": 89.90388923,
                        "remaining_time": 1873.063125,
                        "test": [
                          0.7600366394,
                          0.6598742883
                        ]
                      },
                      {
                        "learn": [
                          0.8303576794,
                          0.5351195242
                        ],
                        "iteration": 229,
                        "passed_time": 90.15690016,
                        "remaining_time": 1869.775712,
                        "test": [
                          0.7591252447,
                          0.6598296176
                        ]
                      },
                      {
                        "learn": [
                          0.8303767795,
                          0.5346162745
                        ],
                        "iteration": 230,
                        "passed_time": 90.39886852,
                        "remaining_time": 1866.286597,
                        "test": [
                          0.7596795828,
                          0.6595133498
                        ]
                      },
                      {
                        "learn": [
                          0.830991917,
                          0.5339955817
                        ],
                        "iteration": 231,
                        "passed_time": 90.63913121,
                        "remaining_time": 1862.790421,
                        "test": [
                          0.7605564253,
                          0.6592926383
                        ]
                      },
                      {
                        "learn": [
                          0.8310908186,
                          0.5334615279
                        ],
                        "iteration": 232,
                        "passed_time": 90.87341914,
                        "remaining_time": 1859.199953,
                        "test": [
                          0.7609114683,
                          0.6586143013
                        ]
                      },
                      {
                        "learn": [
                          0.8314575406,
                          0.5329873619
                        ],
                        "iteration": 233,
                        "passed_time": 91.12667815,
                        "remaining_time": 1856.024564,
                        "test": [
                          0.7609021689,
                          0.6589008834
                        ]
                      },
                      {
                        "learn": [
                          0.832557316,
                          0.532090871
                        ],
                        "iteration": 234,
                        "passed_time": 91.36251352,
                        "remaining_time": 1852.520753,
                        "test": [
                          0.7614760655,
                          0.6581411669
                        ]
                      },
                      {
                        "learn": [
                          0.8331319921,
                          0.530912248
                        ],
                        "iteration": 235,
                        "passed_time": 91.60674605,
                        "remaining_time": 1849.214145,
                        "test": [
                          0.7629326873,
                          0.6566714092
                        ]
                      },
                      {
                        "learn": [
                          0.8326485922,
                          0.5304493238
                        ],
                        "iteration": 236,
                        "passed_time": 91.85250542,
                        "remaining_time": 1845.964065,
                        "test": [
                          0.7631669695,
                          0.6562750603
                        ]
                      },
                      {
                        "learn": [
                          0.833028417,
                          0.5298835519
                        ],
                        "iteration": 237,
                        "passed_time": 92.11102764,
                        "remaining_time": 1842.994595,
                        "test": [
                          0.7631904466,
                          0.655988856
                        ]
                      },
                      {
                        "learn": [
                          0.8333759155,
                          0.5293868149
                        ],
                        "iteration": 238,
                        "passed_time": 92.35109861,
                        "remaining_time": 1839.680253,
                        "test": [
                          0.7634188471,
                          0.656006436
                        ]
                      },
                      {
                        "learn": [
                          0.8342404417,
                          0.5286429256
                        ],
                        "iteration": 239,
                        "passed_time": 92.58365197,
                        "remaining_time": 1836.242431,
                        "test": [
                          0.7637179879,
                          0.6553788258
                        ]
                      },
                      {
                        "learn": [
                          0.8338579598,
                          0.5281560899
                        ],
                        "iteration": 240,
                        "passed_time": 92.82776195,
                        "remaining_time": 1833.059415,
                        "test": [
                          0.7634312371,
                          0.6554583963
                        ]
                      },
                      {
                        "learn": [
                          0.8345640806,
                          0.5273160142
                        ],
                        "iteration": 241,
                        "passed_time": 93.06793186,
                        "remaining_time": 1829.823222,
                        "test": [
                          0.7640169336,
                          0.6550814377
                        ]
                      },
                      {
                        "learn": [
                          0.8344477448,
                          0.5266679101
                        ],
                        "iteration": 242,
                        "passed_time": 93.32483792,
                        "remaining_time": 1826.939317,
                        "test": [
                          0.7648363874,
                          0.6547058411
                        ]
                      },
                      {
                        "learn": [
                          0.8354082519,
                          0.5261461902
                        ],
                        "iteration": 243,
                        "passed_time": 93.56190321,
                        "remaining_time": 1823.690212,
                        "test": [
                          0.7639834732,
                          0.6547739909
                        ]
                      },
                      {
                        "learn": [
                          0.8352750018,
                          0.5253057625
                        ],
                        "iteration": 244,
                        "passed_time": 93.80766722,
                        "remaining_time": 1820.634521,
                        "test": [
                          0.7630745394,
                          0.6548965966
                        ]
                      },
                      {
                        "learn": [
                          0.8351333099,
                          0.5245457362
                        ],
                        "iteration": 245,
                        "passed_time": 94.04887586,
                        "remaining_time": 1817.513642,
                        "test": [
                          0.7630459409,
                          0.6548105763
                        ]
                      },
                      {
                        "learn": [
                          0.8361353593,
                          0.5236743831
                        ],
                        "iteration": 246,
                        "passed_time": 94.30410794,
                        "remaining_time": 1814.685931,
                        "test": [
                          0.763916295,
                          0.6544185329
                        ]
                      },
                      {
                        "learn": [
                          0.8358999878,
                          0.5229366038
                        ],
                        "iteration": 247,
                        "passed_time": 94.5439875,
                        "remaining_time": 1811.584793,
                        "test": [
                          0.7633234576,
                          0.6539501847
                        ]
                      },
                      {
                        "learn": [
                          0.8362762967,
                          0.522659413
                        ],
                        "iteration": 248,
                        "passed_time": 94.79679763,
                        "remaining_time": 1808.753356,
                        "test": [
                          0.7638916458,
                          0.6539882125
                        ]
                      },
                      {
                        "learn": [
                          0.8369919863,
                          0.5219358175
                        ],
                        "iteration": 249,
                        "passed_time": 95.03646831,
                        "remaining_time": 1805.692898,
                        "test": [
                          0.7644981552,
                          0.6536564594
                        ]
                      },
                      {
                        "learn": [
                          0.837482189,
                          0.5210842433
                        ],
                        "iteration": 250,
                        "passed_time": 95.2932988,
                        "remaining_time": 1802.979586,
                        "test": [
                          0.7656008549,
                          0.6530498332
                        ]
                      },
                      {
                        "learn": [
                          0.8374678069,
                          0.5201222209
                        ],
                        "iteration": 251,
                        "passed_time": 95.52924065,
                        "remaining_time": 1799.892201,
                        "test": [
                          0.7653191623,
                          0.6527304874
                        ]
                      },
                      {
                        "learn": [
                          0.8377215056,
                          0.5194172141
                        ],
                        "iteration": 252,
                        "passed_time": 95.77558452,
                        "remaining_time": 1797.022529,
                        "test": [
                          0.7658443591,
                          0.6523948296
                        ]
                      },
                      {
                        "learn": [
                          0.8393124206,
                          0.5187782908
                        ],
                        "iteration": 253,
                        "passed_time": 96.01901489,
                        "remaining_time": 1794.119073,
                        "test": [
                          0.766418497,
                          0.6520778939
                        ]
                      },
                      {
                        "learn": [
                          0.8404734516,
                          0.5179864153
                        ],
                        "iteration": 254,
                        "passed_time": 96.27688888,
                        "remaining_time": 1791.505246,
                        "test": [
                          0.7661450198,
                          0.6520652285
                        ]
                      },
                      {
                        "learn": [
                          0.8401275903,
                          0.517620297
                        ],
                        "iteration": 255,
                        "passed_time": 96.51976085,
                        "remaining_time": 1788.631818,
                        "test": [
                          0.7658244687,
                          0.6516772233
                        ]
                      },
                      {
                        "learn": [
                          0.8400007343,
                          0.5171766658
                        ],
                        "iteration": 256,
                        "passed_time": 96.87789809,
                        "remaining_time": 1787.906111,
                        "test": [
                          0.7658466673,
                          0.6514211055
                        ]
                      },
                      {
                        "learn": [
                          0.8404828193,
                          0.5166388986
                        ],
                        "iteration": 257,
                        "passed_time": 97.30153478,
                        "remaining_time": 1788.387124,
                        "test": [
                          0.765826617,
                          0.6510949507
                        ]
                      },
                      {
                        "learn": [
                          0.8410813966,
                          0.5162200118
                        ],
                        "iteration": 258,
                        "passed_time": 97.7119185,
                        "remaining_time": 1788.618554,
                        "test": [
                          0.7652481951,
                          0.650865679
                        ]
                      },
                      {
                        "learn": [
                          0.8414491308,
                          0.5157614407
                        ],
                        "iteration": 259,
                        "passed_time": 98.09645241,
                        "remaining_time": 1788.373786,
                        "test": [
                          0.7649660225,
                          0.6507945632
                        ]
                      },
                      {
                        "learn": [
                          0.841439779,
                          0.5153596502
                        ],
                        "iteration": 260,
                        "passed_time": 98.50095193,
                        "remaining_time": 1788.490464,
                        "test": [
                          0.76553559,
                          0.6507378921
                        ]
                      },
                      {
                        "learn": [
                          0.8414311066,
                          0.514802335
                        ],
                        "iteration": 261,
                        "passed_time": 98.88942284,
                        "remaining_time": 1788.313303,
                        "test": [
                          0.7652406663,
                          0.6505632591
                        ]
                      },
                      {
                        "learn": [
                          0.8420691954,
                          0.5142810436
                        ],
                        "iteration": 262,
                        "passed_time": 99.29179539,
                        "remaining_time": 1788.384923,
                        "test": [
                          0.7637885514,
                          0.6504351437
                        ]
                      },
                      {
                        "learn": [
                          0.8426894798,
                          0.5137085011
                        ],
                        "iteration": 263,
                        "passed_time": 99.65559388,
                        "remaining_time": 1787.760957,
                        "test": [
                          0.7632103933,
                          0.6503140357
                        ]
                      },
                      {
                        "learn": [
                          0.8433070174,
                          0.5130435253
                        ],
                        "iteration": 264,
                        "passed_time": 99.90455112,
                        "remaining_time": 1785.086979,
                        "test": [
                          0.7631785626,
                          0.6499667377
                        ]
                      },
                      {
                        "learn": [
                          0.8430711024,
                          0.5126673274
                        ],
                        "iteration": 265,
                        "passed_time": 100.1497017,
                        "remaining_time": 1782.363488,
                        "test": [
                          0.7637580326,
                          0.6496292127
                        ]
                      },
                      {
                        "learn": [
                          0.8434183566,
                          0.5121502788
                        ],
                        "iteration": 266,
                        "passed_time": 100.4018939,
                        "remaining_time": 1779.783386,
                        "test": [
                          0.7637462243,
                          0.6492196745
                        ]
                      },
                      {
                        "learn": [
                          0.8435377747,
                          0.5117497245
                        ],
                        "iteration": 267,
                        "passed_time": 100.6385835,
                        "remaining_time": 1776.946929,
                        "test": [
                          0.7643146473,
                          0.6491552141
                        ]
                      },
                      {
                        "learn": [
                          0.8436451631,
                          0.5110333073
                        ],
                        "iteration": 268,
                        "passed_time": 100.8791273,
                        "remaining_time": 1774.197589,
                        "test": [
                          0.7637518749,
                          0.6488734732
                        ]
                      },
                      {
                        "learn": [
                          0.8441084256,
                          0.5105845991
                        ],
                        "iteration": 269,
                        "passed_time": 101.1280929,
                        "remaining_time": 1771.614369,
                        "test": [
                          0.7640645296,
                          0.6487688924
                        ]
                      },
                      {
                        "learn": [
                          0.8437450832,
                          0.5099185831
                        ],
                        "iteration": 270,
                        "passed_time": 101.363646,
                        "remaining_time": 1768.814324,
                        "test": [
                          0.7646322701,
                          0.6485209957
                        ]
                      },
                      {
                        "learn": [
                          0.8439989111,
                          0.5096024997
                        ],
                        "iteration": 271,
                        "passed_time": 101.6191684,
                        "remaining_time": 1766.38025,
                        "test": [
                          0.7643411039,
                          0.6484154334
                        ]
                      },
                      {
                        "learn": [
                          0.8433991813,
                          0.5091569126
                        ],
                        "iteration": 272,
                        "passed_time": 101.8609419,
                        "remaining_time": 1763.724075,
                        "test": [
                          0.7658265991,
                          0.6480394152
                        ]
                      },
                      {
                        "learn": [
                          0.8437672721,
                          0.5085025623
                        ],
                        "iteration": 273,
                        "passed_time": 102.116339,
                        "remaining_time": 1761.320505,
                        "test": [
                          0.7673273948,
                          0.6477359625
                        ]
                      },
                      {
                        "learn": [
                          0.8441144124,
                          0.5077330604
                        ],
                        "iteration": 274,
                        "passed_time": 102.361801,
                        "remaining_time": 1758.761854,
                        "test": [
                          0.7673441951,
                          0.647086241
                        ]
                      },
                      {
                        "learn": [
                          0.843997102,
                          0.5073036735
                        ],
                        "iteration": 275,
                        "passed_time": 102.6230203,
                        "remaining_time": 1756.489666,
                        "test": [
                          0.7673651361,
                          0.6466855905
                        ]
                      },
                      {
                        "learn": [
                          0.8443435354,
                          0.5068262801
                        ],
                        "iteration": 276,
                        "passed_time": 102.8681152,
                        "remaining_time": 1753.95707,
                        "test": [
                          0.767638501,
                          0.6466477559
                        ]
                      },
                      {
                        "learn": [
                          0.8448235127,
                          0.5066012433
                        ],
                        "iteration": 277,
                        "passed_time": 103.1244889,
                        "remaining_time": 1751.632506,
                        "test": [
                          0.7665418293,
                          0.6466724614
                        ]
                      },
                      {
                        "learn": [
                          0.8453212426,
                          0.5060668171
                        ],
                        "iteration": 278,
                        "passed_time": 103.358326,
                        "remaining_time": 1748.941423,
                        "test": [
                          0.7665333046,
                          0.6460202241
                        ]
                      },
                      {
                        "learn": [
                          0.8455572442,
                          0.5054792503
                        ],
                        "iteration": 279,
                        "passed_time": 103.6130173,
                        "remaining_time": 1746.619434,
                        "test": [
                          0.7674062814,
                          0.645892852
                        ]
                      },
                      {
                        "learn": [
                          0.8456861499,
                          0.5050400544
                        ],
                        "iteration": 280,
                        "passed_time": 103.8523728,
                        "remaining_time": 1744.054617,
                        "test": [
                          0.7670633499,
                          0.6457043968
                        ]
                      },
                      {
                        "learn": [
                          0.8464225197,
                          0.5046706065
                        ],
                        "iteration": 281,
                        "passed_time": 104.1103827,
                        "remaining_time": 1741.818388,
                        "test": [
                          0.7676367778,
                          0.6454880967
                        ]
                      },
                      {
                        "learn": [
                          0.8463029725,
                          0.5042025678
                        ],
                        "iteration": 282,
                        "passed_time": 104.345215,
                        "remaining_time": 1739.20982,
                        "test": [
                          0.767361738,
                          0.6453434241
                        ]
                      },
                      {
                        "learn": [
                          0.8465184913,
                          0.5037278053
                        ],
                        "iteration": 283,
                        "passed_time": 104.5997572,
                        "remaining_time": 1736.945264,
                        "test": [
                          0.7664915815,
                          0.6451253371
                        ]
                      },
                      {
                        "learn": [
                          0.8462740876,
                          0.5033620083
                        ],
                        "iteration": 284,
                        "passed_time": 104.8429688,
                        "remaining_time": 1734.507361,
                        "test": [
                          0.7670552265,
                          0.6449991393
                        ]
                      },
                      {
                        "learn": [
                          0.8459154369,
                          0.502961037
                        ],
                        "iteration": 285,
                        "passed_time": 105.0931781,
                        "remaining_time": 1732.200146,
                        "test": [
                          0.7670755568,
                          0.6452122792
                        ]
                      },
                      {
                        "learn": [
                          0.8457069924,
                          0.5024550387
                        ],
                        "iteration": 286,
                        "passed_time": 105.3462266,
                        "remaining_time": 1729.953888,
                        "test": [
                          0.7670351062,
                          0.6447703046
                        ]
                      },
                      {
                        "learn": [
                          0.845964735,
                          0.5021484869
                        ],
                        "iteration": 287,
                        "passed_time": 105.6002145,
                        "remaining_time": 1727.736843,
                        "test": [
                          0.7676064471,
                          0.6448090618
                        ]
                      },
                      {
                        "learn": [
                          0.8460645739,
                          0.5015471447
                        ],
                        "iteration": 288,
                        "passed_time": 105.8414616,
                        "remaining_time": 1725.325694,
                        "test": [
                          0.7675671898,
                          0.6443318435
                        ]
                      },
                      {
                        "learn": [
                          0.8459447935,
                          0.5011478051
                        ],
                        "iteration": 289,
                        "passed_time": 106.0926428,
                        "remaining_time": 1723.090853,
                        "test": [
                          0.7672933604,
                          0.6441318536
                        ]
                      },
                      {
                        "learn": [
                          0.8460602446,
                          0.5006897338
                        ],
                        "iteration": 290,
                        "passed_time": 106.3301347,
                        "remaining_time": 1720.648125,
                        "test": [
                          0.7679029321,
                          0.6437196839
                        ]
                      },
                      {
                        "learn": [
                          0.8471584752,
                          0.499926758
                        ],
                        "iteration": 291,
                        "passed_time": 106.5800344,
                        "remaining_time": 1718.420555,
                        "test": [
                          0.7670587355,
                          0.6434059704
                        ]
                      },
                      {
                        "learn": [
                          0.8472673776,
                          0.4995198833
                        ],
                        "iteration": 292,
                        "passed_time": 106.8343026,
                        "remaining_time": 1716.276664,
                        "test": [
                          0.7670792835,
                          0.6434833159
                        ]
                      },
                      {
                        "learn": [
                          0.8478724827,
                          0.4990328973
                        ],
                        "iteration": 293,
                        "passed_time": 107.0796579,
                        "remaining_time": 1714.002959,
                        "test": [
                          0.7671004932,
                          0.6432309525
                        ]
                      },
                      {
                        "learn": [
                          0.8481316545,
                          0.4984691926
                        ],
                        "iteration": 294,
                        "passed_time": 107.3286882,
                        "remaining_time": 1711.80162,
                        "test": [
                          0.7682157684,
                          0.6426631372
                        ]
                      },
                      {
                        "learn": [
                          0.848257369,
                          0.4981530076
                        ],
                        "iteration": 295,
                        "passed_time": 107.5652974,
                        "remaining_time": 1709.416078,
                        "test": [
                          0.7679123882,
                          0.6426233417
                        ]
                      },
                      {
                        "learn": [
                          0.8481229968,
                          0.4976183404
                        ],
                        "iteration": 296,
                        "passed_time": 107.8250674,
                        "remaining_time": 1707.411757,
                        "test": [
                          0.7682361031,
                          0.6425633889
                        ]
                      },
                      {
                        "learn": [
                          0.848720333,
                          0.4970166609
                        ],
                        "iteration": 297,
                        "passed_time": 108.0698843,
                        "remaining_time": 1705.183208,
                        "test": [
                          0.7684615657,
                          0.6422088647
                        ]
                      },
                      {
                        "learn": [
                          0.8494557405,
                          0.4967118486
                        ],
                        "iteration": 298,
                        "passed_time": 108.3195651,
                        "remaining_time": 1703.044401,
                        "test": [
                          0.7678942834,
                          0.641903643
                        ]
                      },
                      {
                        "learn": [
                          0.849353888,
                          0.4963591102
                        ],
                        "iteration": 299,
                        "passed_time": 108.5606673,
                        "remaining_time": 1700.783787,
                        "test": [
                          0.7676198868,
                          0.6418439371
                        ]
                      },
                      {
                        "learn": [
                          0.8491170407,
                          0.496023849
                        ],
                        "iteration": 300,
                        "passed_time": 108.8233151,
                        "remaining_time": 1698.872949,
                        "test": [
                          0.7675739467,
                          0.6416172846
                        ]
                      },
                      {
                        "learn": [
                          0.8491145384,
                          0.4955286879
                        ],
                        "iteration": 301,
                        "passed_time": 109.0727913,
                        "remaining_time": 1696.768124,
                        "test": [
                          0.7675422714,
                          0.6410252221
                        ]
                      },
                      {
                        "learn": [
                          0.8491100224,
                          0.495087457
                        ],
                        "iteration": 302,
                        "passed_time": 109.3240971,
                        "remaining_time": 1694.703907,
                        "test": [
                          0.7678156319,
                          0.641137787
                        ]
                      },
                      {
                        "learn": [
                          0.8492319944,
                          0.4945715946
                        ],
                        "iteration": 303,
                        "passed_time": 109.5688742,
                        "remaining_time": 1692.550767,
                        "test": [
                          0.7675601624,
                          0.6405951097
                        ]
                      },
                      {
                        "learn": [
                          0.8496065974,
                          0.493889716
                        ],
                        "iteration": 304,
                        "passed_time": 109.9512812,
                        "remaining_time": 1692.528739,
                        "test": [
                          0.7675820766,
                          0.6404833725
                        ]
                      },
                      {
                        "learn": [
                          0.849853848,
                          0.4934660299
                        ],
                        "iteration": 305,
                        "passed_time": 110.3143818,
                        "remaining_time": 1692.208197,
                        "test": [
                          0.7675820766,
                          0.6403640526
                        ]
                      },
                      {
                        "learn": [
                          0.8500855706,
                          0.4929492421
                        ],
                        "iteration": 306,
                        "passed_time": 110.6824047,
                        "remaining_time": 1691.962624,
                        "test": [
                          0.7672400815,
                          0.6402845251
                        ]
                      },
                      {
                        "learn": [
                          0.8502159995,
                          0.4925260469
                        ],
                        "iteration": 307,
                        "passed_time": 111.1070033,
                        "remaining_time": 1692.578115,
                        "test": [
                          0.7675580772,
                          0.6401485523
                        ]
                      },
                      {
                        "learn": [
                          0.8503302206,
                          0.4921005793
                        ],
                        "iteration": 308,
                        "passed_time": 111.5052352,
                        "remaining_time": 1692.786597,
                        "test": [
                          0.7678533339,
                          0.6398154173
                        ]
                      },
                      {
                        "learn": [
                          0.8510698133,
                          0.4917548635
                        ],
                        "iteration": 309,
                        "passed_time": 111.9176732,
                        "remaining_time": 1693.206087,
                        "test": [
                          0.7678328427,
                          0.6398701702
                        ]
                      },
                      {
                        "learn": [
                          0.8508185223,
                          0.491250891
                        ],
                        "iteration": 310,
                        "passed_time": 112.3127766,
                        "remaining_time": 1693.358873,
                        "test": [
                          0.7683787513,
                          0.6396473673
                        ]
                      },
                      {
                        "learn": [
                          0.851674673,
                          0.490649588
                        ],
                        "iteration": 311,
                        "passed_time": 112.6778543,
                        "remaining_time": 1693.05699,
                        "test": [
                          0.7692341758,
                          0.6393239325
                        ]
                      },
                      {
                        "learn": [
                          0.8512091771,
                          0.4900552597
                        ],
                        "iteration": 312,
                        "passed_time": 112.939834,
                        "remaining_time": 1691.210869,
                        "test": [
                          0.7692341758,
                          0.6390224342
                        ]
                      },
                      {
                        "learn": [
                          0.8508388927,
                          0.4897158936
                        ],
                        "iteration": 313,
                        "passed_time": 113.184841,
                        "remaining_time": 1689.121544,
                        "test": [
                          0.7701254707,
                          0.6387663349
                        ]
                      },
                      {
                        "learn": [
                          0.8515649279,
                          0.4891424427
                        ],
                        "iteration": 314,
                        "passed_time": 113.4337172,
                        "remaining_time": 1687.101477,
                        "test": [
                          0.7697987207,
                          0.6382221123
                        ]
                      },
                      {
                        "learn": [
                          0.8514416231,
                          0.4887653977
                        ],
                        "iteration": 315,
                        "passed_time": 113.6709948,
                        "remaining_time": 1684.920694,
                        "test": [
                          0.7695012006,
                          0.638335911
                        ]
                      },
                      {
                        "learn": [
                          0.8513196991,
                          0.4883289202
                        ],
                        "iteration": 316,
                        "passed_time": 113.9348855,
                        "remaining_time": 1683.145328,
                        "test": [
                          0.7689308247,
                          0.638488249
                        ]
                      },
                      {
                        "learn": [
                          0.8519309453,
                          0.4878619629
                        ],
                        "iteration": 317,
                        "passed_time": 114.1815904,
                        "remaining_time": 1681.126435,
                        "test": [
                          0.769220906,
                          0.638221486
                        ]
                      },
                      {
                        "learn": [
                          0.8522802494,
                          0.4874446199
                        ],
                        "iteration": 318,
                        "passed_time": 114.4321464,
                        "remaining_time": 1679.175164,
                        "test": [
                          0.7689681534,
                          0.6379261028
                        ]
                      },
                      {
                        "learn": [
                          0.8519494894,
                          0.486873597
                        ],
                        "iteration": 319,
                        "passed_time": 114.6664697,
                        "remaining_time": 1676.99712,
                        "test": [
                          0.7692334461,
                          0.6374313094
                        ]
                      },
                      {
                        "learn": [
                          0.8517043306,
                          0.4865537459
                        ],
                        "iteration": 320,
                        "passed_time": 114.9204218,
                        "remaining_time": 1675.117301,
                        "test": [
                          0.7686703363,
                          0.6373195353
                        ]
                      },
                      {
                        "learn": [
                          0.8521758658,
                          0.4859648051
                        ],
                        "iteration": 321,
                        "passed_time": 115.1640409,
                        "remaining_time": 1673.097463,
                        "test": [
                          0.7689332216,
                          0.6372471473
                        ]
                      },
                      {
                        "learn": [
                          0.8516990516,
                          0.485251486
                        ],
                        "iteration": 322,
                        "passed_time": 115.4073307,
                        "remaining_time": 1671.083856,
                        "test": [
                          0.7677930059,
                          0.6371183976
                        ]
                      },
                      {
                        "learn": [
                          0.8512011572,
                          0.4847327886
                        ],
                        "iteration": 323,
                        "passed_time": 115.6514164,
                        "remaining_time": 1669.092664,
                        "test": [
                          0.7678118909,
                          0.6372789515
                        ]
                      },
                      {
                        "learn": [
                          0.8509553661,
                          0.4842875294
                        ],
                        "iteration": 324,
                        "passed_time": 115.8919139,
                        "remaining_time": 1667.060607,
                        "test": [
                          0.7680447829,
                          0.6371551006
                        ]
                      },
                      {
                        "learn": [
                          0.8510654848,
                          0.4836947215
                        ],
                        "iteration": 325,
                        "passed_time": 116.1536735,
                        "remaining_time": 1665.344387,
                        "test": [
                          0.7680263301,
                          0.6371246853
                        ]
                      },
                      {
                        "learn": [
                          0.8519056491,
                          0.4833161162
                        ],
                        "iteration": 326,
                        "passed_time": 116.396167,
                        "remaining_time": 1663.361738,
                        "test": [
                          0.7685769465,
                          0.6369801422
                        ]
                      },
                      {
                        "learn": [
                          0.8517926969,
                          0.482800587
                        ],
                        "iteration": 327,
                        "passed_time": 116.6438008,
                        "remaining_time": 1661.462919,
                        "test": [
                          0.7682846816,
                          0.6367007087
                        ]
                      },
                      {
                        "learn": [
                          0.8517849972,
                          0.482308482
                        ],
                        "iteration": 328,
                        "passed_time": 116.8811599,
                        "remaining_time": 1659.428261,
                        "test": [
                          0.7688530063,
                          0.6361885673
                        ]
                      },
                      {
                        "learn": [
                          0.8528507389,
                          0.4817346749
                        ],
                        "iteration": 329,
                        "passed_time": 117.1421031,
                        "remaining_time": 1657.738247,
                        "test": [
                          0.7694378337,
                          0.635797063
                        ]
                      },
                      {
                        "learn": [
                          0.8526027053,
                          0.4814071339
                        ],
                        "iteration": 330,
                        "passed_time": 117.3843692,
                        "remaining_time": 1655.793413,
                        "test": [
                          0.7694392005,
                          0.6355991664
                        ]
                      },
                      {
                        "learn": [
                          0.8525800942,
                          0.4809839643
                        ],
                        "iteration": 331,
                        "passed_time": 117.628502,
                        "remaining_time": 1653.885082,
                        "test": [
                          0.7697315849,
                          0.6357812566
                        ]
                      },
                      {
                        "learn": [
                          0.8525719526,
                          0.480547782
                        ],
                        "iteration": 332,
                        "passed_time": 117.8644349,
                        "remaining_time": 1651.871825,
                        "test": [
                          0.7700070159,
                          0.6356876804
                        ]
                      },
                      {
                        "learn": [
                          0.8527117751,
                          0.4802121383
                        ],
                        "iteration": 333,
                        "passed_time": 118.124901,
                        "remaining_time": 1650.21194,
                        "test": [
                          0.769985526,
                          0.6356250491
                        ]
                      },
                      {
                        "learn": [
                          0.8528297556,
                          0.4797121142
                        ],
                        "iteration": 334,
                        "passed_time": 118.3648507,
                        "remaining_time": 1648.274713,
                        "test": [
                          0.7702410704,
                          0.6355537615
                        ]
                      },
                      {
                        "learn": [
                          0.8533162805,
                          0.4792316716
                        ],
                        "iteration": 335,
                        "passed_time": 118.6097626,
                        "remaining_time": 1646.416466,
                        "test": [
                          0.7699957982,
                          0.6352300677
                        ]
                      },
                      {
                        "learn": [
                          0.8534533852,
                          0.4785562969
                        ],
                        "iteration": 336,
                        "passed_time": 118.841798,
                        "remaining_time": 1644.389626,
                        "test": [
                          0.7694378463,
                          0.6344668653
                        ]
                      },
                      {
                        "learn": [
                          0.8538305467,
                          0.478048504
                        ],
                        "iteration": 337,
                        "passed_time": 119.1018231,
                        "remaining_time": 1642.759466,
                        "test": [
                          0.7702914219,
                          0.6339407165
                        ]
                      },
                      {
                        "learn": [
                          0.8537104579,
                          0.4776163529
                        ],
                        "iteration": 338,
                        "passed_time": 119.3362545,
                        "remaining_time": 1640.785493,
                        "test": [
                          0.7711563102,
                          0.6338026098
                        ]
                      },
                      {
                        "learn": [
                          0.8538493245,
                          0.4772552468
                        ],
                        "iteration": 339,
                        "passed_time": 119.5789032,
                        "remaining_time": 1638.934379,
                        "test": [
                          0.7711601404,
                          0.6338204712
                        ]
                      },
                      {
                        "learn": [
                          0.8539706888,
                          0.4767620394
                        ],
                        "iteration": 340,
                        "passed_time": 119.8157167,
                        "remaining_time": 1637.012974,
                        "test": [
                          0.7708497973,
                          0.6336234304
                        ]
                      },
                      {
                        "learn": [
                          0.8537042069,
                          0.4761650521
                        ],
                        "iteration": 341,
                        "passed_time": 120.0678561,
                        "remaining_time": 1635.310158,
                        "test": [
                          0.7714174378,
                          0.6328126783
                        ]
                      },
                      {
                        "learn": [
                          0.8535945861,
                          0.4756644386
                        ],
                        "iteration": 342,
                        "passed_time": 120.3263949,
                        "remaining_time": 1633.702685,
                        "test": [
                          0.7716917805,
                          0.6325036884
                        ]
                      },
                      {
                        "learn": [
                          0.8538579129,
                          0.4752259057
                        ],
                        "iteration": 343,
                        "passed_time": 120.577831,
                        "remaining_time": 1632.006922,
                        "test": [
                          0.7717113022,
                          0.6323386282
                        ]
                      },
                      {
                        "learn": [
                          0.8543220807,
                          0.474862287
                        ],
                        "iteration": 344,
                        "passed_time": 120.8230155,
                        "remaining_time": 1630.23518,
                        "test": [
                          0.7717024222,
                          0.6322108394
                        ]
                      },
                      {
                        "learn": [
                          0.8545645561,
                          0.4744967481
                        ],
                        "iteration": 345,
                        "passed_time": 121.0639611,
                        "remaining_time": 1628.415245,
                        "test": [
                          0.7714261323,
                          0.6322710856
                        ]
                      },
                      {
                        "learn": [
                          0.8544553431,
                          0.4741429125
                        ],
                        "iteration": 346,
                        "passed_time": 121.32756,
                        "remaining_time": 1626.908175,
                        "test": [
                          0.7714230573,
                          0.6320054425
                        ]
                      },
                      {
                        "learn": [
                          0.854577617,
                          0.4738691069
                        ],
                        "iteration": 347,
                        "passed_time": 121.5744194,
                        "remaining_time": 1625.18448,
                        "test": [
                          0.7708527065,
                          0.632079935
                        ]
                      },
                      {
                        "learn": [
                          0.8549350154,
                          0.4735318928
                        ],
                        "iteration": 348,
                        "passed_time": 121.8159214,
                        "remaining_time": 1623.397852,
                        "test": [
                          0.7708599023,
                          0.6320353469
                        ]
                      },
                      {
                        "learn": [
                          0.8551774351,
                          0.4731328135
                        ],
                        "iteration": 349,
                        "passed_time": 122.0585598,
                        "remaining_time": 1621.635152,
                        "test": [
                          0.7708594907,
                          0.6319450141
                        ]
                      },
                      {
                        "learn": [
                          0.8559066291,
                          0.4726947865
                        ],
                        "iteration": 350,
                        "passed_time": 122.3337405,
                        "remaining_time": 1620.312135,
                        "test": [
                          0.7708443841,
                          0.631843903
                        ]
                      },
                      {
                        "learn": [
                          0.8556671279,
                          0.4723170149
                        ],
                        "iteration": 351,
                        "passed_time": 122.5727943,
                        "remaining_time": 1618.518034,
                        "test": [
                          0.7722713086,
                          0.6316197412
                        ]
                      },
                      {
                        "learn": [
                          0.855768141,
                          0.4718707426
                        ],
                        "iteration": 352,
                        "passed_time": 122.9356201,
                        "remaining_time": 1618.362115,
                        "test": [
                          0.7725565251,
                          0.6314482305
                        ]
                      },
                      {
                        "learn": [
                          0.8562522628,
                          0.4714809062
                        ],
                        "iteration": 353,
                        "passed_time": 123.3488339,
                        "remaining_time": 1618.866334,
                        "test": [
                          0.7716759877,
                          0.6309139005
                        ]
                      },
                      {
                        "learn": [
                          0.8556234241,
                          0.4709570791
                        ],
                        "iteration": 354,
                        "passed_time": 123.7370213,
                        "remaining_time": 1619.037926,
                        "test": [
                          0.7714021792,
                          0.6310320554
                        ]
                      },
                      {
                        "learn": [
                          0.8562295211,
                          0.4705440697
                        ],
                        "iteration": 355,
                        "passed_time": 124.1144312,
                        "remaining_time": 1619.065782,
                        "test": [
                          0.7722343922,
                          0.6309248618
                        ]
                      },
                      {
                        "learn": [
                          0.8557414309,
                          0.4700629545
                        ],
                        "iteration": 356,
                        "passed_time": 124.4945818,
                        "remaining_time": 1619.127012,
                        "test": [
                          0.7714210965,
                          0.6307888562
                        ]
                      },
                      {
                        "learn": [
                          0.8558530903,
                          0.4695340113
                        ],
                        "iteration": 357,
                        "passed_time": 124.8521288,
                        "remaining_time": 1618.892687,
                        "test": [
                          0.7714230495,
                          0.6304649259
                        ]
                      },
                      {
                        "learn": [
                          0.8557174502,
                          0.4690568995
                        ],
                        "iteration": 358,
                        "passed_time": 125.2408382,
                        "remaining_time": 1619.06053,
                        "test": [
                          0.7717146513,
                          0.6302106702
                        ]
                      },
                      {
                        "learn": [
                          0.8557083153,
                          0.4688126571
                        ],
                        "iteration": 359,
                        "passed_time": 125.6624174,
                        "remaining_time": 1619.648935,
                        "test": [
                          0.7717146513,
                          0.6301749366
                        ]
                      },
                      {
                        "learn": [
                          0.8556004107,
                          0.4683417222
                        ],
                        "iteration": 360,
                        "passed_time": 125.9110187,
                        "remaining_time": 1618.008908,
                        "test": [
                          0.7717161288,
                          0.6301186878
                        ]
                      },
                      {
                        "learn": [
                          0.8562185007,
                          0.467969631
                        ],
                        "iteration": 361,
                        "passed_time": 126.1502151,
                        "remaining_time": 1616.25607,
                        "test": [
                          0.7719932644,
                          0.6298982234
                        ]
                      },
                      {
                        "learn": [
                          0.8562234148,
                          0.4674290646
                        ],
                        "iteration": 362,
                        "passed_time": 126.4144557,
                        "remaining_time": 1614.83149,
                        "test": [
                          0.7722656199,
                          0.6302758469
                        ]
                      },
                      {
                        "learn": [
                          0.8564626985,
                          0.4667202975
                        ],
                        "iteration": 363,
                        "passed_time": 126.6652912,
                        "remaining_time": 1613.242554,
                        "test": [
                          0.7711150115,
                          0.6301366125
                        ]
                      },
                      {
                        "learn": [
                          0.856366301,
                          0.4662073969
                        ],
                        "iteration": 364,
                        "passed_time": 126.9169265,
                        "remaining_time": 1611.671107,
                        "test": [
                          0.7708825841,
                          0.6299642334
                        ]
                      },
                      {
                        "learn": [
                          0.8572046818,
                          0.4658310535
                        ],
                        "iteration": 365,
                        "passed_time": 127.1520433,
                        "remaining_time": 1609.897728,
                        "test": [
                          0.7711341943,
                          0.6299862275
                        ]
                      },
                      {
                        "learn": [
                          0.8576763465,
                          0.4653531828
                        ],
                        "iteration": 366,
                        "passed_time": 127.382711,
                        "remaining_time": 1608.076567,
                        "test": [
                          0.771736946,
                          0.6296111491
                        ]
                      },
                      {
                        "learn": [
                          0.8572070421,
                          0.4649374418
                        ],
                        "iteration": 367,
                        "passed_time": 127.6396198,
                        "remaining_time": 1606.594345,
                        "test": [
                          0.7714661213,
                          0.6295579548
                        ]
                      },
                      {
                        "learn": [
                          0.8584299275,
                          0.4644074967
                        ],
                        "iteration": 368,
                        "passed_time": 127.8900038,
                        "remaining_time": 1605.036877,
                        "test": [
                          0.7728392494,
                          0.6293869472
                        ]
                      },
                      {
                        "learn": [
                          0.858430677,
                          0.4639667603
                        ],
                        "iteration": 369,
                        "passed_time": 128.1275351,
                        "remaining_time": 1603.325642,
                        "test": [
                          0.7725431769,
                          0.6293705855
                        ]
                      },
                      {
                        "learn": [
                          0.8584095565,
                          0.463577684
                        ],
                        "iteration": 370,
                        "passed_time": 128.3610272,
                        "remaining_time": 1601.571954,
                        "test": [
                          0.7719547402,
                          0.6293761478
                        ]
                      },
                      {
                        "learn": [
                          0.8580390211,
                          0.4632952986
                        ],
                        "iteration": 371,
                        "passed_time": 128.6282021,
                        "remaining_time": 1600.245482,
                        "test": [
                          0.7717027851,
                          0.629409425
                        ]
                      },
                      {
                        "learn": [
                          0.8580505531,
                          0.4628772836
                        ],
                        "iteration": 372,
                        "passed_time": 128.8755202,
                        "remaining_time": 1598.67837,
                        "test": [
                          0.7716892431,
                          0.629570232
                        ]
                      },
                      {
                        "learn": [
                          0.8580475106,
                          0.4623534483
                        ],
                        "iteration": 373,
                        "passed_time": 129.1137716,
                        "remaining_time": 1597.006169,
                        "test": [
                          0.7711352064,
                          0.6295327158
                        ]
                      },
                      {
                        "learn": [
                          0.8585378337,
                          0.4620861526
                        ],
                        "iteration": 374,
                        "passed_time": 129.3451991,
                        "remaining_time": 1595.257456,
                        "test": [
                          0.7719699871,
                          0.6292948894
                        ]
                      },
                      {
                        "learn": [
                          0.8586435341,
                          0.461872971
                        ],
                        "iteration": 375,
                        "passed_time": 129.5973247,
                        "remaining_time": 1593.771354,
                        "test": [
                          0.771959241,
                          0.629213456
                        ]
                      },
                      {
                        "learn": [
                          0.8586498625,
                          0.4615056629
                        ],
                        "iteration": 376,
                        "passed_time": 129.8311266,
                        "remaining_time": 1592.067105,
                        "test": [
                          0.7719699871,
                          0.6288000538
                        ]
                      },
                      {
                        "learn": [
                          0.8585526232,
                          0.4610887095
                        ],
                        "iteration": 377,
                        "passed_time": 130.0782213,
                        "remaining_time": 1590.533171,
                        "test": [
                          0.7717042421,
                          0.6290374993
                        ]
                      },
                      {
                        "learn": [
                          0.8589164096,
                          0.4606136748
                        ],
                        "iteration": 378,
                        "passed_time": 130.3197749,
                        "remaining_time": 1588.93847,
                        "test": [
                          0.7719800844,
                          0.6283665443
                        ]
                      },
                      {
                        "learn": [
                          0.8593907341,
                          0.460229739
                        ],
                        "iteration": 379,
                        "passed_time": 130.577632,
                        "remaining_time": 1587.549104,
                        "test": [
                          0.7717075026,
                          0.6279767845
                        ]
                      },
                      {
                        "learn": [
                          0.8590353455,
                          0.4599856526
                        ],
                        "iteration": 380,
                        "passed_time": 130.8186749,
                        "remaining_time": 1585.961836,
                        "test": [
                          0.771432916,
                          0.6278743192
                        ]
                      },
                      {
                        "learn": [
                          0.8595389809,
                          0.4595283082
                        ],
                        "iteration": 381,
                        "passed_time": 131.0688907,
                        "remaining_time": 1584.492506,
                        "test": [
                          0.7725570023,
                          0.6277761693
                        ]
                      },
                      {
                        "learn": [
                          0.8603786989,
                          0.4591963067
                        ],
                        "iteration": 382,
                        "passed_time": 131.2993999,
                        "remaining_time": 1582.791982,
                        "test": [
                          0.7722673535,
                          0.6276184087
                        ]
                      },
                      {
                        "learn": [
                          0.8601059583,
                          0.4589136708
                        ],
                        "iteration": 383,
                        "passed_time": 131.5318211,
                        "remaining_time": 1581.1221,
                        "test": [
                          0.7722652494,
                          0.6273946035
                        ]
                      },
                      {
                        "learn": [
                          0.8597639854,
                          0.4585592534
                        ],
                        "iteration": 384,
                        "passed_time": 131.7982071,
                        "remaining_time": 1579.86682,
                        "test": [
                          0.7722692385,
                          0.6276628549
                        ]
                      },
                      {
                        "learn": [
                          0.8601281185,
                          0.4580467114
                        ],
                        "iteration": 385,
                        "passed_time": 132.0451614,
                        "remaining_time": 1578.384391,
                        "test": [
                          0.771945714,
                          0.6272967499
                        ]
                      },
                      {
                        "learn": [
                          0.8613701948,
                          0.4574460143
                        ],
                        "iteration": 386,
                        "passed_time": 132.2962641,
                        "remaining_time": 1576.957794,
                        "test": [
                          0.7727947479,
                          0.6267058826
                        ]
                      },
                      {
                        "learn": [
                          0.8610044704,
                          0.4569412424
                        ],
                        "iteration": 387,
                        "passed_time": 132.5315605,
                        "remaining_time": 1575.349374,
                        "test": [
                          0.7736290356,
                          0.6264083953
                        ]
                      },
                      {
                        "learn": [
                          0.8611152404,
                          0.4565550378
                        ],
                        "iteration": 388,
                        "passed_time": 132.7988781,
                        "remaining_time": 1574.127576,
                        "test": [
                          0.7736290356,
                          0.6263651848
                        ]
                      },
                      {
                        "learn": [
                          0.8613613258,
                          0.4563166646
                        ],
                        "iteration": 389,
                        "passed_time": 133.050988,
                        "remaining_time": 1572.73091,
                        "test": [
                          0.7733459186,
                          0.6263000169
                        ]
                      },
                      {
                        "learn": [
                          0.8619916529,
                          0.4558605019
                        ],
                        "iteration": 390,
                        "passed_time": 133.2943225,
                        "remaining_time": 1571.236656,
                        "test": [
                          0.7731085334,
                          0.6263778868
                        ]
                      },
                      {
                        "learn": [
                          0.8622373788,
                          0.4556220968
                        ],
                        "iteration": 391,
                        "passed_time": 133.5313198,
                        "remaining_time": 1569.67429,
                        "test": [
                          0.7733839009,
                          0.6264591868
                        ]
                      },
                      {
                        "learn": [
                          0.8621291201,
                          0.4552829925
                        ],
                        "iteration": 392,
                        "passed_time": 133.7952582,
                        "remaining_time": 1568.434489,
                        "test": [
                          0.773695661,
                          0.6263632152
                        ]
                      },
                      {
                        "learn": [
                          0.8620059871,
                          0.4549261681
                        ],
                        "iteration": 393,
                        "passed_time": 134.0450686,
                        "remaining_time": 1567.034482,
                        "test": [
                          0.7728529445,
                          0.6260250654
                        ]
                      },
                      {
                        "learn": [
                          0.8622484278,
                          0.4545975785
                        ],
                        "iteration": 394,
                        "passed_time": 134.2865343,
                        "remaining_time": 1565.543014,
                        "test": [
                          0.7739254999,
                          0.6257751791
                        ]
                      },
                      {
                        "learn": [
                          0.862390663,
                          0.4539699356
                        ],
                        "iteration": 395,
                        "passed_time": 134.5281257,
                        "remaining_time": 1564.05932,
                        "test": [
                          0.7745259552,
                          0.6253506904
                        ]
                      },
                      {
                        "learn": [
                          0.8632367588,
                          0.4536868212
                        ],
                        "iteration": 396,
                        "passed_time": 134.7907757,
                        "remaining_time": 1562.826046,
                        "test": [
                          0.7745440248,
                          0.6251677309
                        ]
                      },
                      {
                        "learn": [
                          0.8636144944,
                          0.453246428
                        ],
                        "iteration": 397,
                        "passed_time": 135.0414106,
                        "remaining_time": 1561.458723,
                        "test": [
                          0.7748196111,
                          0.62492951
                        ]
                      },
                      {
                        "learn": [
                          0.8634939512,
                          0.4529979569
                        ],
                        "iteration": 398,
                        "passed_time": 135.2769136,
                        "remaining_time": 1559.922505,
                        "test": [
                          0.7748020686,
                          0.6249966303
                        ]
                      },
                      {
                        "learn": [
                          0.8633807725,
                          0.4524810882
                        ],
                        "iteration": 399,
                        "passed_time": 135.5092043,
                        "remaining_time": 1558.355849,
                        "test": [
                          0.7748187185,
                          0.6248999268
                        ]
                      },
                      {
                        "learn": [
                          0.8634965592,
                          0.4521463932
                        ],
                        "iteration": 400,
                        "passed_time": 135.8207396,
                        "remaining_time": 1557.704691,
                        "test": [
                          0.7742248342,
                          0.6248046825
                        ]
                      },
                      {
                        "learn": [
                          0.8642172935,
                          0.4516947474
                        ],
                        "iteration": 401,
                        "passed_time": 136.1915038,
                        "remaining_time": 1557.732673,
                        "test": [
                          0.7753792013,
                          0.6247558176
                        ]
                      },
                      {
                        "learn": [
                          0.863841451,
                          0.4514307479
                        ],
                        "iteration": 402,
                        "passed_time": 136.5556459,
                        "remaining_time": 1557.683137,
                        "test": [
                          0.7753592537,
                          0.6247716565
                        ]
                      },
                      {
                        "learn": [
                          0.8640864179,
                          0.4511555138
                        ],
                        "iteration": 403,
                        "passed_time": 136.9830128,
                        "remaining_time": 1558.351304,
                        "test": [
                          0.7759638124,
                          0.6248085541
                        ]
                      },
                      {
                        "learn": [
                          0.8638301245,
                          0.4507981731
                        ],
                        "iteration": 404,
                        "passed_time": 137.3794621,
                        "remaining_time": 1558.66328,
                        "test": [
                          0.7750654258,
                          0.6247977569
                        ]
                      },
                      {
                        "learn": [
                          0.864931031,
                          0.4504140868
                        ],
                        "iteration": 405,
                        "passed_time": 137.7609325,
                        "remaining_time": 1558.802276,
                        "test": [
                          0.7762642011,
                          0.6244333666
                        ]
                      },
                      {
                        "learn": [
                          0.8650589868,
                          0.450039761
                        ],
                        "iteration": 406,
                        "passed_time": 138.1912903,
                        "remaining_time": 1559.490409,
                        "test": [
                          0.7759413454,
                          0.6243435223
                        ]
                      },
                      {
                        "learn": [
                          0.8652973435,
                          0.4497269579
                        ],
                        "iteration": 407,
                        "passed_time": 138.5691904,
                        "remaining_time": 1559.582653,
                        "test": [
                          0.7765209604,
                          0.6242535617
                        ]
                      },
                      {
                        "learn": [
                          0.8648023862,
                          0.4493260309
                        ],
                        "iteration": 408,
                        "passed_time": 138.8694728,
                        "remaining_time": 1558.801343,
                        "test": [
                          0.7756417907,
                          0.6241841523
                        ]
                      },
                      {
                        "learn": [
                          0.8651578942,
                          0.4489935105
                        ],
                        "iteration": 409,
                        "passed_time": 139.13626,
                        "remaining_time": 1557.647398,
                        "test": [
                          0.7753471197,
                          0.6237729631
                        ]
                      },
                      {
                        "learn": [
                          0.8650471067,
                          0.4486588832
                        ],
                        "iteration": 410,
                        "passed_time": 139.3825708,
                        "remaining_time": 1556.269143,
                        "test": [
                          0.7753471197,
                          0.6235925431
                        ]
                      },
                      {
                        "learn": [
                          0.8650558356,
                          0.4482673245
                        ],
                        "iteration": 411,
                        "passed_time": 139.6163034,
                        "remaining_time": 1554.75631,
                        "test": [
                          0.775344987,
                          0.6236049401
                        ]
                      },
                      {
                        "learn": [
                          0.8649176795,
                          0.4478736441
                        ],
                        "iteration": 412,
                        "passed_time": 139.8508949,
                        "remaining_time": 1553.259213,
                        "test": [
                          0.7750434927,
                          0.6234281159
                        ]
                      },
                      {
                        "learn": [
                          0.8650371423,
                          0.4476723858
                        ],
                        "iteration": 413,
                        "passed_time": 140.1201022,
                        "remaining_time": 1552.151663,
                        "test": [
                          0.7750434927,
                          0.6234860577
                        ]
                      },
                      {
                        "learn": [
                          0.8657860572,
                          0.447415212
                        ],
                        "iteration": 414,
                        "passed_time": 140.3644428,
                        "remaining_time": 1550.773422,
                        "test": [
                          0.7756464011,
                          0.6237247242
                        ]
                      },
                      {
                        "learn": [
                          0.8656605961,
                          0.4469381178
                        ],
                        "iteration": 415,
                        "passed_time": 140.5992819,
                        "remaining_time": 1549.295933,
                        "test": [
                          0.7762185426,
                          0.6231015137
                        ]
                      },
                      {
                        "learn": [
                          0.8660146904,
                          0.4466834678
                        ],
                        "iteration": 416,
                        "passed_time": 140.8358844,
                        "remaining_time": 1547.843784,
                        "test": [
                          0.7759260043,
                          0.6230838212
                        ]
                      },
                      {
                        "learn": [
                          0.8661451854,
                          0.4464216812
                        ],
                        "iteration": 417,
                        "passed_time": 141.0994057,
                        "remaining_time": 1546.692529,
                        "test": [
                          0.7762185426,
                          0.6230576913
                        ]
                      },
                      {
                        "learn": [
                          0.8659057216,
                          0.4459868682
                        ],
                        "iteration": 418,
                        "passed_time": 141.3472932,
                        "remaining_time": 1545.374583,
                        "test": [
                          0.776815047,
                          0.6230985891
                        ]
                      },
                      {
                        "learn": [
                          0.8655554067,
                          0.4455940969
                        ],
                        "iteration": 419,
                        "passed_time": 141.5841408,
                        "remaining_time": 1543.941344,
                        "test": [
                          0.7750893822,
                          0.6231633951
                        ]
                      },
                      {
                        "learn": [
                          0.8655435807,
                          0.4451985327
                        ],
                        "iteration": 420,
                        "passed_time": 141.8183192,
                        "remaining_time": 1542.484759,
                        "test": [
                          0.774814596,
                          0.6229803397
                        ]
                      },
                      {
                        "learn": [
                          0.8660379179,
                          0.4447753011
                        ],
                        "iteration": 421,
                        "passed_time": 142.066866,
                        "remaining_time": 1541.18984,
                        "test": [
                          0.7748087029,
                          0.6228933591
                        ]
                      },
                      {
                        "learn": [
                          0.8661632691,
                          0.4444238996
                        ],
                        "iteration": 422,
                        "passed_time": 142.3305155,
                        "remaining_time": 1540.063285,
                        "test": [
                          0.7753666044,
                          0.6226990667
                        ]
                      },
                      {
                        "learn": [
                          0.8666325209,
                          0.4441404308
                        ],
                        "iteration": 423,
                        "passed_time": 142.5706837,
                        "remaining_time": 1538.687379,
                        "test": [
                          0.7756625987,
                          0.6226597568
                        ]
                      },
                      {
                        "learn": [
                          0.8663939534,
                          0.4439071875
                        ],
                        "iteration": 424,
                        "passed_time": 142.8107653,
                        "remaining_time": 1537.315886,
                        "test": [
                          0.7747723363,
                          0.6226721611
                        ]
                      },
                      {
                        "learn": [
                          0.8666328831,
                          0.4436269569
                        ],
                        "iteration": 425,
                        "passed_time": 143.0432233,
                        "remaining_time": 1535.867849,
                        "test": [
                          0.7747709301,
                          0.6224697764
                        ]
                      },
                      {
                        "learn": [
                          0.8666328831,
                          0.4434170215
                        ],
                        "iteration": 426,
                        "passed_time": 143.3194356,
                        "remaining_time": 1534.894096,
                        "test": [
                          0.7750642072,
                          0.6224498934
                        ]
                      },
                      {
                        "learn": [
                          0.8665134811,
                          0.4430710757
                        ],
                        "iteration": 427,
                        "passed_time": 143.5607058,
                        "remaining_time": 1533.550343,
                        "test": [
                          0.7752985659,
                          0.6222973076
                        ]
                      },
                      {
                        "learn": [
                          0.8668849937,
                          0.4429140246
                        ],
                        "iteration": 428,
                        "passed_time": 143.7944861,
                        "remaining_time": 1532.131925,
                        "test": [
                          0.7752985659,
                          0.6221559558
                        ]
                      },
                      {
                        "learn": [
                          0.8670077139,
                          0.4425345048
                        ],
                        "iteration": 429,
                        "passed_time": 144.0349481,
                        "remaining_time": 1530.79003,
                        "test": [
                          0.7749873156,
                          0.6217787631
                        ]
                      },
                      {
                        "learn": [
                          0.8667624618,
                          0.4421986163
                        ],
                        "iteration": 430,
                        "passed_time": 144.2998404,
                        "remaining_time": 1529.71223,
                        "test": [
                          0.7755834322,
                          0.621896361
                        ]
                      },
                      {
                        "learn": [
                          0.8667683093,
                          0.4418524227
                        ],
                        "iteration": 431,
                        "passed_time": 144.5496915,
                        "remaining_time": 1528.479145,
                        "test": [
                          0.7761789668,
                          0.6217480038
                        ]
                      },
                      {
                        "learn": [
                          0.8667683093,
                          0.4415321678
                        ],
                        "iteration": 432,
                        "passed_time": 144.7839971,
                        "remaining_time": 1527.086639,
                        "test": [
                          0.7758842182,
                          0.6215549429
                        ]
                      },
                      {
                        "learn": [
                          0.8670071884,
                          0.4412779288
                        ],
                        "iteration": 433,
                        "passed_time": 145.0183888,
                        "remaining_time": 1525.700376,
                        "test": [
                          0.77534537,
                          0.6214197994
                        ]
                      },
                      {
                        "learn": [
                          0.8668807071,
                          0.4410116163
                        ],
                        "iteration": 434,
                        "passed_time": 145.2843377,
                        "remaining_time": 1524.650578,
                        "test": [
                          0.77534537,
                          0.6212425328
                        ]
                      },
                      {
                        "learn": [
                          0.8670083652,
                          0.4406903426
                        ],
                        "iteration": 435,
                        "passed_time": 145.5311432,
                        "remaining_time": 1523.403986,
                        "test": [
                          0.77534537,
                          0.6214903971
                        ]
                      },
                      {
                        "learn": [
                          0.8674803093,
                          0.4403747713
                        ],
                        "iteration": 436,
                        "passed_time": 145.7662739,
                        "remaining_time": 1522.040063,
                        "test": [
                          0.7750621787,
                          0.6213816827
                        ]
                      },
                      {
                        "learn": [
                          0.8674869524,
                          0.4401179017
                        ],
                        "iteration": 437,
                        "passed_time": 146.0049002,
                        "remaining_time": 1520.717705,
                        "test": [
                          0.7753619432,
                          0.6215989181
                        ]
                      },
                      {
                        "learn": [
                          0.8678671024,
                          0.4398318999
                        ],
                        "iteration": 438,
                        "passed_time": 146.26425,
                        "remaining_time": 1519.61559,
                        "test": [
                          0.7753687648,
                          0.6217595319
                        ]
                      },
                      {
                        "learn": [
                          0.8676355988,
                          0.4395511323
                        ],
                        "iteration": 439,
                        "passed_time": 146.512355,
                        "remaining_time": 1518.40077,
                        "test": [
                          0.7750744327,
                          0.6216213103
                        ]
                      },
                      {
                        "learn": [
                          0.8676347601,
                          0.4392611013
                        ],
                        "iteration": 440,
                        "passed_time": 146.7573778,
                        "remaining_time": 1517.15847,
                        "test": [
                          0.7753807422,
                          0.6214580753
                        ]
                      },
                      {
                        "learn": [
                          0.8673786747,
                          0.438876041
                        ],
                        "iteration": 441,
                        "passed_time": 146.9895066,
                        "remaining_time": 1515.787717,
                        "test": [
                          0.7753625807,
                          0.6207984665
                        ]
                      },
                      {
                        "learn": [
                          0.8676089899,
                          0.4386043343
                        ],
                        "iteration": 442,
                        "passed_time": 147.2432469,
                        "remaining_time": 1514.644416,
                        "test": [
                          0.7759521308,
                          0.6206766404
                        ]
                      },
                      {
                        "learn": [
                          0.8678458883,
                          0.4383179807
                        ],
                        "iteration": 443,
                        "passed_time": 147.5103365,
                        "remaining_time": 1513.642102,
                        "test": [
                          0.7765288605,
                          0.6205710772
                        ]
                      },
                      {
                        "learn": [
                          0.8679796496,
                          0.4380493314
                        ],
                        "iteration": 444,
                        "passed_time": 147.7511929,
                        "remaining_time": 1512.37457,
                        "test": [
                          0.7768210599,
                          0.6203966294
                        ]
                      },
                      {
                        "learn": [
                          0.8683610507,
                          0.4376996077
                        ],
                        "iteration": 445,
                        "passed_time": 147.9935438,
                        "remaining_time": 1511.126903,
                        "test": [
                          0.7771034826,
                          0.6204002002
                        ]
                      },
                      {
                        "learn": [
                          0.8685889315,
                          0.4373035815
                        ],
                        "iteration": 446,
                        "passed_time": 148.2294918,
                        "remaining_time": 1509.818515,
                        "test": [
                          0.7773950228,
                          0.6203835418
                        ]
                      },
                      {
                        "learn": [
                          0.8686068699,
                          0.4370198893
                        ],
                        "iteration": 447,
                        "passed_time": 148.5045728,
                        "remaining_time": 1508.912534,
                        "test": [
                          0.7774026557,
                          0.620314874
                        ]
                      },
                      {
                        "learn": [
                          0.86838036,
                          0.4366690719
                        ],
                        "iteration": 448,
                        "passed_time": 148.7398955,
                        "remaining_time": 1507.606379,
                        "test": [
                          0.7771028806,
                          0.6205591022
                        ]
                      },
                      {
                        "learn": [
                          0.8683900032,
                          0.436222361
                        ],
                        "iteration": 449,
                        "passed_time": 149.833615,
                        "remaining_time": 1514.984329,
                        "test": [
                          0.7770950732,
                          0.6202308283
                        ]
                      },
                      {
                        "learn": [
                          0.869232258,
                          0.4358692733
                        ],
                        "iteration": 450,
                        "passed_time": 150.8025887,
                        "remaining_time": 1521.066465,
                        "test": [
                          0.7767957867,
                          0.6198999271
                        ]
                      },
                      {
                        "learn": [
                          0.8694685137,
                          0.4355465472
                        ],
                        "iteration": 451,
                        "passed_time": 151.9840134,
                        "remaining_time": 1529.255073,
                        "test": [
                          0.7773548837,
                          0.6199408972
                        ]
                      },
                      {
                        "learn": [
                          0.8693444056,
                          0.4352037002
                        ],
                        "iteration": 452,
                        "passed_time": 152.4859627,
                        "remaining_time": 1530.582058,
                        "test": [
                          0.7776731202,
                          0.619656029
                        ]
                      },
                      {
                        "learn": [
                          0.8698227809,
                          0.4348874039
                        ],
                        "iteration": 453,
                        "passed_time": 152.733981,
                        "remaining_time": 1529.358321,
                        "test": [
                          0.7762593175,
                          0.6195344442
                        ]
                      },
                      {
                        "learn": [
                          0.8694498721,
                          0.4346799291
                        ],
                        "iteration": 454,
                        "passed_time": 153.3364556,
                        "remaining_time": 1531.67954,
                        "test": [
                          0.7765589553,
                          0.6194442001
                        ]
                      },
                      {
                        "learn": [
                          0.8695665405,
                          0.4344357443
                        ],
                        "iteration": 455,
                        "passed_time": 153.8963003,
                        "remaining_time": 1533.563133,
                        "test": [
                          0.7765773431,
                          0.6192854274
                        ]
                      },
                      {
                        "learn": [
                          0.8696877848,
                          0.434027386
                        ],
                        "iteration": 456,
                        "passed_time": 154.1634329,
                        "remaining_time": 1532.526205,
                        "test": [
                          0.7774324035,
                          0.6190810773
                        ]
                      },
                      {
                        "learn": [
                          0.8696781296,
                          0.4338216343
                        ],
                        "iteration": 457,
                        "passed_time": 154.3983983,
                        "remaining_time": 1531.173636,
                        "test": [
                          0.7774324035,
                          0.6188575002
                        ]
                      },
                      {
                        "learn": [
                          0.8699150853,
                          0.4335844207
                        ],
                        "iteration": 458,
                        "passed_time": 154.6333854,
                        "remaining_time": 1529.82615,
                        "test": [
                          0.7777330998,
                          0.6189481022
                        ]
                      },
                      {
                        "learn": [
                          0.869786208,
                          0.4332268299
                        ],
                        "iteration": 459,
                        "passed_time": 154.8836701,
                        "remaining_time": 1528.634483,
                        "test": [
                          0.7777485142,
                          0.6187604259
                        ]
                      },
                      {
                        "learn": [
                          0.8701576115,
                          0.4329749612
                        ],
                        "iteration": 460,
                        "passed_time": 155.1566292,
                        "remaining_time": 1527.670152,
                        "test": [
                          0.7777485142,
                          0.6186276818
                        ]
                      },
                      {
                        "learn": [
                          0.8699176311,
                          0.4327876948
                        ],
                        "iteration": 461,
                        "passed_time": 155.4012492,
                        "remaining_time": 1526.430452,
                        "test": [
                          0.7777485142,
                          0.6183991585
                        ]
                      },
                      {
                        "learn": [
                          0.8705137524,
                          0.4325287875
                        ],
                        "iteration": 462,
                        "passed_time": 155.6365729,
                        "remaining_time": 1525.103955,
                        "test": [
                          0.777180177,
                          0.6185071877
                        ]
                      },
                      {
                        "learn": [
                          0.8700378893,
                          0.4322903788
                        ],
                        "iteration": 463,
                        "passed_time": 155.8857454,
                        "remaining_time": 1523.917545,
                        "test": [
                          0.7774820913,
                          0.6185276452
                        ]
                      },
                      {
                        "learn": [
                          0.8702935493,
                          0.4318018246
                        ],
                        "iteration": 464,
                        "passed_time": 156.2261836,
                        "remaining_time": 1523.625253,
                        "test": [
                          0.7786452764,
                          0.6181834551
                        ]
                      },
                      {
                        "learn": [
                          0.8703927412,
                          0.4312284887
                        ],
                        "iteration": 465,
                        "passed_time": 156.4782786,
                        "remaining_time": 1522.473209,
                        "test": [
                          0.7786340837,
                          0.6180196271
                        ]
                      },
                      {
                        "learn": [
                          0.8708771294,
                          0.4309517182
                        ],
                        "iteration": 466,
                        "passed_time": 156.7155795,
                        "remaining_time": 1521.181417,
                        "test": [
                          0.7786537103,
                          0.6180798298
                        ]
                      },
                      {
                        "learn": [
                          0.870880054,
                          0.4306974035
                        ],
                        "iteration": 467,
                        "passed_time": 156.9792699,
                        "remaining_time": 1520.149682,
                        "test": [
                          0.7777942261,
                          0.6180476241
                        ]
                      },
                      {
                        "learn": [
                          0.871255477,
                          0.4303602893
                        ],
                        "iteration": 468,
                        "passed_time": 157.2197296,
                        "remaining_time": 1518.896791,
                        "test": [
                          0.7780518065,
                          0.6177083298
                        ]
                      },
                      {
                        "learn": [
                          0.8716139162,
                          0.4300135691
                        ],
                        "iteration": 469,
                        "passed_time": 157.4898941,
                        "remaining_time": 1517.934511,
                        "test": [
                          0.7783583253,
                          0.6176187286
                        ]
                      },
                      {
                        "learn": [
                          0.8710101847,
                          0.4297527604
                        ],
                        "iteration": 470,
                        "passed_time": 157.730775,
                        "remaining_time": 1516.693588,
                        "test": [
                          0.7783583253,
                          0.6173227894
                        ]
                      },
                      {
                        "learn": [
                          0.8713751268,
                          0.4293988929
                        ],
                        "iteration": 471,
                        "passed_time": 157.9808986,
                        "remaining_time": 1515.54557,
                        "test": [
                          0.7780824671,
                          0.6172521552
                        ]
                      },
                      {
                        "learn": [
                          0.8718688962,
                          0.4290242658
                        ],
                        "iteration": 472,
                        "passed_time": 158.2175626,
                        "remaining_time": 1514.272529,
                        "test": [
                          0.7783946109,
                          0.6172064367
                        ]
                      },
                      {
                        "learn": [
                          0.871881945,
                          0.4288263846
                        ],
                        "iteration": 473,
                        "passed_time": 158.4833384,
                        "remaining_time": 1513.281835,
                        "test": [
                          0.7778090837,
                          0.617176934
                        ]
                      },
                      {
                        "learn": [
                          0.8720051881,
                          0.428495125
                        ],
                        "iteration": 474,
                        "passed_time": 158.7242525,
                        "remaining_time": 1512.057353,
                        "test": [
                          0.777772643,
                          0.6167886996
                        ]
                      },
                      {
                        "learn": [
                          0.872124691,
                          0.4282113569
                        ],
                        "iteration": 475,
                        "passed_time": 158.9688443,
                        "remaining_time": 1510.871957,
                        "test": [
                          0.7777545623,
                          0.6167919316
                        ]
                      },
                      {
                        "learn": [
                          0.872256935,
                          0.4278403303
                        ],
                        "iteration": 476,
                        "passed_time": 159.205713,
                        "remaining_time": 1509.617275,
                        "test": [
                          0.7768641836,
                          0.6166394118
                        ]
                      },
                      {
                        "learn": [
                          0.8730050113,
                          0.4274721357
                        ],
                        "iteration": 477,
                        "passed_time": 159.4728376,
                        "remaining_time": 1508.653078,
                        "test": [
                          0.7771452279,
                          0.616660664
                        ]
                      },
                      {
                        "learn": [
                          0.8731320828,
                          0.4272262472
                        ],
                        "iteration": 478,
                        "passed_time": 159.7086026,
                        "remaining_time": 1507.395809,
                        "test": [
                          0.7768695095,
                          0.6163948656
                        ]
                      },
                      {
                        "learn": [
                          0.8728832203,
                          0.4268116015
                        ],
                        "iteration": 479,
                        "passed_time": 159.9478961,
                        "remaining_time": 1506.176021,
                        "test": [
                          0.776831654,
                          0.6162805499
                        ]
                      },
                      {
                        "learn": [
                          0.8732324218,
                          0.4265712083
                        ],
                        "iteration": 480,
                        "passed_time": 160.1807319,
                        "remaining_time": 1504.899641,
                        "test": [
                          0.7765391641,
                          0.6163679442
                        ]
                      },
                      {
                        "learn": [
                          0.8729776941,
                          0.4263391792
                        ],
                        "iteration": 481,
                        "passed_time": 160.4522421,
                        "remaining_time": 1503.990103,
                        "test": [
                          0.7762635855,
                          0.6162977324
                        ]
                      },
                      {
                        "learn": [
                          0.8730972032,
                          0.4260661561
                        ],
                        "iteration": 482,
                        "passed_time": 160.692888,
                        "remaining_time": 1502.794565,
                        "test": [
                          0.7765391641,
                          0.6162134132
                        ]
                      },
                      {
                        "learn": [
                          0.8732194576,
                          0.4257833528
                        ],
                        "iteration": 483,
                        "passed_time": 160.9379208,
                        "remaining_time": 1501.643906,
                        "test": [
                          0.7768395785,
                          0.6161551486
                        ]
                      },
                      {
                        "learn": [
                          0.8734504141,
                          0.4255516058
                        ],
                        "iteration": 484,
                        "passed_time": 161.1767638,
                        "remaining_time": 1500.439358,
                        "test": [
                          0.7765586264,
                          0.616183076
                        ]
                      },
                      {
                        "learn": [
                          0.8737036367,
                          0.4252273622
                        ],
                        "iteration": 485,
                        "passed_time": 161.4423449,
                        "remaining_time": 1499.487129,
                        "test": [
                          0.7765421576,
                          0.6158453278
                        ]
                      },
                      {
                        "learn": [
                          0.8739579834,
                          0.4249894411
                        ],
                        "iteration": 486,
                        "passed_time": 161.6802035,
                        "remaining_time": 1498.280818,
                        "test": [
                          0.7765421576,
                          0.6157459467
                        ]
                      },
                      {
                        "learn": [
                          0.8735950257,
                          0.4247174195
                        ],
                        "iteration": 487,
                        "passed_time": 161.9314375,
                        "remaining_time": 1497.202143,
                        "test": [
                          0.7762635855,
                          0.615744532
                        ]
                      },
                      {
                        "learn": [
                          0.8737238569,
                          0.4244724832
                        ],
                        "iteration": 488,
                        "passed_time": 162.2331844,
                        "remaining_time": 1496.592832,
                        "test": [
                          0.7765389368,
                          0.6156482711
                        ]
                      },
                      {
                        "learn": [
                          0.8737089586,
                          0.4241712066
                        ],
                        "iteration": 489,
                        "passed_time": 162.6444078,
                        "remaining_time": 1496.992407,
                        "test": [
                          0.7768221697,
                          0.6155917792
                        ]
                      },
                      {
                        "learn": [
                          0.8738467538,
                          0.4237938289
                        ],
                        "iteration": 490,
                        "passed_time": 163.0155226,
                        "remaining_time": 1497.020349,
                        "test": [
                          0.7765916464,
                          0.6158066646
                        ]
                      },
                      {
                        "learn": [
                          0.8740723634,
                          0.4234010367
                        ],
                        "iteration": 491,
                        "passed_time": 163.4071779,
                        "remaining_time": 1497.234874,
                        "test": [
                          0.7762978185,
                          0.6156385038
                        ]
                      },
                      {
                        "learn": [
                          0.8745557768,
                          0.4229103231
                        ],
                        "iteration": 492,
                        "passed_time": 163.8121998,
                        "remaining_time": 1497.569137,
                        "test": [
                          0.7765732039,
                          0.615199109
                        ]
                      },
                      {
                        "learn": [
                          0.8745437187,
                          0.4224277955
                        ],
                        "iteration": 493,
                        "passed_time": 164.2016104,
                        "remaining_time": 1497.758009,
                        "test": [
                          0.776849152,
                          0.6151813116
                        ]
                      },
                      {
                        "learn": [
                          0.8744253092,
                          0.4219994785
                        ],
                        "iteration": 494,
                        "passed_time": 164.5926062,
                        "remaining_time": 1497.958972,
                        "test": [
                          0.7776508785,
                          0.6150023385
                        ]
                      },
                      {
                        "learn": [
                          0.8745425741,
                          0.4217536207
                        ],
                        "iteration": 495,
                        "passed_time": 165.0381756,
                        "remaining_time": 1498.65311,
                        "test": [
                          0.7773776742,
                          0.614850015
                        ]
                      },
                      {
                        "learn": [
                          0.8745425741,
                          0.4214794743
                        ],
                        "iteration": 496,
                        "passed_time": 165.3113517,
                        "remaining_time": 1497.780718,
                        "test": [
                          0.7784870493,
                          0.6145147097
                        ]
                      },
                      {
                        "learn": [
                          0.8747660766,
                          0.4212080335
                        ],
                        "iteration": 497,
                        "passed_time": 165.5479769,
                        "remaining_time": 1496.580305,
                        "test": [
                          0.778742837,
                          0.6146290445
                        ]
                      },
                      {
                        "learn": [
                          0.8752374746,
                          0.420871222
                        ],
                        "iteration": 498,
                        "passed_time": 165.8180463,
                        "remaining_time": 1495.685424,
                        "test": [
                          0.7790188093,
                          0.6146369081
                        ]
                      },
                      {
                        "learn": [
                          0.875235067,
                          0.4206299093
                        ],
                        "iteration": 499,
                        "passed_time": 166.0658305,
                        "remaining_time": 1494.592475,
                        "test": [
                          0.7790021837,
                          0.6145917039
                        ]
                      },
                      {
                        "learn": [
                          0.8753465711,
                          0.4202927968
                        ],
                        "iteration": 500,
                        "passed_time": 166.3015036,
                        "remaining_time": 1493.394141,
                        "test": [
                          0.7790019558,
                          0.614423172
                        ]
                      },
                      {
                        "learn": [
                          0.8750856725,
                          0.4200656926
                        ],
                        "iteration": 501,
                        "passed_time": 166.5414295,
                        "remaining_time": 1492.237749,
                        "test": [
                          0.7792852202,
                          0.6143363303
                        ]
                      },
                      {
                        "learn": [
                          0.8753431199,
                          0.4198503291
                        ],
                        "iteration": 502,
                        "passed_time": 166.8051407,
                        "remaining_time": 1491.29765,
                        "test": [
                          0.7790252861,
                          0.6143286496
                        ]
                      },
                      {
                        "learn": [
                          0.8750970905,
                          0.4196519115
                        ],
                        "iteration": 503,
                        "passed_time": 167.0593381,
                        "remaining_time": 1490.275365,
                        "test": [
                          0.7787330491,
                          0.6141481663
                        ]
                      },
                      {
                        "learn": [
                          0.874978515,
                          0.4194166096
                        ],
                        "iteration": 504,
                        "passed_time": 167.315039,
                        "remaining_time": 1489.269505,
                        "test": [
                          0.7790250164,
                          0.6140680673
                        ]
                      },
                      {
                        "learn": [
                          0.8753580157,
                          0.4190755026
                        ],
                        "iteration": 505,
                        "passed_time": 167.5617727,
                        "remaining_time": 1488.18697,
                        "test": [
                          0.7784600245,
                          0.6138364388
                        ]
                      },
                      {
                        "learn": [
                          0.875234262,
                          0.4188314222
                        ],
                        "iteration": 506,
                        "passed_time": 167.8014666,
                        "remaining_time": 1487.045344,
                        "test": [
                          0.7781773723,
                          0.6135855973
                        ]
                      },
                      {
                        "learn": [
                          0.8756056456,
                          0.4184975635
                        ],
                        "iteration": 507,
                        "passed_time": 168.0802041,
                        "remaining_time": 1486.252513,
                        "test": [
                          0.7790582195,
                          0.6136381839
                        ]
                      },
                      {
                        "learn": [
                          0.875603321,
                          0.4181598126
                        ],
                        "iteration": 508,
                        "passed_time": 168.3313136,
                        "remaining_time": 1485.217936,
                        "test": [
                          0.7796642219,
                          0.6135703087
                        ]
                      },
                      {
                        "learn": [
                          0.8758528601,
                          0.4178122892
                        ],
                        "iteration": 509,
                        "passed_time": 168.5836752,
                        "remaining_time": 1484.197454,
                        "test": [
                          0.7799394222,
                          0.6132831388
                        ]
                      },
                      {
                        "learn": [
                          0.8762208472,
                          0.4175692257
                        ],
                        "iteration": 510,
                        "passed_time": 168.8224197,
                        "remaining_time": 1483.060356,
                        "test": [
                          0.7796639368,
                          0.6132330378
                        ]
                      },
                      {
                        "learn": [
                          0.875990501,
                          0.4172266986
                        ],
                        "iteration": 511,
                        "passed_time": 169.1002166,
                        "remaining_time": 1482.269086,
                        "test": [
                          0.779022964,
                          0.6132390018
                        ]
                      },
                      {
                        "learn": [
                          0.8757328976,
                          0.4170440635
                        ],
                        "iteration": 512,
                        "passed_time": 169.3593772,
                        "remaining_time": 1481.316813,
                        "test": [
                          0.779022964,
                          0.6134341081
                        ]
                      },
                      {
                        "learn": [
                          0.8757401136,
                          0.4167909849
                        ],
                        "iteration": 513,
                        "passed_time": 169.599289,
                        "remaining_time": 1480.199242,
                        "test": [
                          0.7790404481,
                          0.61360128
                        ]
                      },
                      {
                        "learn": [
                          0.876467921,
                          0.4165324294
                        ],
                        "iteration": 514,
                        "passed_time": 169.8362374,
                        "remaining_time": 1479.059272,
                        "test": [
                          0.77962748,
                          0.6134905188
                        ]
                      },
                      {
                        "learn": [
                          0.8763517031,
                          0.4163959257
                        ],
                        "iteration": 515,
                        "passed_time": 170.1095157,
                        "remaining_time": 1478.238505,
                        "test": [
                          0.7805298802,
                          0.6134723443
                        ]
                      },
                      {
                        "learn": [
                          0.8767105008,
                          0.4161263912
                        ],
                        "iteration": 516,
                        "passed_time": 170.3573459,
                        "remaining_time": 1477.199191,
                        "test": [
                          0.7805298802,
                          0.6132333753
                        ]
                      },
                      {
                        "learn": [
                          0.8765877646,
                          0.4158757368
                        ],
                        "iteration": 517,
                        "passed_time": 170.6035548,
                        "remaining_time": 1476.148904,
                        "test": [
                          0.7802301107,
                          0.6132240641
                        ]
                      },
                      {
                        "learn": [
                          0.8764595051,
                          0.4157104221
                        ],
                        "iteration": 518,
                        "passed_time": 170.8388505,
                        "remaining_time": 1475.007493,
                        "test": [
                          0.7802301107,
                          0.6133575911
                        ]
                      },
                      {
                        "learn": [
                          0.8767078196,
                          0.4153691544
                        ],
                        "iteration": 519,
                        "passed_time": 171.112042,
                        "remaining_time": 1474.196054,
                        "test": [
                          0.7807946083,
                          0.6134861945
                        ]
                      },
                      {
                        "learn": [
                          0.8769586253,
                          0.415051741
                        ],
                        "iteration": 520,
                        "passed_time": 171.3649908,
                        "remaining_time": 1473.212656,
                        "test": [
                          0.7801695132,
                          0.6134525317
                        ]
                      },
                      {
                        "learn": [
                          0.8771829645,
                          0.4148079251
                        ],
                        "iteration": 521,
                        "passed_time": 171.6054499,
                        "remaining_time": 1472.124914,
                        "test": [
                          0.7796101041,
                          0.6135577068
                        ]
                      },
                      {
                        "learn": [
                          0.8774200227,
                          0.4145240977
                        ],
                        "iteration": 522,
                        "passed_time": 171.8407401,
                        "remaining_time": 1470.996164,
                        "test": [
                          0.7801791365,
                          0.6136436998
                        ]
                      },
                      {
                        "learn": [
                          0.8771829645,
                          0.4142946489
                        ],
                        "iteration": 523,
                        "passed_time": 172.109931,
                        "remaining_time": 1470.160403,
                        "test": [
                          0.7801853897,
                          0.6137487858
                        ]
                      },
                      {
                        "learn": [
                          0.8771837985,
                          0.4139087391
                        ],
                        "iteration": 524,
                        "passed_time": 172.3510042,
                        "remaining_time": 1469.087131,
                        "test": [
                          0.7799088304,
                          0.6136355021
                        ]
                      },
                      {
                        "learn": [
                          0.8770639573,
                          0.4137125536
                        ],
                        "iteration": 525,
                        "passed_time": 172.5866505,
                        "remaining_time": 1467.970864,
                        "test": [
                          0.7808096354,
                          0.6136189989
                        ]
                      },
                      {
                        "learn": [
                          0.8767061794,
                          0.4134429963
                        ],
                        "iteration": 526,
                        "passed_time": 172.8416514,
                        "remaining_time": 1467.022214,
                        "test": [
                          0.7796322155,
                          0.6137185742
                        ]
                      },
                      {
                        "learn": [
                          0.8770734399,
                          0.4131105844
                        ],
                        "iteration": 527,
                        "passed_time": 173.1112343,
                        "remaining_time": 1466.199697,
                        "test": [
                          0.7795910848,
                          0.6138584796
                        ]
                      },
                      {
                        "learn": [
                          0.8768202375,
                          0.4127589841
                        ],
                        "iteration": 528,
                        "passed_time": 173.3590746,
                        "remaining_time": 1465.195506,
                        "test": [
                          0.7790261499,
                          0.6135081032
                        ]
                      },
                      {
                        "learn": [
                          0.877185826,
                          0.4125475214
                        ],
                        "iteration": 529,
                        "passed_time": 173.5980316,
                        "remaining_time": 1464.119247,
                        "test": [
                          0.7790261499,
                          0.6134710107
                        ]
                      },
                      {
                        "learn": [
                          0.8770595239,
                          0.4123435147
                        ],
                        "iteration": 530,
                        "passed_time": 173.8394102,
                        "remaining_time": 1463.066524,
                        "test": [
                          0.7793205827,
                          0.6133040321
                        ]
                      },
                      {
                        "learn": [
                          0.8768107697,
                          0.4120856633
                        ],
                        "iteration": 531,
                        "passed_time": 174.0902885,
                        "remaining_time": 1462.096634,
                        "test": [
                          0.7804492665,
                          0.6130583483
                        ]
                      },
                      {
                        "learn": [
                          0.8774209592,
                          0.4117751946
                        ],
                        "iteration": 532,
                        "passed_time": 174.3552174,
                        "remaining_time": 1461.247197,
                        "test": [
                          0.7801738919,
                          0.6130640089
                        ]
                      },
                      {
                        "learn": [
                          0.877789111,
                          0.4114239348
                        ],
                        "iteration": 533,
                        "passed_time": 174.5934534,
                        "remaining_time": 1460.17671,
                        "test": [
                          0.7801661936,
                          0.6130324669
                        ]
                      },
                      {
                        "learn": [
                          0.877534947,
                          0.4110355175
                        ],
                        "iteration": 534,
                        "passed_time": 174.8333037,
                        "remaining_time": 1459.122806,
                        "test": [
                          0.7804583307,
                          0.6126359072
                        ]
                      },
                      {
                        "learn": [
                          0.8774184925,
                          0.4108494838
                        ],
                        "iteration": 535,
                        "passed_time": 175.0680823,
                        "remaining_time": 1458.0297,
                        "test": [
                          0.7807503967,
                          0.6125626419
                        ]
                      },
                      {
                        "learn": [
                          0.8775446915,
                          0.4106643879
                        ],
                        "iteration": 536,
                        "passed_time": 175.4589901,
                        "remaining_time": 1458.23738,
                        "test": [
                          0.7807503967,
                          0.6125337207
                        ]
                      },
                      {
                        "learn": [
                          0.8777990261,
                          0.4103771615
                        ],
                        "iteration": 537,
                        "passed_time": 175.8464495,
                        "remaining_time": 1458.414234,
                        "test": [
                          0.7815787983,
                          0.612489332
                        ]
                      },
                      {
                        "learn": [
                          0.8780384275,
                          0.4101403028
                        ],
                        "iteration": 538,
                        "passed_time": 176.2465243,
                        "remaining_time": 1458.693405,
                        "test": [
                          0.7804228176,
                          0.6124744976
                        ]
                      },
                      {
                        "learn": [
                          0.8782926647,
                          0.409805224
                        ],
                        "iteration": 539,
                        "passed_time": 176.6263621,
                        "remaining_time": 1458.802916,
                        "test": [
                          0.780751492,
                          0.612575542
                        ]
                      },
                      {
                        "learn": [
                          0.87866081,
                          0.4094292342
                        ],
                        "iteration": 540,
                        "passed_time": 176.9850037,
                        "remaining_time": 1458.735918,
                        "test": [
                          0.7807012987,
                          0.6126729636
                        ]
                      },
                      {
                        "learn": [
                          0.8789087878,
                          0.409123394
                        ],
                        "iteration": 541,
                        "passed_time": 177.4247539,
                        "remaining_time": 1459.334968,
                        "test": [
                          0.7816006682,
                          0.6125864455
                        ]
                      },
                      {
                        "learn": [
                          0.8785360224,
                          0.4088511219
                        ],
                        "iteration": 542,
                        "passed_time": 177.8172263,
                        "remaining_time": 1459.542132,
                        "test": [
                          0.7816006682,
                          0.6126725915
                        ]
                      },
                      {
                        "learn": [
                          0.8790195153,
                          0.4086016645
                        ],
                        "iteration": 543,
                        "passed_time": 178.1977798,
                        "remaining_time": 1459.649461,
                        "test": [
                          0.7813184124,
                          0.6125667735
                        ]
                      },
                      {
                        "learn": [
                          0.8792674251,
                          0.4083425521
                        ],
                        "iteration": 544,
                        "passed_time": 178.4486961,
                        "remaining_time": 1458.695305,
                        "test": [
                          0.7810360487,
                          0.6125123177
                        ]
                      },
                      {
                        "learn": [
                          0.8796416096,
                          0.4080733336
                        ],
                        "iteration": 545,
                        "passed_time": 178.7139095,
                        "remaining_time": 1457.860353,
                        "test": [
                          0.7810360487,
                          0.6126133004
                        ]
                      },
                      {
                        "learn": [
                          0.8802488772,
                          0.4077567563
                        ],
                        "iteration": 546,
                        "passed_time": 178.9523335,
                        "remaining_time": 1456.809399,
                        "test": [
                          0.7813487806,
                          0.6122242702
                        ]
                      },
                      {
                        "learn": [
                          0.8803660311,
                          0.4074865083
                        ],
                        "iteration": 547,
                        "passed_time": 179.1945547,
                        "remaining_time": 1455.792258,
                        "test": [
                          0.7816233029,
                          0.6120950993
                        ]
                      },
                      {
                        "learn": [
                          0.880483445,
                          0.4072061532
                        ],
                        "iteration": 548,
                        "passed_time": 179.427053,
                        "remaining_time": 1454.699113,
                        "test": [
                          0.7810323341,
                          0.6121402165
                        ]
                      },
                      {
                        "learn": [
                          0.8806288783,
                          0.4068456251
                        ],
                        "iteration": 549,
                        "passed_time": 179.7085518,
                        "remaining_time": 1454.005555,
                        "test": [
                          0.7813292055,
                          0.6117082898
                        ]
                      },
                      {
                        "learn": [
                          0.881105788,
                          0.4065512754
                        ],
                        "iteration": 550,
                        "passed_time": 179.9538774,
                        "remaining_time": 1453.021416,
                        "test": [
                          0.7819020059,
                          0.6117653264
                        ]
                      },
                      {
                        "learn": [
                          0.8808433725,
                          0.4063867952
                        ],
                        "iteration": 551,
                        "passed_time": 180.1899734,
                        "remaining_time": 1451.965582,
                        "test": [
                          0.7822225746,
                          0.611723359
                        ]
                      },
                      {
                        "learn": [
                          0.8806126545,
                          0.4060538254
                        ],
                        "iteration": 552,
                        "passed_time": 180.4269773,
                        "remaining_time": 1450.920015,
                        "test": [
                          0.7822168696,
                          0.611659653
                        ]
                      },
                      {
                        "learn": [
                          0.880990584,
                          0.405697704
                        ],
                        "iteration": 553,
                        "passed_time": 180.7149026,
                        "remaining_time": 1450.286023,
                        "test": [
                          0.7822235744,
                          0.6116726113
                        ]
                      },
                      {
                        "learn": [
                          0.8809778233,
                          0.4054873914
                        ],
                        "iteration": 554,
                        "passed_time": 180.9528164,
                        "remaining_time": 1449.252737,
                        "test": [
                          0.7807630095,
                          0.6118158165
                        ]
                      },
                      {
                        "learn": [
                          0.8807380966,
                          0.4051887312
                        ],
                        "iteration": 555,
                        "passed_time": 181.1898585,
                        "remaining_time": 1448.215344,
                        "test": [
                          0.7804521469,
                          0.6117794353
                        ]
                      },
                      {
                        "learn": [
                          0.8808637015,
                          0.4048984697
                        ],
                        "iteration": 556,
                        "passed_time": 181.4203195,
                        "remaining_time": 1447.12833,
                        "test": [
                          0.7804550889,
                          0.6116195497
                        ]
                      },
                      {
                        "learn": [
                          0.8811121075,
                          0.4046847364
                        ],
                        "iteration": 557,
                        "passed_time": 181.7035645,
                        "remaining_time": 1446.464576,
                        "test": [
                          0.7807313092,
                          0.6113766766
                        ]
                      },
                      {
                        "learn": [
                          0.8807368578,
                          0.4045094058
                        ],
                        "iteration": 558,
                        "passed_time": 181.9447825,
                        "remaining_time": 1445.468299,
                        "test": [
                          0.7813071145,
                          0.6113875627
                        ]
                      },
                      {
                        "learn": [
                          0.8811032203,
                          0.4041879299
                        ],
                        "iteration": 559,
                        "passed_time": 182.180783,
                        "remaining_time": 1444.433351,
                        "test": [
                          0.7810305868,
                          0.6107411366
                        ]
                      },
                      {
                        "learn": [
                          0.8813257977,
                          0.4039050029
                        ],
                        "iteration": 560,
                        "passed_time": 182.4173323,
                        "remaining_time": 1443.405594,
                        "test": [
                          0.781322714,
                          0.6107792348
                        ]
                      },
                      {
                        "learn": [
                          0.8815836641,
                          0.4036972575
                        ],
                        "iteration": 561,
                        "passed_time": 182.6963165,
                        "remaining_time": 1442.715752,
                        "test": [
                          0.7818999264,
                          0.6107117012
                        ]
                      },
                      {
                        "learn": [
                          0.8817145642,
                          0.4035197168
                        ],
                        "iteration": 562,
                        "passed_time": 182.9359581,
                        "remaining_time": 1441.717311,
                        "test": [
                          0.7821765245,
                          0.610611318
                        ]
                      },
                      {
                        "learn": [
                          0.8817120867,
                          0.4032168916
                        ],
                        "iteration": 563,
                        "passed_time": 183.1815511,
                        "remaining_time": 1440.76837,
                        "test": [
                          0.7821732371,
                          0.6103803421
                        ]
                      },
                      {
                        "learn": [
                          0.8819625774,
                          0.4028539686
                        ],
                        "iteration": 564,
                        "passed_time": 183.4171219,
                        "remaining_time": 1439.743249,
                        "test": [
                          0.7812874224,
                          0.6106284969
                        ]
                      },
                      {
                        "learn": [
                          0.8825793851,
                          0.4025813108
                        ],
                        "iteration": 565,
                        "passed_time": 183.6816595,
                        "remaining_time": 1438.947842,
                        "test": [
                          0.7810106113,
                          0.6107117794
                        ]
                      },
                      {
                        "learn": [
                          0.8828270367,
                          0.4023105481
                        ],
                        "iteration": 566,
                        "passed_time": 183.9370698,
                        "remaining_time": 1438.082946,
                        "test": [
                          0.7807111194,
                          0.6106024568
                        ]
                      },
                      {
                        "learn": [
                          0.8827017924,
                          0.4021012482
                        ],
                        "iteration": 567,
                        "passed_time": 184.1742965,
                        "remaining_time": 1437.078314,
                        "test": [
                          0.7807066895,
                          0.6104791075
                        ]
                      },
                      {
                        "learn": [
                          0.8825890396,
                          0.4017553277
                        ],
                        "iteration": 568,
                        "passed_time": 184.4169725,
                        "remaining_time": 1436.118814,
                        "test": [
                          0.7809876863,
                          0.6104978811
                        ]
                      },
                      {
                        "learn": [
                          0.8825892881,
                          0.4015669922
                        ],
                        "iteration": 569,
                        "passed_time": 184.6566009,
                        "remaining_time": 1435.138144,
                        "test": [
                          0.7809882071,
                          0.6103038462
                        ]
                      },
                      {
                        "learn": [
                          0.8827056967,
                          0.4013826532
                        ],
                        "iteration": 570,
                        "passed_time": 184.9426627,
                        "remaining_time": 1434.520233,
                        "test": [
                          0.780994424,
                          0.6100513104
                        ]
                      },
                      {
                        "learn": [
                          0.8828299136,
                          0.4011363108
                        ],
                        "iteration": 571,
                        "passed_time": 185.1782361,
                        "remaining_time": 1433.512639,
                        "test": [
                          0.7815691667,
                          0.6099462985
                        ]
                      },
                      {
                        "learn": [
                          0.8829656068,
                          0.4009205222
                        ],
                        "iteration": 572,
                        "passed_time": 185.4204145,
                        "remaining_time": 1432.55877,
                        "test": [
                          0.7815566483,
                          0.6097318689
                        ]
                      },
                      {
                        "learn": [
                          0.8831979988,
                          0.4007402754
                        ],
                        "iteration": 573,
                        "passed_time": 185.6556706,
                        "remaining_time": 1431.554003,
                        "test": [
                          0.7824054376,
                          0.6096599589
                        ]
                      },
                      {
                        "learn": [
                          0.8833175108,
                          0.4005565227
                        ],
                        "iteration": 574,
                        "passed_time": 185.9385,
                        "remaining_time": 1430.918022,
                        "test": [
                          0.7823881232,
                          0.6096877504
                        ]
                      },
                      {
                        "learn": [
                          0.8833252719,
                          0.4004314667
                        ],
                        "iteration": 575,
                        "passed_time": 186.1727601,
                        "remaining_time": 1429.910227,
                        "test": [
                          0.7826801935,
                          0.609677328
                        ]
                      },
                      {
                        "learn": [
                          0.8834226615,
                          0.4001872313
                        ],
                        "iteration": 576,
                        "passed_time": 186.4096498,
                        "remaining_time": 1428.92527,
                        "test": [
                          0.7826758717,
                          0.6093612512
                        ]
                      },
                      {
                        "learn": [
                          0.8834346918,
                          0.3998180433
                        ],
                        "iteration": 577,
                        "passed_time": 186.6477402,
                        "remaining_time": 1427.952088,
                        "test": [
                          0.782934275,
                          0.6092423115
                        ]
                      },
                      {
                        "learn": [
                          0.8834354076,
                          0.3995053449
                        ],
                        "iteration": 578,
                        "passed_time": 187.0314662,
                        "remaining_time": 1428.093458,
                        "test": [
                          0.7826751909,
                          0.6092365205
                        ]
                      },
                      {
                        "learn": [
                          0.8835446273,
                          0.3993018719
                        ],
                        "iteration": 579,
                        "passed_time": 187.263831,
                        "remaining_time": 1427.07954,
                        "test": [
                          0.7823975894,
                          0.6090876073
                        ]
                      },
                      {
                        "learn": [
                          0.884423346,
                          0.3987385394
                        ],
                        "iteration": 580,
                        "passed_time": 187.498757,
                        "remaining_time": 1426.087792,
                        "test": [
                          0.7812254673,
                          0.6089369501
                        ]
                      },
                      {
                        "learn": [
                          0.8844205339,
                          0.3985564268
                        ],
                        "iteration": 581,
                        "passed_time": 187.7420826,
                        "remaining_time": 1425.162407,
                        "test": [
                          0.7817742222,
                          0.6088005664
                        ]
                      },
                      {
                        "learn": [
                          0.8846642371,
                          0.398298233
                        ],
                        "iteration": 582,
                        "passed_time": 188.0041022,
                        "remaining_time": 1424.380994,
                        "test": [
                          0.7817742222,
                          0.6086605175
                        ]
                      },
                      {
                        "learn": [
                          0.8853773852,
                          0.3980325058
                        ],
                        "iteration": 583,
                        "passed_time": 188.2818173,
                        "remaining_time": 1423.720043,
                        "test": [
                          0.7809451621,
                          0.6086541003
                        ]
                      },
                      {
                        "learn": [
                          0.8856237004,
                          0.397738632
                        ],
                        "iteration": 584,
                        "passed_time": 188.6291688,
                        "remaining_time": 1423.585949,
                        "test": [
                          0.7809275639,
                          0.608409606
                        ]
                      },
                      {
                        "learn": [
                          0.8855076202,
                          0.3975526072
                        ],
                        "iteration": 585,
                        "passed_time": 189.0202504,
                        "remaining_time": 1423.780521,
                        "test": [
                          0.7806520549,
                          0.6084264233
                        ]
                      },
                      {
                        "learn": [
                          0.8856473961,
                          0.3973932822
                        ],
                        "iteration": 586,
                        "passed_time": 189.4371806,
                        "remaining_time": 1424.167424,
                        "test": [
                          0.7806520549,
                          0.6083806974
                        ]
                      },
                      {
                        "learn": [
                          0.8860112198,
                          0.3971588532
                        ],
                        "iteration": 587,
                        "passed_time": 189.8037223,
                        "remaining_time": 1424.173508,
                        "test": [
                          0.7800829184,
                          0.6084542829
                        ]
                      },
                      {
                        "learn": [
                          0.8860112198,
                          0.3969980355
                        ],
                        "iteration": 588,
                        "passed_time": 190.2469047,
                        "remaining_time": 1424.752286,
                        "test": [
                          0.7803586893,
                          0.6083733358
                        ]
                      },
                      {
                        "learn": [
                          0.885997781,
                          0.3967339009
                        ],
                        "iteration": 589,
                        "passed_time": 190.6297411,
                        "remaining_time": 1424.87654,
                        "test": [
                          0.7800872768,
                          0.6083590774
                        ]
                      },
                      {
                        "learn": [
                          0.8862364865,
                          0.396371223
                        ],
                        "iteration": 590,
                        "passed_time": 191.0238237,
                        "remaining_time": 1425.082976,
                        "test": [
                          0.7806719097,
                          0.6083668789
                        ]
                      },
                      {
                        "learn": [
                          0.8866015561,
                          0.3959176698
                        ],
                        "iteration": 591,
                        "passed_time": 191.3960127,
                        "remaining_time": 1425.124365,
                        "test": [
                          0.780396644,
                          0.608043249
                        ]
                      },
                      {
                        "learn": [
                          0.8869601436,
                          0.3957305267
                        ],
                        "iteration": 592,
                        "passed_time": 191.6354538,
                        "remaining_time": 1424.177816,
                        "test": [
                          0.780396644,
                          0.6081603068
                        ]
                      },
                      {
                        "learn": [
                          0.8870967019,
                          0.3955271903
                        ],
                        "iteration": 593,
                        "passed_time": 191.8845953,
                        "remaining_time": 1423.305601,
                        "test": [
                          0.7809509031,
                          0.607930956
                        ]
                      },
                      {
                        "learn": [
                          0.8869634752,
                          0.3953073842
                        ],
                        "iteration": 594,
                        "passed_time": 192.1331392,
                        "remaining_time": 1422.431056,
                        "test": [
                          0.7809509031,
                          0.6077797937
                        ]
                      },
                      {
                        "learn": [
                          0.8870888216,
                          0.3951554284
                        ],
                        "iteration": 595,
                        "passed_time": 192.410838,
                        "remaining_time": 1421.774044,
                        "test": [
                          0.7809617344,
                          0.6077725079
                        ]
                      },
                      {
                        "learn": [
                          0.8873314613,
                          0.3948819462
                        ],
                        "iteration": 596,
                        "passed_time": 192.6478269,
                        "remaining_time": 1420.81806,
                        "test": [
                          0.7809617344,
                          0.6077779032
                        ]
                      },
                      {
                        "learn": [
                          0.8869537589,
                          0.3946797021
                        ],
                        "iteration": 597,
                        "passed_time": 192.8816005,
                        "remaining_time": 1419.840812,
                        "test": [
                          0.7806864942,
                          0.6078353832
                        ]
                      },
                      {
                        "learn": [
                          0.8873208325,
                          0.3943346713
                        ],
                        "iteration": 598,
                        "passed_time": 193.1337961,
                        "remaining_time": 1419.001397,
                        "test": [
                          0.7806686964,
                          0.6076967302
                        ]
                      },
                      {
                        "learn": [
                          0.8875766912,
                          0.3941694133
                        ],
                        "iteration": 599,
                        "passed_time": 193.3888507,
                        "remaining_time": 1418.184905,
                        "test": [
                          0.7806845466,
                          0.6077090755
                        ]
                      },
                      {
                        "learn": [
                          0.8875748212,
                          0.3938389744
                        ],
                        "iteration": 600,
                        "passed_time": 193.6446479,
                        "remaining_time": 1417.375717,
                        "test": [
                          0.7809620138,
                          0.6075143121
                        ]
                      },
                      {
                        "learn": [
                          0.8876991268,
                          0.3935627517
                        ],
                        "iteration": 601,
                        "passed_time": 193.8856073,
                        "remaining_time": 1416.459968,
                        "test": [
                          0.7809620138,
                          0.6072701774
                        ]
                      },
                      {
                        "learn": [
                          0.8879398222,
                          0.3933654177
                        ],
                        "iteration": 602,
                        "passed_time": 194.1353909,
                        "remaining_time": 1415.610802,
                        "test": [
                          0.7818041471,
                          0.6073517793
                        ]
                      },
                      {
                        "learn": [
                          0.8879398222,
                          0.3931816413
                        ],
                        "iteration": 603,
                        "passed_time": 194.3756658,
                        "remaining_time": 1414.694416,
                        "test": [
                          0.7815264674,
                          0.6073820372
                        ]
                      },
                      {
                        "learn": [
                          0.888066047,
                          0.392908309
                        ],
                        "iteration": 604,
                        "passed_time": 194.6542507,
                        "remaining_time": 1414.058565,
                        "test": [
                          0.7812317569,
                          0.6075452792
                        ]
                      },
                      {
                        "learn": [
                          0.8879657449,
                          0.3926641565
                        ],
                        "iteration": 605,
                        "passed_time": 194.8903487,
                        "remaining_time": 1413.115829,
                        "test": [
                          0.7809388904,
                          0.6074213043
                        ]
                      },
                      {
                        "learn": [
                          0.8886834511,
                          0.3924268844
                        ],
                        "iteration": 606,
                        "passed_time": 195.1381685,
                        "remaining_time": 1412.260254,
                        "test": [
                          0.7809317502,
                          0.6075201257
                        ]
                      },
                      {
                        "learn": [
                          0.8886839953,
                          0.3922031024
                        ],
                        "iteration": 607,
                        "passed_time": 195.3813738,
                        "remaining_time": 1411.373345,
                        "test": [
                          0.7809317502,
                          0.6074202247
                        ]
                      },
                      {
                        "learn": [
                          0.8888081498,
                          0.3919779057
                        ],
                        "iteration": 608,
                        "passed_time": 195.6553977,
                        "remaining_time": 1410.710757,
                        "test": [
                          0.7814989359,
                          0.6074377944
                        ]
                      },
                      {
                        "learn": [
                          0.8890441697,
                          0.3916844493
                        ],
                        "iteration": 609,
                        "passed_time": 195.8996976,
                        "remaining_time": 1409.835529,
                        "test": [
                          0.7815031032,
                          0.6073645411
                        ]
                      },
                      {
                        "learn": [
                          0.8892939839,
                          0.3914403052
                        ],
                        "iteration": 610,
                        "passed_time": 196.1448389,
                        "remaining_time": 1408.968409,
                        "test": [
                          0.78207988,
                          0.6071715765
                        ]
                      },
                      {
                        "learn": [
                          0.8895314426,
                          0.3911253144
                        ],
                        "iteration": 611,
                        "passed_time": 196.3804139,
                        "remaining_time": 1408.034732,
                        "test": [
                          0.7812374021,
                          0.6071595369
                        ]
                      },
                      {
                        "learn": [
                          0.8896460743,
                          0.3909097694
                        ],
                        "iteration": 612,
                        "passed_time": 196.6596984,
                        "remaining_time": 1407.416145,
                        "test": [
                          0.7815139171,
                          0.6070614273
                        ]
                      },
                      {
                        "learn": [
                          0.889757834,
                          0.3905653436
                        ],
                        "iteration": 613,
                        "passed_time": 196.8936243,
                        "remaining_time": 1406.474652,
                        "test": [
                          0.7815103783,
                          0.6069739888
                        ]
                      },
                      {
                        "learn": [
                          0.8901365087,
                          0.3901597354
                        ],
                        "iteration": 614,
                        "passed_time": 197.147885,
                        "remaining_time": 1405.680448,
                        "test": [
                          0.7812666806,
                          0.6069780172
                        ]
                      },
                      {
                        "learn": [
                          0.8898964018,
                          0.3899037059
                        ],
                        "iteration": 615,
                        "passed_time": 197.3877852,
                        "remaining_time": 1404.785796,
                        "test": [
                          0.7812666806,
                          0.606620023
                        ]
                      },
                      {
                        "learn": [
                          0.8902665974,
                          0.3897093926
                        ],
                        "iteration": 616,
                        "passed_time": 197.6609119,
                        "remaining_time": 1404.129298,
                        "test": [
                          0.7818502491,
                          0.606543778
                        ]
                      },
                      {
                        "learn": [
                          0.8900261058,
                          0.3893797424
                        ],
                        "iteration": 617,
                        "passed_time": 197.8967839,
                        "remaining_time": 1403.209882,
                        "test": [
                          0.7815678618,
                          0.6064527716
                        ]
                      },
                      {
                        "learn": [
                          0.8902739528,
                          0.3892136236
                        ],
                        "iteration": 618,
                        "passed_time": 198.1534623,
                        "remaining_time": 1402.439932,
                        "test": [
                          0.780716881,
                          0.6063875635
                        ]
                      },
                      {
                        "learn": [
                          0.8907417085,
                          0.3890110358
                        ],
                        "iteration": 619,
                        "passed_time": 198.3919037,
                        "remaining_time": 1401.542804,
                        "test": [
                          0.7809986576,
                          0.6065652326
                        ]
                      },
                      {
                        "learn": [
                          0.8911125511,
                          0.388822746
                        ],
                        "iteration": 620,
                        "passed_time": 198.648,
                        "remaining_time": 1400.77229,
                        "test": [
                          0.7809828053,
                          0.6066563947
                        ]
                      },
                      {
                        "learn": [
                          0.8909911147,
                          0.3885313276
                        ],
                        "iteration": 621,
                        "passed_time": 198.9120447,
                        "remaining_time": 1400.059375,
                        "test": [
                          0.7809828053,
                          0.6065005623
                        ]
                      },
                      {
                        "learn": [
                          0.8909911147,
                          0.3883568455
                        ],
                        "iteration": 622,
                        "passed_time": 199.1598068,
                        "remaining_time": 1399.233506,
                        "test": [
                          0.7809924582,
                          0.6063469056
                        ]
                      },
                      {
                        "learn": [
                          0.8909990709,
                          0.388174527
                        ],
                        "iteration": 623,
                        "passed_time": 199.4101029,
                        "remaining_time": 1398.42726,
                        "test": [
                          0.7806931699,
                          0.6062863091
                        ]
                      },
                      {
                        "learn": [
                          0.8909990709,
                          0.3879793343
                        ],
                        "iteration": 624,
                        "passed_time": 199.6532116,
                        "remaining_time": 1397.572482,
                        "test": [
                          0.7809879906,
                          0.6062008241
                        ]
                      },
                      {
                        "learn": [
                          0.8911186529,
                          0.387774615
                        ],
                        "iteration": 625,
                        "passed_time": 199.9282506,
                        "remaining_time": 1396.942761,
                        "test": [
                          0.7806931699,
                          0.6061961494
                        ]
                      },
                      {
                        "learn": [
                          0.8912442879,
                          0.3875617126
                        ],
                        "iteration": 626,
                        "passed_time": 200.1829371,
                        "remaining_time": 1396.172223,
                        "test": [
                          0.7804368101,
                          0.6062419832
                        ]
                      },
                      {
                        "learn": [
                          0.8913572884,
                          0.3873981682
                        ],
                        "iteration": 627,
                        "passed_time": 200.4160017,
                        "remaining_time": 1395.252801,
                        "test": [
                          0.780719411,
                          0.606250939
                        ]
                      },
                      {
                        "learn": [
                          0.8917153087,
                          0.3870261396
                        ],
                        "iteration": 628,
                        "passed_time": 200.6534762,
                        "remaining_time": 1394.366207,
                        "test": [
                          0.7812994826,
                          0.6060355233
                        ]
                      },
                      {
                        "learn": [
                          0.891599631,
                          0.3868040095
                        ],
                        "iteration": 629,
                        "passed_time": 200.9312041,
                        "remaining_time": 1393.760892,
                        "test": [
                          0.7812952716,
                          0.6060675589
                        ]
                      },
                      {
                        "learn": [
                          0.891590978,
                          0.3866193045
                        ],
                        "iteration": 630,
                        "passed_time": 201.1797823,
                        "remaining_time": 1392.954784,
                        "test": [
                          0.7809963936,
                          0.6060233033
                        ]
                      },
                      {
                        "learn": [
                          0.891839437,
                          0.3864028833
                        ],
                        "iteration": 631,
                        "passed_time": 201.5110771,
                        "remaining_time": 1392.722128,
                        "test": [
                          0.7809963936,
                          0.6059906988
                        ]
                      },
                      {
                        "learn": [
                          0.8917206218,
                          0.3861056342
                        ],
                        "iteration": 632,
                        "passed_time": 201.9628706,
                        "remaining_time": 1393.320467,
                        "test": [
                          0.7809977396,
                          0.606127478
                        ]
                      },
                      {
                        "learn": [
                          0.8918325081,
                          0.3858539414
                        ],
                        "iteration": 633,
                        "passed_time": 202.3489177,
                        "remaining_time": 1393.462736,
                        "test": [
                          0.7806919538,
                          0.6060712583
                        ]
                      },
                      {
                        "learn": [
                          0.8918410969,
                          0.3857090244
                        ],
                        "iteration": 634,
                        "passed_time": 202.7049322,
                        "remaining_time": 1393.396896,
                        "test": [
                          0.7806919538,
                          0.6060283345
                        ]
                      },
                      {
                        "learn": [
                          0.8919581243,
                          0.3855432831
                        ],
                        "iteration": 635,
                        "passed_time": 203.1578309,
                        "remaining_time": 1393.994928,
                        "test": [
                          0.7806919538,
                          0.6059851805
                        ]
                      },
                      {
                        "learn": [
                          0.8913478706,
                          0.3852299358
                        ],
                        "iteration": 636,
                        "passed_time": 203.5501495,
                        "remaining_time": 1394.174729,
                        "test": [
                          0.7804162843,
                          0.6059987288
                        ]
                      },
                      {
                        "learn": [
                          0.8917247791,
                          0.3849726914
                        ],
                        "iteration": 637,
                        "passed_time": 203.9532883,
                        "remaining_time": 1394.426714,
                        "test": [
                          0.7798566826,
                          0.6058904229
                        ]
                      },
                      {
                        "learn": [
                          0.891847406,
                          0.3848257636
                        ],
                        "iteration": 638,
                        "passed_time": 204.3634181,
                        "remaining_time": 1394.724361,
                        "test": [
                          0.7798729587,
                          0.6060537763
                        ]
                      },
                      {
                        "learn": [
                          0.8919644089,
                          0.3846866452
                        ],
                        "iteration": 639,
                        "passed_time": 204.6048087,
                        "remaining_time": 1393.870259,
                        "test": [
                          0.7798792411,
                          0.6059882762
                        ]
                      },
                      {
                        "learn": [
                          0.891854404,
                          0.3844309719
                        ],
                        "iteration": 640,
                        "passed_time": 204.8465207,
                        "remaining_time": 1393.020255,
                        "test": [
                          0.7798853159,
                          0.6058095701
                        ]
                      },
                      {
                        "learn": [
                          0.891854404,
                          0.3842792976
                        ],
                        "iteration": 641,
                        "passed_time": 205.081931,
                        "remaining_time": 1392.12937,
                        "test": [
                          0.7796098159,
                          0.6057110701
                        ]
                      },
                      {
                        "learn": [
                          0.8918580984,
                          0.3840569865
                        ],
                        "iteration": 642,
                        "passed_time": 205.36821,
                        "remaining_time": 1391.585212,
                        "test": [
                          0.780162919,
                          0.6055220656
                        ]
                      },
                      {
                        "learn": [
                          0.891730363,
                          0.3836809348
                        ],
                        "iteration": 643,
                        "passed_time": 205.6038637,
                        "remaining_time": 1390.699426,
                        "test": [
                          0.7801248475,
                          0.6052551811
                        ]
                      },
                      {
                        "learn": [
                          0.8918499475,
                          0.3834573161
                        ],
                        "iteration": 644,
                        "passed_time": 205.8467446,
                        "remaining_time": 1389.864454,
                        "test": [
                          0.780143057,
                          0.6052589099
                        ]
                      },
                      {
                        "learn": [
                          0.8920928112,
                          0.3831736683
                        ],
                        "iteration": 645,
                        "passed_time": 206.0853459,
                        "remaining_time": 1389.002471,
                        "test": [
                          0.7804207278,
                          0.6052548032
                        ]
                      },
                      {
                        "learn": [
                          0.892333698,
                          0.3828938335
                        ],
                        "iteration": 646,
                        "passed_time": 206.3758724,
                        "remaining_time": 1388.491766,
                        "test": [
                          0.7804423794,
                          0.6053244142
                        ]
                      },
                      {
                        "learn": [
                          0.8920949758,
                          0.3826594816
                        ],
                        "iteration": 647,
                        "passed_time": 206.6178261,
                        "remaining_time": 1387.655523,
                        "test": [
                          0.7796067668,
                          0.6051621779
                        ]
                      },
                      {
                        "learn": [
                          0.8919789725,
                          0.3824475788
                        ],
                        "iteration": 648,
                        "passed_time": 206.85154,
                        "remaining_time": 1386.765871,
                        "test": [
                          0.7801823143,
                          0.6050854552
                        ]
                      },
                      {
                        "learn": [
                          0.8923490327,
                          0.3822754246
                        ],
                        "iteration": 649,
                        "passed_time": 207.0849984,
                        "remaining_time": 1385.876528,
                        "test": [
                          0.7801823143,
                          0.6050265212
                        ]
                      },
                      {
                        "learn": [
                          0.8926021386,
                          0.382015698
                        ],
                        "iteration": 650,
                        "passed_time": 207.4658037,
                        "remaining_time": 1385.973549,
                        "test": [
                          0.7793211653,
                          0.6050509172
                        ]
                      },
                      {
                        "learn": [
                          0.8930804385,
                          0.3817525812
                        ],
                        "iteration": 651,
                        "passed_time": 207.7046457,
                        "remaining_time": 1385.122392,
                        "test": [
                          0.7796030083,
                          0.6048938184
                        ]
                      },
                      {
                        "learn": [
                          0.893449005,
                          0.3815406284
                        ],
                        "iteration": 652,
                        "passed_time": 207.9432293,
                        "remaining_time": 1384.27139,
                        "test": [
                          0.7796030083,
                          0.6047685663
                        ]
                      },
                      {
                        "learn": [
                          0.8934278519,
                          0.3812451486
                        ],
                        "iteration": 653,
                        "passed_time": 208.1820511,
                        "remaining_time": 1383.423844,
                        "test": [
                          0.780465015,
                          0.6046689837
                        ]
                      },
                      {
                        "learn": [
                          0.8934273698,
                          0.3810718897
                        ],
                        "iteration": 654,
                        "passed_time": 208.472931,
                        "remaining_time": 1382.923489,
                        "test": [
                          0.7793011628,
                          0.6046666339
                        ]
                      },
                      {
                        "learn": [
                          0.8931933896,
                          0.3808214255
                        ],
                        "iteration": 655,
                        "passed_time": 208.7255009,
                        "remaining_time": 1382.170085,
                        "test": [
                          0.7799053305,
                          0.6047326624
                        ]
                      },
                      {
                        "learn": [
                          0.8930669169,
                          0.3806154509
                        ],
                        "iteration": 656,
                        "passed_time": 208.9618494,
                        "remaining_time": 1381.310977,
                        "test": [
                          0.780476226,
                          0.6049234185
                        ]
                      },
                      {
                        "learn": [
                          0.8935466896,
                          0.3803862623
                        ],
                        "iteration": 657,
                        "passed_time": 209.2394483,
                        "remaining_time": 1380.725965,
                        "test": [
                          0.7804765136,
                          0.6049916892
                        ]
                      },
                      {
                        "learn": [
                          0.8935480454,
                          0.3800948046
                        ],
                        "iteration": 658,
                        "passed_time": 209.6991672,
                        "remaining_time": 1381.341555,
                        "test": [
                          0.781069434,
                          0.604842319
                        ]
                      },
                      {
                        "learn": [
                          0.8939221982,
                          0.3797369334
                        ],
                        "iteration": 659,
                        "passed_time": 210.1182244,
                        "remaining_time": 1381.686506,
                        "test": [
                          0.7813440659,
                          0.6046866447
                        ]
                      },
                      {
                        "learn": [
                          0.8939221982,
                          0.3794696776
                        ],
                        "iteration": 660,
                        "passed_time": 210.6004604,
                        "remaining_time": 1382.443869,
                        "test": [
                          0.7816206392,
                          0.6045760579
                        ]
                      },
                      {
                        "learn": [
                          0.8939221982,
                          0.3792068749
                        ],
                        "iteration": 661,
                        "passed_time": 211.0994703,
                        "remaining_time": 1383.307405,
                        "test": [
                          0.7819061499,
                          0.6045453146
                        ]
                      },
                      {
                        "learn": [
                          0.8939228886,
                          0.3789178832
                        ],
                        "iteration": 662,
                        "passed_time": 211.6401143,
                        "remaining_time": 1384.439179,
                        "test": [
                          0.7813516835,
                          0.6048707332
                        ]
                      },
                      {
                        "learn": [
                          0.8939166653,
                          0.3786550839
                        ],
                        "iteration": 663,
                        "passed_time": 212.2069244,
                        "remaining_time": 1385.736783,
                        "test": [
                          0.780471592,
                          0.6049277393
                        ]
                      },
                      {
                        "learn": [
                          0.8940374662,
                          0.3785117963
                        ],
                        "iteration": 664,
                        "passed_time": 212.6295426,
                        "remaining_time": 1386.088823,
                        "test": [
                          0.7804545732,
                          0.6049231855
                        ]
                      },
                      {
                        "learn": [
                          0.8940372498,
                          0.3783274127
                        ],
                        "iteration": 665,
                        "passed_time": 213.0858808,
                        "remaining_time": 1386.657969,
                        "test": [
                          0.7792780852,
                          0.6051210861
                        ]
                      },
                      {
                        "learn": [
                          0.8941580578,
                          0.3781143444
                        ],
                        "iteration": 666,
                        "passed_time": 213.571969,
                        "remaining_time": 1387.417304,
                        "test": [
                          0.7795721562,
                          0.6050087712
                        ]
                      },
                      {
                        "learn": [
                          0.8941733361,
                          0.377831709
                        ],
                        "iteration": 667,
                        "passed_time": 214.0842978,
                        "remaining_time": 1388.343081,
                        "test": [
                          0.7798405837,
                          0.6046995975
                        ]
                      },
                      {
                        "learn": [
                          0.8942864761,
                          0.3776863358
                        ],
                        "iteration": 668,
                        "passed_time": 214.6691122,
                        "remaining_time": 1389.733819,
                        "test": [
                          0.7795723376,
                          0.6047097777
                        ]
                      },
                      {
                        "learn": [
                          0.8943959216,
                          0.3774576337
                        ],
                        "iteration": 669,
                        "passed_time": 215.2106028,
                        "remaining_time": 1390.838672,
                        "test": [
                          0.7789916229,
                          0.6045757074
                        ]
                      },
                      {
                        "learn": [
                          0.8944011691,
                          0.377335271
                        ],
                        "iteration": 670,
                        "passed_time": 215.9130102,
                        "remaining_time": 1392.976783,
                        "test": [
                          0.7795838036,
                          0.6047735575
                        ]
                      },
                      {
                        "learn": [
                          0.8945302206,
                          0.37716222
                        ],
                        "iteration": 671,
                        "passed_time": 216.6410838,
                        "remaining_time": 1395.271742,
                        "test": [
                          0.7798661993,
                          0.6047181042
                        ]
                      },
                      {
                        "learn": [
                          0.8946581208,
                          0.3769052992
                        ],
                        "iteration": 672,
                        "passed_time": 217.1095082,
                        "remaining_time": 1395.888324,
                        "test": [
                          0.7801642694,
                          0.6044705708
                        ]
                      },
                      {
                        "learn": [
                          0.8949104097,
                          0.376751741
                        ],
                        "iteration": 673,
                        "passed_time": 217.5584248,
                        "remaining_time": 1396.376477,
                        "test": [
                          0.7804302273,
                          0.6044903697
                        ]
                      },
                      {
                        "learn": [
                          0.8947768381,
                          0.3764667505
                        ],
                        "iteration": 674,
                        "passed_time": 217.8185942,
                        "remaining_time": 1395.652474,
                        "test": [
                          0.780708488,
                          0.6044206753
                        ]
                      },
                      {
                        "learn": [
                          0.8945329285,
                          0.376217778
                        ],
                        "iteration": 675,
                        "passed_time": 218.0565933,
                        "remaining_time": 1394.788032,
                        "test": [
                          0.7804262276,
                          0.6045189725
                        ]
                      },
                      {
                        "learn": [
                          0.8950242043,
                          0.3760326735
                        ],
                        "iteration": 676,
                        "passed_time": 218.2939355,
                        "remaining_time": 1393.921245,
                        "test": [
                          0.780143864,
                          0.604596788
                        ]
                      },
                      {
                        "learn": [
                          0.8951395083,
                          0.375833235
                        ],
                        "iteration": 677,
                        "passed_time": 218.5693592,
                        "remaining_time": 1393.299072,
                        "test": [
                          0.7804433006,
                          0.6045269951
                        ]
                      },
                      {
                        "learn": [
                          0.8952623641,
                          0.3754125993
                        ],
                        "iteration": 678,
                        "passed_time": 218.8207458,
                        "remaining_time": 1392.524952,
                        "test": [
                          0.7804433006,
                          0.6043848305
                        ]
                      },
                      {
                        "learn": [
                          0.8953945296,
                          0.3751609342
                        ],
                        "iteration": 679,
                        "passed_time": 219.0583877,
                        "remaining_time": 1391.665051,
                        "test": [
                          0.7810033609,
                          0.6042187777
                        ]
                      },
                      {
                        "learn": [
                          0.8953927907,
                          0.3747549536
                        ],
                        "iteration": 680,
                        "passed_time": 219.3022518,
                        "remaining_time": 1390.84644,
                        "test": [
                          0.7809852173,
                          0.6040579571
                        ]
                      },
                      {
                        "learn": [
                          0.8951458255,
                          0.3745694728
                        ],
                        "iteration": 681,
                        "passed_time": 219.5773029,
                        "remaining_time": 1390.22697,
                        "test": [
                          0.7801017712,
                          0.6041537446
                        ]
                      },
                      {
                        "learn": [
                          0.8951458255,
                          0.3744034359
                        ],
                        "iteration": 682,
                        "passed_time": 219.8387239,
                        "remaining_time": 1389.522359,
                        "test": [
                          0.77980397,
                          0.6042381408
                        ]
                      },
                      {
                        "learn": [
                          0.8949007802,
                          0.3741698024
                        ],
                        "iteration": 683,
                        "passed_time": 220.0842049,
                        "remaining_time": 1388.718463,
                        "test": [
                          0.7795366602,
                          0.6042128426
                        ]
                      },
                      {
                        "learn": [
                          0.8948964518,
                          0.3739315162
                        ],
                        "iteration": 684,
                        "passed_time": 220.3226988,
                        "remaining_time": 1387.872183,
                        "test": [
                          0.7792503112,
                          0.6044772064
                        ]
                      },
                      {
                        "learn": [
                          0.8947801629,
                          0.3737045281
                        ],
                        "iteration": 685,
                        "passed_time": 220.5821746,
                        "remaining_time": 1387.159623,
                        "test": [
                          0.7795432062,
                          0.604297044
                        ]
                      },
                      {
                        "learn": [
                          0.8950115447,
                          0.3735220555
                        ],
                        "iteration": 686,
                        "passed_time": 220.8441362,
                        "remaining_time": 1386.463988,
                        "test": [
                          0.7798256767,
                          0.6042190504
                        ]
                      },
                      {
                        "learn": [
                          0.8956088736,
                          0.3732269227
                        ],
                        "iteration": 687,
                        "passed_time": 221.0933571,
                        "remaining_time": 1385.689761,
                        "test": [
                          0.7798114004,
                          0.6041301329
                        ]
                      },
                      {
                        "learn": [
                          0.8958554218,
                          0.3731012841
                        ],
                        "iteration": 688,
                        "passed_time": 221.3271949,
                        "remaining_time": 1384.820809,
                        "test": [
                          0.7801053705,
                          0.6040007676
                        ]
                      },
                      {
                        "learn": [
                          0.8956171404,
                          0.3729322391
                        ],
                        "iteration": 689,
                        "passed_time": 221.5610739,
                        "remaining_time": 1383.953954,
                        "test": [
                          0.779807801,
                          0.6038968144
                        ]
                      },
                      {
                        "learn": [
                          0.8958626521,
                          0.3727391273
                        ],
                        "iteration": 690,
                        "passed_time": 221.8473644,
                        "remaining_time": 1383.415765,
                        "test": [
                          0.7798242155,
                          0.6040352587
                        ]
                      },
                      {
                        "learn": [
                          0.8958582451,
                          0.3725946747
                        ],
                        "iteration": 691,
                        "passed_time": 222.1006253,
                        "remaining_time": 1382.672679,
                        "test": [
                          0.7792708693,
                          0.6039315854
                        ]
                      },
                      {
                        "learn": [
                          0.895619937,
                          0.3721971928
                        ],
                        "iteration": 692,
                        "passed_time": 222.339589,
                        "remaining_time": 1381.84215,
                        "test": [
                          0.7789779835,
                          0.603563014
                        ]
                      },
                      {
                        "learn": [
                          0.8958681403,
                          0.3719895587
                        ],
                        "iteration": 693,
                        "passed_time": 222.5773875,
                        "remaining_time": 1381.006096,
                        "test": [
                          0.7789958551,
                          0.6034668881
                        ]
                      },
                      {
                        "learn": [
                          0.8957541411,
                          0.3718011429
                        ],
                        "iteration": 694,
                        "passed_time": 222.8549564,
                        "remaining_time": 1380.418111,
                        "test": [
                          0.7786965273,
                          0.6034747482
                        ]
                      },
                      {
                        "learn": [
                          0.8955210184,
                          0.3715633088
                        ],
                        "iteration": 695,
                        "passed_time": 223.099926,
                        "remaining_time": 1379.629427,
                        "test": [
                          0.7784244404,
                          0.603463906
                        ]
                      },
                      {
                        "learn": [
                          0.8953901122,
                          0.3713717175
                        ],
                        "iteration": 696,
                        "passed_time": 223.3317867,
                        "remaining_time": 1378.761375,
                        "test": [
                          0.7784330923,
                          0.6035702237
                        ]
                      },
                      {
                        "learn": [
                          0.895746191,
                          0.3711490819
                        ],
                        "iteration": 697,
                        "passed_time": 223.5660135,
                        "remaining_time": 1377.909728,
                        "test": [
                          0.7787087682,
                          0.6036181463
                        ]
                      },
                      {
                        "learn": [
                          0.8954920286,
                          0.370872287
                        ],
                        "iteration": 698,
                        "passed_time": 223.8459334,
                        "remaining_time": 1377.341001,
                        "test": [
                          0.7786805269,
                          0.6035198302
                        ]
                      },
                      {
                        "learn": [
                          0.8956089691,
                          0.370671463
                        ],
                        "iteration": 699,
                        "passed_time": 224.096861,
                        "remaining_time": 1376.595003,
                        "test": [
                          0.7781212477,
                          0.6035164304
                        ]
                      },
                      {
                        "learn": [
                          0.8961040339,
                          0.3705285373
                        ],
                        "iteration": 700,
                        "passed_time": 224.3293444,
                        "remaining_time": 1375.737306,
                        "test": [
                          0.7778456437,
                          0.6035516968
                        ]
                      },
                      {
                        "learn": [
                          0.8961124812,
                          0.3702918643
                        ],
                        "iteration": 701,
                        "passed_time": 224.5673444,
                        "remaining_time": 1374.915166,
                        "test": [
                          0.7784396125,
                          0.6034813343
                        ]
                      },
                      {
                        "learn": [
                          0.8962207599,
                          0.3700685807
                        ],
                        "iteration": 702,
                        "passed_time": 224.8419504,
                        "remaining_time": 1374.318437,
                        "test": [
                          0.7781448608,
                          0.6035916124
                        ]
                      },
                      {
                        "learn": [
                          0.8964590225,
                          0.3699123531
                        ],
                        "iteration": 703,
                        "passed_time": 225.0987183,
                        "remaining_time": 1373.61377,
                        "test": [
                          0.7787323641,
                          0.6035474543
                        ]
                      },
                      {
                        "learn": [
                          0.8965871721,
                          0.3697930126
                        ],
                        "iteration": 704,
                        "passed_time": 225.3620801,
                        "remaining_time": 1372.950545,
                        "test": [
                          0.7787323641,
                          0.6037480603
                        ]
                      },
                      {
                        "learn": [
                          0.8963447903,
                          0.3696457939
                        ],
                        "iteration": 705,
                        "passed_time": 225.601201,
                        "remaining_time": 1372.141016,
                        "test": [
                          0.7784345835,
                          0.6037674961
                        ]
                      },
                      {
                        "learn": [
                          0.8959757337,
                          0.3693486968
                        ],
                        "iteration": 706,
                        "passed_time": 225.8590783,
                        "remaining_time": 1371.446992,
                        "test": [
                          0.7781585249,
                          0.6033668044
                        ]
                      },
                      {
                        "learn": [
                          0.8961037359,
                          0.3692444654
                        ],
                        "iteration": 707,
                        "passed_time": 226.1246413,
                        "remaining_time": 1370.800792,
                        "test": [
                          0.7778584347,
                          0.603521053
                        ]
                      },
                      {
                        "learn": [
                          0.8961109404,
                          0.3690975066
                        ],
                        "iteration": 708,
                        "passed_time": 226.3722084,
                        "remaining_time": 1370.046751,
                        "test": [
                          0.7775825185,
                          0.6035172422
                        ]
                      },
                      {
                        "learn": [
                          0.8962286089,
                          0.3689233691
                        ],
                        "iteration": 709,
                        "passed_time": 226.6148855,
                        "remaining_time": 1369.26459,
                        "test": [
                          0.7778593216,
                          0.6034502345
                        ]
                      },
                      {
                        "learn": [
                          0.8964864782,
                          0.3687951474
                        ],
                        "iteration": 710,
                        "passed_time": 226.8553873,
                        "remaining_time": 1368.470824,
                        "test": [
                          0.7776066725,
                          0.6036036751
                        ]
                      },
                      {
                        "learn": [
                          0.8964971307,
                          0.3684842679
                        ],
                        "iteration": 711,
                        "passed_time": 227.2484045,
                        "remaining_time": 1368.597132,
                        "test": [
                          0.777628844,
                          0.6035920103
                        ]
                      },
                      {
                        "learn": [
                          0.8967414527,
                          0.3682865894
                        ],
                        "iteration": 712,
                        "passed_time": 227.4802582,
                        "remaining_time": 1367.752969,
                        "test": [
                          0.7773469363,
                          0.6035869941
                        ]
                      },
                      {
                        "learn": [
                          0.8966143415,
                          0.3681460534
                        ],
                        "iteration": 713,
                        "passed_time": 227.7803553,
                        "remaining_time": 1367.320172,
                        "test": [
                          0.777628844,
                          0.6036361661
                        ]
                      },
                      {
                        "learn": [
                          0.8964884047,
                          0.3678429467
                        ],
                        "iteration": 714,
                        "passed_time": 228.2176038,
                        "remaining_time": 1367.709696,
                        "test": [
                          0.7785140229,
                          0.6036420657
                        ]
                      },
                      {
                        "learn": [
                          0.8966001645,
                          0.3677000942
                        ],
                        "iteration": 715,
                        "passed_time": 228.621963,
                        "remaining_time": 1367.900125,
                        "test": [
                          0.7787846924,
                          0.6036924805
                        ]
                      },
                      {
                        "learn": [
                          0.8965997752,
                          0.3674962992
                        ],
                        "iteration": 716,
                        "passed_time": 228.9872852,
                        "remaining_time": 1367.855708,
                        "test": [
                          0.7784756787,
                          0.6037727833
                        ]
                      },
                      {
                        "learn": [
                          0.8969650431,
                          0.3673151697
                        ],
                        "iteration": 717,
                        "passed_time": 229.4506863,
                        "remaining_time": 1368.395319,
                        "test": [
                          0.7784756787,
                          0.603813764
                        ]
                      },
                      {
                        "learn": [
                          0.897463623,
                          0.3671753766
                        ],
                        "iteration": 718,
                        "passed_time": 229.8012886,
                        "remaining_time": 1368.260524,
                        "test": [
                          0.7787675411,
                          0.6036987473
                        ]
                      },
                      {
                        "learn": [
                          0.897463623,
                          0.3670105447
                        ],
                        "iteration": 719,
                        "passed_time": 230.1750661,
                        "remaining_time": 1368.262893,
                        "test": [
                          0.7790593286,
                          0.6035525573
                        ]
                      },
                      {
                        "learn": [
                          0.8974638496,
                          0.3668757698
                        ],
                        "iteration": 720,
                        "passed_time": 230.5912539,
                        "remaining_time": 1368.515916,
                        "test": [
                          0.778782692,
                          0.6035312208
                        ]
                      },
                      {
                        "learn": [
                          0.8974529726,
                          0.366684147
                        ],
                        "iteration": 721,
                        "passed_time": 230.9878479,
                        "remaining_time": 1368.650988,
                        "test": [
                          0.778782692,
                          0.6035093542
                        ]
                      },
                      {
                        "learn": [
                          0.8976833863,
                          0.3664644029
                        ],
                        "iteration": 722,
                        "passed_time": 231.2428032,
                        "remaining_time": 1367.946707,
                        "test": [
                          0.7787601992,
                          0.6035228781
                        ]
                      },
                      {
                        "learn": [
                          0.8976784507,
                          0.3661409075
                        ],
                        "iteration": 723,
                        "passed_time": 231.5111778,
                        "remaining_time": 1367.322923,
                        "test": [
                          0.7781686211,
                          0.6032955963
                        ]
                      },
                      {
                        "learn": [
                          0.8976682809,
                          0.3658920353
                        ],
                        "iteration": 724,
                        "passed_time": 231.7524617,
                        "remaining_time": 1366.540378,
                        "test": [
                          0.7784454629,
                          0.603402636
                        ]
                      },
                      {
                        "learn": [
                          0.8977945123,
                          0.3657102647
                        ],
                        "iteration": 725,
                        "passed_time": 231.9929565,
                        "remaining_time": 1365.754678,
                        "test": [
                          0.7784454629,
                          0.6037256893
                        ]
                      },
                      {
                        "learn": [
                          0.8980464581,
                          0.3655199334
                        ],
                        "iteration": 726,
                        "passed_time": 232.2293091,
                        "remaining_time": 1364.946132,
                        "test": [
                          0.7781842267,
                          0.6038941207
                        ]
                      },
                      {
                        "learn": [
                          0.8980467846,
                          0.3653525097
                        ],
                        "iteration": 727,
                        "passed_time": 232.471551,
                        "remaining_time": 1364.173717,
                        "test": [
                          0.7784528449,
                          0.6038286586
                        ]
                      },
                      {
                        "learn": [
                          0.8978124923,
                          0.3651332895
                        ],
                        "iteration": 728,
                        "passed_time": 232.7620197,
                        "remaining_time": 1363.685303,
                        "test": [
                          0.7787469209,
                          0.6040620202
                        ]
                      },
                      {
                        "learn": [
                          0.8982876064,
                          0.3649520182
                        ],
                        "iteration": 729,
                        "passed_time": 233.0067755,
                        "remaining_time": 1362.930043,
                        "test": [
                          0.7787448816,
                          0.6039561368
                        ]
                      },
                      {
                        "learn": [
                          0.8982848614,
                          0.3645475696
                        ],
                        "iteration": 730,
                        "passed_time": 233.2484076,
                        "remaining_time": 1362.157937,
                        "test": [
                          0.779036277,
                          0.6038605384
                        ]
                      },
                      {
                        "learn": [
                          0.898162269,
                          0.3643531506
                        ],
                        "iteration": 731,
                        "passed_time": 233.4858103,
                        "remaining_time": 1361.362621,
                        "test": [
                          0.7793350568,
                          0.6040101024
                        ]
                      },
                      {
                        "learn": [
                          0.8981641351,
                          0.3641698612
                        ],
                        "iteration": 732,
                        "passed_time": 233.7649723,
                        "remaining_time": 1360.811919,
                        "test": [
                          0.7790420361,
                          0.6039784962
                        ]
                      },
                      {
                        "learn": [
                          0.897802702,
                          0.3639308477
                        ],
                        "iteration": 733,
                        "passed_time": 234.0059924,
                        "remaining_time": 1360.040277,
                        "test": [
                          0.7793492733,
                          0.6039519047
                        ]
                      },
                      {
                        "learn": [
                          0.8978002419,
                          0.3637316414
                        ],
                        "iteration": 734,
                        "passed_time": 234.244838,
                        "remaining_time": 1359.257461,
                        "test": [
                          0.7799041197,
                          0.603928724
                        ]
                      },
                      {
                        "learn": [
                          0.8981893405,
                          0.3634429337
                        ],
                        "iteration": 735,
                        "passed_time": 234.4859533,
                        "remaining_time": 1358.489273,
                        "test": [
                          0.7798860817,
                          0.6038468296
                        ]
                      },
                      {
                        "learn": [
                          0.8986784328,
                          0.3633088217
                        ],
                        "iteration": 736,
                        "passed_time": 234.7693887,
                        "remaining_time": 1357.967306,
                        "test": [
                          0.779872436,
                          0.6038181656
                        ]
                      },
                      {
                        "learn": [
                          0.8985443992,
                          0.3631288799
                        ],
                        "iteration": 737,
                        "passed_time": 235.0105962,
                        "remaining_time": 1357.202115,
                        "test": [
                          0.7804471511,
                          0.6036159512
                        ]
                      },
                      {
                        "learn": [
                          0.8985508775,
                          0.3629252444
                        ],
                        "iteration": 738,
                        "passed_time": 235.2487254,
                        "remaining_time": 1356.420594,
                        "test": [
                          0.7804370598,
                          0.6036561599
                        ]
                      },
                      {
                        "learn": [
                          0.8990279046,
                          0.3627247211
                        ],
                        "iteration": 739,
                        "passed_time": 235.4977953,
                        "remaining_time": 1355.703524,
                        "test": [
                          0.7807297336,
                          0.6032940771
                        ]
                      },
                      {
                        "learn": [
                          0.8988998618,
                          0.3625404085
                        ],
                        "iteration": 740,
                        "passed_time": 235.7639065,
                        "remaining_time": 1355.085665,
                        "test": [
                          0.78041417,
                          0.6031520385
                        ]
                      },
                      {
                        "learn": [
                          0.8992514854,
                          0.3623736974
                        ],
                        "iteration": 741,
                        "passed_time": 236.0123119,
                        "remaining_time": 1354.367149,
                        "test": [
                          0.7795287737,
                          0.6034139425
                        ]
                      },
                      {
                        "learn": [
                          0.8997375217,
                          0.3622219612
                        ],
                        "iteration": 742,
                        "passed_time": 236.2568433,
                        "remaining_time": 1353.627701,
                        "test": [
                          0.7798196462,
                          0.6034785396
                        ]
                      },
                      {
                        "learn": [
                          0.8995021903,
                          0.3620573052
                        ],
                        "iteration": 743,
                        "passed_time": 236.5060366,
                        "remaining_time": 1352.916252,
                        "test": [
                          0.7798196462,
                          0.6034569857
                        ]
                      },
                      {
                        "learn": [
                          0.8994879882,
                          0.3618319333
                        ],
                        "iteration": 744,
                        "passed_time": 236.772875,
                        "remaining_time": 1352.306823,
                        "test": [
                          0.7798279454,
                          0.6033863694
                        ]
                      },
                      {
                        "learn": [
                          0.8994915059,
                          0.3616703121
                        ],
                        "iteration": 745,
                        "passed_time": 237.0288559,
                        "remaining_time": 1351.636398,
                        "test": [
                          0.7798279454,
                          0.6034855503
                        ]
                      },
                      {
                        "learn": [
                          0.8993625693,
                          0.3614728791
                        ],
                        "iteration": 746,
                        "passed_time": 237.2647181,
                        "remaining_time": 1350.852538,
                        "test": [
                          0.779538793,
                          0.603489943
                        ]
                      },
                      {
                        "learn": [
                          0.899734966,
                          0.3613248687
                        ],
                        "iteration": 747,
                        "passed_time": 237.5088839,
                        "remaining_time": 1350.117345,
                        "test": [
                          0.779538793,
                          0.6034977553
                        ]
                      },
                      {
                        "learn": [
                          0.899732459,
                          0.3611124211
                        ],
                        "iteration": 748,
                        "passed_time": 237.7502451,
                        "remaining_time": 1349.367546,
                        "test": [
                          0.7789426553,
                          0.6032783415
                        ]
                      },
                      {
                        "learn": [
                          0.9001020541,
                          0.3608022817
                        ],
                        "iteration": 749,
                        "passed_time": 238.0366753,
                        "remaining_time": 1348.874493,
                        "test": [
                          0.7792472365,
                          0.6030110644
                        ]
                      },
                      {
                        "learn": [
                          0.9005916013,
                          0.3606521924
                        ],
                        "iteration": 750,
                        "passed_time": 238.2773258,
                        "remaining_time": 1348.122979,
                        "test": [
                          0.7789329317,
                          0.6030536265
                        ]
                      },
                      {
                        "learn": [
                          0.9003545336,
                          0.3603564456
                        ],
                        "iteration": 751,
                        "passed_time": 238.5194703,
                        "remaining_time": 1347.381263,
                        "test": [
                          0.7783775375,
                          0.6030930288
                        ]
                      },
                      {
                        "learn": [
                          0.9004843968,
                          0.3600768323
                        ],
                        "iteration": 752,
                        "passed_time": 238.754836,
                        "remaining_time": 1346.602641,
                        "test": [
                          0.7798560384,
                          0.6031508607
                        ]
                      },
                      {
                        "learn": [
                          0.9007264381,
                          0.3599277372
                        ],
                        "iteration": 753,
                        "passed_time": 239.0403408,
                        "remaining_time": 1346.107808,
                        "test": [
                          0.7792711626,
                          0.6032337937
                        ]
                      },
                      {
                        "learn": [
                          0.9009682035,
                          0.3597400067
                        ],
                        "iteration": 754,
                        "passed_time": 239.2798849,
                        "remaining_time": 1345.355115,
                        "test": [
                          0.7792740151,
                          0.6031118489
                        ]
                      },
                      {
                        "learn": [
                          0.9010853049,
                          0.3596120935
                        ],
                        "iteration": 755,
                        "passed_time": 239.5261389,
                        "remaining_time": 1344.641446,
                        "test": [
                          0.7795609375,
                          0.6029186806
                        ]
                      },
                      {
                        "learn": [
                          0.9013239385,
                          0.3593266069
                        ],
                        "iteration": 756,
                        "passed_time": 239.7646882,
                        "remaining_time": 1343.885828,
                        "test": [
                          0.7792781172,
                          0.6029468976
                        ]
                      },
                      {
                        "learn": [
                          0.9013141407,
                          0.3591572243
                        ],
                        "iteration": 757,
                        "passed_time": 240.0554244,
                        "remaining_time": 1343.423628,
                        "test": [
                          0.7792781172,
                          0.6031250075
                        ]
                      },
                      {
                        "learn": [
                          0.9008206401,
                          0.358952348
                        ],
                        "iteration": 758,
                        "passed_time": 240.2922826,
                        "remaining_time": 1342.66083,
                        "test": [
                          0.780140903,
                          0.6030883397
                        ]
                      },
                      {
                        "learn": [
                          0.9013098931,
                          0.3587131193
                        ],
                        "iteration": 759,
                        "passed_time": 240.5487935,
                        "remaining_time": 1342.009058,
                        "test": [
                          0.7792868264,
                          0.6029719325
                        ]
                      },
                      {
                        "learn": [
                          0.9010763162,
                          0.3585259697
                        ],
                        "iteration": 760,
                        "passed_time": 240.7875371,
                        "remaining_time": 1341.259356,
                        "test": [
                          0.7795630178,
                          0.6029300851
                        ]
                      },
                      {
                        "learn": [
                          0.9014614664,
                          0.3583179145
                        ],
                        "iteration": 761,
                        "passed_time": 241.0757606,
                        "remaining_time": 1340.786185,
                        "test": [
                          0.77926599,
                          0.603031197
                        ]
                      },
                      {
                        "learn": [
                          0.9012171405,
                          0.3580431913
                        ],
                        "iteration": 762,
                        "passed_time": 241.4329243,
                        "remaining_time": 1340.696331,
                        "test": [
                          0.7801524414,
                          0.6030084344
                        ]
                      },
                      {
                        "learn": [
                          0.9020519019,
                          0.3577879743
                        ],
                        "iteration": 763,
                        "passed_time": 241.823974,
                        "remaining_time": 1340.793657,
                        "test": [
                          0.7793102947,
                          0.6031557806
                        ]
                      },
                      {
                        "learn": [
                          0.9021798005,
                          0.3575774534
                        ],
                        "iteration": 764,
                        "passed_time": 242.211338,
                        "remaining_time": 1340.869303,
                        "test": [
                          0.7790178624,
                          0.6031675409
                        ]
                      },
                      {
                        "learn": [
                          0.9024251393,
                          0.357423504
                        ],
                        "iteration": 765,
                        "passed_time": 242.5825591,
                        "remaining_time": 1340.854511,
                        "test": [
                          0.7790304122,
                          0.603185283
                        ]
                      },
                      {
                        "learn": [
                          0.9027912918,
                          0.3572148059
                        ],
                        "iteration": 766,
                        "passed_time": 242.9695058,
                        "remaining_time": 1340.925578,
                        "test": [
                          0.7796056243,
                          0.603062927
                        ]
                      },
                      {
                        "learn": [
                          0.9030372205,
                          0.3570362036
                        ],
                        "iteration": 767,
                        "passed_time": 243.4177506,
                        "remaining_time": 1341.33323,
                        "test": [
                          0.7793077263,
                          0.6030303827
                        ]
                      },
                      {
                        "learn": [
                          0.9029201779,
                          0.3568215932
                        ],
                        "iteration": 768,
                        "passed_time": 243.7878219,
                        "remaining_time": 1341.30855,
                        "test": [
                          0.7784933288,
                          0.602906562
                        ]
                      },
                      {
                        "learn": [
                          0.9032792608,
                          0.3566782983
                        ],
                        "iteration": 769,
                        "passed_time": 244.1738803,
                        "remaining_time": 1341.370797,
                        "test": [
                          0.7784933793,
                          0.6027140833
                        ]
                      },
                      {
                        "learn": [
                          0.9034002619,
                          0.3564856505
                        ],
                        "iteration": 770,
                        "passed_time": 244.5448859,
                        "remaining_time": 1341.349316,
                        "test": [
                          0.7784918566,
                          0.6027311506
                        ]
                      },
                      {
                        "learn": [
                          0.90351727,
                          0.3563427642
                        ],
                        "iteration": 771,
                        "passed_time": 244.8409121,
                        "remaining_time": 1340.916291,
                        "test": [
                          0.7784917136,
                          0.6028154419
                        ]
                      },
                      {
                        "learn": [
                          0.9037626339,
                          0.3560911419
                        ],
                        "iteration": 772,
                        "passed_time": 245.0836895,
                        "remaining_time": 1340.192439,
                        "test": [
                          0.7790437724,
                          0.6029368069
                        ]
                      },
                      {
                        "learn": [
                          0.9038836447,
                          0.3559513651
                        ],
                        "iteration": 773,
                        "passed_time": 245.3155877,
                        "remaining_time": 1339.410431,
                        "test": [
                          0.7787443358,
                          0.6028800883
                        ]
                      },
                      {
                        "learn": [
                          0.9040083537,
                          0.3557565878
                        ],
                        "iteration": 774,
                        "passed_time": 245.5553919,
                        "remaining_time": 1338.672943,
                        "test": [
                          0.7787486127,
                          0.6027318842
                        ]
                      },
                      {
                        "learn": [
                          0.9040060036,
                          0.3555217723
                        ],
                        "iteration": 775,
                        "passed_time": 245.8591498,
                        "remaining_time": 1338.284857,
                        "test": [
                          0.7784688245,
                          0.6025798239
                        ]
                      },
                      {
                        "learn": [
                          0.9040060036,
                          0.3552037799
                        ],
                        "iteration": 776,
                        "passed_time": 246.0992164,
                        "remaining_time": 1337.550825,
                        "test": [
                          0.7784685251,
                          0.6023909383
                        ]
                      },
                      {
                        "learn": [
                          0.9041153437,
                          0.3548752026
                        ],
                        "iteration": 777,
                        "passed_time": 246.3312111,
                        "remaining_time": 1336.774259,
                        "test": [
                          0.7784771279,
                          0.6024079678
                        ]
                      },
                      {
                        "learn": [
                          0.9043693659,
                          0.3545794549
                        ],
                        "iteration": 778,
                        "passed_time": 246.5686806,
                        "remaining_time": 1336.028756,
                        "test": [
                          0.7787550106,
                          0.6025248879
                        ]
                      },
                      {
                        "learn": [
                          0.904619768,
                          0.3544661488
                        ],
                        "iteration": 779,
                        "passed_time": 246.8654349,
                        "remaining_time": 1335.605302,
                        "test": [
                          0.7787550106,
                          0.6025548384
                        ]
                      },
                      {
                        "learn": [
                          0.9047367253,
                          0.354292366
                        ],
                        "iteration": 780,
                        "passed_time": 247.1072452,
                        "remaining_time": 1334.885362,
                        "test": [
                          0.7787550106,
                          0.6024387895
                        ]
                      },
                      {
                        "learn": [
                          0.9047290019,
                          0.3541208242
                        ],
                        "iteration": 781,
                        "passed_time": 247.3522291,
                        "remaining_time": 1334.183763,
                        "test": [
                          0.7793461521,
                          0.6024258816
                        ]
                      },
                      {
                        "learn": [
                          0.9047217196,
                          0.3540323371
                        ],
                        "iteration": 782,
                        "passed_time": 247.5876895,
                        "remaining_time": 1333.432039,
                        "test": [
                          0.7793461521,
                          0.6024162154
                        ]
                      },
                      {
                        "learn": [
                          0.9047217196,
                          0.3538658656
                        ],
                        "iteration": 783,
                        "passed_time": 247.883574,
                        "remaining_time": 1333.006566,
                        "test": [
                          0.779059008,
                          0.6024425396
                        ]
                      },
                      {
                        "learn": [
                          0.9047247177,
                          0.3537037993
                        ],
                        "iteration": 784,
                        "passed_time": 248.1412081,
                        "remaining_time": 1332.376041,
                        "test": [
                          0.7793372729,
                          0.6022368386
                        ]
                      },
                      {
                        "learn": [
                          0.9047247177,
                          0.3535344021
                        ],
                        "iteration": 785,
                        "passed_time": 248.3852317,
                        "remaining_time": 1331.673494,
                        "test": [
                          0.7801996186,
                          0.6020240583
                        ]
                      },
                      {
                        "learn": [
                          0.9047247177,
                          0.3533224686
                        ],
                        "iteration": 786,
                        "passed_time": 248.6226184,
                        "remaining_time": 1330.936584,
                        "test": [
                          0.7804660648,
                          0.6021939038
                        ]
                      },
                      {
                        "learn": [
                          0.9049834504,
                          0.3531625904
                        ],
                        "iteration": 787,
                        "passed_time": 248.8951414,
                        "remaining_time": 1330.388751,
                        "test": [
                          0.7795895147,
                          0.6020778932
                        ]
                      },
                      {
                        "learn": [
                          0.9048664192,
                          0.3529278326
                        ],
                        "iteration": 788,
                        "passed_time": 249.1560772,
                        "remaining_time": 1329.779773,
                        "test": [
                          0.7787425605,
                          0.6023121558
                        ]
                      },
                      {
                        "learn": [
                          0.9048664192,
                          0.3528291198
                        ],
                        "iteration": 789,
                        "passed_time": 249.3942511,
                        "remaining_time": 1329.050376,
                        "test": [
                          0.7778688085,
                          0.6022316378
                        ]
                      },
                      {
                        "learn": [
                          0.9049976248,
                          0.3524569436
                        ],
                        "iteration": 790,
                        "passed_time": 249.6324161,
                        "remaining_time": 1328.322174,
                        "test": [
                          0.7787262761,
                          0.6020165301
                        ]
                      },
                      {
                        "learn": [
                          0.9049982624,
                          0.3523431614
                        ],
                        "iteration": 791,
                        "passed_time": 249.8863183,
                        "remaining_time": 1327.678823,
                        "test": [
                          0.7787403478,
                          0.6019520139
                        ]
                      },
                      {
                        "learn": [
                          0.9051231189,
                          0.352044737
                        ],
                        "iteration": 792,
                        "passed_time": 250.1809979,
                        "remaining_time": 1327.252785,
                        "test": [
                          0.7784617914,
                          0.6020543201
                        ]
                      },
                      {
                        "learn": [
                          0.9052411093,
                          0.3518681108
                        ],
                        "iteration": 793,
                        "passed_time": 250.4185022,
                        "remaining_time": 1326.524207,
                        "test": [
                          0.7784559073,
                          0.6021755271
                        ]
                      },
                      {
                        "learn": [
                          0.9051198988,
                          0.3516229585
                        ],
                        "iteration": 794,
                        "passed_time": 250.6670943,
                        "remaining_time": 1325.855511,
                        "test": [
                          0.7778851322,
                          0.6020641667
                        ]
                      },
                      {
                        "learn": [
                          0.9051110974,
                          0.3514350768
                        ],
                        "iteration": 795,
                        "passed_time": 250.917002,
                        "remaining_time": 1325.194819,
                        "test": [
                          0.7778851322,
                          0.6022886929
                        ]
                      },
                      {
                        "learn": [
                          0.9052323179,
                          0.3512846117
                        ],
                        "iteration": 796,
                        "passed_time": 251.2097284,
                        "remaining_time": 1324.760964,
                        "test": [
                          0.7778858404,
                          0.602312144
                        ]
                      },
                      {
                        "learn": [
                          0.9053495405,
                          0.3511704191
                        ],
                        "iteration": 797,
                        "passed_time": 251.453286,
                        "remaining_time": 1324.068556,
                        "test": [
                          0.7776092392,
                          0.602262566
                        ]
                      },
                      {
                        "learn": [
                          0.905345676,
                          0.350949496
                        ],
                        "iteration": 798,
                        "passed_time": 251.6870088,
                        "remaining_time": 1323.325562,
                        "test": [
                          0.7781806751,
                          0.6022673821
                        ]
                      },
                      {
                        "learn": [
                          0.9052212554,
                          0.3507688623
                        ],
                        "iteration": 799,
                        "passed_time": 251.9380548,
                        "remaining_time": 1322.674788,
                        "test": [
                          0.7778879005,
                          0.6024396409
                        ]
                      },
                      {
                        "learn": [
                          0.9053403796,
                          0.3506080687
                        ],
                        "iteration": 800,
                        "passed_time": 252.2262653,
                        "remaining_time": 1322.219835,
                        "test": [
                          0.7772972058,
                          0.602416212
                        ]
                      },
                      {
                        "learn": [
                          0.9052204542,
                          0.3505134599
                        ],
                        "iteration": 801,
                        "passed_time": 252.4750452,
                        "remaining_time": 1321.558902,
                        "test": [
                          0.7770178707,
                          0.6025614463
                        ]
                      },
                      {
                        "learn": [
                          0.9052270591,
                          0.350289028
                        ],
                        "iteration": 802,
                        "passed_time": 252.7153472,
                        "remaining_time": 1320.854685,
                        "test": [
                          0.7767240917,
                          0.6025950419
                        ]
                      },
                      {
                        "learn": [
                          0.905580868,
                          0.3501289933
                        ],
                        "iteration": 803,
                        "passed_time": 252.9704462,
                        "remaining_time": 1320.228846,
                        "test": [
                          0.7764420957,
                          0.6025664087
                        ]
                      },
                      {
                        "learn": [
                          0.9055794958,
                          0.3499549184
                        ],
                        "iteration": 804,
                        "passed_time": 253.2589521,
                        "remaining_time": 1319.778017,
                        "test": [
                          0.7761495431,
                          0.6024724146
                        ]
                      },
                      {
                        "learn": [
                          0.9057007746,
                          0.3496958449
                        ],
                        "iteration": 805,
                        "passed_time": 253.4980195,
                        "remaining_time": 1319.07034,
                        "test": [
                          0.7758727717,
                          0.6023416477
                        ]
                      },
                      {
                        "learn": [
                          0.9054557744,
                          0.3495830085
                        ],
                        "iteration": 806,
                        "passed_time": 253.7381925,
                        "remaining_time": 1318.369568,
                        "test": [
                          0.7770309997,
                          0.6023709886
                        ]
                      },
                      {
                        "learn": [
                          0.905573794,
                          0.3494470478
                        ],
                        "iteration": 807,
                        "passed_time": 253.9944622,
                        "remaining_time": 1317.753448,
                        "test": [
                          0.7773090435,
                          0.6022915019
                        ]
                      },
                      {
                        "learn": [
                          0.9056950694,
                          0.3493049796
                        ],
                        "iteration": 808,
                        "passed_time": 254.2603719,
                        "remaining_time": 1317.188156,
                        "test": [
                          0.7775705099,
                          0.6023168447
                        ]
                      },
                      {
                        "learn": [
                          0.9056948712,
                          0.3491953626
                        ],
                        "iteration": 809,
                        "passed_time": 254.6162502,
                        "remaining_time": 1317.088998,
                        "test": [
                          0.7772924643,
                          0.6021982915
                        ]
                      },
                      {
                        "learn": [
                          0.9058261368,
                          0.3490182234
                        ],
                        "iteration": 810,
                        "passed_time": 255.0258256,
                        "remaining_time": 1317.266564,
                        "test": [
                          0.7772718386,
                          0.6022901526
                        ]
                      },
                      {
                        "learn": [
                          0.9058261368,
                          0.348851228
                        ],
                        "iteration": 811,
                        "passed_time": 255.4898845,
                        "remaining_time": 1317.72369,
                        "test": [
                          0.7775583121,
                          0.6021878725
                        ]
                      },
                      {
                        "learn": [
                          0.9057062111,
                          0.3486743464
                        ],
                        "iteration": 812,
                        "passed_time": 255.8763697,
                        "remaining_time": 1317.77904,
                        "test": [
                          0.7778519628,
                          0.601969262
                        ]
                      },
                      {
                        "learn": [
                          0.9058306597,
                          0.348514062
                        ],
                        "iteration": 813,
                        "passed_time": 256.2753013,
                        "remaining_time": 1317.897311,
                        "test": [
                          0.7778519628,
                          0.6020712132
                        ]
                      },
                      {
                        "learn": [
                          0.9059412044,
                          0.3483441815
                        ],
                        "iteration": 814,
                        "passed_time": 256.7612084,
                        "remaining_time": 1318.460929,
                        "test": [
                          0.7781464251,
                          0.6021229732
                        ]
                      },
                      {
                        "learn": [
                          0.9060656068,
                          0.3481613101
                        ],
                        "iteration": 815,
                        "passed_time": 257.130532,
                        "remaining_time": 1318.424199,
                        "test": [
                          0.7778526378,
                          0.6021019881
                        ]
                      },
                      {
                        "learn": [
                          0.9060681005,
                          0.3479702067
                        ],
                        "iteration": 816,
                        "passed_time": 257.4405437,
                        "remaining_time": 1318.082979,
                        "test": [
                          0.7778526378,
                          0.6022286782
                        ]
                      },
                      {
                        "learn": [
                          0.9060716663,
                          0.3477351293
                        ],
                        "iteration": 817,
                        "passed_time": 257.7372343,
                        "remaining_time": 1317.673734,
                        "test": [
                          0.7778526378,
                          0.602126265
                        ]
                      },
                      {
                        "learn": [
                          0.9065481022,
                          0.3475464975
                        ],
                        "iteration": 818,
                        "passed_time": 257.9813856,
                        "remaining_time": 1316.996548,
                        "test": [
                          0.777558778,
                          0.6020888493
                        ]
                      },
                      {
                        "learn": [
                          0.906559476,
                          0.3473435872
                        ],
                        "iteration": 819,
                        "passed_time": 258.2372648,
                        "remaining_time": 1316.380203,
                        "test": [
                          0.7781436537,
                          0.6020023458
                        ]
                      },
                      {
                        "learn": [
                          0.9065519529,
                          0.3472196647
                        ],
                        "iteration": 820,
                        "passed_time": 258.4764433,
                        "remaining_time": 1315.679728,
                        "test": [
                          0.7781436537,
                          0.6018312441
                        ]
                      },
                      {
                        "learn": [
                          0.9064174668,
                          0.3469744245
                        ],
                        "iteration": 821,
                        "passed_time": 258.7438419,
                        "remaining_time": 1315.123809,
                        "test": [
                          0.7784146187,
                          0.601602167
                        ]
                      },
                      {
                        "learn": [
                          0.9065243811,
                          0.3467834551
                        ],
                        "iteration": 822,
                        "passed_time": 258.9959668,
                        "remaining_time": 1314.491073,
                        "test": [
                          0.7778630091,
                          0.6016724092
                        ]
                      },
                      {
                        "learn": [
                          0.9061742771,
                          0.3466523014
                        ],
                        "iteration": 823,
                        "passed_time": 259.2440304,
                        "remaining_time": 1313.838678,
                        "test": [
                          0.7781455493,
                          0.6016610267
                        ]
                      },
                      {
                        "learn": [
                          0.9059319534,
                          0.3464093182
                        ],
                        "iteration": 824,
                        "passed_time": 259.4744952,
                        "remaining_time": 1313.098203,
                        "test": [
                          0.7781503891,
                          0.6014743925
                        ]
                      },
                      {
                        "learn": [
                          0.9061790251,
                          0.3462122783
                        ],
                        "iteration": 825,
                        "passed_time": 259.7112548,
                        "remaining_time": 1312.390772,
                        "test": [
                          0.7784326155,
                          0.6016721256
                        ]
                      },
                      {
                        "learn": [
                          0.9061685172,
                          0.3459920556
                        ],
                        "iteration": 826,
                        "passed_time": 260.0876011,
                        "remaining_time": 1312.388827,
                        "test": [
                          0.7784326155,
                          0.6016826694
                        ]
                      },
                      {
                        "learn": [
                          0.9061653642,
                          0.345793066
                        ],
                        "iteration": 827,
                        "passed_time": 260.340834,
                        "remaining_time": 1311.765651,
                        "test": [
                          0.7790084727,
                          0.6016133392
                        ]
                      },
                      {
                        "learn": [
                          0.9062903013,
                          0.3456734088
                        ],
                        "iteration": 828,
                        "passed_time": 260.5767014,
                        "remaining_time": 1311.055997,
                        "test": [
                          0.7792992728,
                          0.6016778401
                        ]
                      },
                      {
                        "learn": [
                          0.906285384,
                          0.3455308705
                        ],
                        "iteration": 829,
                        "passed_time": 260.8102028,
                        "remaining_time": 1310.335597,
                        "test": [
                          0.7792992728,
                          0.601694892
                        ]
                      },
                      {
                        "learn": [
                          0.9064062135,
                          0.3453644353
                        ],
                        "iteration": 830,
                        "passed_time": 261.0952236,
                        "remaining_time": 1309.874834,
                        "test": [
                          0.7795930052,
                          0.6019214579
                        ]
                      },
                      {
                        "learn": [
                          0.9066518889,
                          0.3452013629
                        ],
                        "iteration": 831,
                        "passed_time": 261.3406495,
                        "remaining_time": 1309.216139,
                        "test": [
                          0.7795879152,
                          0.6017202864
                        ]
                      },
                      {
                        "learn": [
                          0.90727161,
                          0.3450099955
                        ],
                        "iteration": 832,
                        "passed_time": 261.5797945,
                        "remaining_time": 1308.527015,
                        "test": [
                          0.7793056199,
                          0.6017435151
                        ]
                      },
                      {
                        "learn": [
                          0.9076325219,
                          0.3447904212
                        ],
                        "iteration": 833,
                        "passed_time": 261.8190769,
                        "remaining_time": 1307.839658,
                        "test": [
                          0.7795879152,
                          0.6016519459
                        ]
                      },
                      {
                        "learn": [
                          0.9079905652,
                          0.3445699461
                        ],
                        "iteration": 834,
                        "passed_time": 262.1090463,
                        "remaining_time": 1307.406201,
                        "test": [
                          0.7792942558,
                          0.6016107747
                        ]
                      },
                      {
                        "learn": [
                          0.9079861633,
                          0.344442581
                        ],
                        "iteration": 835,
                        "passed_time": 262.357743,
                        "remaining_time": 1306.767514,
                        "test": [
                          0.7798787883,
                          0.6016534557
                        ]
                      },
                      {
                        "learn": [
                          0.9081061543,
                          0.3442783519
                        ],
                        "iteration": 836,
                        "passed_time": 262.5943898,
                        "remaining_time": 1306.069826,
                        "test": [
                          0.7798972371,
                          0.6016642854
                        ]
                      },
                      {
                        "learn": [
                          0.9081061543,
                          0.3441810173
                        ],
                        "iteration": 837,
                        "passed_time": 262.8286219,
                        "remaining_time": 1305.361246,
                        "test": [
                          0.7796036134,
                          0.6017335338
                        ]
                      },
                      {
                        "learn": [
                          0.9084808179,
                          0.3439514004
                        ],
                        "iteration": 838,
                        "passed_time": 263.0969028,
                        "remaining_time": 1304.822661,
                        "test": [
                          0.7798881706,
                          0.6018972726
                        ]
                      },
                      {
                        "learn": [
                          0.9083620303,
                          0.3437650008
                        ],
                        "iteration": 839,
                        "passed_time": 263.370121,
                        "remaining_time": 1304.309171,
                        "test": [
                          0.7801816505,
                          0.6019249772
                        ]
                      },
                      {
                        "learn": [
                          0.9087223811,
                          0.3436208344
                        ],
                        "iteration": 840,
                        "passed_time": 263.6064361,
                        "remaining_time": 1303.613755,
                        "test": [
                          0.7799059904,
                          0.6020009921
                        ]
                      },
                      {
                        "learn": [
                          0.908843719,
                          0.3434687534
                        ],
                        "iteration": 841,
                        "passed_time": 263.8503321,
                        "remaining_time": 1302.956866,
                        "test": [
                          0.7801993511,
                          0.6019853518
                        ]
                      },
                      {
                        "learn": [
                          0.9087191237,
                          0.3433157878
                        ],
                        "iteration": 842,
                        "passed_time": 264.1043976,
                        "remaining_time": 1302.351104,
                        "test": [
                          0.7801844855,
                          0.6020741366
                        ]
                      },
                      {
                        "learn": [
                          0.9086138318,
                          0.3430760507
                        ],
                        "iteration": 843,
                        "passed_time": 264.3933552,
                        "remaining_time": 1301.917991,
                        "test": [
                          0.7810355089,
                          0.6021059183
                        ]
                      },
                      {
                        "learn": [
                          0.9088523911,
                          0.3428715918
                        ],
                        "iteration": 844,
                        "passed_time": 264.6355431,
                        "remaining_time": 1301.255245,
                        "test": [
                          0.7810282069,
                          0.6021586136
                        ]
                      },
                      {
                        "learn": [
                          0.9088568533,
                          0.3427345523
                        ],
                        "iteration": 845,
                        "passed_time": 264.8725897,
                        "remaining_time": 1300.568248,
                        "test": [
                          0.7807359926,
                          0.6021842698
                        ]
                      },
                      {
                        "learn": [
                          0.9087396871,
                          0.3424303164
                        ],
                        "iteration": 846,
                        "passed_time": 265.111776,
                        "remaining_time": 1299.892805,
                        "test": [
                          0.780748534,
                          0.6021791619
                        ]
                      },
                      {
                        "learn": [
                          0.9089872818,
                          0.342284796
                        ],
                        "iteration": 847,
                        "passed_time": 265.4095556,
                        "remaining_time": 1299.505277,
                        "test": [
                          0.780748534,
                          0.602116156
                        ]
                      },
                      {
                        "learn": [
                          0.9092270256,
                          0.3421662935
                        ],
                        "iteration": 848,
                        "passed_time": 265.642151,
                        "remaining_time": 1298.799256,
                        "test": [
                          0.7813203476,
                          0.6020380802
                        ]
                      },
                      {
                        "learn": [
                          0.9094686706,
                          0.3420196615
                        ],
                        "iteration": 849,
                        "passed_time": 265.8755587,
                        "remaining_time": 1298.098316,
                        "test": [
                          0.7813203476,
                          0.602094081
                        ]
                      },
                      {
                        "learn": [
                          0.9097088848,
                          0.3417581441
                        ],
                        "iteration": 850,
                        "passed_time": 266.1171693,
                        "remaining_time": 1297.438467,
                        "test": [
                          0.7816557102,
                          0.6018740795
                        ]
                      },
                      {
                        "learn": [
                          0.9097088848,
                          0.3416178747
                        ],
                        "iteration": 851,
                        "passed_time": 266.4124514,
                        "remaining_time": 1297.040902,
                        "test": [
                          0.7816238524,
                          0.6019241776
                        ]
                      },
                      {
                        "learn": [
                          0.9094592407,
                          0.3413597662
                        ],
                        "iteration": 852,
                        "passed_time": 266.6500236,
                        "remaining_time": 1296.36301,
                        "test": [
                          0.7813555182,
                          0.6019075219
                        ]
                      },
                      {
                        "learn": [
                          0.9095840855,
                          0.341231403
                        ],
                        "iteration": 853,
                        "passed_time": 266.88461,
                        "remaining_time": 1295.671655,
                        "test": [
                          0.7813563379,
                          0.6019931001
                        ]
                      },
                      {
                        "learn": [
                          0.9097095994,
                          0.3409752952
                        ],
                        "iteration": 854,
                        "passed_time": 267.120192,
                        "remaining_time": 1294.986194,
                        "test": [
                          0.7813324391,
                          0.6020120035
                        ]
                      },
                      {
                        "learn": [
                          0.909577795,
                          0.3408422693
                        ],
                        "iteration": 855,
                        "passed_time": 267.4388497,
                        "remaining_time": 1294.703964,
                        "test": [
                          0.7813168712,
                          0.6020465544
                        ]
                      },
                      {
                        "learn": [
                          0.9101841953,
                          0.3406216586
                        ],
                        "iteration": 856,
                        "passed_time": 267.7774421,
                        "remaining_time": 1294.518019,
                        "test": [
                          0.7810402772,
                          0.6018913985
                        ]
                      },
                      {
                        "learn": [
                          0.9103186242,
                          0.3404161644
                        ],
                        "iteration": 857,
                        "passed_time": 268.1748346,
                        "remaining_time": 1294.615577,
                        "test": [
                          0.7813339242,
                          0.6017757053
                        ]
                      },
                      {
                        "learn": [
                          0.9101870455,
                          0.3403050967
                        ],
                        "iteration": 858,
                        "passed_time": 268.6155273,
                        "remaining_time": 1294.92072,
                        "test": [
                          0.7813339242,
                          0.601760029
                        ]
                      },
                      {
                        "learn": [
                          0.9101938986,
                          0.3400330306
                        ],
                        "iteration": 859,
                        "passed_time": 269.0167205,
                        "remaining_time": 1295.03398,
                        "test": [
                          0.7810414984,
                          0.6016761513
                        ]
                      },
                      {
                        "learn": [
                          0.9099452763,
                          0.3399334726
                        ],
                        "iteration": 860,
                        "passed_time": 269.4001061,
                        "remaining_time": 1295.06044,
                        "test": [
                          0.7810414984,
                          0.6016382812
                        ]
                      },
                      {
                        "learn": [
                          0.9100626107,
                          0.3398195868
                        ],
                        "iteration": 861,
                        "passed_time": 269.8709259,
                        "remaining_time": 1295.505674,
                        "test": [
                          0.7810414984,
                          0.6015638097
                        ]
                      },
                      {
                        "learn": [
                          0.91007673,
                          0.3396014989
                        ],
                        "iteration": 862,
                        "passed_time": 270.220123,
                        "remaining_time": 1295.365758,
                        "test": [
                          0.7813238014,
                          0.6017212323
                        ]
                      },
                      {
                        "learn": [
                          0.9100773698,
                          0.3394513425
                        ],
                        "iteration": 863,
                        "passed_time": 270.5561812,
                        "remaining_time": 1295.16246,
                        "test": [
                          0.7810414984,
                          0.6015894227
                        ]
                      },
                      {
                        "learn": [
                          0.9103145739,
                          0.3392438335
                        ],
                        "iteration": 864,
                        "passed_time": 270.818653,
                        "remaining_time": 1294.607087,
                        "test": [
                          0.7810414984,
                          0.6017689006
                        ]
                      },
                      {
                        "learn": [
                          0.9103276875,
                          0.3390768384
                        ],
                        "iteration": 865,
                        "passed_time": 271.0853097,
                        "remaining_time": 1294.072368,
                        "test": [
                          0.781354837,
                          0.6017347756
                        ]
                      },
                      {
                        "learn": [
                          0.9106796608,
                          0.3389324773
                        ],
                        "iteration": 866,
                        "passed_time": 271.3243479,
                        "remaining_time": 1293.406609,
                        "test": [
                          0.7813391981,
                          0.6017496431
                        ]
                      },
                      {
                        "learn": [
                          0.9106796608,
                          0.3387886963
                        ],
                        "iteration": 867,
                        "passed_time": 271.5657756,
                        "remaining_time": 1292.753208,
                        "test": [
                          0.78104831,
                          0.6017734956
                        ]
                      },
                      {
                        "learn": [
                          0.9111552001,
                          0.3386281434
                        ],
                        "iteration": 868,
                        "passed_time": 271.7986637,
                        "remaining_time": 1292.060161,
                        "test": [
                          0.7810764664,
                          0.6018625492
                        ]
                      },
                      {
                        "learn": [
                          0.9109247888,
                          0.3384870425
                        ],
                        "iteration": 869,
                        "passed_time": 272.0909695,
                        "remaining_time": 1291.650234,
                        "test": [
                          0.7810594099,
                          0.601784476
                        ]
                      },
                      {
                        "learn": [
                          0.9109144159,
                          0.3383500745
                        ],
                        "iteration": 870,
                        "passed_time": 272.3350894,
                        "remaining_time": 1291.012152,
                        "test": [
                          0.7807687797,
                          0.6019824227
                        ]
                      },
                      {
                        "learn": [
                          0.9113838657,
                          0.3381385231
                        ],
                        "iteration": 871,
                        "passed_time": 272.5811348,
                        "remaining_time": 1290.384088,
                        "test": [
                          0.7807518655,
                          0.602256898
                        ]
                      },
                      {
                        "learn": [
                          0.9112697622,
                          0.3379844773
                        ],
                        "iteration": 872,
                        "passed_time": 272.8169245,
                        "remaining_time": 1289.708416,
                        "test": [
                          0.7804608049,
                          0.6023433368
                        ]
                      },
                      {
                        "learn": [
                          0.9113835979,
                          0.3378474051
                        ],
                        "iteration": 873,
                        "passed_time": 273.2001574,
                        "remaining_time": 1289.729805,
                        "test": [
                          0.7798754791,
                          0.6023083318
                        ]
                      },
                      {
                        "learn": [
                          0.9113892048,
                          0.3375981129
                        ],
                        "iteration": 874,
                        "passed_time": 273.4362858,
                        "remaining_time": 1289.056776,
                        "test": [
                          0.779330931,
                          0.6023803291
                        ]
                      },
                      {
                        "learn": [
                          0.9115099002,
                          0.3374735735
                        ],
                        "iteration": 875,
                        "passed_time": 273.6832107,
                        "remaining_time": 1288.435572,
                        "test": [
                          0.7787622003,
                          0.6025264641
                        ]
                      },
                      {
                        "learn": [
                          0.9114997405,
                          0.3373577354
                        ],
                        "iteration": 876,
                        "passed_time": 273.9201169,
                        "remaining_time": 1287.768121,
                        "test": [
                          0.7787622003,
                          0.6025851511
                        ]
                      },
                      {
                        "learn": [
                          0.911854744,
                          0.3372287148
                        ],
                        "iteration": 877,
                        "passed_time": 274.2027515,
                        "remaining_time": 1287.316334,
                        "test": [
                          0.7793316565,
                          0.602674833
                        ]
                      },
                      {
                        "learn": [
                          0.9119889148,
                          0.3369761412
                        ],
                        "iteration": 878,
                        "passed_time": 274.4506689,
                        "remaining_time": 1286.702169,
                        "test": [
                          0.7790714925,
                          0.6028535222
                        ]
                      },
                      {
                        "learn": [
                          0.9122235999,
                          0.3367778083
                        ],
                        "iteration": 879,
                        "passed_time": 274.701304,
                        "remaining_time": 1286.10156,
                        "test": [
                          0.7799033395,
                          0.6028401794
                        ]
                      },
                      {
                        "learn": [
                          0.9118713082,
                          0.3365483777
                        ],
                        "iteration": 880,
                        "passed_time": 274.9387839,
                        "remaining_time": 1285.440239,
                        "test": [
                          0.7799357118,
                          0.6028011865
                        ]
                      },
                      {
                        "learn": [
                          0.912109499,
                          0.3363032498
                        ],
                        "iteration": 881,
                        "passed_time": 275.1959886,
                        "remaining_time": 1284.871974,
                        "test": [
                          0.7799196571,
                          0.6026209332
                        ]
                      },
                      {
                        "learn": [
                          0.9120023101,
                          0.3361351719
                        ],
                        "iteration": 882,
                        "passed_time": 275.4672789,
                        "remaining_time": 1284.370087,
                        "test": [
                          0.7796434178,
                          0.6024599241
                        ]
                      },
                      {
                        "learn": [
                          0.9123685485,
                          0.336032335
                        ],
                        "iteration": 883,
                        "passed_time": 275.7158426,
                        "remaining_time": 1283.762905,
                        "test": [
                          0.7799196571,
                          0.6025953948
                        ]
                      },
                      {
                        "learn": [
                          0.9123549073,
                          0.3359051694
                        ],
                        "iteration": 884,
                        "passed_time": 275.9513914,
                        "remaining_time": 1283.096018,
                        "test": [
                          0.779641374,
                          0.6025128758
                        ]
                      },
                      {
                        "learn": [
                          0.9122274019,
                          0.335779608
                        ],
                        "iteration": 885,
                        "passed_time": 276.1931885,
                        "remaining_time": 1282.459117,
                        "test": [
                          0.7796298463,
                          0.6025245758
                        ]
                      },
                      {
                        "learn": [
                          0.9122383647,
                          0.3356439936
                        ],
                        "iteration": 886,
                        "passed_time": 276.4840743,
                        "remaining_time": 1282.05073,
                        "test": [
                          0.779298265,
                          0.6024892205
                        ]
                      },
                      {
                        "learn": [
                          0.9123624656,
                          0.335513217
                        ],
                        "iteration": 887,
                        "passed_time": 276.7402711,
                        "remaining_time": 1281.481976,
                        "test": [
                          0.7792970124,
                          0.60252911
                        ]
                      },
                      {
                        "learn": [
                          0.9124833628,
                          0.3353448841
                        ],
                        "iteration": 888,
                        "passed_time": 276.9780538,
                        "remaining_time": 1280.828773,
                        "test": [
                          0.7792970124,
                          0.602495322
                        ]
                      },
                      {
                        "learn": [
                          0.912365924,
                          0.3351500121
                        ],
                        "iteration": 889,
                        "passed_time": 277.2139059,
                        "remaining_time": 1280.167588,
                        "test": [
                          0.7793122136,
                          0.6023352414
                        ]
                      },
                      {
                        "learn": [
                          0.9122418327,
                          0.3348868852
                        ],
                        "iteration": 890,
                        "passed_time": 277.5098366,
                        "remaining_time": 1279.784421,
                        "test": [
                          0.7790188053,
                          0.6022612423
                        ]
                      },
                      {
                        "learn": [
                          0.9124928226,
                          0.3347216139
                        ],
                        "iteration": 891,
                        "passed_time": 277.7560542,
                        "remaining_time": 1279.172501,
                        "test": [
                          0.7793062617,
                          0.6023668834
                        ]
                      },
                      {
                        "learn": [
                          0.9123619196,
                          0.3344032217
                        ],
                        "iteration": 892,
                        "passed_time": 277.9874613,
                        "remaining_time": 1278.493285,
                        "test": [
                          0.7790103791,
                          0.6023334944
                        ]
                      },
                      {
                        "learn": [
                          0.9124860109,
                          0.334252543
                        ],
                        "iteration": 893,
                        "passed_time": 278.2463069,
                        "remaining_time": 1277.941092,
                        "test": [
                          0.7790103791,
                          0.6022914108
                        ]
                      },
                      {
                        "learn": [
                          0.9121300783,
                          0.334042135
                        ],
                        "iteration": 894,
                        "passed_time": 278.5438297,
                        "remaining_time": 1277.566951,
                        "test": [
                          0.7795699179,
                          0.6024265857
                        ]
                      },
                      {
                        "learn": [
                          0.9124876382,
                          0.3338748297
                        ],
                        "iteration": 895,
                        "passed_time": 278.7896994,
                        "remaining_time": 1276.956391,
                        "test": [
                          0.7795763727,
                          0.6025670373
                        ]
                      },
                      {
                        "learn": [
                          0.9121319771,
                          0.3337528484
                        ],
                        "iteration": 896,
                        "passed_time": 279.0282003,
                        "remaining_time": 1276.312939,
                        "test": [
                          0.7798533437,
                          0.6026016551
                        ]
                      },
                      {
                        "learn": [
                          0.9123827944,
                          0.3335650631
                        ],
                        "iteration": 897,
                        "passed_time": 279.265732,
                        "remaining_time": 1275.66596,
                        "test": [
                          0.7795709073,
                          0.6027253888
                        ]
                      },
                      {
                        "learn": [
                          0.9125068781,
                          0.3333943197
                        ],
                        "iteration": 898,
                        "passed_time": 279.5486216,
                        "remaining_time": 1275.226804,
                        "test": [
                          0.7798478803,
                          0.6026391
                        ]
                      },
                      {
                        "learn": [
                          0.9125068781,
                          0.3332022626
                        ],
                        "iteration": 899,
                        "passed_time": 279.7936402,
                        "remaining_time": 1274.615472,
                        "test": [
                          0.7792509041,
                          0.6026824393
                        ]
                      },
                      {
                        "learn": [
                          0.9123794471,
                          0.3330950323
                        ],
                        "iteration": 900,
                        "passed_time": 280.0293941,
                        "remaining_time": 1273.962804,
                        "test": [
                          0.7789727753,
                          0.6028697361
                        ]
                      },
                      {
                        "learn": [
                          0.9125068781,
                          0.3329233594
                        ],
                        "iteration": 901,
                        "passed_time": 280.2790502,
                        "remaining_time": 1273.374221,
                        "test": [
                          0.7786753446,
                          0.6029407191
                        ]
                      },
                      {
                        "learn": [
                          0.9121303578,
                          0.3327181497
                        ],
                        "iteration": 902,
                        "passed_time": 280.5748773,
                        "remaining_time": 1272.995872,
                        "test": [
                          0.7789625444,
                          0.6027286252
                        ]
                      },
                      {
                        "learn": [
                          0.9123725708,
                          0.3325755497
                        ],
                        "iteration": 903,
                        "passed_time": 280.9622617,
                        "remaining_time": 1273.032549,
                        "test": [
                          0.7786856209,
                          0.6027667312
                        ]
                      },
                      {
                        "learn": [
                          0.9122519862,
                          0.3323480422
                        ],
                        "iteration": 904,
                        "passed_time": 281.3199831,
                        "remaining_time": 1272.934067,
                        "test": [
                          0.7786554707,
                          0.6029065915
                        ]
                      },
                      {
                        "learn": [
                          0.9122519862,
                          0.3322351559
                        ],
                        "iteration": 905,
                        "passed_time": 281.7766338,
                        "remaining_time": 1273.282051,
                        "test": [
                          0.7783624923,
                          0.6028735375
                        ]
                      },
                      {
                        "learn": [
                          0.9123794167,
                          0.3320677189
                        ],
                        "iteration": 906,
                        "passed_time": 282.1683957,
                        "remaining_time": 1273.33544,
                        "test": [
                          0.7783624923,
                          0.6030175229
                        ]
                      },
                      {
                        "learn": [
                          0.9126289545,
                          0.3318499254
                        ],
                        "iteration": 907,
                        "passed_time": 282.5613544,
                        "remaining_time": 1273.39324,
                        "test": [
                          0.7775264228,
                          0.6031394325
                        ]
                      },
                      {
                        "learn": [
                          0.9128687086,
                          0.3316828652
                        ],
                        "iteration": 908,
                        "passed_time": 283.0029059,
                        "remaining_time": 1273.668744,
                        "test": [
                          0.7775264228,
                          0.6031325621
                        ]
                      },
                      {
                        "learn": [
                          0.9128703285,
                          0.3314658707
                        ],
                        "iteration": 909,
                        "passed_time": 283.4142581,
                        "remaining_time": 1273.80694,
                        "test": [
                          0.7778090783,
                          0.6030914056
                        ]
                      },
                      {
                        "learn": [
                          0.9132348919,
                          0.3313193912
                        ],
                        "iteration": 910,
                        "passed_time": 283.7514163,
                        "remaining_time": 1273.610913,
                        "test": [
                          0.7778090783,
                          0.6029755482
                        ]
                      },
                      {
                        "learn": [
                          0.9132348919,
                          0.3311880289
                        ],
                        "iteration": 911,
                        "passed_time": 284.0513678,
                        "remaining_time": 1273.247798,
                        "test": [
                          0.777805843,
                          0.6031028144
                        ]
                      },
                      {
                        "learn": [
                          0.9134789536,
                          0.3310662132
                        ],
                        "iteration": 912,
                        "passed_time": 284.3241727,
                        "remaining_time": 1272.763301,
                        "test": [
                          0.7775150061,
                          0.6033173504
                        ]
                      },
                      {
                        "learn": [
                          0.9134770633,
                          0.3309310051
                        ],
                        "iteration": 913,
                        "passed_time": 284.5649355,
                        "remaining_time": 1272.136025,
                        "test": [
                          0.7769451958,
                          0.603328811
                        ]
                      },
                      {
                        "learn": [
                          0.9134766787,
                          0.3307977081
                        ],
                        "iteration": 914,
                        "passed_time": 284.8085519,
                        "remaining_time": 1271.522333,
                        "test": [
                          0.7775025657,
                          0.6033919597
                        ]
                      },
                      {
                        "learn": [
                          0.9134819607,
                          0.3306387624
                        ],
                        "iteration": 915,
                        "passed_time": 285.0857941,
                        "remaining_time": 1271.05937,
                        "test": [
                          0.7775025657,
                          0.6035008253
                        ]
                      },
                      {
                        "learn": [
                          0.9138211728,
                          0.3304923599
                        ],
                        "iteration": 916,
                        "passed_time": 285.3756821,
                        "remaining_time": 1270.653119,
                        "test": [
                          0.777225906,
                          0.6033412061
                        ]
                      },
                      {
                        "learn": [
                          0.9137037443,
                          0.3303445649
                        ],
                        "iteration": 917,
                        "passed_time": 285.6158548,
                        "remaining_time": 1270.026056,
                        "test": [
                          0.7775025657,
                          0.6032516427
                        ]
                      },
                      {
                        "learn": [
                          0.9143217638,
                          0.3301440576
                        ],
                        "iteration": 918,
                        "passed_time": 285.8524461,
                        "remaining_time": 1269.383931,
                        "test": [
                          0.7777779192,
                          0.6033178984
                        ]
                      },
                      {
                        "learn": [
                          0.9145607775,
                          0.3299335503
                        ],
                        "iteration": 919,
                        "passed_time": 286.2138894,
                        "remaining_time": 1269.296379,
                        "test": [
                          0.778056363,
                          0.6033839447
                        ]
                      },
                      {
                        "learn": [
                          0.9146723093,
                          0.329784106
                        ],
                        "iteration": 920,
                        "passed_time": 286.4872004,
                        "remaining_time": 1268.817905,
                        "test": [
                          0.7788959996,
                          0.6033638613
                        ]
                      },
                      {
                        "learn": [
                          0.9145505767,
                          0.329687087
                        ],
                        "iteration": 921,
                        "passed_time": 286.7248526,
                        "remaining_time": 1268.182157,
                        "test": [
                          0.7786175686,
                          0.6032519494
                        ]
                      },
                      {
                        "learn": [
                          0.9146653657,
                          0.3295454766
                        ],
                        "iteration": 922,
                        "passed_time": 286.9592455,
                        "remaining_time": 1267.532875,
                        "test": [
                          0.7786175686,
                          0.6031589334
                        ]
                      },
                      {
                        "learn": [
                          0.914549878,
                          0.3293538622
                        ],
                        "iteration": 923,
                        "passed_time": 287.2092724,
                        "remaining_time": 1266.953457,
                        "test": [
                          0.7783279929,
                          0.6032692471
                        ]
                      },
                      {
                        "learn": [
                          0.914791488,
                          0.3291742043
                        ],
                        "iteration": 924,
                        "passed_time": 287.5067316,
                        "remaining_time": 1266.583709,
                        "test": [
                          0.7777520045,
                          0.6031641305
                        ]
                      },
                      {
                        "learn": [
                          0.9144158585,
                          0.3290238915
                        ],
                        "iteration": 925,
                        "passed_time": 287.7477712,
                        "remaining_time": 1265.965896,
                        "test": [
                          0.777455353,
                          0.6031630139
                        ]
                      },
                      {
                        "learn": [
                          0.9147820147,
                          0.3289209342
                        ],
                        "iteration": 926,
                        "passed_time": 287.9881796,
                        "remaining_time": 1265.346122,
                        "test": [
                          0.7780500397,
                          0.6031830847
                        ]
                      },
                      {
                        "learn": [
                          0.9148997844,
                          0.3287640657
                        ],
                        "iteration": 927,
                        "passed_time": 288.2371555,
                        "remaining_time": 1264.76476,
                        "test": [
                          0.7777881002,
                          0.6032222148
                        ]
                      },
                      {
                        "learn": [
                          0.9147692513,
                          0.3286420668
                        ],
                        "iteration": 928,
                        "passed_time": 288.5363964,
                        "remaining_time": 1264.404381,
                        "test": [
                          0.7777881002,
                          0.6031756669
                        ]
                      },
                      {
                        "learn": [
                          0.9147716675,
                          0.3285067353
                        ],
                        "iteration": 929,
                        "passed_time": 288.7844828,
                        "remaining_time": 1263.820264,
                        "test": [
                          0.7777881002,
                          0.6032492713
                        ]
                      },
                      {
                        "learn": [
                          0.9148868551,
                          0.3283963886
                        ],
                        "iteration": 930,
                        "passed_time": 289.0201953,
                        "remaining_time": 1263.182787,
                        "test": [
                          0.7777881002,
                          0.6032018234
                        ]
                      },
                      {
                        "learn": [
                          0.914524682,
                          0.3282354403
                        ],
                        "iteration": 931,
                        "passed_time": 289.278648,
                        "remaining_time": 1262.645429,
                        "test": [
                          0.7772231143,
                          0.6032346002
                        ]
                      },
                      {
                        "learn": [
                          0.9146580853,
                          0.3280658601
                        ],
                        "iteration": 932,
                        "passed_time": 289.5914163,
                        "remaining_time": 1262.345434,
                        "test": [
                          0.7772374254,
                          0.6034686716
                        ]
                      },
                      {
                        "learn": [
                          0.9146435387,
                          0.3278283063
                        ],
                        "iteration": 933,
                        "passed_time": 289.8310467,
                        "remaining_time": 1261.727019,
                        "test": [
                          0.7772374254,
                          0.6034837818
                        ]
                      },
                      {
                        "learn": [
                          0.9145207172,
                          0.3276039397
                        ],
                        "iteration": 934,
                        "passed_time": 290.0817868,
                        "remaining_time": 1261.157715,
                        "test": [
                          0.7772434988,
                          0.6034423981
                        ]
                      },
                      {
                        "learn": [
                          0.9148995437,
                          0.3273980817
                        ],
                        "iteration": 935,
                        "passed_time": 290.3237964,
                        "remaining_time": 1260.551184,
                        "test": [
                          0.7772644802,
                          0.603364772
                        ]
                      },
                      {
                        "learn": [
                          0.9147838061,
                          0.3271669482
                        ],
                        "iteration": 936,
                        "passed_time": 290.622155,
                        "remaining_time": 1260.189772,
                        "test": [
                          0.7766698407,
                          0.603391879
                        ]
                      },
                      {
                        "learn": [
                          0.9145354797,
                          0.3269911519
                        ],
                        "iteration": 937,
                        "passed_time": 290.8684196,
                        "remaining_time": 1259.6029,
                        "test": [
                          0.7778374787,
                          0.6031837268
                        ]
                      },
                      {
                        "learn": [
                          0.9145341895,
                          0.326854651
                        ],
                        "iteration": 938,
                        "passed_time": 291.1185395,
                        "remaining_time": 1259.033428,
                        "test": [
                          0.7784329751,
                          0.6031979397
                        ]
                      },
                      {
                        "learn": [
                          0.9146520371,
                          0.3267137175
                        ],
                        "iteration": 939,
                        "passed_time": 291.3599091,
                        "remaining_time": 1258.426841,
                        "test": [
                          0.7781420917,
                          0.6032702694
                        ]
                      },
                      {
                        "learn": [
                          0.9147697046,
                          0.32657834
                        ],
                        "iteration": 940,
                        "passed_time": 291.6284381,
                        "remaining_time": 1257.938183,
                        "test": [
                          0.7778486037,
                          0.6032609712
                        ]
                      },
                      {
                        "learn": [
                          0.9147697046,
                          0.3264047486
                        ],
                        "iteration": 941,
                        "passed_time": 291.8935305,
                        "remaining_time": 1257.435188,
                        "test": [
                          0.777862946,
                          0.6033455639
                        ]
                      },
                      {
                        "learn": [
                          0.9147703152,
                          0.3261786447
                        ],
                        "iteration": 942,
                        "passed_time": 292.1377328,
                        "remaining_time": 1256.842823,
                        "test": [
                          0.7784529311,
                          0.6033928534
                        ]
                      },
                      {
                        "learn": [
                          0.9148902135,
                          0.3260018386
                        ],
                        "iteration": 943,
                        "passed_time": 292.3753789,
                        "remaining_time": 1256.223026,
                        "test": [
                          0.7784529311,
                          0.6034750716
                        ]
                      },
                      {
                        "learn": [
                          0.915013335,
                          0.3258799642
                        ],
                        "iteration": 944,
                        "passed_time": 292.6151732,
                        "remaining_time": 1255.613256,
                        "test": [
                          0.7778775292,
                          0.6034966127
                        ]
                      },
                      {
                        "learn": [
                          0.915132692,
                          0.3257652894
                        ],
                        "iteration": 945,
                        "passed_time": 292.9197952,
                        "remaining_time": 1255.282082,
                        "test": [
                          0.7787457239,
                          0.60347648
                        ]
                      },
                      {
                        "learn": [
                          0.9150155334,
                          0.3256529081
                        ],
                        "iteration": 946,
                        "passed_time": 293.1732015,
                        "remaining_time": 1254.731769,
                        "test": [
                          0.7787457239,
                          0.6035762685
                        ]
                      },
                      {
                        "learn": [
                          0.9152573586,
                          0.3255053135
                        ],
                        "iteration": 947,
                        "passed_time": 293.4138169,
                        "remaining_time": 1254.127412,
                        "test": [
                          0.778463846,
                          0.6037306039
                        ]
                      },
                      {
                        "learn": [
                          0.9152596677,
                          0.3253669035
                        ],
                        "iteration": 948,
                        "passed_time": 293.6522532,
                        "remaining_time": 1253.514518,
                        "test": [
                          0.7781671388,
                          0.6037460191
                        ]
                      },
                      {
                        "learn": [
                          0.9153753094,
                          0.3252470501
                        ],
                        "iteration": 949,
                        "passed_time": 294.0804649,
                        "remaining_time": 1253.711455,
                        "test": [
                          0.7775950852,
                          0.6038355616
                        ]
                      },
                      {
                        "learn": [
                          0.9156106623,
                          0.3251273295
                        ],
                        "iteration": 950,
                        "passed_time": 294.4716785,
                        "remaining_time": 1253.749554,
                        "test": [
                          0.7775950852,
                          0.6038245829
                        ]
                      },
                      {
                        "learn": [
                          0.9157352981,
                          0.3248704524
                        ],
                        "iteration": 951,
                        "passed_time": 294.8733326,
                        "remaining_time": 1253.831145,
                        "test": [
                          0.7772537406,
                          0.6035750815
                        ]
                      },
                      {
                        "learn": [
                          0.9154907676,
                          0.3247598076
                        ],
                        "iteration": 952,
                        "passed_time": 295.3162112,
                        "remaining_time": 1254.086786,
                        "test": [
                          0.7769571072,
                          0.6035657239
                        ]
                      },
                      {
                        "learn": [
                          0.9158591051,
                          0.3243980206
                        ],
                        "iteration": 953,
                        "passed_time": 295.7070215,
                        "remaining_time": 1254.120135,
                        "test": [
                          0.7775503288,
                          0.6031395916
                        ]
                      },
                      {
                        "learn": [
                          0.9159823652,
                          0.324241383
                        ],
                        "iteration": 954,
                        "passed_time": 296.1850795,
                        "remaining_time": 1254.522143,
                        "test": [
                          0.7775646701,
                          0.603239501
                        ]
                      },
                      {
                        "learn": [
                          0.9158622612,
                          0.3241382276
                        ],
                        "iteration": 955,
                        "passed_time": 296.5859832,
                        "remaining_time": 1254.595937,
                        "test": [
                          0.7772827309,
                          0.6033364378
                        ]
                      },
                      {
                        "learn": [
                          0.9158607031,
                          0.3238984419
                        ],
                        "iteration": 956,
                        "passed_time": 296.8822262,
                        "remaining_time": 1254.226584,
                        "test": [
                          0.7775767073,
                          0.6033395498
                        ]
                      },
                      {
                        "learn": [
                          0.9161078428,
                          0.3236526521
                        ],
                        "iteration": 957,
                        "passed_time": 297.1465247,
                        "remaining_time": 1253.722602,
                        "test": [
                          0.7772996143,
                          0.6032369408
                        ]
                      },
                      {
                        "learn": [
                          0.9161078428,
                          0.3235362768
                        ],
                        "iteration": 958,
                        "passed_time": 297.4506568,
                        "remaining_time": 1253.38697,
                        "test": [
                          0.7772996143,
                          0.6031998602
                        ]
                      },
                      {
                        "learn": [
                          0.9163490399,
                          0.323380641
                        ],
                        "iteration": 959,
                        "passed_time": 297.6945277,
                        "remaining_time": 1252.797804,
                        "test": [
                          0.7772996143,
                          0.6033183418
                        ]
                      },
                      {
                        "learn": [
                          0.9160968946,
                          0.323185154
                        ],
                        "iteration": 960,
                        "passed_time": 298.0441706,
                        "remaining_time": 1252.653907,
                        "test": [
                          0.7775776499,
                          0.6034444438
                        ]
                      },
                      {
                        "learn": [
                          0.916457015,
                          0.3230644287
                        ],
                        "iteration": 961,
                        "passed_time": 298.3178274,
                        "remaining_time": 1252.190631,
                        "test": [
                          0.7784575828,
                          0.6033057021
                        ]
                      },
                      {
                        "learn": [
                          0.9164619933,
                          0.3229293018
                        ],
                        "iteration": 962,
                        "passed_time": 298.7129335,
                        "remaining_time": 1252.236877,
                        "test": [
                          0.7784575828,
                          0.6033641786
                        ]
                      },
                      {
                        "learn": [
                          0.9165834875,
                          0.3227245655
                        ],
                        "iteration": 963,
                        "passed_time": 298.9538624,
                        "remaining_time": 1251.63671,
                        "test": [
                          0.7784575828,
                          0.6034538
                        ]
                      },
                      {
                        "learn": [
                          0.9168271572,
                          0.3225670612
                        ],
                        "iteration": 964,
                        "passed_time": 299.195493,
                        "remaining_time": 1251.040222,
                        "test": [
                          0.7787355367,
                          0.603548814
                        ]
                      },
                      {
                        "learn": [
                          0.9171922041,
                          0.3224047631
                        ],
                        "iteration": 965,
                        "passed_time": 299.6087103,
                        "remaining_time": 1251.161012,
                        "test": [
                          0.7784392842,
                          0.6036179268
                        ]
                      },
                      {
                        "learn": [
                          0.9169493893,
                          0.3222320109
                        ],
                        "iteration": 966,
                        "passed_time": 299.8536736,
                        "remaining_time": 1250.578972,
                        "test": [
                          0.7781612369,
                          0.6036898415
                        ]
                      },
                      {
                        "learn": [
                          0.9168286813,
                          0.3220569547
                        ],
                        "iteration": 967,
                        "passed_time": 300.1071253,
                        "remaining_time": 1250.032985,
                        "test": [
                          0.778440313,
                          0.603643635
                        ]
                      },
                      {
                        "learn": [
                          0.9167059486,
                          0.3218536369
                        ],
                        "iteration": 968,
                        "passed_time": 300.3549244,
                        "remaining_time": 1249.464087,
                        "test": [
                          0.777586741,
                          0.603710187
                        ]
                      },
                      {
                        "learn": [
                          0.9164609873,
                          0.32168114
                        ],
                        "iteration": 969,
                        "passed_time": 300.6591925,
                        "remaining_time": 1249.13046,
                        "test": [
                          0.7770052695,
                          0.6039409761
                        ]
                      },
                      {
                        "learn": [
                          0.9164600473,
                          0.3215874354
                        ],
                        "iteration": 970,
                        "passed_time": 300.900849,
                        "remaining_time": 1248.537096,
                        "test": [
                          0.7773047404,
                          0.6040514258
                        ]
                      },
                      {
                        "learn": [
                          0.9163394036,
                          0.3213927653
                        ],
                        "iteration": 971,
                        "passed_time": 301.1465636,
                        "remaining_time": 1247.961274,
                        "test": [
                          0.7773047404,
                          0.6039895486
                        ]
                      },
                      {
                        "learn": [
                          0.9162119316,
                          0.3212290878
                        ],
                        "iteration": 972,
                        "passed_time": 301.3864356,
                        "remaining_time": 1247.361949,
                        "test": [
                          0.7773047404,
                          0.6040469705
                        ]
                      },
                      {
                        "learn": [
                          0.9166954815,
                          0.3209760357
                        ],
                        "iteration": 973,
                        "passed_time": 301.6951324,
                        "remaining_time": 1247.047847,
                        "test": [
                          0.7776031025,
                          0.6041253276
                        ]
                      },
                      {
                        "learn": [
                          0.9165684444,
                          0.32079399
                        ],
                        "iteration": 974,
                        "passed_time": 301.9355748,
                        "remaining_time": 1246.451988,
                        "test": [
                          0.7770318337,
                          0.6040572662
                        ]
                      },
                      {
                        "learn": [
                          0.9166942713,
                          0.3205631559
                        ],
                        "iteration": 975,
                        "passed_time": 302.1742589,
                        "remaining_time": 1245.849609,
                        "test": [
                          0.7767408777,
                          0.604114661
                        ]
                      },
                      {
                        "learn": [
                          0.9169415347,
                          0.3203752326
                        ],
                        "iteration": 976,
                        "passed_time": 302.4213254,
                        "remaining_time": 1245.282489,
                        "test": [
                          0.7767408777,
                          0.6041943979
                        ]
                      },
                      {
                        "learn": [
                          0.9169461142,
                          0.3202500038
                        ],
                        "iteration": 977,
                        "passed_time": 302.7271745,
                        "remaining_time": 1244.957767,
                        "test": [
                          0.777588658,
                          0.6040973942
                        ]
                      },
                      {
                        "learn": [
                          0.9169430895,
                          0.3200896563
                        ],
                        "iteration": 978,
                        "passed_time": 302.9912437,
                        "remaining_time": 1244.461482,
                        "test": [
                          0.777588658,
                          0.6040097903
                        ]
                      },
                      {
                        "learn": [
                          0.9170632788,
                          0.3199708823
                        ],
                        "iteration": 979,
                        "passed_time": 303.2367091,
                        "remaining_time": 1243.889358,
                        "test": [
                          0.7775794916,
                          0.6039103224
                        ]
                      },
                      {
                        "learn": [
                          0.9170640051,
                          0.3198361483
                        ],
                        "iteration": 980,
                        "passed_time": 303.4804418,
                        "remaining_time": 1243.310801,
                        "test": [
                          0.7772976661,
                          0.6038207166
                        ]
                      },
                      {
                        "learn": [
                          0.9171904545,
                          0.3197117702
                        ],
                        "iteration": 981,
                        "passed_time": 303.7617482,
                        "remaining_time": 1242.886664,
                        "test": [
                          0.7770043367,
                          0.6039138538
                        ]
                      },
                      {
                        "learn": [
                          0.917678163,
                          0.3195282421
                        ],
                        "iteration": 982,
                        "passed_time": 304.0335222,
                        "remaining_time": 1242.423864,
                        "test": [
                          0.7767125398,
                          0.6039992984
                        ]
                      },
                      {
                        "learn": [
                          0.9178135429,
                          0.319383175
                        ],
                        "iteration": 983,
                        "passed_time": 304.2771654,
                        "remaining_time": 1241.846642,
                        "test": [
                          0.7764216408,
                          0.6040030171
                        ]
                      },
                      {
                        "learn": [
                          0.9180526389,
                          0.3192331697
                        ],
                        "iteration": 984,
                        "passed_time": 304.5159338,
                        "remaining_time": 1241.250228,
                        "test": [
                          0.7764216408,
                          0.6040931107
                        ]
                      },
                      {
                        "learn": [
                          0.9179245838,
                          0.3189508758
                        ],
                        "iteration": 985,
                        "passed_time": 304.8057019,
                        "remaining_time": 1240.862157,
                        "test": [
                          0.7764306162,
                          0.6041210142
                        ]
                      },
                      {
                        "learn": [
                          0.9178090518,
                          0.3187582197
                        ],
                        "iteration": 986,
                        "passed_time": 305.0790172,
                        "remaining_time": 1240.407392,
                        "test": [
                          0.7761397172,
                          0.6043362682
                        ]
                      },
                      {
                        "learn": [
                          0.9179200336,
                          0.3185793249
                        ],
                        "iteration": 987,
                        "passed_time": 305.3244477,
                        "remaining_time": 1239.839761,
                        "test": [
                          0.7758576916,
                          0.6044046958
                        ]
                      },
                      {
                        "learn": [
                          0.9181659828,
                          0.3184461358
                        ],
                        "iteration": 988,
                        "passed_time": 305.569807,
                        "remaining_time": 1239.272493,
                        "test": [
                          0.7758450309,
                          0.6043830698
                        ]
                      },
                      {
                        "learn": [
                          0.918281921,
                          0.318300597
                        ],
                        "iteration": 989,
                        "passed_time": 305.8129484,
                        "remaining_time": 1238.696892,
                        "test": [
                          0.7758450309,
                          0.6043346648
                        ]
                      },
                      {
                        "learn": [
                          0.9184032228,
                          0.3181716427
                        ],
                        "iteration": 990,
                        "passed_time": 306.1103594,
                        "remaining_time": 1238.341504,
                        "test": [
                          0.7764172233,
                          0.6043657076
                        ]
                      },
                      {
                        "learn": [
                          0.9182696974,
                          0.3180762851
                        ],
                        "iteration": 991,
                        "passed_time": 306.3547682,
                        "remaining_time": 1237.772087,
                        "test": [
                          0.7764172233,
                          0.6044157235
                        ]
                      },
                      {
                        "learn": [
                          0.9183938231,
                          0.3179515228
                        ],
                        "iteration": 992,
                        "passed_time": 306.5950806,
                        "remaining_time": 1237.186795,
                        "test": [
                          0.7766992193,
                          0.6044881394
                        ]
                      },
                      {
                        "learn": [
                          0.9184033611,
                          0.3178227182
                        ],
                        "iteration": 993,
                        "passed_time": 306.9007499,
                        "remaining_time": 1236.865598,
                        "test": [
                          0.7764172233,
                          0.6045027464
                        ]
                      },
                      {
                        "learn": [
                          0.9186507632,
                          0.3176689707
                        ],
                        "iteration": 994,
                        "passed_time": 307.5067614,
                        "remaining_time": 1237.753346,
                        "test": [
                          0.7764172233,
                          0.6045201487
                        ]
                      },
                      {
                        "learn": [
                          0.9188939764,
                          0.3174954093
                        ],
                        "iteration": 995,
                        "passed_time": 307.894998,
                        "remaining_time": 1237.762622,
                        "test": [
                          0.7767104391,
                          0.6044117412
                        ]
                      },
                      {
                        "learn": [
                          0.919012611,
                          0.3173453854
                        ],
                        "iteration": 996,
                        "passed_time": 308.3092647,
                        "remaining_time": 1237.875614,
                        "test": [
                          0.7767104391,
                          0.6044897467
                        ]
                      },
                      {
                        "learn": [
                          0.9190144758,
                          0.3171994777
                        ],
                        "iteration": 997,
                        "passed_time": 308.7294772,
                        "remaining_time": 1238.01139,
                        "test": [
                          0.7767104391,
                          0.6042362735
                        ]
                      },
                      {
                        "learn": [
                          0.9190140135,
                          0.3170850306
                        ],
                        "iteration": 998,
                        "passed_time": 309.1069164,
                        "remaining_time": 1237.974747,
                        "test": [
                          0.7767104391,
                          0.6040472638
                        ]
                      },
                      {
                        "learn": [
                          0.9190018645,
                          0.3169917711
                        ],
                        "iteration": 999,
                        "passed_time": 309.5723206,
                        "remaining_time": 1238.289283,
                        "test": [
                          0.7767104391,
                          0.604008227
                        ]
                      },
                      {
                        "learn": [
                          0.9190087428,
                          0.3168087116
                        ],
                        "iteration": 1000,
                        "passed_time": 309.9378692,
                        "remaining_time": 1238.203336,
                        "test": [
                          0.776432801,
                          0.6040162689
                        ]
                      },
                      {
                        "learn": [
                          0.9195002087,
                          0.3166197083
                        ],
                        "iteration": 1001,
                        "passed_time": 310.1815909,
                        "remaining_time": 1237.630739,
                        "test": [
                          0.776432801,
                          0.6039923635
                        ]
                      },
                      {
                        "learn": [
                          0.9193724552,
                          0.316449278
                        ],
                        "iteration": 1002,
                        "passed_time": 310.4279976,
                        "remaining_time": 1237.069498,
                        "test": [
                          0.7761544944,
                          0.6037886679
                        ]
                      },
                      {
                        "learn": [
                          0.9193724552,
                          0.316287595
                        ],
                        "iteration": 1003,
                        "passed_time": 310.7270577,
                        "remaining_time": 1236.718449,
                        "test": [
                          0.7761383226,
                          0.6036538479
                        ]
                      },
                      {
                        "learn": [
                          0.9197449624,
                          0.3161592957
                        ],
                        "iteration": 1004,
                        "passed_time": 310.9961947,
                        "remaining_time": 1236.248555,
                        "test": [
                          0.7761383226,
                          0.6036410185
                        ]
                      },
                      {
                        "learn": [
                          0.9199807696,
                          0.3159738672
                        ],
                        "iteration": 1005,
                        "passed_time": 311.2440721,
                        "remaining_time": 1235.694656,
                        "test": [
                          0.7761383226,
                          0.6034105652
                        ]
                      },
                      {
                        "learn": [
                          0.9197323082,
                          0.3158406939
                        ],
                        "iteration": 1006,
                        "passed_time": 311.4916161,
                        "remaining_time": 1235.140043,
                        "test": [
                          0.7761383226,
                          0.6034965093
                        ]
                      },
                      {
                        "learn": [
                          0.9197290082,
                          0.3157265908
                        ],
                        "iteration": 1007,
                        "passed_time": 311.7859227,
                        "remaining_time": 1234.771234,
                        "test": [
                          0.7767387431,
                          0.6035854158
                        ]
                      },
                      {
                        "learn": [
                          0.9194825376,
                          0.3155968376
                        ],
                        "iteration": 1008,
                        "passed_time": 312.0372244,
                        "remaining_time": 1234.23247,
                        "test": [
                          0.776722439,
                          0.6034493938
                        ]
                      },
                      {
                        "learn": [
                          0.919600193,
                          0.3154902409
                        ],
                        "iteration": 1009,
                        "passed_time": 312.2749528,
                        "remaining_time": 1233.640655,
                        "test": [
                          0.776722439,
                          0.6035214668
                        ]
                      },
                      {
                        "learn": [
                          0.9197248611,
                          0.3153032657
                        ],
                        "iteration": 1010,
                        "passed_time": 312.5160439,
                        "remaining_time": 1233.062808,
                        "test": [
                          0.7764262127,
                          0.6037066826
                        ]
                      },
                      {
                        "learn": [
                          0.9197234396,
                          0.3151123604
                        ],
                        "iteration": 1011,
                        "passed_time": 312.7818169,
                        "remaining_time": 1232.582891,
                        "test": [
                          0.7764262127,
                          0.6036668068
                        ]
                      },
                      {
                        "learn": [
                          0.9193517847,
                          0.3148159571
                        ],
                        "iteration": 1012,
                        "passed_time": 313.0665139,
                        "remaining_time": 1232.177878,
                        "test": [
                          0.7764262127,
                          0.6036322
                        ]
                      },
                      {
                        "learn": [
                          0.9192370437,
                          0.3146372808
                        ],
                        "iteration": 1013,
                        "passed_time": 313.3147384,
                        "remaining_time": 1231.629731,
                        "test": [
                          0.7764262127,
                          0.6037355065
                        ]
                      },
                      {
                        "learn": [
                          0.9194855349,
                          0.3144934252
                        ],
                        "iteration": 1014,
                        "passed_time": 313.552385,
                        "remaining_time": 1231.040644,
                        "test": [
                          0.7764394141,
                          0.6037489997
                        ]
                      },
                      {
                        "learn": [
                          0.9196124824,
                          0.3143898247
                        ],
                        "iteration": 1015,
                        "passed_time": 313.788939,
                        "remaining_time": 1230.447965,
                        "test": [
                          0.7767326106,
                          0.6037422615
                        ]
                      },
                      {
                        "learn": [
                          0.9196081279,
                          0.3141302563
                        ],
                        "iteration": 1016,
                        "passed_time": 314.1466244,
                        "remaining_time": 1230.330388,
                        "test": [
                          0.7767326106,
                          0.603703502
                        ]
                      },
                      {
                        "learn": [
                          0.9196075359,
                          0.3140409913
                        ],
                        "iteration": 1017,
                        "passed_time": 314.3912204,
                        "remaining_time": 1229.76998,
                        "test": [
                          0.7767326106,
                          0.6036878691
                        ]
                      },
                      {
                        "learn": [
                          0.9197245408,
                          0.3137732556
                        ],
                        "iteration": 1018,
                        "passed_time": 314.6337218,
                        "remaining_time": 1229.202009,
                        "test": [
                          0.7773088553,
                          0.60371708
                        ]
                      },
                      {
                        "learn": [
                          0.9198433482,
                          0.3135595494
                        ],
                        "iteration": 1019,
                        "passed_time": 314.9029384,
                        "remaining_time": 1228.738917,
                        "test": [
                          0.7764630244,
                          0.6036807382
                        ]
                      },
                      {
                        "learn": [
                          0.9197187064,
                          0.313471531
                        ],
                        "iteration": 1020,
                        "passed_time": 315.1972963,
                        "remaining_time": 1228.374184,
                        "test": [
                          0.7767574046,
                          0.603731377
                        ]
                      },
                      {
                        "learn": [
                          0.9196060456,
                          0.3132676346
                        ],
                        "iteration": 1021,
                        "passed_time": 315.4534461,
                        "remaining_time": 1227.86087,
                        "test": [
                          0.7770727695,
                          0.6037359137
                        ]
                      },
                      {
                        "learn": [
                          0.9196060456,
                          0.3131226754
                        ],
                        "iteration": 1022,
                        "passed_time": 315.705215,
                        "remaining_time": 1227.331027,
                        "test": [
                          0.7770982587,
                          0.6036619725
                        ]
                      },
                      {
                        "learn": [
                          0.92009816,
                          0.3129562837
                        ],
                        "iteration": 1023,
                        "passed_time": 316.0015416,
                        "remaining_time": 1226.974736,
                        "test": [
                          0.7768000408,
                          0.6038263226
                        ]
                      },
                      {
                        "learn": [
                          0.9203415642,
                          0.312777436
                        ],
                        "iteration": 1024,
                        "passed_time": 316.2784018,
                        "remaining_time": 1226.54307,
                        "test": [
                          0.7756494115,
                          0.6038729898
                        ]
                      },
                      {
                        "learn": [
                          0.9204683704,
                          0.3126435988
                        ],
                        "iteration": 1025,
                        "passed_time": 316.524774,
                        "remaining_time": 1225.993618,
                        "test": [
                          0.7756494115,
                          0.603780882
                        ]
                      },
                      {
                        "learn": [
                          0.9203467491,
                          0.3124975905
                        ],
                        "iteration": 1026,
                        "passed_time": 316.7780018,
                        "remaining_time": 1225.471277,
                        "test": [
                          0.776220361,
                          0.6037610683
                        ]
                      },
                      {
                        "learn": [
                          0.9210845963,
                          0.3123144507
                        ],
                        "iteration": 1027,
                        "passed_time": 317.0850855,
                        "remaining_time": 1225.157548,
                        "test": [
                          0.7753584764,
                          0.6034703207
                        ]
                      },
                      {
                        "learn": [
                          0.9210870997,
                          0.3121458748
                        ],
                        "iteration": 1028,
                        "passed_time": 317.3519055,
                        "remaining_time": 1224.688452,
                        "test": [
                          0.7756367734,
                          0.6036286173
                        ]
                      },
                      {
                        "learn": [
                          0.9212041744,
                          0.3120097073
                        ],
                        "iteration": 1029,
                        "passed_time": 317.5985636,
                        "remaining_time": 1224.142036,
                        "test": [
                          0.7753584764,
                          0.603675295
                        ]
                      },
                      {
                        "learn": [
                          0.9213284436,
                          0.3118505835
                        ],
                        "iteration": 1030,
                        "passed_time": 317.841157,
                        "remaining_time": 1223.580555,
                        "test": [
                          0.7744808937,
                          0.6037056242
                        ]
                      },
                      {
                        "learn": [
                          0.9209700892,
                          0.3115434533
                        ],
                        "iteration": 1031,
                        "passed_time": 318.1120701,
                        "remaining_time": 1223.12858,
                        "test": [
                          0.7753353525,
                          0.6034772013
                        ]
                      },
                      {
                        "learn": [
                          0.9212122273,
                          0.3113917056
                        ],
                        "iteration": 1032,
                        "passed_time": 318.4035174,
                        "remaining_time": 1222.755812,
                        "test": [
                          0.7753353525,
                          0.603259047
                        ]
                      },
                      {
                        "learn": [
                          0.9212027739,
                          0.3112235933
                        ],
                        "iteration": 1033,
                        "passed_time": 318.6509665,
                        "remaining_time": 1222.214442,
                        "test": [
                          0.775062004,
                          0.6033498775
                        ]
                      },
                      {
                        "learn": [
                          0.921067219,
                          0.3111139898
                        ],
                        "iteration": 1034,
                        "passed_time": 318.9011319,
                        "remaining_time": 1221.684046,
                        "test": [
                          0.7762035463,
                          0.6033583861
                        ]
                      },
                      {
                        "learn": [
                          0.9211943339,
                          0.3110126141
                        ],
                        "iteration": 1035,
                        "passed_time": 319.3130635,
                        "remaining_time": 1221.77315,
                        "test": [
                          0.7764948788,
                          0.6034749886
                        ]
                      },
                      {
                        "learn": [
                          0.921067219,
                          0.3109139115
                        ],
                        "iteration": 1036,
                        "passed_time": 319.5834148,
                        "remaining_time": 1221.320224,
                        "test": [
                          0.7759398194,
                          0.603444926
                        ]
                      },
                      {
                        "learn": [
                          0.921067219,
                          0.3108071237
                        ],
                        "iteration": 1037,
                        "passed_time": 319.8238336,
                        "remaining_time": 1220.7534,
                        "test": [
                          0.7762180236,
                          0.6033330633
                        ]
                      },
                      {
                        "learn": [
                          0.9210732652,
                          0.3106635086
                        ],
                        "iteration": 1038,
                        "passed_time": 320.1381277,
                        "remaining_time": 1220.468839,
                        "test": [
                          0.7762180236,
                          0.603428192
                        ]
                      },
                      {
                        "learn": [
                          0.9209522427,
                          0.3105145294
                        ],
                        "iteration": 1039,
                        "passed_time": 320.5672042,
                        "remaining_time": 1220.621278,
                        "test": [
                          0.7762180236,
                          0.6034464365
                        ]
                      },
                      {
                        "learn": [
                          0.9211877009,
                          0.3101712627
                        ],
                        "iteration": 1040,
                        "passed_time": 320.9368135,
                        "remaining_time": 1220.54644,
                        "test": [
                          0.7759222089,
                          0.6033612296
                        ]
                      },
                      {
                        "learn": [
                          0.9211884492,
                          0.3099454003
                        ],
                        "iteration": 1041,
                        "passed_time": 321.3154377,
                        "remaining_time": 1220.505281,
                        "test": [
                          0.7765050265,
                          0.6035265602
                        ]
                      },
                      {
                        "learn": [
                          0.9215562206,
                          0.3097943673
                        ],
                        "iteration": 1042,
                        "passed_time": 321.7832243,
                        "remaining_time": 1220.801743,
                        "test": [
                          0.7764868035,
                          0.6034008048
                        ]
                      },
                      {
                        "learn": [
                          0.9215562206,
                          0.3096740139
                        ],
                        "iteration": 1043,
                        "passed_time": 322.1713934,
                        "remaining_time": 1220.79505,
                        "test": [
                          0.776786541,
                          0.6035753326
                        ]
                      },
                      {
                        "learn": [
                          0.9215579507,
                          0.3095152684
                        ],
                        "iteration": 1044,
                        "passed_time": 322.5434951,
                        "remaining_time": 1220.726816,
                        "test": [
                          0.7770506931,
                          0.6036544886
                        ]
                      },
                      {
                        "learn": [
                          0.921554638,
                          0.3093306627
                        ],
                        "iteration": 1045,
                        "passed_time": 323.0230641,
                        "remaining_time": 1221.06424,
                        "test": [
                          0.7767440553,
                          0.6039084833
                        ]
                      },
                      {
                        "learn": [
                          0.921554638,
                          0.3092203179
                        ],
                        "iteration": 1046,
                        "passed_time": 323.391146,
                        "remaining_time": 1220.979179,
                        "test": [
                          0.7767268473,
                          0.6039125073
                        ]
                      },
                      {
                        "learn": [
                          0.9218028348,
                          0.3090106372
                        ],
                        "iteration": 1047,
                        "passed_time": 323.6304764,
                        "remaining_time": 1220.408056,
                        "test": [
                          0.7779108043,
                          0.6038962299
                        ]
                      },
                      {
                        "learn": [
                          0.921924173,
                          0.3088211316
                        ],
                        "iteration": 1048,
                        "passed_time": 323.8713624,
                        "remaining_time": 1219.843425,
                        "test": [
                          0.7778934555,
                          0.6038745674
                        ]
                      },
                      {
                        "learn": [
                          0.9218038591,
                          0.3087011896
                        ],
                        "iteration": 1049,
                        "passed_time": 324.1721338,
                        "remaining_time": 1219.504694,
                        "test": [
                          0.7775977576,
                          0.603848749
                        ]
                      },
                      {
                        "learn": [
                          0.9218038591,
                          0.308561108
                        ],
                        "iteration": 1050,
                        "passed_time": 324.4332521,
                        "remaining_time": 1219.017043,
                        "test": [
                          0.7781674092,
                          0.6039342903
                        ]
                      },
                      {
                        "learn": [
                          0.9219261866,
                          0.3083725913
                        ],
                        "iteration": 1051,
                        "passed_time": 324.6794606,
                        "remaining_time": 1218.473869,
                        "test": [
                          0.7778844089,
                          0.6040040155
                        ]
                      },
                      {
                        "learn": [
                          0.9220488578,
                          0.3082012068
                        ],
                        "iteration": 1052,
                        "passed_time": 324.921995,
                        "remaining_time": 1217.917487,
                        "test": [
                          0.7778844089,
                          0.6040157067
                        ]
                      },
                      {
                        "learn": [
                          0.9220474595,
                          0.3080174266
                        ],
                        "iteration": 1053,
                        "passed_time": 325.220355,
                        "remaining_time": 1217.570703,
                        "test": [
                          0.7779008363,
                          0.6039925568
                        ]
                      },
                      {
                        "learn": [
                          0.9220436973,
                          0.3078497581
                        ],
                        "iteration": 1054,
                        "passed_time": 325.4793724,
                        "remaining_time": 1217.076895,
                        "test": [
                          0.7775932081,
                          0.60399276
                        ]
                      },
                      {
                        "learn": [
                          0.9218053864,
                          0.3076857444
                        ],
                        "iteration": 1055,
                        "passed_time": 325.7197824,
                        "remaining_time": 1216.514036,
                        "test": [
                          0.7775932081,
                          0.6040036856
                        ]
                      },
                      {
                        "learn": [
                          0.9221714004,
                          0.3075551711
                        ],
                        "iteration": 1056,
                        "passed_time": 325.9623169,
                        "remaining_time": 1215.959712,
                        "test": [
                          0.7781487303,
                          0.604033098
                        ]
                      },
                      {
                        "learn": [
                          0.9221739188,
                          0.3074472596
                        ],
                        "iteration": 1057,
                        "passed_time": 326.2305022,
                        "remaining_time": 1215.50155,
                        "test": [
                          0.7784397202,
                          0.6040883787
                        ]
                      },
                      {
                        "learn": [
                          0.9223003714,
                          0.3073016772
                        ],
                        "iteration": 1058,
                        "passed_time": 326.5130171,
                        "remaining_time": 1215.097073,
                        "test": [
                          0.7784375681,
                          0.6040727013
                        ]
                      },
                      {
                        "learn": [
                          0.9223003714,
                          0.3072066725
                        ],
                        "iteration": 1059,
                        "passed_time": 326.7551177,
                        "remaining_time": 1214.542607,
                        "test": [
                          0.7787138318,
                          0.604093436
                        ]
                      },
                      {
                        "learn": [
                          0.9227850801,
                          0.3070142264
                        ],
                        "iteration": 1060,
                        "passed_time": 327.0026722,
                        "remaining_time": 1214.008978,
                        "test": [
                          0.778434584,
                          0.6041782925
                        ]
                      },
                      {
                        "learn": [
                          0.9227850801,
                          0.3068303619
                        ],
                        "iteration": 1061,
                        "passed_time": 327.2595966,
                        "remaining_time": 1213.510632,
                        "test": [
                          0.7784327279,
                          0.6041812961
                        ]
                      },
                      {
                        "learn": [
                          0.9227845043,
                          0.3066997447
                        ],
                        "iteration": 1062,
                        "passed_time": 327.5619269,
                        "remaining_time": 1213.180909,
                        "test": [
                          0.7787168481,
                          0.6042523352
                        ]
                      },
                      {
                        "learn": [
                          0.9229017256,
                          0.3066016392
                        ],
                        "iteration": 1063,
                        "passed_time": 327.8025973,
                        "remaining_time": 1212.623142,
                        "test": [
                          0.7784356343,
                          0.6043716023
                        ]
                      },
                      {
                        "learn": [
                          0.9231422051,
                          0.3063858036
                        ],
                        "iteration": 1064,
                        "passed_time": 328.0463117,
                        "remaining_time": 1212.077217,
                        "test": [
                          0.778994752,
                          0.6043467024
                        ]
                      },
                      {
                        "learn": [
                          0.9231378774,
                          0.3062243861
                        ],
                        "iteration": 1065,
                        "passed_time": 328.28808,
                        "remaining_time": 1211.524678,
                        "test": [
                          0.7781472248,
                          0.6044635891
                        ]
                      },
                      {
                        "learn": [
                          0.9230141735,
                          0.3060520918
                        ],
                        "iteration": 1066,
                        "passed_time": 328.6020036,
                        "remaining_time": 1211.238688,
                        "test": [
                          0.7778500994,
                          0.6047508156
                        ]
                      },
                      {
                        "learn": [
                          0.9233829878,
                          0.3058521411
                        ],
                        "iteration": 1067,
                        "passed_time": 328.8408436,
                        "remaining_time": 1210.676214,
                        "test": [
                          0.7778477216,
                          0.6046734135
                        ]
                      },
                      {
                        "learn": [
                          0.9236278673,
                          0.3056781048
                        ],
                        "iteration": 1068,
                        "passed_time": 329.0916575,
                        "remaining_time": 1210.158378,
                        "test": [
                          0.7778477216,
                          0.6046197165
                        ]
                      },
                      {
                        "learn": [
                          0.9233858756,
                          0.3055389661
                        ],
                        "iteration": 1069,
                        "passed_time": 329.3302891,
                        "remaining_time": 1209.596295,
                        "test": [
                          0.7778477216,
                          0.6045413312
                        ]
                      },
                      {
                        "learn": [
                          0.9237544614,
                          0.3054203394
                        ],
                        "iteration": 1070,
                        "passed_time": 329.648368,
                        "remaining_time": 1209.326272,
                        "test": [
                          0.7778477216,
                          0.6044532393
                        ]
                      },
                      {
                        "learn": [
                          0.9237544614,
                          0.305305746
                        ],
                        "iteration": 1071,
                        "passed_time": 329.8938397,
                        "remaining_time": 1208.790114,
                        "test": [
                          0.7775707246,
                          0.6043470091
                        ]
                      },
                      {
                        "learn": [
                          0.9238783771,
                          0.3051949521
                        ],
                        "iteration": 1072,
                        "passed_time": 330.1355146,
                        "remaining_time": 1208.240602,
                        "test": [
                          0.7775707246,
                          0.6043004774
                        ]
                      },
                      {
                        "learn": [
                          0.9238744059,
                          0.3050652444
                        ],
                        "iteration": 1073,
                        "passed_time": 330.3808069,
                        "remaining_time": 1207.704886,
                        "test": [
                          0.7775707246,
                          0.6042453237
                        ]
                      },
                      {
                        "learn": [
                          0.9237511981,
                          0.3049137704
                        ],
                        "iteration": 1074,
                        "passed_time": 330.6863111,
                        "remaining_time": 1207.389554,
                        "test": [
                          0.7778473134,
                          0.6042042611
                        ]
                      },
                      {
                        "learn": [
                          0.9237511981,
                          0.3047984345
                        ],
                        "iteration": 1075,
                        "passed_time": 330.9220223,
                        "remaining_time": 1206.819717,
                        "test": [
                          0.7775509137,
                          0.6042388866
                        ]
                      },
                      {
                        "learn": [
                          0.9239993058,
                          0.3046905819
                        ],
                        "iteration": 1076,
                        "passed_time": 331.1666388,
                        "remaining_time": 1206.282938,
                        "test": [
                          0.7781075299,
                          0.604280275
                        ]
                      },
                      {
                        "learn": [
                          0.9239977661,
                          0.3045653949
                        ],
                        "iteration": 1077,
                        "passed_time": 331.4041833,
                        "remaining_time": 1205.720971,
                        "test": [
                          0.7775509137,
                          0.6043013429
                        ]
                      }
                    ],
                    "meta": {
                      "test_sets": [
                        "test"
                      ],
                      "test_metrics": [
                        {
                          "best_value": "Max",
                          "name": "TotalF1"
                        },
                        {
                          "best_value": "Min",
                          "name": "MultiClass"
                        }
                      ],
                      "learn_metrics": [
                        {
                          "best_value": "Max",
                          "name": "TotalF1"
                        },
                        {
                          "best_value": "Min",
                          "name": "MultiClass"
                        }
                      ],
                      "launch_mode": "Train",
                      "parameters": "",
                      "iteration_count": 5000,
                      "learn_sets": [
                        "learn"
                      ],
                      "name": "experiment"
                    }
                  }
                }
              }
            },
            "layout": "IPY_MODEL_dc93db9be0524a8aaa02d06dc24a2c74"
          }
        }
      }
    }
  },
  "cells": [
    {
      "cell_type": "markdown",
      "metadata": {
        "id": "vrzsAzvPZnuY"
      },
      "source": [
        "Импортируем необходимые библиотеки"
      ]
    },
    {
      "cell_type": "code",
      "execution_count": null,
      "metadata": {
        "id": "4WKJwEX8VFqp"
      },
      "outputs": [],
      "source": [
        "import pandas as pd\n",
        "import numpy as np\n",
        "import matplotlib.pyplot as plt\n",
        "import random\n",
        "from sklearn.model_selection import train_test_split\n",
        "import re\n",
        "import seaborn as sns"
      ]
    },
    {
      "cell_type": "markdown",
      "metadata": {
        "id": "c-s0nu7Oa-56"
      },
      "source": [
        "##Загрузка датасета\n"
      ]
    },
    {
      "cell_type": "code",
      "execution_count": null,
      "metadata": {
        "id": "eF83Xbz8cPsp",
        "colab": {
          "base_uri": "https://localhost:8080/",
          "height": 424
        },
        "outputId": "42e3677c-8105-4c53-af7b-e7e6d2d07f4e"
      },
      "outputs": [
        {
          "output_type": "execute_result",
          "data": {
            "text/plain": [
              "                                                text_new     complexity\n",
              "0                               я звать георгий бессонов  Легкие тексты\n",
              "1      мой маленький сосед дом лариса сев часто заход...  Легкие тексты\n",
              "2      мы пить чай разговаривать о весь свет как сев ...  Легкие тексты\n",
              "3                                 и нужный время хватать  Легкие тексты\n",
              "4                  и решить рассказать ребята мир деньга  Легкие тексты\n",
              "...                                                  ...            ...\n",
              "11658  указание цель оценка эффективность рационально...   Магистратура\n",
              "11659  являться один форма финансовый контроль госуда...   Магистратура\n",
              "11660  это связать гфк являться объективный необходим...   Магистратура\n",
              "11661  объём контрольный деятельность форма метод охв...   Магистратура\n",
              "11662  к сожаление вопрос лежать поверхность теоретич...   Магистратура\n",
              "\n",
              "[11663 rows x 2 columns]"
            ],
            "text/html": [
              "\n",
              "  <div id=\"df-a84828e9-1abb-449a-9742-836775862c75\">\n",
              "    <div class=\"colab-df-container\">\n",
              "      <div>\n",
              "<style scoped>\n",
              "    .dataframe tbody tr th:only-of-type {\n",
              "        vertical-align: middle;\n",
              "    }\n",
              "\n",
              "    .dataframe tbody tr th {\n",
              "        vertical-align: top;\n",
              "    }\n",
              "\n",
              "    .dataframe thead th {\n",
              "        text-align: right;\n",
              "    }\n",
              "</style>\n",
              "<table border=\"1\" class=\"dataframe\">\n",
              "  <thead>\n",
              "    <tr style=\"text-align: right;\">\n",
              "      <th></th>\n",
              "      <th>text_new</th>\n",
              "      <th>complexity</th>\n",
              "    </tr>\n",
              "  </thead>\n",
              "  <tbody>\n",
              "    <tr>\n",
              "      <th>0</th>\n",
              "      <td>я звать георгий бессонов</td>\n",
              "      <td>Легкие тексты</td>\n",
              "    </tr>\n",
              "    <tr>\n",
              "      <th>1</th>\n",
              "      <td>мой маленький сосед дом лариса сев часто заход...</td>\n",
              "      <td>Легкие тексты</td>\n",
              "    </tr>\n",
              "    <tr>\n",
              "      <th>2</th>\n",
              "      <td>мы пить чай разговаривать о весь свет как сев ...</td>\n",
              "      <td>Легкие тексты</td>\n",
              "    </tr>\n",
              "    <tr>\n",
              "      <th>3</th>\n",
              "      <td>и нужный время хватать</td>\n",
              "      <td>Легкие тексты</td>\n",
              "    </tr>\n",
              "    <tr>\n",
              "      <th>4</th>\n",
              "      <td>и решить рассказать ребята мир деньга</td>\n",
              "      <td>Легкие тексты</td>\n",
              "    </tr>\n",
              "    <tr>\n",
              "      <th>...</th>\n",
              "      <td>...</td>\n",
              "      <td>...</td>\n",
              "    </tr>\n",
              "    <tr>\n",
              "      <th>11658</th>\n",
              "      <td>указание цель оценка эффективность рационально...</td>\n",
              "      <td>Магистратура</td>\n",
              "    </tr>\n",
              "    <tr>\n",
              "      <th>11659</th>\n",
              "      <td>являться один форма финансовый контроль госуда...</td>\n",
              "      <td>Магистратура</td>\n",
              "    </tr>\n",
              "    <tr>\n",
              "      <th>11660</th>\n",
              "      <td>это связать гфк являться объективный необходим...</td>\n",
              "      <td>Магистратура</td>\n",
              "    </tr>\n",
              "    <tr>\n",
              "      <th>11661</th>\n",
              "      <td>объём контрольный деятельность форма метод охв...</td>\n",
              "      <td>Магистратура</td>\n",
              "    </tr>\n",
              "    <tr>\n",
              "      <th>11662</th>\n",
              "      <td>к сожаление вопрос лежать поверхность теоретич...</td>\n",
              "      <td>Магистратура</td>\n",
              "    </tr>\n",
              "  </tbody>\n",
              "</table>\n",
              "<p>11663 rows × 2 columns</p>\n",
              "</div>\n",
              "      <button class=\"colab-df-convert\" onclick=\"convertToInteractive('df-a84828e9-1abb-449a-9742-836775862c75')\"\n",
              "              title=\"Convert this dataframe to an interactive table.\"\n",
              "              style=\"display:none;\">\n",
              "        \n",
              "  <svg xmlns=\"http://www.w3.org/2000/svg\" height=\"24px\"viewBox=\"0 0 24 24\"\n",
              "       width=\"24px\">\n",
              "    <path d=\"M0 0h24v24H0V0z\" fill=\"none\"/>\n",
              "    <path d=\"M18.56 5.44l.94 2.06.94-2.06 2.06-.94-2.06-.94-.94-2.06-.94 2.06-2.06.94zm-11 1L8.5 8.5l.94-2.06 2.06-.94-2.06-.94L8.5 2.5l-.94 2.06-2.06.94zm10 10l.94 2.06.94-2.06 2.06-.94-2.06-.94-.94-2.06-.94 2.06-2.06.94z\"/><path d=\"M17.41 7.96l-1.37-1.37c-.4-.4-.92-.59-1.43-.59-.52 0-1.04.2-1.43.59L10.3 9.45l-7.72 7.72c-.78.78-.78 2.05 0 2.83L4 21.41c.39.39.9.59 1.41.59.51 0 1.02-.2 1.41-.59l7.78-7.78 2.81-2.81c.8-.78.8-2.07 0-2.86zM5.41 20L4 18.59l7.72-7.72 1.47 1.35L5.41 20z\"/>\n",
              "  </svg>\n",
              "      </button>\n",
              "      \n",
              "  <style>\n",
              "    .colab-df-container {\n",
              "      display:flex;\n",
              "      flex-wrap:wrap;\n",
              "      gap: 12px;\n",
              "    }\n",
              "\n",
              "    .colab-df-convert {\n",
              "      background-color: #E8F0FE;\n",
              "      border: none;\n",
              "      border-radius: 50%;\n",
              "      cursor: pointer;\n",
              "      display: none;\n",
              "      fill: #1967D2;\n",
              "      height: 32px;\n",
              "      padding: 0 0 0 0;\n",
              "      width: 32px;\n",
              "    }\n",
              "\n",
              "    .colab-df-convert:hover {\n",
              "      background-color: #E2EBFA;\n",
              "      box-shadow: 0px 1px 2px rgba(60, 64, 67, 0.3), 0px 1px 3px 1px rgba(60, 64, 67, 0.15);\n",
              "      fill: #174EA6;\n",
              "    }\n",
              "\n",
              "    [theme=dark] .colab-df-convert {\n",
              "      background-color: #3B4455;\n",
              "      fill: #D2E3FC;\n",
              "    }\n",
              "\n",
              "    [theme=dark] .colab-df-convert:hover {\n",
              "      background-color: #434B5C;\n",
              "      box-shadow: 0px 1px 3px 1px rgba(0, 0, 0, 0.15);\n",
              "      filter: drop-shadow(0px 1px 2px rgba(0, 0, 0, 0.3));\n",
              "      fill: #FFFFFF;\n",
              "    }\n",
              "  </style>\n",
              "\n",
              "      <script>\n",
              "        const buttonEl =\n",
              "          document.querySelector('#df-a84828e9-1abb-449a-9742-836775862c75 button.colab-df-convert');\n",
              "        buttonEl.style.display =\n",
              "          google.colab.kernel.accessAllowed ? 'block' : 'none';\n",
              "\n",
              "        async function convertToInteractive(key) {\n",
              "          const element = document.querySelector('#df-a84828e9-1abb-449a-9742-836775862c75');\n",
              "          const dataTable =\n",
              "            await google.colab.kernel.invokeFunction('convertToInteractive',\n",
              "                                                     [key], {});\n",
              "          if (!dataTable) return;\n",
              "\n",
              "          const docLinkHtml = 'Like what you see? Visit the ' +\n",
              "            '<a target=\"_blank\" href=https://colab.research.google.com/notebooks/data_table.ipynb>data table notebook</a>'\n",
              "            + ' to learn more about interactive tables.';\n",
              "          element.innerHTML = '';\n",
              "          dataTable['output_type'] = 'display_data';\n",
              "          await google.colab.output.renderOutput(dataTable, element);\n",
              "          const docLink = document.createElement('div');\n",
              "          docLink.innerHTML = docLinkHtml;\n",
              "          element.appendChild(docLink);\n",
              "        }\n",
              "      </script>\n",
              "    </div>\n",
              "  </div>\n",
              "  "
            ]
          },
          "metadata": {},
          "execution_count": 4
        }
      ],
      "source": [
        "all = pd.read_csv('/content/all_a.csv', sep = ',')\n",
        "all"
      ]
    },
    {
      "cell_type": "code",
      "source": [
        "sns.set(rc={'figure.figsize':(20,10)})\n",
        "sns_plt = sns.countplot(x='complexity', data = all, palette=\"Set2\")"
      ],
      "metadata": {
        "colab": {
          "base_uri": "https://localhost:8080/",
          "height": 739
        },
        "id": "-Vuj-vZbmdfR",
        "outputId": "20bf433e-3233-409e-91c8-5aa0582ae01e"
      },
      "execution_count": null,
      "outputs": [
        {
          "output_type": "display_data",
          "data": {
            "text/plain": [
              "<Figure size 2000x1000 with 1 Axes>"
            ],
            "image/png": "[encoded data removed]"
          },
          "metadata": {}
        }
      ]
    },
    {
      "cell_type": "markdown",
      "source": [
        "# Pipeline"
      ],
      "metadata": {
        "id": "JYopkTUSQ8UM"
      }
    },
    {
      "cell_type": "code",
      "source": [
        "from sklearn.model_selection import train_test_split\n",
        "\n",
        "X = all['text_new']\n",
        "y = all['complexity']\n",
        "\n",
        "X_train, X_test, y_train, y_test = train_test_split(X, y, random_state= 42, test_size=0.3)"
      ],
      "metadata": {
        "id": "_ukQABRHyVQj"
      },
      "execution_count": null,
      "outputs": []
    },
    {
      "cell_type": "code",
      "source": [
        "X_train"
      ],
      "metadata": {
        "colab": {
          "base_uri": "https://localhost:8080/"
        },
        "id": "VpCH4yf6uXWL",
        "outputId": "e68e6509-c3ee-4df3-a58f-46a603362539"
      },
      "execution_count": null,
      "outputs": [
        {
          "output_type": "execute_result",
          "data": {
            "text/plain": [
              "10222    продолжать реформа наш электроэнергетика важно...\n",
              "7797     в данный случай производственный функция демон...\n",
              "3668     так случай фёдор открыть вклад накопительный в...\n",
              "4365     с такой банк иметь дело в справочник кредитный...\n",
              "1023                               выходить второй вариант\n",
              "                               ...                        \n",
              "11284    речь идти обеспечение гражданин электричество ...\n",
              "5191     пеня начисляться тот пора пока уплатить весь с...\n",
              "5390     перевести накопление негосударственный пенсион...\n",
              "860                           поэтому происходить инфляция\n",
              "7270     в второй случай конкурент мочь следовать фирма...\n",
              "Name: text_new, Length: 8164, dtype: object"
            ]
          },
          "metadata": {},
          "execution_count": 19
        }
      ]
    },
    {
      "cell_type": "code",
      "source": [
        "from sklearn.pipeline import Pipeline\n",
        "from sklearn.feature_extraction.text import TfidfTransformer\n",
        "from sklearn.feature_extraction.text import CountVectorizer\n",
        "from sklearn.linear_model import LogisticRegression\n",
        "from sklearn.linear_model import SGDClassifier\n",
        "logreg = Pipeline([\n",
        "                ('vect', CountVectorizer(analyzer='char')),\n",
        "                ('tfidf', TfidfTransformer()),\n",
        "                ('clf', LogisticRegression(n_jobs=3,C=1e5, solver='saga', \n",
        "                                           multi_class='multinomial',\n",
        "                                           max_iter=1000,\n",
        "                                           random_state=42)),\n",
        "])\n",
        "\n",
        "logreg.fit(X_train, y_train)\n",
        "y_pred = logreg.predict(X_test)\n",
        "\n",
        "themes = all['complexity'].unique()\n",
        "\n",
        "from sklearn.metrics import classification_report\n",
        "from sklearn.metrics import f1_score\n",
        "print(classification_report(y_test, y_pred, target_names = themes))\n",
        "print(f\"F1 Score: {f1_score(y_test, y_pred, average='weighted')}\")"
      ],
      "metadata": {
        "id": "oaEKfNLKySFc",
        "colab": {
          "base_uri": "https://localhost:8080/"
        },
        "outputId": "9325d447-9767-4862-94b8-cde3a97f4650"
      },
      "execution_count": null,
      "outputs": [
        {
          "output_type": "stream",
          "name": "stdout",
          "text": [
            "                precision    recall  f1-score   support\n",
            "\n",
            " Легкие тексты       0.50      0.48      0.49       872\n",
            "Старшие классы       0.55      0.56      0.55       849\n",
            "   Бакалавриат       0.51      0.56      0.53       867\n",
            "  Магистратура       0.47      0.44      0.45       911\n",
            "\n",
            "      accuracy                           0.51      3499\n",
            "     macro avg       0.51      0.51      0.51      3499\n",
            "  weighted avg       0.51      0.51      0.51      3499\n",
            "\n",
            "F1 Score: 0.5061902128577086\n"
          ]
        }
      ]
    },
    {
      "cell_type": "markdown",
      "source": [
        "# catboost "
      ],
      "metadata": {
        "id": "1hkJ5dvxRFph"
      }
    },
    {
      "cell_type": "code",
      "source": [
        "!pip install catboost "
      ],
      "metadata": {
        "id": "LZDvDi9Q6FYE",
        "colab": {
          "base_uri": "https://localhost:8080/"
        },
        "outputId": "6d1d4307-9e22-49f9-a83c-e676d58eba1e"
      },
      "execution_count": null,
      "outputs": [
        {
          "output_type": "stream",
          "name": "stdout",
          "text": [
            "Looking in indexes: https://pypi.org/simple, https://us-python.pkg.dev/colab-wheels/public/simple/\n",
            "Collecting catboost\n",
            "  Downloading catboost-1.2-cp310-cp310-manylinux2014_x86_64.whl (98.6 MB)\n",
            "\u001b[2K     \u001b[90m━━━━━━━━━━━━━━━━━━━━━━━━━━━━━━━━━━━━━━━━\u001b[0m \u001b[32m98.6/98.6 MB\u001b[0m \u001b[31m10.1 MB/s\u001b[0m eta \u001b[36m0:00:00\u001b[0m\n",
            "\u001b[?25hRequirement already satisfied: pandas>=0.24 in /usr/local/lib/python3.10/dist-packages (from catboost) (1.5.3)\n",
            "Requirement already satisfied: numpy>=1.16.0 in /usr/local/lib/python3.10/dist-packages (from catboost) (1.22.4)\n",
            "Requirement already satisfied: matplotlib in /usr/local/lib/python3.10/dist-packages (from catboost) (3.7.1)\n",
            "Requirement already satisfied: scipy in /usr/local/lib/python3.10/dist-packages (from catboost) (1.10.1)\n",
            "Requirement already satisfied: six in /usr/local/lib/python3.10/dist-packages (from catboost) (1.16.0)\n",
            "Requirement already satisfied: graphviz in /usr/local/lib/python3.10/dist-packages (from catboost) (0.20.1)\n",
            "Requirement already satisfied: plotly in /usr/local/lib/python3.10/dist-packages (from catboost) (5.13.1)\n",
            "Requirement already satisfied: python-dateutil>=2.8.1 in /usr/local/lib/python3.10/dist-packages (from pandas>=0.24->catboost) (2.8.2)\n",
            "Requirement already satisfied: pytz>=2020.1 in /usr/local/lib/python3.10/dist-packages (from pandas>=0.24->catboost) (2022.7.1)\n",
            "Requirement already satisfied: pillow>=6.2.0 in /usr/local/lib/python3.10/dist-packages (from matplotlib->catboost) (8.4.0)\n",
            "Requirement already satisfied: cycler>=0.10 in /usr/local/lib/python3.10/dist-packages (from matplotlib->catboost) (0.11.0)\n",
            "Requirement already satisfied: kiwisolver>=1.0.1 in /usr/local/lib/python3.10/dist-packages (from matplotlib->catboost) (1.4.4)\n",
            "Requirement already satisfied: packaging>=20.0 in /usr/local/lib/python3.10/dist-packages (from matplotlib->catboost) (23.1)\n",
            "Requirement already satisfied: pyparsing>=2.3.1 in /usr/local/lib/python3.10/dist-packages (from matplotlib->catboost) (3.0.9)\n",
            "Requirement already satisfied: contourpy>=1.0.1 in /usr/local/lib/python3.10/dist-packages (from matplotlib->catboost) (1.0.7)\n",
            "Requirement already satisfied: fonttools>=4.22.0 in /usr/local/lib/python3.10/dist-packages (from matplotlib->catboost) (4.39.3)\n",
            "Requirement already satisfied: tenacity>=6.2.0 in /usr/local/lib/python3.10/dist-packages (from plotly->catboost) (8.2.2)\n",
            "Installing collected packages: catboost\n",
            "Successfully installed catboost-1.2\n"
          ]
        }
      ]
    },
    {
      "cell_type": "code",
      "source": [
        "import catboost\n",
        "from catboost import CatBoostClassifier, Pool\n",
        "\n",
        "def fit_model(train_pool, test_pool, **kwargs):\n",
        "    model = CatBoostClassifier(task_type='CPU', iterations = 5000,\n",
        "                               eval_metric='TotalF1', od_type='Iter', \n",
        "                               od_wait=500, **kwargs)\n",
        "    \n",
        "    return model.fit(train_pool, eval_set=test_pool, \n",
        "                     verbose=100, plot=True, \n",
        "                     use_best_model=True)"
      ],
      "metadata": {
        "id": "2MtUIfBQ54cA"
      },
      "execution_count": null,
      "outputs": []
    },
    {
      "cell_type": "code",
      "source": [
        "X_train.reset_index(drop=True, inplace= True)"
      ],
      "metadata": {
        "id": "OTsvpR86CcfD"
      },
      "execution_count": null,
      "outputs": []
    },
    {
      "cell_type": "code",
      "source": [
        "y_train.reset_index(drop= True , inplace= True )"
      ],
      "metadata": {
        "id": "WgJletP96zjE"
      },
      "execution_count": null,
      "outputs": []
    },
    {
      "cell_type": "code",
      "source": [
        "xr = pd.concat([X_train], ignore_index=True)\n",
        "yr = pd.concat([y_train], ignore_index=True)"
      ],
      "metadata": {
        "id": "B77XbeV6JVeV"
      },
      "execution_count": null,
      "outputs": []
    },
    {
      "cell_type": "code",
      "source": [
        "train_pool = Pool(data=xr, label=yr, text_features = [0])"
      ],
      "metadata": {
        "id": "7wTrs8gl5_Vz"
      },
      "execution_count": null,
      "outputs": []
    },
    {
      "cell_type": "code",
      "source": [
        "xe = pd.concat([X_test], ignore_index=True)\n",
        "ye = pd.concat([y_test], ignore_index=True)"
      ],
      "metadata": {
        "id": "6DMKllyRpWwf"
      },
      "execution_count": null,
      "outputs": []
    },
    {
      "cell_type": "code",
      "source": [
        "valid_pool = Pool(data = xe, label = ye, text_features = [0])"
      ],
      "metadata": {
        "id": "5m2RyRR59i_r"
      },
      "execution_count": null,
      "outputs": []
    },
    {
      "cell_type": "code",
      "source": [
        "model = fit_model(train_pool, valid_pool, learning_rate=0.35,\n",
        "                  dictionaries = [{\n",
        "                      'dictionary_id':'Word',\n",
        "                      'max_dictionary_size': '50000'\n",
        "                  }],\n",
        "                 feature_calcers = ['BoW:top_tokens_count=1000'])"
      ],
      "metadata": {
        "id": "EfjFs3gQI3eH",
        "colab": {
          "base_uri": "https://localhost:8080/",
          "height": 312,
          "referenced_widgets": [
            "b142ee4bd9c244339309ca9daf35bb81"
          ]
        },
        "outputId": "62f77a59-b511-40e2-e15a-e86a34f2f3d2"
      },
      "execution_count": null,
      "outputs": [
        {
          "output_type": "display_data",
          "data": {
            "text/plain": [
              "MetricVisualizer(layout=Layout(align_self='stretch', height='500px'))"
            ],
            "application/vnd.jupyter.widget-view+json": {
              "version_major": 2,
              "version_minor": 0,
              "model_id": "b142ee4bd9c244339309ca9daf35bb81"
            }
          },
          "metadata": {}
        },
        {
          "output_type": "stream",
          "name": "stdout",
          "text": [
            "0:\tlearn: 0.3567183\ttest: 0.3612934\tbest: 0.3612934 (0)\ttotal: 435ms\tremaining: 36m 12s\n",
            "100:\tlearn: 0.7850507\ttest: 0.7481093\tbest: 0.7481093 (100)\ttotal: 55.1s\tremaining: 44m 33s\n",
            "200:\tlearn: 0.8241227\ttest: 0.7586196\tbest: 0.7588918 (184)\ttotal: 1m 21s\tremaining: 32m 34s\n",
            "300:\tlearn: 0.8491170\ttest: 0.7675739\tbest: 0.7684616 (297)\ttotal: 1m 48s\tremaining: 28m 18s\n",
            "400:\tlearn: 0.8634966\ttest: 0.7742248\tbest: 0.7748196 (397)\ttotal: 2m 15s\tremaining: 25m 57s\n",
            "500:\tlearn: 0.8753466\ttest: 0.7790020\tbest: 0.7790188 (498)\ttotal: 2m 46s\tremaining: 24m 53s\n",
            "600:\tlearn: 0.8875748\ttest: 0.7809620\tbest: 0.7829343 (577)\ttotal: 3m 13s\tremaining: 23m 37s\n",
            "700:\tlearn: 0.8961040\ttest: 0.7778456\tbest: 0.7829343 (577)\ttotal: 3m 44s\tremaining: 22m 55s\n",
            "800:\tlearn: 0.9053404\ttest: 0.7772972\tbest: 0.7829343 (577)\ttotal: 4m 12s\tremaining: 22m 2s\n",
            "900:\tlearn: 0.9123794\ttest: 0.7789728\tbest: 0.7829343 (577)\ttotal: 4m 40s\tremaining: 21m 13s\n",
            "1000:\tlearn: 0.9190087\ttest: 0.7764328\tbest: 0.7829343 (577)\ttotal: 5m 9s\tremaining: 20m 38s\n",
            "Stopped by overfitting detector  (500 iterations wait)\n",
            "\n",
            "bestTest = 0.782934275\n",
            "bestIteration = 577\n",
            "\n",
            "Shrink model to first 578 iterations.\n"
          ]
        }
      ]
    },
    {
      "cell_type": "markdown",
      "source": [
        "# SVC"
      ],
      "metadata": {
        "id": "0H_5xXxwOBmh"
      }
    },
    {
      "cell_type": "code",
      "source": [
        "from sklearn import svm, datasets\n",
        "import sklearn.model_selection as model_selection\n",
        "from sklearn.metrics import accuracy_score\n",
        "from sklearn.metrics import f1_score"
      ],
      "metadata": {
        "id": "cd2I3Y7YGkp4"
      },
      "execution_count": null,
      "outputs": []
    },
    {
      "cell_type": "code",
      "source": [
        "rbf = svm.SVC(kernel='rbf', gamma=0.5, C=0.1).fit(X_train, y_train)\n",
        "poly = svm.SVC(kernel='poly', degree=3, C=1).fit(X_train, y_train)"
      ],
      "metadata": {
        "id": "dEZyvwrLGR1L"
      },
      "execution_count": null,
      "outputs": []
    },
    {
      "cell_type": "code",
      "source": [
        "poly_pred = poly.predict(X_test)\n",
        "rbf_pred = rbf.predict(X_test)"
      ],
      "metadata": {
        "id": "lgaJGXlpGYYb"
      },
      "execution_count": null,
      "outputs": []
    },
    {
      "cell_type": "code",
      "source": [
        "poly_accuracy = accuracy_score(y_test, poly_pred)\n",
        "poly_f1 = f1_score(y_test, poly_pred, average='weighted')\n",
        "print('Accuracy (Polynomial Kernel): ', \"%.2f\" % (poly_accuracy*100))\n",
        "print('F1 (Polynomial Kernel): ', \"%.2f\" % (poly_f1*100))"
      ],
      "metadata": {
        "colab": {
          "base_uri": "https://localhost:8080/"
        },
        "id": "1vpaKihyGao5",
        "outputId": "d8543b4c-6795-4761-e437-f1ef3031748c"
      },
      "execution_count": null,
      "outputs": [
        {
          "output_type": "stream",
          "name": "stdout",
          "text": [
            "Accuracy (Polynomial Kernel):  81.66\n",
            "F1 (Polynomial Kernel):  81.75\n"
          ]
        }
      ]
    },
    {
      "cell_type": "code",
      "source": [
        "rbf_accuracy = accuracy_score(y_test, rbf_pred)\n",
        "rbf_f1 = f1_score(y_test, rbf_pred, average='weighted')\n",
        "print('Accuracy (RBF Kernel): ', \"%.2f\" % (rbf_accuracy*100))\n",
        "print('F1 (RBF Kernel): ', \"%.2f\" % (rbf_f1*100))"
      ],
      "metadata": {
        "colab": {
          "base_uri": "https://localhost:8080/"
        },
        "id": "V5Yw6pftGcMJ",
        "outputId": "c4539964-08e7-468a-f2f7-a7cb2ff1b809"
      },
      "execution_count": null,
      "outputs": [
        {
          "output_type": "stream",
          "name": "stdout",
          "text": [
            "Accuracy (RBF Kernel):  73.58\n",
            "F1 (RBF Kernel):  73.70\n"
          ]
        }
      ]
    },
    {
      "cell_type": "code",
      "source": [
        "print(metrics.classification_report(y_test, rbf_pred, target_names=all['complexity'].unique()))"
      ],
      "metadata": {
        "colab": {
          "base_uri": "https://localhost:8080/"
        },
        "id": "sizQFW73OnW-",
        "outputId": "13fc8e0f-ed66-4ccc-8b26-30beb11f816d"
      },
      "execution_count": null,
      "outputs": [
        {
          "output_type": "stream",
          "name": "stdout",
          "text": [
            "                precision    recall  f1-score   support\n",
            "\n",
            " Легкие тексты       0.83      0.69      0.75      1006\n",
            "Старшие классы       0.69      0.73      0.71       923\n",
            "   Бакалавриат       0.89      0.65      0.75       992\n",
            "  Магистратура       0.62      0.88      0.73       928\n",
            "\n",
            "      accuracy                           0.74      3849\n",
            "     macro avg       0.76      0.74      0.74      3849\n",
            "  weighted avg       0.76      0.74      0.74      3849\n",
            "\n"
          ]
        }
      ]
    },
    {
      "cell_type": "code",
      "source": [
        "print(f\"F1 Score: {f1_score(y_test, rbf_pred, average='weighted')}\")"
      ],
      "metadata": {
        "colab": {
          "base_uri": "https://localhost:8080/"
        },
        "id": "mxT5E1AMO5ht",
        "outputId": "84101325-4d33-4d48-e1f6-5dda0e251aba"
      },
      "execution_count": null,
      "outputs": [
        {
          "output_type": "stream",
          "name": "stdout",
          "text": [
            "F1 Score: 0.7370104400803792\n"
          ]
        }
      ]
    },
    {
      "cell_type": "markdown",
      "source": [
        "# RandomForestClassifier, LinearSVC(), MultinomialNB(), LogisticRegression - общая оценка\n"
      ],
      "metadata": {
        "id": "H84kbn-WRZ2W"
      }
    },
    {
      "cell_type": "code",
      "source": [
        "all['category_id'] = all['complexity'].factorize()[0]\n",
        "category_id = all[['complexity', 'category_id']].drop_duplicates().sort_values('category_id')\n",
        "category_to_id = dict(category_id.values)\n",
        "id_to_category = dict(category_id[['category_id', 'complexity']].values)"
      ],
      "metadata": {
        "id": "dXdFlZ-lSFUC"
      },
      "execution_count": null,
      "outputs": []
    },
    {
      "cell_type": "code",
      "source": [
        "from sklearn.linear_model import LogisticRegression\n",
        "from sklearn.ensemble import RandomForestClassifier\n",
        "from sklearn.naive_bayes import MultinomialNB\n",
        "from sklearn.svm import LinearSVC\n",
        "\n",
        "from sklearn.model_selection import cross_val_score"
      ],
      "metadata": {
        "id": "OUswOhizBWhi"
      },
      "execution_count": null,
      "outputs": []
    },
    {
      "cell_type": "code",
      "source": [
        "models = [\n",
        "    RandomForestClassifier(n_estimators=200, max_depth=3, random_state=0),\n",
        "    LinearSVC(random_state=0,  max_iter=500000),\n",
        "    MultinomialNB(),\n",
        "    LogisticRegression(random_state=0, solver='lbfgs', max_iter=500000),\n",
        "]"
      ],
      "metadata": {
        "id": "ggcakbOoBaZ2"
      },
      "execution_count": null,
      "outputs": []
    },
    {
      "cell_type": "code",
      "source": [
        "from sklearn.feature_extraction.text import TfidfVectorizer\n",
        "\n",
        "tfidf = TfidfVectorizer(sublinear_tf=True, min_df=5, norm='l2', encoding='latin-1', ngram_range=(1, 2))\n",
        "\n",
        "features = tfidf.fit_transform(all.text_new).toarray()\n",
        "labels = all.complexity"
      ],
      "metadata": {
        "id": "0F8DGc_3BiXR"
      },
      "execution_count": null,
      "outputs": []
    },
    {
      "cell_type": "code",
      "source": [
        "CV = 7\n",
        "cv_df = pd.DataFrame(index=range(CV * len(models)))\n",
        "entries = []\n",
        "for model in models:\n",
        "  model_name = model.__class__.__name__\n",
        "  accuracies = cross_val_score(model, features, labels, scoring='accuracy', cv=CV)\n",
        "  for fold_idx, accuracy in enumerate(accuracies):\n",
        "    entries.append((model_name, fold_idx, accuracy))\n",
        "cv_df = pd.DataFrame(entries, columns=['model_name', 'fold_idx', 'accuracy'])"
      ],
      "metadata": {
        "id": "uaqZmhPH4YOC"
      },
      "execution_count": null,
      "outputs": []
    },
    {
      "cell_type": "code",
      "source": [
        "import seaborn as sns\n",
        "\n",
        "sns.boxplot(x='model_name', y='accuracy', data=cv_df)\n",
        "sns.stripplot(x='model_name', y='accuracy', data=cv_df, \n",
        "              size=8, jitter=True, edgecolor=\"gray\", linewidth=2)\n",
        "plt.show()"
      ],
      "metadata": {
        "id": "8634U_qHCjXz",
        "colab": {
          "base_uri": "https://localhost:8080/",
          "height": 879
        },
        "outputId": "8efd03f7-7b47-4c14-b962-2ddcd38d47f9"
      },
      "execution_count": null,
      "outputs": [
        {
          "output_type": "display_data",
          "data": {
            "text/plain": [
              "<Figure size 2000x1000 with 1 Axes>"
            ],
            "image/png": "[encoded data removed]"
          },
          "metadata": {}
        }
      ]
    },
    {
      "cell_type": "markdown",
      "source": [
        "Из блочной диаграммы видно, что точность классификатора случайных лесов самая низкая, т.к. случайный лес относится к интегральному классификатору (объединено несколько подклассификаторов), как правило, интегральный классификатор не подходит для обработки многомерных данных. (например, текстовые данные), потому что текстовые данные имеют слишком много собственных значений, что затрудняет работу интегрированного классификатора, а средняя точность трех других классификаторов около 70%. Среди них наибольшей точностью обладает MultinomialNB.\n",
        "\n"
      ],
      "metadata": {
        "id": "YxViULUILY-J"
      }
    },
    {
      "cell_type": "code",
      "source": [
        "cv_df.groupby('model_name').accuracy.mean()"
      ],
      "metadata": {
        "id": "-5eG4P5HCn9i",
        "colab": {
          "base_uri": "https://localhost:8080/"
        },
        "outputId": "58b225ca-7138-4555-f8c1-c499c9da0e51"
      },
      "execution_count": null,
      "outputs": [
        {
          "output_type": "execute_result",
          "data": {
            "text/plain": [
              "model_name\n",
              "LinearSVC                 0.675564\n",
              "LogisticRegression        0.695373\n",
              "MultinomialNB             0.709434\n",
              "RandomForestClassifier    0.551844\n",
              "Name: accuracy, dtype: float64"
            ]
          },
          "metadata": {},
          "execution_count": 23
        }
      ]
    },
    {
      "cell_type": "markdown",
      "source": [
        "# После общей оценки моделей, обучим каждую отдельно для получения более "
      ],
      "metadata": {
        "id": "Et8jurGCLxYZ"
      }
    },
    {
      "cell_type": "markdown",
      "source": [
        "Результаты (реализацию можно увидеть ниже)"
      ],
      "metadata": {
        "id": "eERlr2gpL2Gm"
      }
    },
    {
      "cell_type": "markdown",
      "source": [
        "KNeighborsClassifier (лучшая точность - бакалавриат)"
      ],
      "metadata": {
        "id": "j2YmYlTq1Kmr"
      }
    },
    {
      "cell_type": "markdown",
      "source": [
        "![image.png](data:image/png;base64,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)"
      ],
      "metadata": {
        "id": "X4uRsWma1IvQ"
      }
    },
    {
      "cell_type": "markdown",
      "source": [
        "LogisticRegression (лучшая точность - магистратура, точность бакалавриата выше у случайных соседей)"
      ],
      "metadata": {
        "id": "EP1_fril1QW0"
      }
    },
    {
      "cell_type": "markdown",
      "source": [
        "![image.png](data:image/png;base64,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)"
      ],
      "metadata": {
        "id": "kztZZ3n41QzU"
      }
    },
    {
      "cell_type": "markdown",
      "source": [
        "MultinomialNB() (лучшая точность - старшие классы, точность других выше у других моделей)"
      ],
      "metadata": {
        "id": "IGVlT4uF1oEu"
      }
    },
    {
      "cell_type": "markdown",
      "source": [
        "![image.png](data:image/png;base64,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)"
      ],
      "metadata": {
        "id": "majh7vM81pe3"
      }
    },
    {
      "cell_type": "markdown",
      "source": [
        "LinearSVC() (лучшая точность - легкие тексты)"
      ],
      "metadata": {
        "id": "XAb0IvoU1uCJ"
      }
    },
    {
      "cell_type": "markdown",
      "source": [
        "![image.png](data:image/png;base64,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)"
      ],
      "metadata": {
        "id": "BDMV2kmx1vsK"
      }
    },
    {
      "cell_type": "markdown",
      "source": [
        "RandomForestClassifier()"
      ],
      "metadata": {
        "id": "lP6ScZYp2AQ-"
      }
    },
    {
      "cell_type": "markdown",
      "source": [
        "![image.png](data:image/png;base64,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)"
      ],
      "metadata": {
        "id": "xlH-TX2h2B-S"
      }
    },
    {
      "cell_type": "code",
      "source": [
        "from sklearn.model_selection import train_test_split\n",
        "from sklearn.neighbors import KNeighborsClassifier \n",
        "\n",
        "# Выбираем модель\n",
        "model = RandomForestClassifier() \n",
        "\n",
        "# Делим данные на тестовую и обучающую выборки\n",
        "X_train, X_test, y_train, y_test, indices_train, indices_test = train_test_split(features, labels, all.index, test_size=0.33, random_state=0)\n",
        "model = model.fit(X_train, y_train)\n",
        "y_pred = model.predict(X_test)"
      ],
      "metadata": {
        "id": "VghLUs7JJCUC"
      },
      "execution_count": null,
      "outputs": []
    },
    {
      "cell_type": "code",
      "source": [
        "from sklearn import metrics\n",
        "\n",
        "# Оценка модели\n",
        "print(metrics.classification_report(y_test, y_pred, target_names=all['complexity'].unique()))\n",
        "print(f\"F1 Score: {f1_score(y_test, y_pred, average='weighted')}\")"
      ],
      "metadata": {
        "colab": {
          "base_uri": "https://localhost:8080/"
        },
        "id": "cm_V1RRoW1QY",
        "outputId": "eb1fd4dc-a668-4931-d026-36929806bf65"
      },
      "execution_count": null,
      "outputs": [
        {
          "output_type": "stream",
          "name": "stdout",
          "text": [
            "                precision    recall  f1-score   support\n",
            "\n",
            " Легкие тексты       0.77      0.74      0.76      1006\n",
            "Старшие классы       0.68      0.82      0.74       923\n",
            "   Бакалавриат       0.81      0.74      0.77       992\n",
            "  Магистратура       0.79      0.72      0.75       928\n",
            "\n",
            "      accuracy                           0.76      3849\n",
            "     macro avg       0.76      0.76      0.76      3849\n",
            "  weighted avg       0.76      0.76      0.76      3849\n",
            "\n",
            "F1 Score: 0.7575837425123144\n"
          ]
        }
      ]
    },
    {
      "cell_type": "markdown",
      "source": [
        "# Реализация оценки сложности текстов"
      ],
      "metadata": {
        "id": "aL_fHa6GOR6E"
      }
    },
    {
      "cell_type": "code",
      "source": [
        "df = all\n",
        "\n",
        "df['category_id'] = all['complexity'].factorize()[0]\n",
        "category_id = df[['complexity', 'category_id']].drop_duplicates().sort_values('category_id')"
      ],
      "metadata": {
        "id": "I81HbvhFLabx"
      },
      "execution_count": null,
      "outputs": []
    },
    {
      "cell_type": "code",
      "source": [
        "id_to_category = dict(category_id[['category_id', 'complexity']].values)"
      ],
      "metadata": {
        "id": "gwEwwAcbOD4P"
      },
      "execution_count": null,
      "outputs": []
    },
    {
      "cell_type": "code",
      "source": [
        "from sklearn.metrics import confusion_matrix\n",
        "\n",
        "conf_mat = confusion_matrix(y_test, y_pred)\n",
        "fig, ax = plt.subplots(figsize=(8,6))\n",
        "sns.heatmap(conf_mat, annot=True, fmt='d',\n",
        "            xticklabels=category_id.complexity.values, yticklabels=category_id.complexity.values)\n",
        "plt.ylabel('Actual')\n",
        "plt.xlabel('Predicted')\n",
        "plt.show()"
      ],
      "metadata": {
        "id": "cynLKNRCJJSS"
      },
      "execution_count": null,
      "outputs": []
    },
    {
      "cell_type": "code",
      "source": [
        "# Можно оценить случайные тексты на сложность\n",
        "\n",
        "texts = ['инфляция', 'экономика']\n",
        "text_features = tfidf.transform(texts)\n",
        "predictions = model.predict(text_features)"
      ],
      "metadata": {
        "id": "jaWlDXUzN5KQ"
      },
      "execution_count": null,
      "outputs": []
    },
    {
      "cell_type": "code",
      "source": [
        "# Выводим результат оцениваемых текстов, к какому классы они относятся\n",
        "for text, predicted in zip(texts, predictions):\n",
        "  print('\"{}\"'.format(text))\n",
        "  print(\"  - Predicted as: '{}'\".format(category_to_id[predicted]))"
      ],
      "metadata": {
        "id": "KRz0gF4UVNdG"
      },
      "execution_count": null,
      "outputs": []
    },
    {
      "cell_type": "markdown",
      "source": [
        " # Создаем ансамбль "
      ],
      "metadata": {
        "id": "YnLFTgAvNrMz"
      }
    },
    {
      "cell_type": "code",
      "source": [
        "from sklearn.ensemble import VotingClassifier\n",
        "from sklearn.svm import LinearSVC\n",
        "from sklearn.neighbors import KNeighborsClassifier\n",
        "from sklearn.preprocessing import LabelEncoder\n",
        "from sklearn.linear_model import LogisticRegression\n",
        "from sklearn.pipeline import Pipeline\n",
        "from sklearn.model_selection import train_test_split\n",
        "from sklearn import metrics\n",
        "from sklearn.metrics import f1_score\n",
        "\n",
        "tfidf = TfidfVectorizer(sublinear_tf=True, min_df=5, norm='l2', encoding='latin-1', ngram_range=(1, 2))\n",
        "\n",
        "all_kn = all[all['complexity'] == 'Бакалавриат']\n",
        "all_lr = all[all['complexity'].isin(['Магистратура', 'Старшие классы'])] \n",
        "all_ls = all[all['complexity'].isin(['Легкие тексты', 'Магистратура'])] \n",
        "all_mn = all[all['complexity'] == 'Старшие классы']\n",
        "\n",
        "features_kn = tfidf.fit_transform(all_kn.text_new).toarray()\n",
        "features_lr = tfidf.fit_transform(all_lr.text_new).toarray()\n",
        "features_ls = tfidf.fit_transform(all_ls.text_new).toarray()\n",
        "features_mn = tfidf.fit_transform(all_mn.text_new).toarray()\n",
        "\n",
        "\n",
        "# Разделяем данные на TRAIN и TEST\n",
        "X_train_kn, X_test_kn, y_train_kn, y_test_kn, indices_train_kn, indices_test_kn = train_test_split(features_kn, all_kn.complexity, all_kn.index, test_size=0.33, random_state=0)\n",
        "X_train_lr, X_test_lr, y_train_lr, y_test_lr, indices_train_lr, indices_test_lr = train_test_split(features_lr, all_lr.complexity, all_lr.index, test_size=0.33, random_state=0)\n",
        "X_train_ls, X_test_ls, y_train_ls, y_test_ls, indices_train_ls, indices_test_ls = train_test_split(features_ls, all_ls.complexity, all_ls.index, test_size=0.33, random_state=0)\n",
        "X_train_mn, X_test_mn, y_train_mn, y_test_mn, indices_train_mn, indices_test_mn = train_test_split(features_mn, all_mn.complexity, all_mn.index, test_size=0.33, random_state=0)\n",
        "\n",
        "X_train, X_test, y_train, y_test, indices_train, indices_test = train_test_split(features, labels, all.index, test_size=0.33, random_state=0)\n",
        "# Создаем классификатор KNN\n",
        "k_neighbors = KNeighborsClassifier(n_neighbors=100, metric='minkowski', p=2, weights='uniform')\n",
        "\n",
        "# Создаем классификатор LogisticRegression\n",
        "logistic_regression = LogisticRegression(max_iter=500000)\n",
        "\n",
        "# Создаем классификатор LinearSVC\n",
        "linear_svс = LinearSVC(max_iter=500000)\n",
        "\n",
        "# Создаем классификатор MultinomialNB\n",
        "multinomial_nb = MultinomialNB()\n",
        "\n",
        "# Обучаем классификаторы на данных\n",
        "k_neighbors.fit(X_train_kn, y_train_kn)\n",
        "logistic_regression.fit(X_train_lr, y_train_lr)\n",
        "linear_svс.fit(X_train_ls, y_train_ls)\n",
        "multinomial_nb.fit(X_train_mn, y_train_mn)\n",
        "\n",
        "# Создаем ансамбль\n",
        "clf = VotingClassifier(estimators=[('knn', k_neighbors), ('logistic', logistic_regression), ('linear', linear_svс), ('multi', multinomial_nb)], voting='hard')\n",
        "\n",
        "# Обучение и оценка ансамбля\n",
        "clf = clf.fit(X_train, y_train)\n",
        "y_pred = clf.predict(X_test)\n",
        "\n",
        "print(metrics.classification_report(y_test, y_pred, target_names=all['complexity'].unique()))\n",
        "print(f\"F1 Score: {f1_score(y_test, y_pred, average='weighted')}\")"
      ],
      "metadata": {
        "colab": {
          "base_uri": "https://localhost:8080/"
        },
        "id": "u9ekwa9k9kg4",
        "outputId": "5d9b91b3-c438-4058-e4e1-a3aba78424b5"
      },
      "execution_count": null,
      "outputs": [
        {
          "output_type": "stream",
          "name": "stdout",
          "text": [
            "                precision    recall  f1-score   support\n",
            "\n",
            " Легкие тексты       0.81      0.86      0.83      1006\n",
            "Старшие классы       0.76      0.84      0.80       923\n",
            "   Бакалавриат       0.89      0.81      0.84       992\n",
            "  Магистратура       0.83      0.78      0.80       928\n",
            "\n",
            "      accuracy                           0.82      3849\n",
            "     macro avg       0.82      0.82      0.82      3849\n",
            "  weighted avg       0.82      0.82      0.82      3849\n",
            "\n",
            "F1 Score: 0.820787216701162\n"
          ]
        }
      ]
    },
    {
      "cell_type": "markdown",
      "source": [
        "# Сохраняем модель и векторизатор"
      ],
      "metadata": {
        "id": "5HH1et1emJ8A"
      }
    },
    {
      "cell_type": "code",
      "source": [
        "import pickle\n",
        "\n",
        "# создаем векторизатор и преобразуем данные\n",
        "vectorizer = TfidfVectorizer(sublinear_tf=True, min_df=5, norm='l2', encoding='latin-1', ngram_range=(1, 2))\n",
        "X = vectorizer.fit_transform(all.text_new)\n",
        "\n",
        "# сохраняем векторизатор\n",
        "with open('/content/vectorizer2.pk', 'wb') as f:\n",
        "    pickle.dump(vectorizer, f)\n",
        "\n",
        "# сохраняем преобразованные данные\n",
        "with open('/content/data.pk', 'wb') as f:\n",
        "    pickle.dump(y_pred, f)\n",
        "\n",
        "# сохраняем модель\n",
        "with open('/content/model.sav', 'wb') as f:\n",
        "    pickle.dump(clf, f)"
      ],
      "metadata": {
        "id": "Yh3bkRrplRwe"
      },
      "execution_count": null,
      "outputs": []
    }
  ]
}