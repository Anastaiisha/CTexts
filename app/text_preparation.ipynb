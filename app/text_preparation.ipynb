{
  "nbformat": 4,
  "nbformat_minor": 0,
  "metadata": {
    "colab": {
      "provenance": []
    },
    "kernelspec": {
      "name": "python3",
      "display_name": "Python 3"
    },
    "language_info": {
      "name": "python"
    }
  },
  "cells": [
    {
      "cell_type": "markdown",
      "source": [
        "# Предобработка"
      ],
      "metadata": {
        "id": "yagSEDzAmZft"
      }
    },
    {
      "cell_type": "code",
      "source": [
        "!pip install pymorphy2"
      ],
      "metadata": {
        "id": "6GU1VOAlG_xG"
      },
      "execution_count": null,
      "outputs": []
    },
    {
      "cell_type": "code",
      "source": [
        "import nltk.data\n",
        "nltk.download('punkt')\n",
        "tokenizer = nltk.data.load('tokenizers/punkt/russian.pickle')"
      ],
      "metadata": {
        "colab": {
          "base_uri": "https://localhost:8080/"
        },
        "id": "bODOxYITDErT",
        "outputId": "d42dbf4b-fbe1-490d-8d7b-d19ab828581e"
      },
      "execution_count": 2,
      "outputs": [
        {
          "output_type": "stream",
          "name": "stderr",
          "text": [
            "[nltk_data] Downloading package punkt to /root/nltk_data...\n",
            "[nltk_data]   Unzipping tokenizers/punkt.zip.\n"
          ]
        }
      ]
    },
    {
      "cell_type": "code",
      "source": [
        "import re\n",
        "from pymorphy2 import MorphAnalyzer\n",
        "nltk.download('stopwords')\n",
        "from nltk.corpus import stopwords\n",
        "patterns = \"[A-Za-z0-9!#$%&'()*+,./:;<=>?@[\\]^_`{|}~—\\\"\\-]+«»\"\n",
        "stopwords_ru = stopwords.words(\"russian\")\n",
        "morph = MorphAnalyzer()"
      ],
      "metadata": {
        "colab": {
          "base_uri": "https://localhost:8080/"
        },
        "id": "vd_Dc6sS1Fie",
        "outputId": "f3bcac12-6e82-49d6-8d80-7b7030b6d3e1"
      },
      "execution_count": 18,
      "outputs": [
        {
          "output_type": "stream",
          "name": "stderr",
          "text": [
            "[nltk_data] Downloading package stopwords to /root/nltk_data...\n",
            "[nltk_data]   Package stopwords is already up-to-date!\n"
          ]
        }
      ]
    },
    {
      "cell_type": "code",
      "source": [
        "def lemmatize(doc):\n",
        "    doc = re.sub(patterns, ' ', doc)\n",
        "    tokens = []\n",
        "    for token in doc.split():\n",
        "        if token and token not in stopwords_ru:\n",
        "            token = token.strip()\n",
        "            token = morph.normal_forms(token)[0]\n",
        "            \n",
        "            tokens.append(token)\n",
        "    if len(tokens) > 2:\n",
        "        return tokens\n",
        "    return None"
      ],
      "metadata": {
        "id": "tuGVfaKHbfx-"
      },
      "execution_count": 4,
      "outputs": []
    },
    {
      "cell_type": "code",
      "source": [
        "def __load(file_name): # открываем текстовый файл и токенизируем его на предложения\n",
        "  f = open(file_name,'r').read()\n",
        "  f = f.replace(\"\\x02\", \"\") # убираем оставшийся мусор\n",
        "  f = f.replace(\"\\n\", \"\")\n",
        "  return '\\n'.join(tokenizer.tokenize(f))"
      ],
      "metadata": {
        "id": "vTTvA41j-lNO"
      },
      "execution_count": 5,
      "outputs": []
    },
    {
      "cell_type": "markdown",
      "source": [
        "Пример на текстах для 2-3 классов"
      ],
      "metadata": {
        "id": "Y6nGcoMn43nc"
      }
    },
    {
      "cell_type": "code",
      "source": [
        "light = __load(\"/content/2-3.txt\") "
      ],
      "metadata": {
        "id": "sPaEuUaVmYHV"
      },
      "execution_count": 19,
      "outputs": []
    },
    {
      "cell_type": "code",
      "source": [
        "textfile = open(\"light.csv\", \"w\") # сохраняем данные в csv\n",
        "a = textfile.write(light)\n",
        "textfile.close()"
      ],
      "metadata": {
        "id": "s5eyLzfJAX7p"
      },
      "execution_count": 20,
      "outputs": []
    },
    {
      "cell_type": "code",
      "execution_count": 21,
      "metadata": {
        "id": "eF83Xbz8cPsp"
      },
      "outputs": [],
      "source": [
        "import pandas as pd\n",
        "\n",
        "light = pd.read_csv('/content/light.csv', sep = '\\t', header=None) #"
      ]
    },
    {
      "cell_type": "code",
      "execution_count": 22,
      "metadata": {
        "id": "QQdsfAsWVIgP"
      },
      "outputs": [],
      "source": [
        "light = light.iloc[:, 0].head(20000) \n",
        "lig = pd.DataFrame(light.apply(lemmatize)).dropna() \n",
        "lig['complexity'] = 'ПервыеКлассы' "
      ]
    },
    {
      "cell_type": "code",
      "source": [
        "all = pd.concat([lig, lig2, lig3, mid1, mid2, hig, higr], ignore_index=True) # объединение всех текстов\n",
        "all.columns = ['text', 'complexity']\n",
        "\n",
        "i=0;\n",
        "while(i < len(all)):\n",
        "    all.text[i]= \" \".join(all.text[i])\n",
        "    i=i+1\n",
        "    \n",
        "all"
      ],
      "metadata": {
        "colab": {
          "base_uri": "https://localhost:8080/",
          "height": 423
        },
        "id": "64vZMGSJcKeY",
        "outputId": "6739829d-9c01-4379-989b-e1b70ab634a7"
      },
      "execution_count": null,
      "outputs": [
        {
          "output_type": "execute_result",
          "data": {
            "text/plain": [
              "                                                    text    complexity\n",
              "0            сам слово «экономика» прийти греческий язык  ПервыеКлассы\n",
              "1      оно состоять два слово «экос» дом «номос» зако...  ПервыеКлассы\n",
              "2      экономика – это хозяйственный деятельность чел...  ПервыеКлассы\n",
              "3                    как называться место ваш проживание  ПервыеКлассы\n",
              "4                                     вы жить город село  ПервыеКлассы\n",
              "...                                                  ...           ...\n",
              "15058  государственный финансовый контроль являться в...  Магистратура\n",
              "15059  от полнота качество достоверность информация з...  Магистратура\n",
              "15060  по это причина часто понятие «финансовый контр...  Магистратура\n",
              "15061  вкладывать смысл понятие «финансовый контроль»...  Магистратура\n",
              "15062  следовательно учёт трансформация термин развит...  Магистратура\n",
              "\n",
              "[15063 rows x 2 columns]"
            ],
            "text/html": [
              "\n",
              "  <div id=\"df-32ad055d-6abf-4056-901c-56f7f1a547f6\">\n",
              "    <div class=\"colab-df-container\">\n",
              "      <div>\n",
              "<style scoped>\n",
              "    .dataframe tbody tr th:only-of-type {\n",
              "        vertical-align: middle;\n",
              "    }\n",
              "\n",
              "    .dataframe tbody tr th {\n",
              "        vertical-align: top;\n",
              "    }\n",
              "\n",
              "    .dataframe thead th {\n",
              "        text-align: right;\n",
              "    }\n",
              "</style>\n",
              "<table border=\"1\" class=\"dataframe\">\n",
              "  <thead>\n",
              "    <tr style=\"text-align: right;\">\n",
              "      <th></th>\n",
              "      <th>text</th>\n",
              "      <th>complexity</th>\n",
              "    </tr>\n",
              "  </thead>\n",
              "  <tbody>\n",
              "    <tr>\n",
              "      <th>0</th>\n",
              "      <td>сам слово «экономика» прийти греческий язык</td>\n",
              "      <td>ПервыеКлассы</td>\n",
              "    </tr>\n",
              "    <tr>\n",
              "      <th>1</th>\n",
              "      <td>оно состоять два слово «экос» дом «номос» зако...</td>\n",
              "      <td>ПервыеКлассы</td>\n",
              "    </tr>\n",
              "    <tr>\n",
              "      <th>2</th>\n",
              "      <td>экономика – это хозяйственный деятельность чел...</td>\n",
              "      <td>ПервыеКлассы</td>\n",
              "    </tr>\n",
              "    <tr>\n",
              "      <th>3</th>\n",
              "      <td>как называться место ваш проживание</td>\n",
              "      <td>ПервыеКлассы</td>\n",
              "    </tr>\n",
              "    <tr>\n",
              "      <th>4</th>\n",
              "      <td>вы жить город село</td>\n",
              "      <td>ПервыеКлассы</td>\n",
              "    </tr>\n",
              "    <tr>\n",
              "      <th>...</th>\n",
              "      <td>...</td>\n",
              "      <td>...</td>\n",
              "    </tr>\n",
              "    <tr>\n",
              "      <th>15058</th>\n",
              "      <td>государственный финансовый контроль являться в...</td>\n",
              "      <td>Магистратура</td>\n",
              "    </tr>\n",
              "    <tr>\n",
              "      <th>15059</th>\n",
              "      <td>от полнота качество достоверность информация з...</td>\n",
              "      <td>Магистратура</td>\n",
              "    </tr>\n",
              "    <tr>\n",
              "      <th>15060</th>\n",
              "      <td>по это причина часто понятие «финансовый контр...</td>\n",
              "      <td>Магистратура</td>\n",
              "    </tr>\n",
              "    <tr>\n",
              "      <th>15061</th>\n",
              "      <td>вкладывать смысл понятие «финансовый контроль»...</td>\n",
              "      <td>Магистратура</td>\n",
              "    </tr>\n",
              "    <tr>\n",
              "      <th>15062</th>\n",
              "      <td>следовательно учёт трансформация термин развит...</td>\n",
              "      <td>Магистратура</td>\n",
              "    </tr>\n",
              "  </tbody>\n",
              "</table>\n",
              "<p>15063 rows × 2 columns</p>\n",
              "</div>\n",
              "      <button class=\"colab-df-convert\" onclick=\"convertToInteractive('df-32ad055d-6abf-4056-901c-56f7f1a547f6')\"\n",
              "              title=\"Convert this dataframe to an interactive table.\"\n",
              "              style=\"display:none;\">\n",
              "        \n",
              "  <svg xmlns=\"http://www.w3.org/2000/svg\" height=\"24px\"viewBox=\"0 0 24 24\"\n",
              "       width=\"24px\">\n",
              "    <path d=\"M0 0h24v24H0V0z\" fill=\"none\"/>\n",
              "    <path d=\"M18.56 5.44l.94 2.06.94-2.06 2.06-.94-2.06-.94-.94-2.06-.94 2.06-2.06.94zm-11 1L8.5 8.5l.94-2.06 2.06-.94-2.06-.94L8.5 2.5l-.94 2.06-2.06.94zm10 10l.94 2.06.94-2.06 2.06-.94-2.06-.94-.94-2.06-.94 2.06-2.06.94z\"/><path d=\"M17.41 7.96l-1.37-1.37c-.4-.4-.92-.59-1.43-.59-.52 0-1.04.2-1.43.59L10.3 9.45l-7.72 7.72c-.78.78-.78 2.05 0 2.83L4 21.41c.39.39.9.59 1.41.59.51 0 1.02-.2 1.41-.59l7.78-7.78 2.81-2.81c.8-.78.8-2.07 0-2.86zM5.41 20L4 18.59l7.72-7.72 1.47 1.35L5.41 20z\"/>\n",
              "  </svg>\n",
              "      </button>\n",
              "      \n",
              "  <style>\n",
              "    .colab-df-container {\n",
              "      display:flex;\n",
              "      flex-wrap:wrap;\n",
              "      gap: 12px;\n",
              "    }\n",
              "\n",
              "    .colab-df-convert {\n",
              "      background-color: #E8F0FE;\n",
              "      border: none;\n",
              "      border-radius: 50%;\n",
              "      cursor: pointer;\n",
              "      display: none;\n",
              "      fill: #1967D2;\n",
              "      height: 32px;\n",
              "      padding: 0 0 0 0;\n",
              "      width: 32px;\n",
              "    }\n",
              "\n",
              "    .colab-df-convert:hover {\n",
              "      background-color: #E2EBFA;\n",
              "      box-shadow: 0px 1px 2px rgba(60, 64, 67, 0.3), 0px 1px 3px 1px rgba(60, 64, 67, 0.15);\n",
              "      fill: #174EA6;\n",
              "    }\n",
              "\n",
              "    [theme=dark] .colab-df-convert {\n",
              "      background-color: #3B4455;\n",
              "      fill: #D2E3FC;\n",
              "    }\n",
              "\n",
              "    [theme=dark] .colab-df-convert:hover {\n",
              "      background-color: #434B5C;\n",
              "      box-shadow: 0px 1px 3px 1px rgba(0, 0, 0, 0.15);\n",
              "      filter: drop-shadow(0px 1px 2px rgba(0, 0, 0, 0.3));\n",
              "      fill: #FFFFFF;\n",
              "    }\n",
              "  </style>\n",
              "\n",
              "      <script>\n",
              "        const buttonEl =\n",
              "          document.querySelector('#df-32ad055d-6abf-4056-901c-56f7f1a547f6 button.colab-df-convert');\n",
              "        buttonEl.style.display =\n",
              "          google.colab.kernel.accessAllowed ? 'block' : 'none';\n",
              "\n",
              "        async function convertToInteractive(key) {\n",
              "          const element = document.querySelector('#df-32ad055d-6abf-4056-901c-56f7f1a547f6');\n",
              "          const dataTable =\n",
              "            await google.colab.kernel.invokeFunction('convertToInteractive',\n",
              "                                                     [key], {});\n",
              "          if (!dataTable) return;\n",
              "\n",
              "          const docLinkHtml = 'Like what you see? Visit the ' +\n",
              "            '<a target=\"_blank\" href=https://colab.research.google.com/notebooks/data_table.ipynb>data table notebook</a>'\n",
              "            + ' to learn more about interactive tables.';\n",
              "          element.innerHTML = '';\n",
              "          dataTable['output_type'] = 'display_data';\n",
              "          await google.colab.output.renderOutput(dataTable, element);\n",
              "          const docLink = document.createElement('div');\n",
              "          docLink.innerHTML = docLinkHtml;\n",
              "          element.appendChild(docLink);\n",
              "        }\n",
              "      </script>\n",
              "    </div>\n",
              "  </div>\n",
              "  "
            ]
          },
          "metadata": {},
          "execution_count": 16
        }
      ]
    }
  ]
}